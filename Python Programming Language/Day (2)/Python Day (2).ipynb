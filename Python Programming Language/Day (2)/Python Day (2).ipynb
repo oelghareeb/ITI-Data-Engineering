{
 "cells": [
  {
   "cell_type": "markdown",
   "id": "b3b66375-3c3b-4ff9-a04a-0fe8a5457536",
   "metadata": {},
   "source": [
    "# **1. Strings**"
   ]
  },
  {
   "cell_type": "markdown",
   "id": "b23921ca-a72c-4f96-82e2-66ea4460a461",
   "metadata": {},
   "source": [
    "> Let’s explore some of the ways you can use strings."
   ]
  },
  {
   "cell_type": "markdown",
   "id": "3ce96c5d-86d9-4fa8-a08b-460febbce8c4",
   "metadata": {},
   "source": [
    "### **1.1 Changing Case in a String with Methods**"
   ]
  },
  {
   "cell_type": "markdown",
   "id": "e03e84fe-de06-43db-abba-96b674048f24",
   "metadata": {},
   "source": [
    ">  A method is an action that Python can perform on a piece of data. The dot (`.`) after name in `name.title()` tells Python to make the **`title()`** method act on the variable `name`."
   ]
  },
  {
   "cell_type": "code",
   "execution_count": null,
   "id": "1adcd1fd-0598-4eca-8151-fb5777232a60",
   "metadata": {},
   "outputs": [],
   "source": [
    "name = \"ada lovelace\"\n",
    "print(name.title())"
   ]
  },
  {
   "cell_type": "markdown",
   "id": "38e23901-7116-4179-a6ea-b44a52b91e03",
   "metadata": {},
   "source": [
    "- The **`title()`** method changes each word to title case, where <span style=\"background:LemonChiffon\">\n",
    "each word begins with a capital letter.</span>\n",
    "- You might want your program to recognize the input values **Ada**, **ADA**, and **ada** as the same name, and display all of them as **Ada**."
   ]
  },
  {
   "cell_type": "markdown",
   "id": "9581dbbd-54a2-42bb-9b30-b91dad547fa8",
   "metadata": {},
   "source": [
    "> You can change a string to all **uppercase** or all **lowercase** letters like this:"
   ]
  },
  {
   "cell_type": "code",
   "execution_count": null,
   "id": "539ea1ff-c3c6-47d9-a7d7-cab9fc1bad36",
   "metadata": {},
   "outputs": [],
   "source": [
    "name = \"Ada Lovelace\"\n",
    "print(name.upper())\n",
    "print(name.lower())"
   ]
  },
  {
   "cell_type": "markdown",
   "id": "816541fb-133a-4535-90a9-48e2cacfe599",
   "metadata": {},
   "source": [
    "> The **`lower()`** method is particularly useful for storing data.<br> Then when you want to display the information, you’ll use the case that makes the most sense for each string."
   ]
  },
  {
   "cell_type": "markdown",
   "id": "29352570-41b4-4cbd-834c-0413922e1a79",
   "metadata": {},
   "source": [
    "### **1.2 Stripping Whitespace**"
   ]
  },
  {
   "cell_type": "markdown",
   "id": "8705cb66-9b8d-497a-8f6f-92326e6b7cbe",
   "metadata": {},
   "source": [
    "> - To programmers, 'python' and 'python ' look pretty much the same. <span style=\"background:LemonChiffon\">\n",
    "But to a program, they are two different strings.</span>\n",
    "> - It’s important to think about whitespace, because often you’ll want to compare two strings to determine whether they are the same.\n",
    "> - **For example,** one important instance might involve checking people’s usernames when they log in to a website."
   ]
  },
  {
   "cell_type": "markdown",
   "id": "bd661004-04c9-4415-a873-d37a1ba28521",
   "metadata": {},
   "source": [
    "> To ensure that <span style=\"background:LemonChiffon\">no whitespace exists at the right side of a string,</span> use the **`rstrip()`** method:"
   ]
  },
  {
   "cell_type": "code",
   "execution_count": null,
   "id": "d786e2f4-8dfb-4818-89f1-c7f5958aac87",
   "metadata": {},
   "outputs": [],
   "source": [
    "favorite_language = 'python '\n",
    "favorite_language"
   ]
  },
  {
   "cell_type": "code",
   "execution_count": null,
   "id": "908c5710-05af-4732-9dcb-cfcca7669875",
   "metadata": {},
   "outputs": [],
   "source": [
    "favorite_language.rstrip()"
   ]
  },
  {
   "cell_type": "code",
   "execution_count": null,
   "id": "d15ba2c7-95ab-4881-9722-3038163232a9",
   "metadata": {},
   "outputs": [],
   "source": [
    "favorite_language"
   ]
  },
  {
   "cell_type": "markdown",
   "id": "f7c5e971-2075-4db1-91d0-19351b297235",
   "metadata": {},
   "source": [
    "> - The string looks the same as when it was entered, including the extra whitespace!<br>\n",
    "> - <span style=\"background:LemonChiffon\">To remove the whitespace from the string permanently, you have to associate the stripped value with the variable name:</span>"
   ]
  },
  {
   "cell_type": "code",
   "execution_count": null,
   "id": "c12fc3ae-2e58-4f2e-9e9e-1fb78206f321",
   "metadata": {},
   "outputs": [],
   "source": [
    "favorite_language = favorite_language.rstrip()"
   ]
  },
  {
   "cell_type": "code",
   "execution_count": null,
   "id": "92355a2b-3133-4754-8480-0a7247e890b5",
   "metadata": {},
   "outputs": [],
   "source": [
    "favorite_language"
   ]
  },
  {
   "cell_type": "markdown",
   "id": "07668f9e-061b-4291-b10d-954c3c45f2d1",
   "metadata": {},
   "source": [
    "> You can also <span style=\"background:LemonChiffon\">strip whitespace from the left side</span> of a string using the **`lstrip()`** method, or <span style=\"background:LemonChiffon\">from both sides at once</span> using **`strip()`**:"
   ]
  },
  {
   "cell_type": "code",
   "execution_count": null,
   "id": "909ba147-7d25-4313-8f0d-9d1dc0c92677",
   "metadata": {},
   "outputs": [],
   "source": [
    "favorite_language = ' python '\n",
    "favorite_language.rstrip()"
   ]
  },
  {
   "cell_type": "code",
   "execution_count": null,
   "id": "df341a6a-e3a9-488c-94d7-966651eb113f",
   "metadata": {},
   "outputs": [],
   "source": [
    "favorite_language.lstrip()"
   ]
  },
  {
   "cell_type": "code",
   "execution_count": null,
   "id": "e80f469f-2350-441a-9565-a53bbc48301b",
   "metadata": {},
   "outputs": [],
   "source": [
    "favorite_language.strip()"
   ]
  },
  {
   "cell_type": "markdown",
   "id": "d1a56a0e-9ce7-4180-838b-d17fb774dfbf",
   "metadata": {},
   "source": [
    "- These stripping functions are used most often to <span style=\"background:LemonChiffon\">\n",
    "clean up user input before it’s stored in a program.</span>"
   ]
  },
  {
   "cell_type": "markdown",
   "id": "aa9f62a8-78e6-4112-9930-31f37d47cd3c",
   "metadata": {},
   "source": [
    "### **1.3  Removing Prefixes**"
   ]
  },
  {
   "cell_type": "markdown",
   "id": "c9ebe444-c7e5-47b4-98ec-14a2022cad65",
   "metadata": {},
   "source": [
    "> - When working with strings, <span style=\"background:LemonChiffon\">another common task is to remove a prefix.</span>\n",
    "> - Consider a URL with the common prefix *https://*. We want to remove this prefix, so we can focus on just the part of the URL that users need to enter into an address bar.\n",
    "> - To do that, use **`removeprefix()`**. Inside the parentheses, enter the prefix you want to remove from the original string."
   ]
  },
  {
   "cell_type": "code",
   "execution_count": null,
   "id": "36aa02b3-2d7a-404e-8e38-bcb3fe71b653",
   "metadata": {},
   "outputs": [],
   "source": [
    "google_url = \"https:/www.google.com/\""
   ]
  },
  {
   "cell_type": "code",
   "execution_count": null,
   "id": "72cd14ac-5432-4b3e-bfad-421b4e8ce410",
   "metadata": {},
   "outputs": [],
   "source": [
    "google_url.removeprefix(\"https:/\")"
   ]
  },
  {
   "cell_type": "markdown",
   "id": "e1157ea6-e5f3-46b1-a167-3daadf8f428a",
   "metadata": {},
   "source": [
    "- When you see a URL in an address bar and the https:// part isn’t shown, the browser is probably using a method like removeprefix() behind the scenes."
   ]
  },
  {
   "cell_type": "markdown",
   "id": "185812dd-a292-443b-930b-8b9143263130",
   "metadata": {},
   "source": [
    "### **Your Turn!**"
   ]
  },
  {
   "cell_type": "markdown",
   "id": "eefc937a-e50f-4854-9178-e0c38498defd",
   "metadata": {},
   "source": [
    "1) You are given the string:<br>\n",
    "**\"I love Python. Python is fun!\"**<br>\n",
    "- Replace the word \"Python\" with \"Programming\""
   ]
  },
  {
   "cell_type": "markdown",
   "id": "459af334-a6f9-49f4-8778-0ebbbbacbc6f",
   "metadata": {},
   "source": [
    "2) You are given the string:<br>\n",
    "**\"The quick brown fox jumps over the lazy dog. The fox is clever!\"**<br>\n",
    "- Count the word \"fox\""
   ]
  },
  {
   "cell_type": "markdown",
   "id": "a43b1759-168d-42df-9140-bdf280efa68a",
   "metadata": {},
   "source": [
    "3) You are given the string:<br>\n",
    "**\"Python programming is fun!\"**<br>\n",
    "- Check if the string starts with \"Python\" word or not."
   ]
  },
  {
   "cell_type": "markdown",
   "id": "ff9ea61b-baef-4b6b-b5ed-3c7a8f8864c5",
   "metadata": {},
   "source": [
    "**The other string methods:**\n",
    "> https://docs.python.org/3/library/stdtypes.html#string-methods"
   ]
  },
  {
   "cell_type": "markdown",
   "id": "056d662d-6250-48c6-9c3b-cd64cf940347",
   "metadata": {},
   "source": [
    "# **2. Conditionals**"
   ]
  },
  {
   "cell_type": "markdown",
   "id": "7033259b-35bb-45a1-8109-3e8fce79c275",
   "metadata": {},
   "source": [
    "> Programming often involves examining a set of conditions and deciding which action to take based on those conditions."
   ]
  },
  {
   "cell_type": "markdown",
   "id": "3eaff337-a304-43ad-991d-2782512ea326",
   "metadata": {},
   "source": [
    "### **2.1 Conditional Tests**"
   ]
  },
  {
   "cell_type": "markdown",
   "id": "91300198-be64-4f96-98d2-aafac1d1e234",
   "metadata": {},
   "source": [
    "> - At the heart of every if statement is an expression that can be evaluated as \n",
    "**True** or **False** and is called a <span style=\"background:palegreen\">**conditional test.**</span>\n",
    "> - <span style=\"background:LemonChiffon\">Python uses the values True and False to decide whether the code in an if statement should be executed.</span>"
   ]
  },
  {
   "cell_type": "markdown",
   "id": "b675b187-867c-43a8-a65e-27e913233ac3",
   "metadata": {},
   "source": [
    "#### **2.1.1 Checking for Equality** "
   ]
  },
  {
   "cell_type": "markdown",
   "id": "1ad89039-8bde-4581-9c8f-7f20ca899a1c",
   "metadata": {},
   "source": [
    "> Most conditional tests compare the current value of a variable to a specific value of interest."
   ]
  },
  {
   "cell_type": "code",
   "execution_count": null,
   "id": "e754dfe5-d41f-49c7-b441-2d1452cf51eb",
   "metadata": {},
   "outputs": [],
   "source": [
    "car = \"bmw\""
   ]
  },
  {
   "cell_type": "code",
   "execution_count": null,
   "id": "181a538e-a723-4c11-b18e-df1100df15f0",
   "metadata": {},
   "outputs": [],
   "source": [
    "car == \"bmw\""
   ]
  },
  {
   "cell_type": "markdown",
   "id": "84496c29-0d89-412e-ad6e-c247055fed9f",
   "metadata": {},
   "source": [
    "- The first line sets the value of car to 'bmw' using a single equal sign.\n",
    "- The next line checks whether the value of car is 'bmw' by using a **double equal sign (`==`).** This equality operator returns \n",
    "True if the values match, and False if they don’t match."
   ]
  },
  {
   "cell_type": "code",
   "execution_count": null,
   "id": "a3ba4183-28e9-4528-8be3-f2816f5b3380",
   "metadata": {},
   "outputs": [],
   "source": [
    "car == \"audi\""
   ]
  },
  {
   "cell_type": "markdown",
   "id": "1ccc87ba-afac-4c70-b887-b46e99d3abba",
   "metadata": {},
   "source": [
    "#### **2.1.2 Ignoring Case When Checking for Equality** "
   ]
  },
  {
   "cell_type": "markdown",
   "id": "c1398a89-bacd-4f24-82f9-ad886b3eb346",
   "metadata": {},
   "source": [
    "> Testing for equality is case sensitive in Python. For example, two values with different capitalization are not considered equal:"
   ]
  },
  {
   "cell_type": "code",
   "execution_count": null,
   "id": "2f3597e4-d479-4324-a015-aa396fc3a01c",
   "metadata": {},
   "outputs": [],
   "source": [
    "car = 'Audi'\n",
    "car == 'audi'"
   ]
  },
  {
   "cell_type": "markdown",
   "id": "4961b3a6-be83-4404-8c87-cc5153dd02cd",
   "metadata": {},
   "source": [
    "- if case doesn’t matter and instead you just want to test the value of a variable, you can convert the variable’s value to lowercase before doing the comparison:"
   ]
  },
  {
   "cell_type": "code",
   "execution_count": null,
   "id": "b3e6bc4f-5500-4e88-a192-6e4db7502e55",
   "metadata": {},
   "outputs": [],
   "source": [
    "car = 'Audi'\n",
    "car.lower() == 'audi' # the method does not change the value of car"
   ]
  },
  {
   "cell_type": "markdown",
   "id": "6903dbd4-a216-4167-b648-04a0a0e99694",
   "metadata": {},
   "source": [
    "- For example, a site might use a conditional test like this to ensure that every user has a **truly unique username**, not just a variation on the capitalization of another person’s username.\n",
    "- A user name like \"John\" will be rejected if any variation of \"john\" is already in use."
   ]
  },
  {
   "cell_type": "markdown",
   "id": "aecf43e3-2bcb-405b-88ac-1bdc2cab14cb",
   "metadata": {},
   "source": [
    "#### **2.1.3 Checking for Inequality** "
   ]
  },
  {
   "cell_type": "markdown",
   "id": "dd5026fe-7b70-4fa7-a71a-2e9cf74bf301",
   "metadata": {},
   "source": [
    "> When you want to determine whether two values are not equal, you can use the inequality operator (`!=`)."
   ]
  },
  {
   "cell_type": "code",
   "execution_count": null,
   "id": "531810f5-1d11-4d12-ae1c-3395be7fb07b",
   "metadata": {},
   "outputs": [],
   "source": [
    "requested_topping = 'mushrooms'\n",
    "if requested_topping != 'pepperoni':\n",
    "    print(\"Hold the pepperoni!\")"
   ]
  },
  {
   "cell_type": "markdown",
   "id": "759f91e3-3c43-4e6c-a0a0-1d885b0f378e",
   "metadata": {},
   "source": [
    "- If these two values do not match, Python returns True and executes the code \n",
    "following the if statement.\n",
    "- If the two values match, Python returns False and \n",
    "does not run the code."
   ]
  },
  {
   "cell_type": "markdown",
   "id": "f42276f5-e8ec-433c-a236-1c41e37bf91a",
   "metadata": {},
   "source": [
    "#### **2.1.4 Numerical Comparisons** "
   ]
  },
  {
   "cell_type": "markdown",
   "id": "7b72ceba-9db4-44b5-b0ea-b7020c4f7dba",
   "metadata": {},
   "source": [
    "> Testing numerical values is pretty straightforward. **For example,** the following code checks whether a person is 18 years old:"
   ]
  },
  {
   "cell_type": "code",
   "execution_count": null,
   "id": "9e66eb86-fb75-457e-94ab-e61744646840",
   "metadata": {},
   "outputs": [],
   "source": [
    "age = 18\n",
    "age == 18"
   ]
  },
  {
   "cell_type": "markdown",
   "id": "9bd24dec-b334-4b61-a615-3b23f12eaf88",
   "metadata": {},
   "source": [
    "- You can also test to see if two numbers are not equal.\n",
    "- You can include various mathematical comparisons in your conditional statements, such as **less than**, **less than or equal to**, **greater than**, and **greater than or equal to**:"
   ]
  },
  {
   "cell_type": "code",
   "execution_count": null,
   "id": "e56fafb2-eedd-48f6-98a1-e8dce8f0fadc",
   "metadata": {},
   "outputs": [],
   "source": [
    "age = 19\n",
    "age < 21"
   ]
  },
  {
   "cell_type": "code",
   "execution_count": null,
   "id": "7c4a4423-88f1-440a-b2be-e0c68d20f60f",
   "metadata": {},
   "outputs": [],
   "source": [
    "age >= 21"
   ]
  },
  {
   "cell_type": "markdown",
   "id": "b737da81-bc58-4630-8364-d67fff0564b0",
   "metadata": {},
   "source": [
    "<img src=\"Comparison_Operator.png\" width=\"80%\" height=\"80%\" align=\"middle\"/>"
   ]
  },
  {
   "cell_type": "markdown",
   "id": "125966d2-8da2-497a-96cc-406f1510a870",
   "metadata": {},
   "source": [
    "#### **2.1.5 Checking Multiple Conditions** "
   ]
  },
  {
   "cell_type": "markdown",
   "id": "4702a665-ab55-4fec-955a-e0591b607685",
   "metadata": {},
   "source": [
    "> - You may want to check multiple conditions at the same time. For example, sometimes you might need two conditions to be True to take an action. \n",
    "> - Other times, you might be satisfied with just one condition being True. The keywords **`and`** and **`or`** can help you in these situations"
   ]
  },
  {
   "cell_type": "markdown",
   "id": "0995386b-2004-4c1e-96aa-6cab2ff1cd7c",
   "metadata": {},
   "source": [
    "##### **2.1.5.1 Using **`and`** to Check Multiple Conditions** "
   ]
  },
  {
   "cell_type": "markdown",
   "id": "85ec7a4d-a147-479b-8fb2-50e12bd5db53",
   "metadata": {},
   "source": [
    "> <span style=\"background:LemonChiffon\"> If each test passes, the overall expression evaluates to **True**. If either test fails or if both tests fail, the expression evaluates to **False.**</span>"
   ]
  },
  {
   "cell_type": "code",
   "execution_count": null,
   "id": "d5ba6fcb-e521-4742-9c26-1476ce5dcc63",
   "metadata": {},
   "outputs": [],
   "source": [
    "age_0 = 22\n",
    "age_1 = 18\n",
    "age_0 >= 21 and age_1 <= 15"
   ]
  },
  {
   "cell_type": "code",
   "execution_count": null,
   "id": "0e4feb8a-bb04-498e-9bff-66837ef783b7",
   "metadata": {},
   "outputs": [],
   "source": [
    "age_1 = 10\n",
    "age_0 >= 22 and age_1 <= 15"
   ]
  },
  {
   "cell_type": "markdown",
   "id": "c75dd159-f662-4b22-a8d2-18c2196a750a",
   "metadata": {},
   "source": [
    "- To improve readability, you can use parentheses around the individual tests, but they are not required."
   ]
  },
  {
   "cell_type": "code",
   "execution_count": null,
   "id": "f22b5173-ae25-40b8-9410-eb4376f7cf96",
   "metadata": {},
   "outputs": [],
   "source": [
    "(age_0 >= 21) and (age_1 <= 15)"
   ]
  },
  {
   "cell_type": "markdown",
   "id": "7caaa2f4-cc97-43b5-84ef-4902c9a98a36",
   "metadata": {},
   "source": [
    "##### **2.1.5.2 Using **`or`** to Check Multiple Conditions** "
   ]
  },
  {
   "cell_type": "markdown",
   "id": "04b4a8db-c3eb-4376-9bb9-3bb5cb7a6b7f",
   "metadata": {},
   "source": [
    "> <span style=\"background:LemonChiffon\">It **passes** when **either or both** of the individual tests pass. An or expression **fails only when both** individual tests fail.</span>"
   ]
  },
  {
   "cell_type": "code",
   "execution_count": null,
   "id": "73b47197-3fda-44c4-bb4e-e04585340f1a",
   "metadata": {},
   "outputs": [],
   "source": [
    "age_0 = 22\n",
    "age_1 = 18\n",
    "age_0 >= 21 or age_1 <= 15"
   ]
  },
  {
   "cell_type": "code",
   "execution_count": null,
   "id": "a2abd0a0-ffa8-4ed7-8377-a8b363bce382",
   "metadata": {},
   "outputs": [],
   "source": [
    "age_0 = 17\n",
    "age_0 >= 21 or age_1 <= 15"
   ]
  },
  {
   "cell_type": "markdown",
   "id": "a7c53f88-d841-4a6d-855d-56ae66225c6c",
   "metadata": {},
   "source": [
    "#### **Boolean Expressions** "
   ]
  },
  {
   "cell_type": "markdown",
   "id": "fb24ea64-e141-4b16-b1a0-e2991457487b",
   "metadata": {},
   "source": [
    "> A <span style=\"background:palegreen\">**Boolean expression**</span> is just another name for a conditional test. A <span style=\"background:palegreen\">**Boolean value**</span> is either **True** or **False**.<br><br>\n",
    "> Boolean values are often used to keep track of certain conditions, such as whether a game is running or whether a user can edit certain content on a website:"
   ]
  },
  {
   "cell_type": "code",
   "execution_count": null,
   "id": "821e147d-636c-4de5-9e3f-92b7337a4ad9",
   "metadata": {},
   "outputs": [],
   "source": [
    "game_active = True\n",
    "can_edit = False"
   ]
  },
  {
   "cell_type": "markdown",
   "id": "6e138e6e-1a47-4a0a-8d27-897cadd7f1a3",
   "metadata": {},
   "source": [
    "### **2.2 if Statements**"
   ]
  },
  {
   "cell_type": "markdown",
   "id": "c32dcedb-2730-4900-b9fc-b1962c88a5fe",
   "metadata": {},
   "source": [
    "> When you understand conditional tests, you can start writing if statements. "
   ]
  },
  {
   "cell_type": "markdown",
   "id": "e1607b8b-077f-490b-87e5-bb9f57cc238a",
   "metadata": {},
   "source": [
    "### **2.2.1  Simple if Statements**"
   ]
  },
  {
   "cell_type": "markdown",
   "id": "33e62a1a-fd2c-440e-be61-de5c8e81ea5f",
   "metadata": {},
   "source": [
    "> The simplest kind of if statement has **one test** and **one action:**<br>\n",
    ">  `if conditional_test:`<br>\n",
    "    <span style=\"color:white\">-----</span> `do something`\n",
    "> - <span style=\"background:LemonChiffon\">If the conditional test evaluates to **True,** Python executes the code following the if statement. If the test evaluates to **False,** Python ignores the code following the if statement.</span>\n",
    "> - Let’s say we have a variable representing a person’s age, and we want to know if that person is old enough to vote. "
   ]
  },
  {
   "cell_type": "code",
   "execution_count": null,
   "id": "f3d72d4c-eaa5-4e23-af77-46fb9d03c03e",
   "metadata": {},
   "outputs": [],
   "source": [
    "age = 19\n",
    "if age >= 18:\n",
    "    print(\"You are old enough to vote!\")"
   ]
  },
  {
   "cell_type": "markdown",
   "id": "081c3b5b-bae0-4450-810f-20579ff7d785",
   "metadata": {},
   "source": [
    "### **2.2.1.1 Indentation**"
   ]
  },
  {
   "cell_type": "markdown",
   "id": "81ee2815-5a19-4b9e-a246-0d117dacdd65",
   "metadata": {},
   "source": [
    "> - <span style=\"background:LemonChiffon\">All indented lines after an if statement will be executed if the test passes.</span>\n",
    "> - <span style=\"background:LemonChiffon\">You can have as many lines of code as you want in the block following the if statement.</span>"
   ]
  },
  {
   "cell_type": "code",
   "execution_count": null,
   "id": "bea2c3e4-f63d-4592-885b-52403d2c64b3",
   "metadata": {},
   "outputs": [],
   "source": [
    "age = 15\n",
    "if age >= 18:\n",
    "    print(\"You are old enough to vote!\")\n",
    "    print(\"Have you registered to vote yet?\")"
   ]
  },
  {
   "cell_type": "markdown",
   "id": "705d5afd-4e8e-4bd9-ba01-b46891274aaf",
   "metadata": {},
   "source": [
    "### **2.2.2 if-else Statements**"
   ]
  },
  {
   "cell_type": "markdown",
   "id": "742299cb-cc7d-4f27-9899-b0f52d64c6d0",
   "metadata": {},
   "source": [
    "> - Often, you’ll want to take one action when a conditional test passes and a different action in all other cases.\n",
    "> - **if-else** block is similar to a simple if statement, but <span style=\"background:LemonChiffon\">the else statement allows you to define an action or set of actions that are executed when the conditional test fails.</span>\n",
    "> - We’ll display the same message we had previously if the person is old enough to vote, but <span style=\"background:LemonChiffon\">this time we’ll add a message for anyone who is not old enough to vote:</span>"
   ]
  },
  {
   "cell_type": "code",
   "execution_count": null,
   "id": "e63abffe-3d7b-4a26-bcb9-db1512395459",
   "metadata": {},
   "outputs": [],
   "source": [
    "age = 17\n",
    "if age >= 18:\n",
    "    print(\"You are old enough to vote!\")\n",
    "    print(\"Have you registered to vote yet?\")\n",
    "else:\n",
    "    print(\"Sorry, you are too young to vote.\")"
   ]
  },
  {
   "cell_type": "markdown",
   "id": "af37dbcf-a5e8-4fe1-b559-dd9b5bb322be",
   "metadata": {},
   "source": [
    "- The **if-else** structure works well in situations in which you want Python <span style=\"background:LemonChiffon\">to always execute one of two possible actions.</span>"
   ]
  },
  {
   "cell_type": "markdown",
   "id": "2ca4b3b8-84d0-4742-a973-f5b8c809ba3a",
   "metadata": {},
   "source": [
    "### **2.2.3 The if-elif-else Chain**"
   ]
  },
  {
   "cell_type": "markdown",
   "id": "19519e8d-2e90-4972-8150-a8a9ec4d4c65",
   "metadata": {},
   "source": [
    "> - Often, you’ll need to test more than two possible situations, you can use Python’s **if-elif-else syntax.**\n",
    "> - <span style=\"background:LemonChiffon\">Python executes only one block in an if-elif-else chain.</span> It runs each conditional test in order, until one passes.<span style=\"background:LemonChiffon\">When a test passes, the code following that test is executed and Python skips the rest of the tests.</span>"
   ]
  },
  {
   "cell_type": "markdown",
   "id": "82908b81-2bcf-4ca2-b7a4-38fee0d7eacf",
   "metadata": {},
   "source": [
    "> Consider an amusement park that charges different rates for different age groups:\n",
    "> - Admission for anyone under age 4 is free.\n",
    "> -\tAdmission for anyone between the ages of 4 and 18 is 25 dollars.\n",
    "> - Admission for anyone age 18 or older is 40 dollars."
   ]
  },
  {
   "cell_type": "code",
   "execution_count": null,
   "id": "9b18a16d-119b-4391-84ca-854e06dc5d40",
   "metadata": {},
   "outputs": [],
   "source": [
    "age = 12\n",
    "if age < 4:\n",
    "    print(\"Your admission cost is $0.\")\n",
    "elif age < 18:\n",
    "    print(\"Your admission cost is $25.\")\n",
    "else:\n",
    "    print(\"Your admission cost is $40.\")"
   ]
  },
  {
   "cell_type": "markdown",
   "id": "8cf80c22-5c76-4b4d-851f-57446718a50a",
   "metadata": {},
   "source": [
    "-  Rather than printing the admission price, it would be more concise to <span style=\"background:LemonChiffon\">set just the price inside the if-elif-else chain</span> and then <span style=\"background:LemonChiffon\">have a single `print()` call that runs after the chain</span>"
   ]
  },
  {
   "cell_type": "code",
   "execution_count": null,
   "id": "38f459a5-b8c7-4482-8e08-19560b7aa775",
   "metadata": {},
   "outputs": [],
   "source": [
    "age = 12\n",
    "if age < 4:\n",
    "    price = 0\n",
    "elif age < 18:\n",
    "    price = 25\n",
    "else:\n",
    "    price = 40\n",
    "print(f\"Your admission cost is ${price}.\")"
   ]
  },
  {
   "cell_type": "markdown",
   "id": "eb167d7e-0bbb-4f6f-a3bd-6d7257df31ca",
   "metadata": {},
   "source": [
    "- After the price is set by the if-elif-else chain, a separate unindented `print()` call uses this value to display a message reporting the person’s admission price.\n",
    "- This revised code is easier to modify than the original approach. To change the text of the output message, you would \n",
    "need to change only one `print()` call rather than three separate `print()` calls."
   ]
  },
  {
   "cell_type": "markdown",
   "id": "9313e3dc-29c0-4a90-b45a-632ce0bd6dfe",
   "metadata": {},
   "source": [
    "### **2.2.4 Using Multiple elif Blocks**"
   ]
  },
  {
   "cell_type": "markdown",
   "id": "335f8466-51d7-491f-88ae-cddf32b8ceac",
   "metadata": {},
   "source": [
    "> <span style=\"background:LemonChiffon\">You can use as many `elif` blocks in your code as you like.</span><br>\n",
    "> Let’s say that anyone 65 or older pays half the regular admission, or $20:"
   ]
  },
  {
   "cell_type": "code",
   "execution_count": null,
   "id": "7ec37c35-0c94-49ba-8906-a7dd7216f571",
   "metadata": {},
   "outputs": [],
   "source": [
    "age = 70\n",
    "\n",
    "if age < 4:\n",
    "    price = 0\n",
    "elif age < 18:\n",
    "    price = 25\n",
    "elif age < 65:\n",
    "    price = 40\n",
    "else:\n",
    "    price = 20\n",
    "    \n",
    "print(f\"Your admission cost is ${price}.\")"
   ]
  },
  {
   "cell_type": "markdown",
   "id": "5c50c295-50ad-4d01-b872-2f1ed4ad1236",
   "metadata": {},
   "source": [
    "- Notice that the value assigned in the else block needs to be changed to $20, because the only ages that make it to this block are for people 65 or older."
   ]
  },
  {
   "cell_type": "markdown",
   "id": "494e7037-c4be-4b2d-a850-9cd04d72b56c",
   "metadata": {},
   "source": [
    "### **2.2.5 Omitting the else Block**"
   ]
  },
  {
   "cell_type": "markdown",
   "id": "9b338ced-5496-48e6-b2d4-33a490a46f68",
   "metadata": {},
   "source": [
    "> <span style=\"background:LemonChiffon\">Python does not require an `else` block at the end of an **if-elif chain.**</span> Sometimes, an `else` block is useful. Other times, it’s clearer to use an additional `elif` statement that catches the specific condition of interest:"
   ]
  },
  {
   "cell_type": "code",
   "execution_count": null,
   "id": "d27c97e7-d538-44bf-81b1-6dfe7fc55142",
   "metadata": {},
   "outputs": [],
   "source": [
    "age = 12\n",
    "\n",
    "if age < 4:\n",
    "    price = 0\n",
    "elif age < 18:\n",
    "    price = 25\n",
    "elif age < 65:\n",
    "    price = 40\n",
    "elif age >= 65:\n",
    "    price = 20\n",
    "    \n",
    "print(f\"Your admission cost is ${price}.\")"
   ]
  },
  {
   "cell_type": "markdown",
   "id": "7888ec96-772b-45b4-b39d-8090575767e8",
   "metadata": {},
   "source": [
    "- The final `elif` block assigns a price of $20 when the person is 65 or older, which is a little clearer than the general `else` block.\n",
    "- <span style=\"background:LemonChiffon\">The `else` block is a catchall statement. It matches any condition that wasn’t matched by a specific `if` or `elif` test, and that can sometimes include invalid or even malicious data.</span>\n",
    "- As a result, you’ll be more confident that your code will run only under the correct conditions."
   ]
  },
  {
   "cell_type": "markdown",
   "id": "91d6082e-6231-46be-b864-b12a79d565b7",
   "metadata": {},
   "source": [
    "### **2.2.6 Testing Multiple Conditions**"
   ]
  },
  {
   "cell_type": "markdown",
   "id": "aa668317-5267-4da2-a566-d2b0fb5864e5",
   "metadata": {},
   "source": [
    "> - The **if-elif-else chain** is powerful, but it’s only appropriate to use when you just need one test to pass.\n",
    "> - As soon as Python finds one test that passes, it skips the rest of the tests.\n",
    "> - This behavior is beneficial, because it’s efficient and allows you to test for one specific condition.\n",
    "> - Sometimes it’s important to check all conditions of interest. In this case, you should use a series of simple `if` statements with no `elif` or `else`."
   ]
  },
  {
   "cell_type": "markdown",
   "id": "2a34c45b-a921-4ccd-9df6-62f1109f500a",
   "metadata": {},
   "source": [
    "> If someone requests a two-topping pizza, you’ll need to be sure to include both toppings on their pizza:"
   ]
  },
  {
   "cell_type": "code",
   "execution_count": 1,
   "id": "7045dbf4-74f2-4f3f-bd6e-e6556666e0db",
   "metadata": {},
   "outputs": [
    {
     "name": "stdout",
     "output_type": "stream",
     "text": [
      "Adding mushrooms.\n",
      "Adding extra cheese.\n"
     ]
    }
   ],
   "source": [
    "requested_toppings = ['mushrooms', 'extra cheese']\n",
    "\n",
    "if 'mushrooms' in requested_toppings:\n",
    "    print(\"Adding mushrooms.\")\n",
    "if 'pepperoni' in requested_toppings:\n",
    "    print(\"Adding pepperoni.\")\n",
    "if 'extra cheese' in requested_toppings:\n",
    "    print(\"Adding extra cheese.\")    "
   ]
  },
  {
   "cell_type": "markdown",
   "id": "b698bc77-c97e-4de4-8a47-4b1f79dc0052",
   "metadata": {},
   "source": [
    "- The test for pepperoni is another simple `if` statement, not an `elif` or `else` statement, so this test is run regardless of whether the previous test passed or not. "
   ]
  },
  {
   "cell_type": "markdown",
   "id": "bf8678ad-9689-4493-aa70-6e96a0323ede",
   "metadata": {},
   "source": [
    "> This code would not work properly if we used an **if-elif-else** block, because the code would stop running after only one test passes."
   ]
  },
  {
   "cell_type": "code",
   "execution_count": 3,
   "id": "20a23ee3-0f55-46b7-bf1b-93657fa9b3f8",
   "metadata": {},
   "outputs": [
    {
     "name": "stdout",
     "output_type": "stream",
     "text": [
      "Adding mushrooms.\n"
     ]
    }
   ],
   "source": [
    "requested_toppings = ['mushrooms', 'extra cheese']\n",
    "\n",
    "if 'mushrooms' in requested_toppings:\n",
    "    print(\"Adding mushrooms.\")\n",
    "elif 'pepperoni' in requested_toppings:\n",
    "    print(\"Adding pepperoni.\")\n",
    "elif 'extra cheese' in requested_toppings:\n",
    "    print(\"Adding extra cheese.\")"
   ]
  },
  {
   "cell_type": "markdown",
   "id": "2779e3a2-2705-464a-a4e4-633b7452f344",
   "metadata": {},
   "source": [
    "- <span style=\"background:LemonChiffon\"> In summary, if you want only one block of code to run, use an **if-elif-else chain.**<br> If more than one block of code needs to run, use a series of independent if statements.</span>"
   ]
  },
  {
   "cell_type": "markdown",
   "id": "0e5cd259-9691-4064-9616-19a3dcee136f",
   "metadata": {},
   "source": [
    "### **2.2.7 Styling Your if Statements**"
   ]
  },
  {
   "cell_type": "markdown",
   "id": "45d701a1-6826-4b5f-93fb-bddc75ddb639",
   "metadata": {},
   "source": [
    "> Use a single space around comparison operators, such as `==`, `>=`, and `<=`. For example:"
   ]
  },
  {
   "cell_type": "code",
   "execution_count": null,
   "id": "4e9bf3b4-26d4-41b3-a61b-b2bc0955dfa0",
   "metadata": {},
   "outputs": [],
   "source": [
    "if age < 4:"
   ]
  },
  {
   "cell_type": "markdown",
   "id": "e1e9712e-a809-48df-b777-861b1e2da00d",
   "metadata": {},
   "source": [
    "is better than:"
   ]
  },
  {
   "cell_type": "code",
   "execution_count": null,
   "id": "5ded0c35-40ea-405b-9789-00820cf63577",
   "metadata": {},
   "outputs": [],
   "source": [
    "if age<4:"
   ]
  },
  {
   "cell_type": "markdown",
   "id": "37d08df7-3c15-44e8-adaf-60ace8ef40a2",
   "metadata": {},
   "source": [
    "# **3. Loops**"
   ]
  },
  {
   "cell_type": "markdown",
   "id": "d1b93737-3f86-4bdb-ad23-8a6b554ce48e",
   "metadata": {},
   "source": [
    "### **3.1 `for` Loops**"
   ]
  },
  {
   "cell_type": "markdown",
   "id": "5e3793db-875a-4416-a8d3-2eb9c4011846",
   "metadata": {},
   "source": [
    "> What if you want to execute a block of code a certain number of times?"
   ]
  },
  {
   "cell_type": "code",
   "execution_count": 5,
   "id": "a4b940b9-e1d5-453e-a24a-5c4917bb88a1",
   "metadata": {},
   "outputs": [
    {
     "name": "stdout",
     "output_type": "stream",
     "text": [
      "0\n",
      "1\n",
      "2\n",
      "3\n",
      "4\n"
     ]
    }
   ],
   "source": [
    "for i in range(5):\n",
    "    print(i)"
   ]
  },
  {
   "cell_type": "markdown",
   "id": "4fac56fe-3aef-4125-8927-f21a14750e7c",
   "metadata": {},
   "source": [
    "- The first line is a header that ends with a colon. The second line is the body, which has to be indented.\n",
    "- The header starts with the keyword **`for`**, a new variable named **`i`**, and another keyword, **`in`**. It uses the **`range`** function to create a sequence of five values, which are 0, 1, 2, 3, and 4. The variable `i` will go up to, but will not include, the integer passed to `range()`.<span style=\"background:LemonChiffon\">\n",
    "In Python, when we start counting, we start from **0**.</span><br><br>\n",
    "- When the `for` statement runs, it assigns the first value from `range` to `i` and then runs the `print` function in the body, which displays **0**.\n",
    "- When it gets to the end of the body, it loops back around to the header, which is why this statement is called a **loop**. The second time through the loop, it assigns the next value from `range` to `i`, and displays it, and so on .."
   ]
  },
  {
   "cell_type": "markdown",
   "id": "8cc767ae-e287-4003-865b-bb7699aa662f",
   "metadata": {},
   "source": [
    "> As another for loop example, add up all the numbers from 0 to 100."
   ]
  },
  {
   "cell_type": "code",
   "execution_count": 7,
   "id": "92e62b1d-c388-42ad-8802-26e38a01bc63",
   "metadata": {},
   "outputs": [
    {
     "name": "stdout",
     "output_type": "stream",
     "text": [
      "5050\n"
     ]
    }
   ],
   "source": [
    "total = 0\n",
    "for num in range(101):\n",
    "    total = total + num # total += num\n",
    "print(total)  "
   ]
  },
  {
   "cell_type": "markdown",
   "id": "0ca860ef-d0b8-4100-8dd7-37b89cd9fd7f",
   "metadata": {},
   "source": [
    "### **3.1.1 The Starting, Stopping, and Stepping in `range()`**"
   ]
  },
  {
   "cell_type": "code",
   "execution_count": 9,
   "id": "009f1e68-dd56-492f-9557-c7685030bdbf",
   "metadata": {
    "scrolled": true
   },
   "outputs": [
    {
     "name": "stdout",
     "output_type": "stream",
     "text": [
      "5\n",
      "6\n",
      "7\n",
      "8\n",
      "9\n"
     ]
    }
   ],
   "source": [
    "for i in range(5, 10):\n",
    "    print(i)"
   ]
  },
  {
   "cell_type": "markdown",
   "id": "332a8975-7508-443b-b1c5-479af7f84e6f",
   "metadata": {},
   "source": [
    "- The **first** argument will be where the `for` loop’s variable **starts,** and the **second** argument will be up to, but **not including,** the number to **stop at.**\n",
    "- The `range()` function can also be called with three arguments. The <span style=\"background:LemonChiffon\">\n",
    "first two arguments will be the start and stop values, and the third will be the step argument.</span> The step is the amount that the variable is increased by after each iteration."
   ]
  },
  {
   "cell_type": "code",
   "execution_count": 11,
   "id": "894a1b52-8648-4c7f-a794-c4a0cea61d75",
   "metadata": {},
   "outputs": [
    {
     "name": "stdout",
     "output_type": "stream",
     "text": [
      "0\n",
      "2\n",
      "4\n",
      "6\n",
      "8\n"
     ]
    }
   ],
   "source": [
    "for i in range(0, 10, 2):\n",
    "    print(i)"
   ]
  },
  {
   "cell_type": "markdown",
   "id": "f05a8ef5-9afc-475a-aa7d-d952ad385f4b",
   "metadata": {},
   "source": [
    "- You can even use a **negative number for the step** argument to make the for loop count down instead of up."
   ]
  },
  {
   "cell_type": "code",
   "execution_count": 13,
   "id": "1ec34dc6-f022-4c9c-9b82-32dd07239568",
   "metadata": {},
   "outputs": [],
   "source": [
    "for i in range(5, -1):\n",
    "    print(i)"
   ]
  },
  {
   "cell_type": "code",
   "execution_count": 15,
   "id": "fae918fc-2c42-4717-a1c0-060f8afa040a",
   "metadata": {},
   "outputs": [
    {
     "name": "stdout",
     "output_type": "stream",
     "text": [
      "5\n",
      "4\n",
      "3\n",
      "2\n",
      "1\n",
      "0\n"
     ]
    }
   ],
   "source": [
    "for i in range(5, -1, -1):\n",
    "    print(i)"
   ]
  },
  {
   "cell_type": "markdown",
   "id": "60a83d10-c1db-4847-abfa-90baedd6ae38",
   "metadata": {},
   "source": [
    "### **3.2 `while` Loops**"
   ]
  },
  {
   "cell_type": "markdown",
   "id": "6ccd169c-ba2c-4f11-8c41-972ea6ff0ce7",
   "metadata": {},
   "source": [
    "> The `for` loop takes a collection of items and executes a block of code once for each item in the collection (definite number of iterations). <span style=\"background:LemonChiffon\">In contrast, the `while` loop runs while, a certain condition is true."
   ]
  },
  {
   "cell_type": "markdown",
   "id": "217536b2-df73-4b07-84a8-25143aeff039",
   "metadata": {},
   "source": [
    "- You can use a `while` loop to <span style=\"background:LemonChiffon\">count up through a series of numbers.</span> For example, the following while loop counts from 1 to 5:"
   ]
  },
  {
   "cell_type": "code",
   "execution_count": 17,
   "id": "bd2248bc-8658-4225-8aaf-e25454ea2c81",
   "metadata": {},
   "outputs": [
    {
     "name": "stdout",
     "output_type": "stream",
     "text": [
      "1\n",
      "2\n",
      "3\n",
      "4\n",
      "5\n"
     ]
    }
   ],
   "source": [
    "current_number = 1\n",
    "while current_number <= 5:\n",
    "    print(current_number)\n",
    "    current_number += 1"
   ]
  },
  {
   "cell_type": "markdown",
   "id": "3421f74b-b953-413e-8eba-15f978714e10",
   "metadata": {},
   "source": [
    "- Python repeats the loop as long as the condition `current_number <= 5` is true.\n",
    "- Because 1 is less than 5, Python prints 1 and then adds 1, making the `current_number` 2. Because 2 is less than 5, Python prints 2 and adds 1 again, making the `current_number` 3, and so on.\n",
    "- Once the value of `current_number` is greater than 5, the loop stops running."
   ]
  },
  {
   "cell_type": "markdown",
   "id": "005e5d83-4fe0-47b1-bbc7-aab44c37c285",
   "metadata": {},
   "source": [
    "- Another example, a game needs a while loop to keep running as long as you want to keep playing, and so it can stop running as soon as you ask it to quit. \n",
    "- Programs wouldn’t be fun to use if they stopped running before we told them to or kept running even after we wanted to quit, so while loops are quite useful."
   ]
  },
  {
   "cell_type": "markdown",
   "id": "5ceca010-8bc2-4f4d-8118-ffcf0918981b",
   "metadata": {},
   "source": [
    "### **3.2.1 Letting the User Choose When to Quit**"
   ]
  },
  {
   "cell_type": "markdown",
   "id": "b85108ca-8895-4912-8f35-e62e107a0b35",
   "metadata": {},
   "source": [
    "- We set up a variable `message` to keep track of whatever value the user enters.\n",
    "- We make sure to give `message` an initial value. <span style=\"background:LemonChiffon\">Although it’s just an empty string, it will make sense to Python and allow it to perform the comparison that makes the `while` loop work."
   ]
  },
  {
   "cell_type": "code",
   "execution_count": 19,
   "id": "694a596a-ad34-45b4-9b07-502ae0b6e0eb",
   "metadata": {},
   "outputs": [
    {
     "name": "stdin",
     "output_type": "stream",
     "text": [
      "\n",
      "Tell me something, and I will repeat it back to you:\n",
      "Enter 'quit' to end the program.  Yomna\n"
     ]
    },
    {
     "name": "stdout",
     "output_type": "stream",
     "text": [
      "Yomna\n"
     ]
    },
    {
     "name": "stdin",
     "output_type": "stream",
     "text": [
      "\n",
      "Tell me something, and I will repeat it back to you:\n",
      "Enter 'quit' to end the program.  Yomna\n"
     ]
    },
    {
     "name": "stdout",
     "output_type": "stream",
     "text": [
      "Yomna\n"
     ]
    },
    {
     "name": "stdin",
     "output_type": "stream",
     "text": [
      "\n",
      "Tell me something, and I will repeat it back to you:\n",
      "Enter 'quit' to end the program.  quit\n"
     ]
    },
    {
     "name": "stdout",
     "output_type": "stream",
     "text": [
      "quit\n"
     ]
    }
   ],
   "source": [
    "prompt = \"\\nTell me something, and I will repeat it back to you:\"\n",
    "prompt += \"\\nEnter 'quit' to end the program. \"\n",
    "message = \"\"\n",
    "\n",
    "while message != 'quit':\n",
    "    message = input(prompt)\n",
    "    print(message)"
   ]
  },
  {
   "cell_type": "markdown",
   "id": "1dc8d15d-19b5-4041-a0c5-7c6e711c0cc5",
   "metadata": {},
   "source": [
    "- This program works well, except that it prints the word 'quit' as if it were an actual message. A simple `if` test fixes this:"
   ]
  },
  {
   "cell_type": "code",
   "execution_count": 21,
   "id": "c5373c3a-9458-47f6-a290-fbaee6e0dab4",
   "metadata": {},
   "outputs": [
    {
     "name": "stdin",
     "output_type": "stream",
     "text": [
      "\n",
      "Tell me something, and I will repeat it back to you:\n",
      "Enter 'quit' to end the program.  yOMNA\n"
     ]
    },
    {
     "name": "stdout",
     "output_type": "stream",
     "text": [
      "yOMNA\n"
     ]
    },
    {
     "name": "stdin",
     "output_type": "stream",
     "text": [
      "\n",
      "Tell me something, and I will repeat it back to you:\n",
      "Enter 'quit' to end the program.  quit\n"
     ]
    }
   ],
   "source": [
    "prompt = \"\\nTell me something, and I will repeat it back to you:\"\n",
    "prompt += \"\\nEnter 'quit' to end the program. \"\n",
    "message = \"\"\n",
    "while message != 'quit':\n",
    "    message = input(prompt)\n",
    "    if message != 'quit':\n",
    "         print(message)"
   ]
  },
  {
   "cell_type": "markdown",
   "id": "eb7f98aa-8b42-47be-8b7a-745880a39568",
   "metadata": {},
   "source": [
    "### **3.2.2 Using a Flag**"
   ]
  },
  {
   "cell_type": "markdown",
   "id": "47b9ffab-e08d-4861-b8d0-f5172335fb39",
   "metadata": {},
   "source": [
    "> - In the previous example, we had the program perform certain tasks while a given condition was true.<br>\n",
    ">   <span style=\"background:LemonChiffon\">But what about more complicated programs in which many different events could cause the program to stop running?</span>\n",
    "> - For example, in a game, several different events can end the game. [time runs out, the player has no more \"lives\", the city he protected is destroyed]\n",
    "> - If many possible events might occur to stop the program, <span style=\"background:LemonChiffon\">\n",
    "trying to test all these conditions in one `while` statement becomes complicated and difficult.\n",
    "\n",
    "> - Instead, <span style=\"background:LemonChiffon\">you can define one variable that determines whether or not the entire program is active.</span> This variable, called a <span style=\"background:palegreen\">**flag,**</span> acts as a signal to the program.\n",
    "> - As a result, our overall `while` statement needs to check only one condition: whether the **flag** is currently True."
   ]
  },
  {
   "cell_type": "code",
   "execution_count": 23,
   "id": "2c44392a-621b-4bc8-b8c9-ae63bf3c823e",
   "metadata": {},
   "outputs": [
    {
     "name": "stdin",
     "output_type": "stream",
     "text": [
      "\n",
      "Tell me something, and I will repeat it back to you:\n",
      "Enter 'quit' to end the program.  Yomna\n"
     ]
    },
    {
     "name": "stdout",
     "output_type": "stream",
     "text": [
      "Yomna\n"
     ]
    },
    {
     "name": "stdin",
     "output_type": "stream",
     "text": [
      "\n",
      "Tell me something, and I will repeat it back to you:\n",
      "Enter 'quit' to end the program.  Ehab\n"
     ]
    },
    {
     "name": "stdout",
     "output_type": "stream",
     "text": [
      "Ehab\n"
     ]
    },
    {
     "name": "stdin",
     "output_type": "stream",
     "text": [
      "\n",
      "Tell me something, and I will repeat it back to you:\n",
      "Enter 'quit' to end the program.  quit\n"
     ]
    }
   ],
   "source": [
    "prompt = \"\\nTell me something, and I will repeat it back to you:\"\n",
    "prompt += \"\\nEnter 'quit' to end the program. \"\n",
    "active = True\n",
    "\n",
    "while active:\n",
    "    message = input(prompt)\n",
    "    if message == 'quit':\n",
    "        active = False\n",
    "    else:\n",
    "        print(message)"
   ]
  },
  {
   "cell_type": "markdown",
   "id": "54dc77e3-5d94-4fa5-af12-55f284d33bf3",
   "metadata": {},
   "source": [
    "- It would be easy to add more tests (such as `elif` statements) for events that should cause `active` to become False."
   ]
  },
  {
   "cell_type": "markdown",
   "id": "dcb200cf-ad19-4f39-99d6-c98caf648232",
   "metadata": {},
   "source": [
    "### **3.2.3 Using break to Exit a Loop**"
   ]
  },
  {
   "cell_type": "markdown",
   "id": "d7e03baa-cfe4-4a6e-943e-5084b7371504",
   "metadata": {},
   "source": [
    "> - To exit a `while` loop <span style=\"background:LemonChiffon\">immediately without running any remaining code in the loop, use the **`break`** statement.</span>\n",
    "> - For example, consider a program that asks the user about places they’ve visited. We can stop the `while` loop in this program by calling `break` as soon as the user enters the 'quit' value:"
   ]
  },
  {
   "cell_type": "code",
   "execution_count": 25,
   "id": "557913fa-111f-431a-8d68-2777bd54c74b",
   "metadata": {},
   "outputs": [
    {
     "name": "stdin",
     "output_type": "stream",
     "text": [
      "\n",
      "Please enter the name of a city you have visited:\n",
      "(Enter 'quit' when you are finished.)  Cairo\n"
     ]
    },
    {
     "name": "stdout",
     "output_type": "stream",
     "text": [
      "I'd love to go to Cairo!\n"
     ]
    },
    {
     "name": "stdin",
     "output_type": "stream",
     "text": [
      "\n",
      "Please enter the name of a city you have visited:\n",
      "(Enter 'quit' when you are finished.)  Alexandria\n"
     ]
    },
    {
     "name": "stdout",
     "output_type": "stream",
     "text": [
      "I'd love to go to Alexandria!\n"
     ]
    },
    {
     "name": "stdin",
     "output_type": "stream",
     "text": [
      "\n",
      "Please enter the name of a city you have visited:\n",
      "(Enter 'quit' when you are finished.)  quit\n"
     ]
    }
   ],
   "source": [
    "prompt = \"\\nPlease enter the name of a city you have visited:\"\n",
    "prompt += \"\\n(Enter 'quit' when you are finished.) \"\n",
    "\n",
    "while True:\n",
    "    city = input(prompt)\n",
    "    if city == 'quit':\n",
    "        break\n",
    "    else:\n",
    "        print(f\"I'd love to go to {city.title()}!\")"
   ]
  },
  {
   "cell_type": "markdown",
   "id": "157af105-d1f0-421a-b83f-03f2fbb5c132",
   "metadata": {},
   "source": [
    "- A loop that starts with `while True` will run forever unless it reaches a `break` statement."
   ]
  },
  {
   "cell_type": "markdown",
   "id": "fb3d9ab8-0f31-4d48-8dea-942a873c767e",
   "metadata": {},
   "source": [
    "- You can also use the `break` statement in `for` loops. "
   ]
  },
  {
   "cell_type": "markdown",
   "id": "a56e58b0-e196-4830-b651-1817e73dbbde",
   "metadata": {},
   "source": [
    "### **3.2.4 Using continue in a Loop**"
   ]
  },
  {
   "cell_type": "markdown",
   "id": "f3f995b5-53b3-4ad5-8b98-f898ac8d4468",
   "metadata": {},
   "source": [
    "> Rather than breaking out of a loop entirely without executing the rest of its code, you can use the `continue` statement to return to the beginning of the loop, based on the result of a conditional test."
   ]
  },
  {
   "cell_type": "markdown",
   "id": "8c367269-3537-41b0-a4cb-8d01f6eaadaa",
   "metadata": {},
   "source": [
    "#### **The Modulo Operator (%)**"
   ]
  },
  {
   "cell_type": "markdown",
   "id": "23dda85e-8bc3-4b04-ba2d-59156b374a69",
   "metadata": {},
   "source": [
    "- It divides one number by another number and <span style=\"background:LemonChiffon\">returns the **remainder.**"
   ]
  },
  {
   "cell_type": "code",
   "execution_count": 27,
   "id": "f6079a09-e077-4686-b02d-97e545247f56",
   "metadata": {},
   "outputs": [
    {
     "data": {
      "text/plain": [
       "1"
      ]
     },
     "execution_count": 27,
     "metadata": {},
     "output_type": "execute_result"
    }
   ],
   "source": [
    "4 % 3"
   ]
  },
  {
   "cell_type": "code",
   "execution_count": 29,
   "id": "18f8b7f0-a31a-4de6-9699-e4918c3ebe3c",
   "metadata": {},
   "outputs": [
    {
     "data": {
      "text/plain": [
       "2"
      ]
     },
     "execution_count": 29,
     "metadata": {},
     "output_type": "execute_result"
    }
   ],
   "source": [
    "5 % 3"
   ]
  },
  {
   "cell_type": "code",
   "execution_count": 31,
   "id": "afdb8cd1-79e5-456e-ae67-c1f765690ee8",
   "metadata": {},
   "outputs": [
    {
     "data": {
      "text/plain": [
       "0"
      ]
     },
     "execution_count": 31,
     "metadata": {},
     "output_type": "execute_result"
    }
   ],
   "source": [
    "6 % 3"
   ]
  },
  {
   "cell_type": "code",
   "execution_count": 33,
   "id": "ffe76e35-b23e-4a63-83a3-8e4658afa28b",
   "metadata": {},
   "outputs": [
    {
     "data": {
      "text/plain": [
       "1"
      ]
     },
     "execution_count": 33,
     "metadata": {},
     "output_type": "execute_result"
    }
   ],
   "source": [
    "7 % 2"
   ]
  },
  {
   "cell_type": "markdown",
   "id": "f827dca5-6748-4398-a652-362a088d9ffd",
   "metadata": {},
   "source": [
    "- When one number is divisible by another number, the remainder is **0**. <span style=\"background:LemonChiffon\">\n",
    "You can use this fact to determine if a number is even or odd."
   ]
  },
  {
   "cell_type": "code",
   "execution_count": 35,
   "id": "6a837a0e-2337-432e-93fa-58ae2f723cb4",
   "metadata": {},
   "outputs": [
    {
     "name": "stdout",
     "output_type": "stream",
     "text": [
      "1\n",
      "3\n",
      "5\n",
      "7\n",
      "9\n"
     ]
    }
   ],
   "source": [
    "current_number = 0\n",
    "while current_number < 10:\n",
    "    current_number += 1\n",
    "    if current_number % 2 == 0:\n",
    "        continue\n",
    "    print(current_number)"
   ]
  },
  {
   "cell_type": "markdown",
   "id": "5a0779eb-cd82-44d1-b0dd-11451935df3e",
   "metadata": {},
   "source": [
    "- The `if` statement then checks the modulo of `current_number` and. If the modulo is 0 (which means `current_number` is divisible by 2), the **`continue`** statement tells Python to ignore the rest of the loop and return to the beginning."
   ]
  },
  {
   "cell_type": "markdown",
   "id": "13fa6979-c35b-4e82-9e68-402d96f284e4",
   "metadata": {},
   "source": [
    "### **3.2.5 Avoiding Infinite Loops**"
   ]
  },
  {
   "cell_type": "markdown",
   "id": "7dfb93f7-6d6f-4177-9aa2-80bbbf2f138c",
   "metadata": {},
   "source": [
    "> Every `while` loop needs a way to **stop** running so it won’t continue to run forever.\n",
    "> This counting loop should count from 1 to 5:"
   ]
  },
  {
   "cell_type": "code",
   "execution_count": 37,
   "id": "72131e93-f8ab-4abe-8fc0-22534a3d48a9",
   "metadata": {},
   "outputs": [
    {
     "name": "stdout",
     "output_type": "stream",
     "text": [
      "1\n",
      "2\n",
      "3\n",
      "4\n",
      "5\n"
     ]
    }
   ],
   "source": [
    "x = 1\n",
    "while x <= 5:\n",
    "    print(x)\n",
    "    x += 1"
   ]
  },
  {
   "cell_type": "markdown",
   "id": "20dd229e-e5e7-42ea-a126-a9ada5855a1c",
   "metadata": {},
   "source": [
    "However, if you accidentally omit the line `x += 1`, the loop will run forever:"
   ]
  },
  {
   "cell_type": "code",
   "execution_count": null,
   "id": "65d9ea70-d4d1-4da4-8928-a51d7688ceae",
   "metadata": {},
   "outputs": [],
   "source": [
    "# This loop runs forever!\n",
    "x = 1\n",
    "while x <= 5:\n",
    "    print(x)"
   ]
  },
  {
   "cell_type": "markdown",
   "id": "bd9112e3-ddf3-4f3d-b1de-52ccc41e2077",
   "metadata": {},
   "source": [
    "- To avoid writing infinite loops, test every `while` loop and make sure the loop stops when you expect it to.\n",
    "- If you want your program to end when the user enters a certain input value, run the program and enter that value. If the \n",
    "program doesn’t end, scrutinize the way your program handles the value that should cause the loop to exit."
   ]
  },
  {
   "cell_type": "code",
   "execution_count": null,
   "id": "0c18a126-324f-4e40-abe6-fff912c15f3e",
   "metadata": {},
   "outputs": [],
   "source": []
  }
 ],
 "metadata": {
  "kernelspec": {
   "display_name": "Python 3 (ipykernel)",
   "language": "python",
   "name": "python3"
  },
  "language_info": {
   "codemirror_mode": {
    "name": "ipython",
    "version": 3
   },
   "file_extension": ".py",
   "mimetype": "text/x-python",
   "name": "python",
   "nbconvert_exporter": "python",
   "pygments_lexer": "ipython3",
   "version": "3.12.7"
  }
 },
 "nbformat": 4,
 "nbformat_minor": 5
}
