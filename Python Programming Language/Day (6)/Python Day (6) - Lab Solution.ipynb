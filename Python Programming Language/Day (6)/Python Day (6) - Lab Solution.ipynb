{
 "cells": [
  {
   "cell_type": "markdown",
   "id": "c7e737a7",
   "metadata": {},
   "source": [
    "#### **Pagination Navigator**"
   ]
  },
  {
   "cell_type": "code",
   "execution_count": 83,
   "id": "35810b3e",
   "metadata": {},
   "outputs": [],
   "source": [
    "class Pagination:\n",
    "    def __init__(self, items=[], page_size=10):\n",
    "        self.items = items\n",
    "        self.page_size = page_size\n",
    "        self.current_page = 0\n",
    "        # fixed total page in initialization we saw this before in lab 1 for group calculation \n",
    "        self.total_pages = (len(self.items) + self.page_size - 1) // self.page_size  # ceiling \n",
    "\n",
    "\n",
    "    def get_visible_items(self):\n",
    "        start_idx = self.current_page * self.page_size\n",
    "        end_idx = start_idx + self.page_size\n",
    "        return self.items[start_idx:end_idx]\n",
    "    \n",
    "    def next_page(self):\n",
    "        if self.current_page < self.total_pages - 1:\n",
    "            self.current_page += 1\n",
    "            return self\n",
    "        \n",
    "    def prev_page(self):\n",
    "        if self.current_page > 0:\n",
    "            self.current_page -= 1\n",
    "            return self\n",
    "        \n",
    "    def first_page(self):\n",
    "        self.current_page = 0\n",
    "        return self\n",
    "\n",
    "    def last_page(self):\n",
    "        self.current_page = self.total_pages - 1\n",
    "        return self\n",
    "    \n",
    "    def go_to_page(self, page_no):\n",
    "        if 1 <= page_no <= self.total_pages:\n",
    "            self.current_page = page_no - 1\n",
    "        else:\n",
    "            print(f\"Ivalid page number. The numbers should be in range 1 to {self.total_pages}\")\n",
    "        return self"
   ]
  },
  {
   "cell_type": "code",
   "execution_count": 84,
   "id": "c4c22165",
   "metadata": {},
   "outputs": [],
   "source": [
    "alpahbetical = 'abcdefghijklmnopqrstuvwxyz'\n",
    "\n",
    "p = Pagination(list(alpahbetical), 4)\n"
   ]
  },
  {
   "cell_type": "code",
   "execution_count": 85,
   "id": "1a72259e",
   "metadata": {},
   "outputs": [
    {
     "data": {
      "text/plain": [
       "['a', 'b', 'c', 'd']"
      ]
     },
     "execution_count": 85,
     "metadata": {},
     "output_type": "execute_result"
    }
   ],
   "source": [
    "p.get_visible_items()"
   ]
  },
  {
   "cell_type": "code",
   "execution_count": 88,
   "id": "d450201d",
   "metadata": {},
   "outputs": [
    {
     "data": {
      "text/plain": [
       "['a', 'b', 'c', 'd']"
      ]
     },
     "execution_count": 88,
     "metadata": {},
     "output_type": "execute_result"
    }
   ],
   "source": [
    "p.first_page()\n",
    "p.get_visible_items()"
   ]
  },
  {
   "cell_type": "code",
   "execution_count": 89,
   "id": "52269c15",
   "metadata": {},
   "outputs": [
    {
     "data": {
      "text/plain": [
       "['e', 'f', 'g', 'h']"
      ]
     },
     "execution_count": 89,
     "metadata": {},
     "output_type": "execute_result"
    }
   ],
   "source": [
    "p.next_page()\n",
    "p.get_visible_items()"
   ]
  },
  {
   "cell_type": "code",
   "execution_count": 90,
   "id": "2e2f68dd",
   "metadata": {},
   "outputs": [
    {
     "data": {
      "text/plain": [
       "['y', 'z']"
      ]
     },
     "execution_count": 90,
     "metadata": {},
     "output_type": "execute_result"
    }
   ],
   "source": [
    "p.last_page()\n",
    "p.get_visible_items()"
   ]
  },
  {
   "cell_type": "code",
   "execution_count": 91,
   "id": "089b0310",
   "metadata": {},
   "outputs": [
    {
     "data": {
      "text/plain": [
       "['y', 'z']"
      ]
     },
     "execution_count": 91,
     "metadata": {},
     "output_type": "execute_result"
    }
   ],
   "source": [
    "p.next_page()\n",
    "p.get_visible_items()"
   ]
  },
  {
   "cell_type": "code",
   "execution_count": 93,
   "id": "0257cee3",
   "metadata": {},
   "outputs": [
    {
     "data": {
      "text/plain": [
       "['u', 'v', 'w', 'x']"
      ]
     },
     "execution_count": 93,
     "metadata": {},
     "output_type": "execute_result"
    }
   ],
   "source": [
    "p.prev_page()\n",
    "p.get_visible_items()"
   ]
  },
  {
   "cell_type": "code",
   "execution_count": 94,
   "id": "79a697dd",
   "metadata": {},
   "outputs": [
    {
     "data": {
      "text/plain": [
       "['u', 'v', 'w', 'x']"
      ]
     },
     "execution_count": 94,
     "metadata": {},
     "output_type": "execute_result"
    }
   ],
   "source": [
    "p.prev_page().next_page()\n",
    "p.get_visible_items()"
   ]
  },
  {
   "cell_type": "markdown",
   "id": "992bf501",
   "metadata": {},
   "source": [
    "#### **Coffee Shop**"
   ]
  },
  {
   "cell_type": "code",
   "execution_count": 215,
   "id": "2ed0fec6",
   "metadata": {},
   "outputs": [],
   "source": [
    "class CoffeeShop:\n",
    "    def __init__(self, name, menu, orders=[]):\n",
    "        self.name = name\n",
    "        self.menu = menu\n",
    "        self.orders = orders\n",
    "\n",
    "    def add_order(self, item_name):\n",
    "        for item in self.menu:\n",
    "            # Case-insensitive\n",
    "            if item['item'].lower() == item_name.lower():\n",
    "                self.orders.append(item['item'])  \n",
    "                return \"Order added!\"\n",
    "        return \"This item is currently unavailable!\"\n",
    "\n",
    "    def fulfill_order(self):\n",
    "        if self.orders: # check for non-empty\n",
    "            fulfilled_item = self.orders.pop(0)\n",
    "            return f\"The {fulfilled_item} is ready!\"\n",
    "        else:\n",
    "            return \"All orders have been fulfilled!\"\n",
    "\n",
    "    def list_orders(self):\n",
    "        return self.orders if self.orders else []\n",
    "\n",
    "    def due_amount(self):\n",
    "        # more effecient due to lookup dict\n",
    "        # We can use normal two loops one for the orders and one for the menu\n",
    "        price_hash = {item['item']: item['price'] for item in self.menu}\n",
    "        total = sum(price_hash.get(order_item) for order_item in self.orders)\n",
    "        return round(total, 2)\n",
    "    \n",
    "    def cheapest_item(self):\n",
    "        return min(self.menu, key=lambda item: item['price'])['item']\n",
    "\n",
    "    def drinks_only(self):\n",
    "        return [item['item'] for item in self.menu if item['type']=='drink']\n",
    "\n",
    "    def food_only(self):\n",
    "        return [item['item'] for item in self.menu if item['type']=='food']\n"
   ]
  },
  {
   "cell_type": "code",
   "execution_count": 1,
   "id": "4b4f1f3f",
   "metadata": {},
   "outputs": [],
   "source": [
    "# Generated by ChatGPT \n",
    "menu = [\n",
    "    {\"item\": \"Latte\", \"type\": \"drink\", \"price\": 3.5},\n",
    "    {\"item\": \"Espresso\", \"type\": \"drink\", \"price\": 2.0},\n",
    "    {\"item\": \"Croissant\", \"type\": \"food\", \"price\": 2.5},\n",
    "    {\"item\": \"Muffin\", \"type\": \"food\", \"price\": 2.75}\n",
    "]"
   ]
  },
  {
   "cell_type": "code",
   "execution_count": 11,
   "id": "f5cce2ef",
   "metadata": {},
   "outputs": [
    {
     "data": {
      "text/plain": [
       "['Latte', 'Espresso', 'Croissant', 'Muffin']"
      ]
     },
     "execution_count": 11,
     "metadata": {},
     "output_type": "execute_result"
    }
   ],
   "source": [
    "[item[\"item\"] for item in menu]"
   ]
  },
  {
   "cell_type": "code",
   "execution_count": 10,
   "id": "3a46786a",
   "metadata": {},
   "outputs": [
    {
     "data": {
      "text/plain": [
       "'Latte'"
      ]
     },
     "execution_count": 10,
     "metadata": {},
     "output_type": "execute_result"
    }
   ],
   "source": [
    "{\"item\": \"Latte\", \"type\": \"drink\", \"price\": 3.5}['item']"
   ]
  },
  {
   "cell_type": "code",
   "execution_count": 217,
   "id": "2cbe974f",
   "metadata": {},
   "outputs": [],
   "source": [
    "shop = CoffeeShop(\"Central Perk\", menu)"
   ]
  },
  {
   "cell_type": "code",
   "execution_count": 218,
   "id": "7165c017",
   "metadata": {},
   "outputs": [
    {
     "data": {
      "text/plain": [
       "'Order added!'"
      ]
     },
     "execution_count": 218,
     "metadata": {},
     "output_type": "execute_result"
    }
   ],
   "source": [
    "shop.add_order('Latte')"
   ]
  },
  {
   "cell_type": "code",
   "execution_count": 219,
   "id": "2452f51f",
   "metadata": {},
   "outputs": [
    {
     "data": {
      "text/plain": [
       "'Order added!'"
      ]
     },
     "execution_count": 219,
     "metadata": {},
     "output_type": "execute_result"
    }
   ],
   "source": [
    "shop.add_order('latte')"
   ]
  },
  {
   "cell_type": "code",
   "execution_count": 220,
   "id": "1c6a52c9",
   "metadata": {},
   "outputs": [
    {
     "name": "stdout",
     "output_type": "stream",
     "text": [
      "Order added!\n",
      "Order added!\n",
      "This item is currently unavailable!\n",
      "['Latte', 'Latte', 'Latte', 'Muffin']\n",
      "13.25\n",
      "The Latte is ready!\n",
      "['Latte', 'Latte', 'Muffin']\n",
      "Espresso\n",
      "['Latte', 'Espresso']\n",
      "['Croissant', 'Muffin']\n"
     ]
    }
   ],
   "source": [
    "# Example Generated by ChatGPT\n",
    "\n",
    "shop = CoffeeShop(\"Central Perk\", menu)\n",
    "\n",
    "print(shop.add_order(\"Latte\"))      # Order added!\n",
    "print(shop.add_order(\"Muffin\"))     # Order added!\n",
    "print(shop.add_order(\"Burger\"))     # This item is currently unavailable!\n",
    "print(shop.list_orders())           # ['Latte', 'Muffin']\n",
    "print(shop.due_amount())            # 6.25\n",
    "print(shop.fulfill_order())         # The Latte is ready!\n",
    "print(shop.list_orders())           # ['Muffin']\n",
    "print(shop.cheapest_item())         # Espresso\n",
    "print(shop.drinks_only())           # ['Latte', 'Espresso']\n",
    "print(shop.food_only())             # ['Croissant', 'Muffin']"
   ]
  },
  {
   "cell_type": "code",
   "execution_count": null,
   "id": "71eabaef",
   "metadata": {},
   "outputs": [
    {
     "name": "stdout",
     "output_type": "stream",
     "text": [
      "The Latte is ready!\n",
      "['Latte', 'Muffin']\n"
     ]
    }
   ],
   "source": [
    "print(shop.fulfill_order())         # The Latte is ready!\n",
    "print(shop.list_orders())           # ['Latte', 'Muffin']"
   ]
  },
  {
   "cell_type": "code",
   "execution_count": 222,
   "id": "a5a9a267",
   "metadata": {},
   "outputs": [
    {
     "name": "stdout",
     "output_type": "stream",
     "text": [
      "The Latte is ready!\n",
      "['Muffin']\n"
     ]
    }
   ],
   "source": [
    "print(shop.fulfill_order())         # The Latte is ready!\n",
    "print(shop.list_orders())           # ['Muffin']\n"
   ]
  },
  {
   "cell_type": "code",
   "execution_count": null,
   "id": "c9c2d6b9",
   "metadata": {},
   "outputs": [
    {
     "name": "stdout",
     "output_type": "stream",
     "text": [
      "The Muffin is ready!\n",
      "[]\n"
     ]
    }
   ],
   "source": [
    "print(shop.fulfill_order())         # The Latte is ready!\n",
    "print(shop.list_orders())           # []\n"
   ]
  },
  {
   "cell_type": "code",
   "execution_count": null,
   "id": "a1f79bbd",
   "metadata": {},
   "outputs": [
    {
     "name": "stdout",
     "output_type": "stream",
     "text": [
      "All orders have been fulfilled!\n",
      "[]\n"
     ]
    }
   ],
   "source": [
    "print(shop.fulfill_order())         # All orders have been fulfilled!\n",
    "print(shop.list_orders())           # []\n"
   ]
  }
 ],
 "metadata": {
  "kernelspec": {
   "display_name": "Python 3",
   "language": "python",
   "name": "python3"
  },
  "language_info": {
   "codemirror_mode": {
    "name": "ipython",
    "version": 3
   },
   "file_extension": ".py",
   "mimetype": "text/x-python",
   "name": "python",
   "nbconvert_exporter": "python",
   "pygments_lexer": "ipython3",
   "version": "3.13.0"
  },
  "rise": {
   "theme": "sky"
  }
 },
 "nbformat": 4,
 "nbformat_minor": 5
}
