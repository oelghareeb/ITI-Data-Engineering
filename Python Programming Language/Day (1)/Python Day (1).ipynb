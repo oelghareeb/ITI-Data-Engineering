{
 "cells": [
  {
   "cell_type": "markdown",
   "id": "1964151e-0cd1-4017-8a9f-34536566c1da",
   "metadata": {},
   "source": [
    "# **1. Introduction [Whetting Your Appetite!]**"
   ]
  },
  {
   "cell_type": "markdown",
   "id": "9da23da9-5c92-4209-bcf2-c0235c8f36d9",
   "metadata": {},
   "source": [
    "### **1.1 What is Python?**"
   ]
  },
  {
   "attachments": {},
   "cell_type": "markdown",
   "id": "7f1d4adc-a3d8-436c-96c3-20ec00c1b7df",
   "metadata": {},
   "source": [
    "> - Python is a widely used general-purpose, high-level programming language. It was created by <span style=\"background:LightSkyBlue\">**Guido van Rossum.</span>**<img src=\"Guido_van_Rossum.jpg\" width=\"15%\" height=\"15%\" align=\"right\"/>\n",
    "> - The first version, Python 0.9.0, was released in 1991. Python **2.0**, a major milestone, was released in **2000**, and Python **3.0**,<br> with significant changes incompatible with the 2.x, was released in **2008**.\n",
    "> - The inspiration for the name came from the BBC’s TV Show - <span style=\"background:LightSkyBlue\">**\"Monty Python’s Flying Circus\"**,</span> as he was a big fan of the TV show and also he wanted a **short**, **unique** and slightly **mysterious** name.\n",
    "> - https://www.tiobe.com/tiobe-index/"
   ]
  },
  {
   "cell_type": "markdown",
   "id": "f4483372-6349-46d2-8f33-4a18784ccf92",
   "metadata": {},
   "source": [
    "### **1.2 Why Python?**"
   ]
  },
  {
   "cell_type": "markdown",
   "id": "ee18e08e-4161-4722-9619-5237ff9b8675",
   "metadata": {},
   "source": [
    "> - **Simplicity and Readability:** Python's syntax is clear, concise, and easy to understand.\n",
    "> - **Versatility:** Python is a general-purpose language used in various domains such as web development, data science, artificial intelligence, automation, scientific computing, and more."
   ]
  },
  {
   "cell_type": "markdown",
   "id": "f8ed9afc-26b2-458b-bf6d-5eaa22c73e5e",
   "metadata": {},
   "source": [
    "> - **Open Source:** Python is an open-source language, meaning its source code is freely available to the public for use and modification.\n",
    "> - **Strong community:** Python has a large and active community of developers who contribute libraries and frameworks, making it easier to find solutions and resources for almost any programming task.\n",
    "> - https://www.python.org/"
   ]
  },
  {
   "cell_type": "markdown",
   "id": "07558015-0d5f-468c-b906-f00785c04733",
   "metadata": {},
   "source": [
    "# **2. Arithmetic Operators**"
   ]
  },
  {
   "cell_type": "markdown",
   "id": "2bc6c60b-5cdd-4b60-8874-6791d02b056a",
   "metadata": {},
   "source": [
    "> #### Primitive constructs\n",
    "> - English: words\n",
    "> - Programming language: numbers, strings, simple operators<br><br>\n",
    "> An <span style=\"background:LemonChiffon\">arithmetic operator</span> is a symbol that represents an arithmetic computation."
   ]
  },
  {
   "cell_type": "markdown",
   "id": "1d5106f6-c8e6-4ae4-a24a-8415e43ee4ab",
   "metadata": {},
   "source": [
    "#### **Addition (+):**"
   ]
  },
  {
   "cell_type": "code",
   "execution_count": 1,
   "id": "792f4b7c-9a24-4eb0-8efc-e3713aa40563",
   "metadata": {},
   "outputs": [
    {
     "data": {
      "text/plain": [
       "30"
      ]
     },
     "execution_count": 1,
     "metadata": {},
     "output_type": "execute_result"
    }
   ],
   "source": [
    "20 + 10"
   ]
  },
  {
   "cell_type": "markdown",
   "id": "cee7af22-3272-48eb-9f37-52d22974f361",
   "metadata": {},
   "source": [
    "#### **Subtraction (-):**"
   ]
  },
  {
   "cell_type": "code",
   "execution_count": 3,
   "id": "82dfec92-3511-454b-bf45-afb0acec28c2",
   "metadata": {},
   "outputs": [
    {
     "data": {
      "text/plain": [
       "10"
      ]
     },
     "execution_count": 3,
     "metadata": {},
     "output_type": "execute_result"
    }
   ],
   "source": [
    "20 - 10"
   ]
  },
  {
   "cell_type": "markdown",
   "id": "dc0251da-6c60-4972-8b8b-9b92e322fc90",
   "metadata": {},
   "source": [
    "#### **Multiplication (*):**"
   ]
  },
  {
   "cell_type": "code",
   "execution_count": 5,
   "id": "605e023c-4fdd-4729-ba1b-e8b2f34eb56f",
   "metadata": {},
   "outputs": [
    {
     "data": {
      "text/plain": [
       "25"
      ]
     },
     "execution_count": 5,
     "metadata": {},
     "output_type": "execute_result"
    }
   ],
   "source": [
    "5 * 5"
   ]
  },
  {
   "cell_type": "markdown",
   "id": "e8b355aa-856d-4cef-9af3-f070847f0e02",
   "metadata": {},
   "source": [
    "#### **Division (/):**"
   ]
  },
  {
   "cell_type": "code",
   "execution_count": 7,
   "id": "a8b5d3c8-052f-4ca9-9b06-f357785c9093",
   "metadata": {},
   "outputs": [
    {
     "data": {
      "text/plain": [
       "4.0"
      ]
     },
     "execution_count": 7,
     "metadata": {},
     "output_type": "execute_result"
    }
   ],
   "source": [
    "8 / 2"
   ]
  },
  {
   "cell_type": "markdown",
   "id": "8b8b223c-cbaf-417c-8dec-2a9b51a0bcf1",
   "metadata": {},
   "source": [
    "Notice that the result of the division is **4.0** rather than **4**."
   ]
  },
  {
   "cell_type": "markdown",
   "id": "36efeddb-bd45-40af-8c35-39de57c9c7e8",
   "metadata": {},
   "source": [
    "#### **Exponentiation (\\*\\*):**"
   ]
  },
  {
   "cell_type": "code",
   "execution_count": 9,
   "id": "1d6bfe50-d8f5-4b19-8861-bc85aa3684bc",
   "metadata": {},
   "outputs": [
    {
     "data": {
      "text/plain": [
       "8"
      ]
     },
     "execution_count": 9,
     "metadata": {},
     "output_type": "execute_result"
    }
   ],
   "source": [
    "2 ** 3"
   ]
  },
  {
   "cell_type": "markdown",
   "id": "60f18224-a0c8-44b0-b210-922e2d7788ec",
   "metadata": {},
   "source": [
    "### **2.1 Data Types**"
   ]
  },
  {
   "cell_type": "markdown",
   "id": "198cb6f8-15bc-42d7-a4fd-d2ef7f92e4f8",
   "metadata": {},
   "source": [
    "> There are <span style=\"background:LemonChiffon\">two types of numbers</span> in Python:\n",
    "> #### **2.1.1 Integer:**\n",
    "> - It represents numbers with no fractional or decimal part.\n",
    "> #### **2.1.2 Float/floating-point number:**\n",
    "> - It represents numbers with a decimal point."
   ]
  },
  {
   "cell_type": "markdown",
   "id": "bad085b6-3400-4730-ae24-1cd2091e625c",
   "metadata": {},
   "source": [
    "> If you add, subtract, or multiply two integers, the result is an **integer**. But if you divide two integers, the result is a float. Python provides another operator, `//`, that performs **integer division/floor division**."
   ]
  },
  {
   "cell_type": "code",
   "execution_count": 11,
   "id": "71a2ecc1-1ed5-42bd-bdc1-104b51f584ac",
   "metadata": {},
   "outputs": [
    {
     "data": {
      "text/plain": [
       "1.5"
      ]
     },
     "execution_count": 11,
     "metadata": {},
     "output_type": "execute_result"
    }
   ],
   "source": [
    "6 / 4"
   ]
  },
  {
   "cell_type": "code",
   "execution_count": 13,
   "id": "72cad639-450c-4cdd-af94-9c2b46ab0809",
   "metadata": {},
   "outputs": [
    {
     "data": {
      "text/plain": [
       "1"
      ]
     },
     "execution_count": 13,
     "metadata": {},
     "output_type": "execute_result"
    }
   ],
   "source": [
    "6 // 4"
   ]
  },
  {
   "cell_type": "code",
   "execution_count": 15,
   "id": "f3668fcb-9350-4ce1-b9a1-7d6ebf72616f",
   "metadata": {},
   "outputs": [
    {
     "data": {
      "text/plain": [
       "0.6666666666666666"
      ]
     },
     "execution_count": 15,
     "metadata": {},
     "output_type": "execute_result"
    }
   ],
   "source": [
    "2 / 3"
   ]
  },
  {
   "cell_type": "code",
   "execution_count": 17,
   "id": "8f8e6554-d9e5-4d62-8086-aabfe3381bdc",
   "metadata": {},
   "outputs": [
    {
     "data": {
      "text/plain": [
       "0"
      ]
     },
     "execution_count": 17,
     "metadata": {},
     "output_type": "execute_result"
    }
   ],
   "source": [
    "2 // 3"
   ]
  },
  {
   "cell_type": "code",
   "execution_count": 19,
   "id": "2eade2e4-4d17-4fe9-a16f-d096300d724a",
   "metadata": {},
   "outputs": [
    {
     "data": {
      "text/plain": [
       "4"
      ]
     },
     "execution_count": 19,
     "metadata": {},
     "output_type": "execute_result"
    }
   ],
   "source": [
    "8 // 2"
   ]
  },
  {
   "cell_type": "markdown",
   "id": "fb3ddd31-6aa0-4057-82d6-b95486ecf97a",
   "metadata": {},
   "source": [
    "> If a single one of the operands in an expression is a **float**, the result will also be a **float**, regardless of the other operands."
   ]
  },
  {
   "cell_type": "code",
   "execution_count": 21,
   "id": "13a63b71-d322-4886-a3ae-cbe3773ec37c",
   "metadata": {},
   "outputs": [
    {
     "data": {
      "text/plain": [
       "7.5"
      ]
     },
     "execution_count": 21,
     "metadata": {},
     "output_type": "execute_result"
    }
   ],
   "source": [
    "2.5 + 5"
   ]
  },
  {
   "cell_type": "code",
   "execution_count": 23,
   "id": "6b6bc426-68f3-43d0-8b75-a7a97a5177b4",
   "metadata": {},
   "outputs": [
    {
     "data": {
      "text/plain": [
       "10.0"
      ]
     },
     "execution_count": 23,
     "metadata": {},
     "output_type": "execute_result"
    }
   ],
   "source": [
    "2.5 * 4"
   ]
  },
  {
   "cell_type": "code",
   "execution_count": 25,
   "id": "afec9328-11c0-45a1-8ef7-f46260bc4cfa",
   "metadata": {},
   "outputs": [
    {
     "data": {
      "text/plain": [
       "2.0"
      ]
     },
     "execution_count": 25,
     "metadata": {},
     "output_type": "execute_result"
    }
   ],
   "source": [
    "4 ** 0.5"
   ]
  },
  {
   "cell_type": "markdown",
   "id": "56d39585-73f5-4620-abe3-9ba9cc0de73e",
   "metadata": {},
   "source": [
    "> #### **2.1.3 Strings:**\n",
    "> A string is a series of characters. Anything inside quotes is considered a string in Python, and you can use single (`''`) or double quotes (`\"\"`) around your strings."
   ]
  },
  {
   "cell_type": "code",
   "execution_count": 27,
   "id": "b9cae580-7583-4638-b40f-51dea8bf11b2",
   "metadata": {},
   "outputs": [
    {
     "data": {
      "text/plain": [
       "'This is a string.'"
      ]
     },
     "execution_count": 27,
     "metadata": {},
     "output_type": "execute_result"
    }
   ],
   "source": [
    "'This is a string.'"
   ]
  },
  {
   "cell_type": "markdown",
   "id": "84bd25b8-5bd7-4425-8920-36b2028691e9",
   "metadata": {},
   "source": [
    "This flexibility allows you to use quotes and apostrophes within your strings:"
   ]
  },
  {
   "cell_type": "code",
   "execution_count": 29,
   "id": "73bb57aa-82d0-4d0d-ad73-4e1874e0f8f2",
   "metadata": {},
   "outputs": [
    {
     "data": {
      "text/plain": [
       "\"One of Python's strengths is its diverse and supportive community.\""
      ]
     },
     "execution_count": 29,
     "metadata": {},
     "output_type": "execute_result"
    }
   ],
   "source": [
    "\"One of Python's strengths is its diverse and supportive community.\""
   ]
  },
  {
   "cell_type": "markdown",
   "id": "c9b2c85a-c87b-4472-8626-c80fd9651cf7",
   "metadata": {},
   "source": [
    "> if you use an apostrophe within single quotes, you’ll produce an error. <span style=\"background:LemonChiffon\">This happens because Python interprets everything between the first single quote and the apostrophe as a string.</span> It then tries to interpret the rest of the text as Python code, which \n",
    "causes errors."
   ]
  },
  {
   "cell_type": "code",
   "execution_count": 31,
   "id": "e60f99e0-3aef-49de-a3df-9715f304a934",
   "metadata": {},
   "outputs": [
    {
     "ename": "SyntaxError",
     "evalue": "unterminated string literal (detected at line 1) (1269250194.py, line 1)",
     "output_type": "error",
     "traceback": [
      "\u001b[1;36m  Cell \u001b[1;32mIn[31], line 1\u001b[1;36m\u001b[0m\n\u001b[1;33m    'One of Python's strengths is its diverse community.'\u001b[0m\n\u001b[1;37m                                                        ^\u001b[0m\n\u001b[1;31mSyntaxError\u001b[0m\u001b[1;31m:\u001b[0m unterminated string literal (detected at line 1)\n"
     ]
    }
   ],
   "source": [
    "'One of Python's strengths is its diverse community.'"
   ]
  },
  {
   "cell_type": "markdown",
   "id": "6115111b-316f-4ae1-af40-55f73944a427",
   "metadata": {},
   "source": [
    "- A <span style=\"background:lightcoral\">**syntax error**</span> occurs when Python doesn’t recognize a section of your program as valid Python code. "
   ]
  },
  {
   "cell_type": "markdown",
   "id": "ece86060-71f5-4fba-9ec7-7700af6e07ba",
   "metadata": {},
   "source": [
    "Strings can also contain spaces, punctuation, and digits:"
   ]
  },
  {
   "cell_type": "code",
   "execution_count": 33,
   "id": "a73d17c0-4bec-4564-85d4-1a0b77b593bc",
   "metadata": {},
   "outputs": [
    {
     "data": {
      "text/plain": [
       "'His name is Ahmed. He is 28 years    old'"
      ]
     },
     "execution_count": 33,
     "metadata": {},
     "output_type": "execute_result"
    }
   ],
   "source": [
    "\"His name is Ahmed. He is 28 years    old\""
   ]
  },
  {
   "cell_type": "markdown",
   "id": "12b30d77-43b7-47e8-9ba5-2a30608965cd",
   "metadata": {},
   "source": [
    "> The (`+`) operator works with strings; it joins two strings into a single string, which is called <span style=\"background:palegreen\">**concatenation**</span>."
   ]
  },
  {
   "cell_type": "code",
   "execution_count": 35,
   "id": "8d033688-c390-4e5c-8c7a-0c7be3ff1cae",
   "metadata": {},
   "outputs": [
    {
     "data": {
      "text/plain": [
       "'Hi, Sara!'"
      ]
     },
     "execution_count": 35,
     "metadata": {},
     "output_type": "execute_result"
    }
   ],
   "source": [
    "\"Hi, \" + \"Sara!\""
   ]
  },
  {
   "cell_type": "markdown",
   "id": "fed7b7fe-68b4-4e77-9de7-a0b8ea8aa1e8",
   "metadata": {},
   "source": [
    "> The (`*`) operator also works with strings; it makes multiple copies of a string and concatenates them, and it's called <span style=\"background:palegreen\">**string replication operator**</span>."
   ]
  },
  {
   "cell_type": "code",
   "execution_count": 37,
   "id": "fc451a83-593b-40f6-879a-d8619b0e3034",
   "metadata": {},
   "outputs": [
    {
     "data": {
      "text/plain": [
       "'HiHiHiHiHi'"
      ]
     },
     "execution_count": 37,
     "metadata": {},
     "output_type": "execute_result"
    }
   ],
   "source": [
    "\"Hi\" * 5"
   ]
  },
  {
   "cell_type": "markdown",
   "id": "83f78f78-8999-4d9f-bb6d-112dc981141c",
   "metadata": {},
   "source": [
    "### **2.2 Expressions**"
   ]
  },
  {
   "cell_type": "markdown",
   "id": "e5b53f14-03b9-4cff-842d-3f4f97fddec1",
   "metadata": {},
   "source": [
    "> Expressions consist of <span style=\"background:LemonChiffon\">**values** (operands) and **operators** (such as +)</span>, and they can always evaluate (that is, reduce) down to a  <span style=\"background:LemonChiffon\">**single value**</span>."
   ]
  },
  {
   "cell_type": "code",
   "execution_count": 39,
   "id": "b7b19c5f-8979-49b0-9f27-2fda72350807",
   "metadata": {},
   "outputs": [
    {
     "data": {
      "text/plain": [
       "6"
      ]
     },
     "execution_count": 39,
     "metadata": {},
     "output_type": "execute_result"
    }
   ],
   "source": [
    "6"
   ]
  },
  {
   "cell_type": "code",
   "execution_count": 41,
   "id": "d98bfdd1-daca-43a1-ae26-fa33a0bdf6ba",
   "metadata": {},
   "outputs": [
    {
     "data": {
      "text/plain": [
       "42"
      ]
     },
     "execution_count": 41,
     "metadata": {},
     "output_type": "execute_result"
    }
   ],
   "source": [
    "6 + 6 ** 2"
   ]
  },
  {
   "cell_type": "markdown",
   "id": "162201f6-f144-4b09-a384-515e1c7f7016",
   "metadata": {},
   "source": [
    "> Python follows the order of operations as in Math. Exponentiation happens before multiplication and division, which happen before addition and subtraction.<br>\n",
    "> If you want to change the order, you can use parentheses."
   ]
  },
  {
   "cell_type": "code",
   "execution_count": 43,
   "id": "029e6f8a-46e3-4ddb-9707-c2bb0c0fdc1c",
   "metadata": {},
   "outputs": [
    {
     "data": {
      "text/plain": [
       "144"
      ]
     },
     "execution_count": 43,
     "metadata": {},
     "output_type": "execute_result"
    }
   ],
   "source": [
    "(6 + 6) ** 2"
   ]
  },
  {
   "cell_type": "markdown",
   "id": "e8fcd0da-058c-4933-8acf-9e704387e446",
   "metadata": {},
   "source": [
    "### **2.3 Arithmetic Functions**"
   ]
  },
  {
   "cell_type": "markdown",
   "id": "7adb6368-0c5e-415a-854a-10df7c13addd",
   "metadata": {},
   "source": [
    "> In addition to the arithmetic operators, Python provides a few functions that work with numbers. For example, the **`round`** function  <span style=\"background:LemonChiffon\">takes a float number and rounds it off to the nearest integer.</span>"
   ]
  },
  {
   "cell_type": "code",
   "execution_count": 45,
   "id": "948073a4-9c2b-4231-9f5c-a0d993c7a61c",
   "metadata": {},
   "outputs": [
    {
     "data": {
      "text/plain": [
       "42"
      ]
     },
     "execution_count": 45,
     "metadata": {},
     "output_type": "execute_result"
    }
   ],
   "source": [
    "round(42.4)"
   ]
  },
  {
   "cell_type": "code",
   "execution_count": 47,
   "id": "ce4bbccf-05d2-4234-83d5-b2770d6747f6",
   "metadata": {},
   "outputs": [
    {
     "data": {
      "text/plain": [
       "43"
      ]
     },
     "execution_count": 47,
     "metadata": {},
     "output_type": "execute_result"
    }
   ],
   "source": [
    "round(42.6)"
   ]
  },
  {
   "cell_type": "code",
   "execution_count": 49,
   "id": "2d546419-9e0d-46e0-bf3d-1c27e7bae72c",
   "metadata": {},
   "outputs": [
    {
     "data": {
      "text/plain": [
       "42"
      ]
     },
     "execution_count": 49,
     "metadata": {},
     "output_type": "execute_result"
    }
   ],
   "source": [
    "round(42.5)"
   ]
  },
  {
   "cell_type": "code",
   "execution_count": 51,
   "id": "445eca0e-92f1-421c-be89-587eb7fd9918",
   "metadata": {},
   "outputs": [
    {
     "data": {
      "text/plain": [
       "44"
      ]
     },
     "execution_count": 51,
     "metadata": {},
     "output_type": "execute_result"
    }
   ],
   "source": [
    "round(43.5)"
   ]
  },
  {
   "cell_type": "markdown",
   "id": "551ac52d-ccd0-4f78-8154-cd54e78898d8",
   "metadata": {},
   "source": [
    "#### 🤖 <span style=\"color:LightSalmon\">**ChatGPT:**</span> Notice the result of `round(42.5)` and `round(43.5)`. If you are curious, ask ChatGPT, “If a number ends in 0.5, does Python round up or down?”"
   ]
  },
  {
   "cell_type": "markdown",
   "id": "672964fe-3b42-4b88-b47d-3e4507485911",
   "metadata": {},
   "source": [
    "> The **`abs`** function computes  <span style=\"background:LemonChiffon\">the absolute value of a number.</span>"
   ]
  },
  {
   "cell_type": "code",
   "execution_count": 53,
   "id": "5ea63ba3-24c8-46d2-9101-8cd6ad834e39",
   "metadata": {},
   "outputs": [
    {
     "data": {
      "text/plain": [
       "5"
      ]
     },
     "execution_count": 53,
     "metadata": {},
     "output_type": "execute_result"
    }
   ],
   "source": [
    "abs(-5)"
   ]
  },
  {
   "cell_type": "code",
   "execution_count": 55,
   "id": "fc409ccd-95cc-4158-9a01-e84777bd6f06",
   "metadata": {},
   "outputs": [
    {
     "data": {
      "text/plain": [
       "5"
      ]
     },
     "execution_count": 55,
     "metadata": {},
     "output_type": "execute_result"
    }
   ],
   "source": [
    "abs(5)"
   ]
  },
  {
   "cell_type": "markdown",
   "id": "c91c28d3-6074-4876-9160-333f4100fb01",
   "metadata": {},
   "source": [
    "> When you call a function, the parentheses are required. If you leave them out, you get an error message."
   ]
  },
  {
   "cell_type": "code",
   "execution_count": 57,
   "id": "5a029676-7516-47a4-bf01-f50600d70df5",
   "metadata": {},
   "outputs": [
    {
     "ename": "SyntaxError",
     "evalue": "invalid syntax (3334312778.py, line 1)",
     "output_type": "error",
     "traceback": [
      "\u001b[1;36m  Cell \u001b[1;32mIn[57], line 1\u001b[1;36m\u001b[0m\n\u001b[1;33m    abs 5\u001b[0m\n\u001b[1;37m        ^\u001b[0m\n\u001b[1;31mSyntaxError\u001b[0m\u001b[1;31m:\u001b[0m invalid syntax\n"
     ]
    }
   ],
   "source": [
    "abs 5"
   ]
  },
  {
   "cell_type": "markdown",
   "id": "9c776dcf-cd08-479e-abdd-d48dd4c6fa82",
   "metadata": {},
   "source": [
    "> <span style=\"background:lightcoral\">**Syntax error**</span>, which means that there is something wrong with the structure of the code."
   ]
  },
  {
   "cell_type": "markdown",
   "id": "93f75b52-a991-48f9-92b2-ee3a1aaf7439",
   "metadata": {},
   "source": [
    "### **2.4 Values and Types**"
   ]
  },
  {
   "cell_type": "markdown",
   "id": "f220f128-decd-4aa9-acbb-c296bd58eea0",
   "metadata": {},
   "source": [
    "> Python provides a function called **`type`** that tells you the type of any value.  <span style=\"background:LemonChiffon\">The type of an integer is int.</span>"
   ]
  },
  {
   "cell_type": "code",
   "execution_count": 59,
   "id": "62cda8bd-f62b-4f8e-913d-ac50f0fb15e4",
   "metadata": {},
   "outputs": [
    {
     "data": {
      "text/plain": [
       "int"
      ]
     },
     "execution_count": 59,
     "metadata": {},
     "output_type": "execute_result"
    }
   ],
   "source": [
    "type(2)"
   ]
  },
  {
   "cell_type": "markdown",
   "id": "960f736d-8cf6-4e84-96a0-d717b3d2e270",
   "metadata": {},
   "source": [
    ">  <span style=\"background:LemonChiffon\">The type of a floating-point number is float.</span>"
   ]
  },
  {
   "cell_type": "code",
   "execution_count": 61,
   "id": "80f03301-fef6-4073-a3ff-4642e7a139d4",
   "metadata": {},
   "outputs": [
    {
     "data": {
      "text/plain": [
       "float"
      ]
     },
     "execution_count": 61,
     "metadata": {},
     "output_type": "execute_result"
    }
   ],
   "source": [
    "type(42.5)"
   ]
  },
  {
   "cell_type": "markdown",
   "id": "a0ee4c93-5c6f-4e9c-a929-0084fc53b315",
   "metadata": {},
   "source": [
    "> <span style=\"background:LemonChiffon\">And the type of a string is str.</span>"
   ]
  },
  {
   "cell_type": "code",
   "execution_count": 63,
   "id": "20680584-4fc4-4b5a-9c24-a85fa95f5c88",
   "metadata": {},
   "outputs": [
    {
     "data": {
      "text/plain": [
       "str"
      ]
     },
     "execution_count": 63,
     "metadata": {},
     "output_type": "execute_result"
    }
   ],
   "source": [
    "type('Hello, World!')"
   ]
  },
  {
   "cell_type": "code",
   "execution_count": 65,
   "id": "79fd42db-9bbb-454d-8ee2-eecac8d7574b",
   "metadata": {},
   "outputs": [
    {
     "data": {
      "text/plain": [
       "str"
      ]
     },
     "execution_count": 65,
     "metadata": {},
     "output_type": "execute_result"
    }
   ],
   "source": [
    "type('126')"
   ]
  },
  {
   "cell_type": "markdown",
   "id": "7e6ca34a-6502-4291-9df5-beaa0b38f3ae",
   "metadata": {},
   "source": [
    "#### ✍🏻 **TRY IT YOURSELF**\n",
    "> What is the type of the value of the following expressions? Make your best guess for each one, and then use `type` to find out.\n",
    "> - 765\n",
    "> - 2.718\n",
    "> - '2 pi'\n",
    "> - abs(-7)\n",
    "> - abs(-7.0)\n",
    "> - abs\n",
    "> - int"
   ]
  },
  {
   "cell_type": "markdown",
   "id": "47f34eca-9cef-4189-9a0d-0f7a4ea88290",
   "metadata": {},
   "source": [
    "> The types `int`, `float`, and `str` can be used as functions. For example, `int` can take a floating-point number and convert it to an integer (always rounding down)."
   ]
  },
  {
   "cell_type": "code",
   "execution_count": 67,
   "id": "4ea09c5c-e086-4551-a783-f1918dbd6884",
   "metadata": {},
   "outputs": [
    {
     "data": {
      "text/plain": [
       "42"
      ]
     },
     "execution_count": 67,
     "metadata": {},
     "output_type": "execute_result"
    }
   ],
   "source": [
    "int(42.9)"
   ]
  },
  {
   "cell_type": "markdown",
   "id": "d67d6172-07ff-481f-a208-2f6a53c301f0",
   "metadata": {},
   "source": [
    "> And `float` can convert an integer to a floating-point value."
   ]
  },
  {
   "cell_type": "code",
   "execution_count": 69,
   "id": "2f64ddb0-79fb-4282-bc36-749b0ae8d05b",
   "metadata": {},
   "outputs": [
    {
     "data": {
      "text/plain": [
       "42.0"
      ]
     },
     "execution_count": 69,
     "metadata": {},
     "output_type": "execute_result"
    }
   ],
   "source": [
    "float(42)"
   ]
  },
  {
   "cell_type": "code",
   "execution_count": 71,
   "id": "3e6e72e9-a3c4-44f8-b998-4bc077ddfcf0",
   "metadata": {},
   "outputs": [
    {
     "ename": "TypeError",
     "evalue": "unsupported operand type(s) for /: 'str' and 'int'",
     "output_type": "error",
     "traceback": [
      "\u001b[1;31m---------------------------------------------------------------------------\u001b[0m",
      "\u001b[1;31mTypeError\u001b[0m                                 Traceback (most recent call last)",
      "Cell \u001b[1;32mIn[71], line 1\u001b[0m\n\u001b[1;32m----> 1\u001b[0m \u001b[38;5;124m'\u001b[39m\u001b[38;5;124m126\u001b[39m\u001b[38;5;124m'\u001b[39m \u001b[38;5;241m/\u001b[39m \u001b[38;5;241m3\u001b[39m\n",
      "\u001b[1;31mTypeError\u001b[0m: unsupported operand type(s) for /: 'str' and 'int'"
     ]
    }
   ],
   "source": [
    "'126' / 3"
   ]
  },
  {
   "cell_type": "markdown",
   "id": "ec2a5412-e050-4530-924b-bab0b97a85e9",
   "metadata": {},
   "source": [
    "> This example generates a <span style=\"background:lightcoral\">**TypeError**</span>, which means that the operands in the expression, have the wrong type. The error message indicates that the `/` operator does not support the types of these values, which are `str` and `int`.\n",
    "\n",
    "If you have a string that contains digits, you can use int to convert it to an integer."
   ]
  },
  {
   "cell_type": "code",
   "execution_count": 73,
   "id": "9f3e7245-0470-4cee-89db-9fa708d7d168",
   "metadata": {},
   "outputs": [
    {
     "data": {
      "text/plain": [
       "42.0"
      ]
     },
     "execution_count": 73,
     "metadata": {},
     "output_type": "execute_result"
    }
   ],
   "source": [
    "int('126') / 3"
   ]
  },
  {
   "cell_type": "markdown",
   "id": "d803ce30-639c-4649-9adb-53aa39102961",
   "metadata": {},
   "source": [
    "> If you have a string that contains digits and a decimal point, you can use `float` to convert it to a floating-point number."
   ]
  },
  {
   "cell_type": "code",
   "execution_count": 79,
   "id": "5be33acf-1c73-4994-a300-e017cee93a9d",
   "metadata": {},
   "outputs": [
    {
     "ename": "ValueError",
     "evalue": "could not convert string to float: '12.6s'",
     "output_type": "error",
     "traceback": [
      "\u001b[1;31m---------------------------------------------------------------------------\u001b[0m",
      "\u001b[1;31mValueError\u001b[0m                                Traceback (most recent call last)",
      "Cell \u001b[1;32mIn[79], line 1\u001b[0m\n\u001b[1;32m----> 1\u001b[0m \u001b[38;5;28mfloat\u001b[39m(\u001b[38;5;124m'\u001b[39m\u001b[38;5;124m12.6s\u001b[39m\u001b[38;5;124m'\u001b[39m)\n",
      "\u001b[1;31mValueError\u001b[0m: could not convert string to float: '12.6s'"
     ]
    }
   ],
   "source": [
    "float('12.6')"
   ]
  },
  {
   "cell_type": "markdown",
   "id": "f72cce89-48e1-49cb-8344-8eacc61ceb98",
   "metadata": {},
   "source": [
    "> When you write a large integer, You can use **underscores** to make large numbers easier to read."
   ]
  },
  {
   "cell_type": "code",
   "execution_count": 77,
   "id": "e1bfc238-b529-4b6b-9519-f9d61684db69",
   "metadata": {},
   "outputs": [
    {
     "data": {
      "text/plain": [
       "1000000"
      ]
     },
     "execution_count": 77,
     "metadata": {},
     "output_type": "execute_result"
    }
   ],
   "source": [
    "1_000_000"
   ]
  },
  {
   "cell_type": "markdown",
   "id": "ca4c8bce-8898-4b2f-897a-587d249257d1",
   "metadata": {},
   "source": [
    "# **3. Variables**"
   ]
  },
  {
   "cell_type": "markdown",
   "id": "bb41f5ef-300e-4903-83f5-f122b788edee",
   "metadata": {},
   "source": [
    "### **3.1 Variable Initialization**"
   ]
  },
  {
   "cell_type": "markdown",
   "id": "ccc0f4c5-c978-460c-b63f-753b94b88c83",
   "metadata": {},
   "source": [
    "> So far, you have used code to make a calculation and print the result, and the result isn't saved anywhere. A **variable** is a name that refers to a value. You can also think of variables as **labels** that you can assign to values. To create a variable, we can write a <span style=\"background:LemonChiffon\">**assignment statement**</span> like this.\n",
    "> - To reuse names instead of values.\n",
    "> - Makes code easier to read and modify."
   ]
  },
  {
   "cell_type": "code",
   "execution_count": 81,
   "id": "fb0233b1-ade8-42ad-b5ed-00dfb650c881",
   "metadata": {},
   "outputs": [],
   "source": [
    "num = 15"
   ]
  },
  {
   "cell_type": "markdown",
   "id": "c16260c3-0729-44db-bf02-17ba7a714c49",
   "metadata": {},
   "source": [
    "> - An assignment statement has three parts: the name of the variable on the left, the equals operator, `=`, and an expression on the right.<br>\n",
    "> - We can display the value of `num` like this:"
   ]
  },
  {
   "cell_type": "code",
   "execution_count": 83,
   "id": "36902a07-b413-4e57-80ae-2831d79d83ad",
   "metadata": {},
   "outputs": [
    {
     "data": {
      "text/plain": [
       "15"
      ]
     },
     "execution_count": 83,
     "metadata": {},
     "output_type": "execute_result"
    }
   ],
   "source": [
    "num"
   ]
  },
  {
   "cell_type": "markdown",
   "id": "9f104b63-b66c-4e03-b5ea-003f194dff32",
   "metadata": {},
   "source": [
    "> You can also use a variable as part of an expression with arithmetic operators."
   ]
  },
  {
   "cell_type": "code",
   "execution_count": null,
   "id": "8e4561e2-35b3-4122-9bfb-cea8071a422d",
   "metadata": {},
   "outputs": [],
   "source": [
    "num + 25"
   ]
  },
  {
   "cell_type": "markdown",
   "id": "7514a57b-1dd0-4a51-97fc-d896e2af1a1b",
   "metadata": {},
   "source": [
    "### **3.2 State Diagram**"
   ]
  },
  {
   "attachments": {
    "88aa90d0-f2ca-4cc6-8dfe-59f1463eecde.png": {
     "image/png": "[encoded data removed]"
    }
   },
   "cell_type": "markdown",
   "id": "4654acab-63dc-470a-800f-febd25196c72",
   "metadata": {},
   "source": [
    "> - A common way to represent variables on paper is to write the name with an arrow pointing to its value.<br>\n",
    "> - This kind of figure is called a state diagram because it shows what state each of the variables is in. <br>\n",
    ">  ![image.png](attachment:88aa90d0-f2ca-4cc6-8dfe-59f1463eecde.png)"
   ]
  },
  {
   "cell_type": "markdown",
   "id": "5209067c-e24f-417a-b8e0-b2f5c08fd9d0",
   "metadata": {},
   "source": [
    "> - Can re-bind variable names using new assignment statements\n",
    "> - Previous value may still stored in memory but lost the handle for it"
   ]
  },
  {
   "cell_type": "code",
   "execution_count": 85,
   "id": "e282d94e-92be-4d10-b649-ba94edd1bfa8",
   "metadata": {},
   "outputs": [],
   "source": [
    "x = 5    # x is a reference pointing to the integer object 5"
   ]
  },
  {
   "cell_type": "code",
   "execution_count": 87,
   "id": "2cdc520c-ed55-4a8c-8d57-abfc4406a600",
   "metadata": {},
   "outputs": [],
   "source": [
    "x = 10   # x is now re-bind to a new integer object 10"
   ]
  },
  {
   "cell_type": "code",
   "execution_count": 89,
   "id": "b4117892-5f97-4b14-91ca-9b94309b9251",
   "metadata": {},
   "outputs": [
    {
     "data": {
      "text/plain": [
       "10"
      ]
     },
     "execution_count": 89,
     "metadata": {},
     "output_type": "execute_result"
    }
   ],
   "source": [
    "x"
   ]
  },
  {
   "cell_type": "code",
   "execution_count": 91,
   "id": "b8098957-9609-4661-a897-e82553af5ecd",
   "metadata": {},
   "outputs": [],
   "source": [
    "y = x  # y also points to the same object 10"
   ]
  },
  {
   "cell_type": "code",
   "execution_count": 93,
   "id": "88dfe71b-0768-4712-ab75-f4d794cdeea5",
   "metadata": {},
   "outputs": [
    {
     "data": {
      "text/plain": [
       "10"
      ]
     },
     "execution_count": 93,
     "metadata": {},
     "output_type": "execute_result"
    }
   ],
   "source": [
    "y"
   ]
  },
  {
   "attachments": {},
   "cell_type": "markdown",
   "id": "34a4c049-de3e-4b43-a33f-53c1f213a765",
   "metadata": {},
   "source": [
    "### **3.3 Variable Names**"
   ]
  },
  {
   "cell_type": "markdown",
   "id": "8b2a976f-843b-404d-a483-9af8d6a7f415",
   "metadata": {},
   "source": [
    "> - Variable names can contain only letters, numbers, and underscores. \n",
    "> - They can start with a letter or an underscore, but not with a number.\n",
    "> - Spaces are not allowed in variable names, but underscores can be used to separate words in variable names.\n",
    "> - Avoid using Python keywords and function names as variable names.\n",
    "> - It is legal to use uppercase letters, but it is conventional to use only lower case for variable names."
   ]
  },
  {
   "attachments": {
    "6b41f6d6-7a92-4ffa-8d1f-023df61cefc0.png": {
     "image/png": "[encoded data removed]"
    }
   },
   "cell_type": "markdown",
   "id": "61ffb024-a6bc-4ac9-a1de-85141a2bb15d",
   "metadata": {},
   "source": [
    "> ![image.png](attachment:6b41f6d6-7a92-4ffa-8d1f-023df61cefc0.png)<br>\n",
    "> You don’t have to memorize this list. In most development environments, keywords are displayed in a **different color**; if you try to use one as a variable name, you’ll know."
   ]
  },
  {
   "cell_type": "markdown",
   "id": "9f3b7b44-6d2b-4b2c-8039-51bb55ee5f72",
   "metadata": {},
   "source": [
    "> If you give a variable an illegal name, you get a <span style=\"background:lightcoral\">syntax error.</span>"
   ]
  },
  {
   "cell_type": "code",
   "execution_count": 95,
   "id": "f4f70af8-97bd-4ac1-9066-830c41a3717f",
   "metadata": {},
   "outputs": [
    {
     "ename": "SyntaxError",
     "evalue": "invalid decimal literal (3812850894.py, line 1)",
     "output_type": "error",
     "traceback": [
      "\u001b[1;36m  Cell \u001b[1;32mIn[95], line 1\u001b[1;36m\u001b[0m\n\u001b[1;33m    1_message = \"hello\"\u001b[0m\n\u001b[1;37m     ^\u001b[0m\n\u001b[1;31mSyntaxError\u001b[0m\u001b[1;31m:\u001b[0m invalid decimal literal\n"
     ]
    }
   ],
   "source": [
    "1_message = \"hello\" "
   ]
  },
  {
   "cell_type": "code",
   "execution_count": 97,
   "id": "1ad748a9-079d-4358-b8c6-f9b1dd239da8",
   "metadata": {},
   "outputs": [],
   "source": [
    "message_1 = \"hello\""
   ]
  },
  {
   "cell_type": "code",
   "execution_count": 99,
   "id": "8667819a-d665-4d32-bc7f-5716c3976ec7",
   "metadata": {},
   "outputs": [
    {
     "ename": "SyntaxError",
     "evalue": "invalid syntax (4283026090.py, line 1)",
     "output_type": "error",
     "traceback": [
      "\u001b[1;36m  Cell \u001b[1;32mIn[99], line 1\u001b[1;36m\u001b[0m\n\u001b[1;33m    greeting message = \"Hi\"\u001b[0m\n\u001b[1;37m             ^\u001b[0m\n\u001b[1;31mSyntaxError\u001b[0m\u001b[1;31m:\u001b[0m invalid syntax\n"
     ]
    }
   ],
   "source": [
    "greeting message = \"Hi\""
   ]
  },
  {
   "cell_type": "code",
   "execution_count": 101,
   "id": "4e948119-87b6-4b39-a0ef-bb8cd09ac148",
   "metadata": {},
   "outputs": [],
   "source": [
    "greeting_message = \"Hi\""
   ]
  },
  {
   "cell_type": "code",
   "execution_count": 103,
   "id": "6d6dba8c-cf33-41d3-9303-c6a2b8d3f785",
   "metadata": {},
   "outputs": [
    {
     "ename": "SyntaxError",
     "evalue": "invalid syntax (932403373.py, line 1)",
     "output_type": "error",
     "traceback": [
      "\u001b[1;36m  Cell \u001b[1;32mIn[103], line 1\u001b[1;36m\u001b[0m\n\u001b[1;33m    if = 8\u001b[0m\n\u001b[1;37m       ^\u001b[0m\n\u001b[1;31mSyntaxError\u001b[0m\u001b[1;31m:\u001b[0m invalid syntax\n"
     ]
    }
   ],
   "source": [
    "if = 8"
   ]
  },
  {
   "cell_type": "markdown",
   "id": "e515d6b1-0ede-4ddd-a65a-db5aa2b968df",
   "metadata": {},
   "source": [
    "> - <span style=\"background:LemonChiffon\">Variable names should be short but descriptive.</span> For example, `name` is \n",
    "better than `n`, `student_name` is better than `s_n`, and `name_length` is better than `length_of_persons_name`."
   ]
  },
  {
   "cell_type": "markdown",
   "id": "a71fc507-3586-4eac-8384-370487f6c714",
   "metadata": {},
   "source": [
    "#### 🤖 <span style=\"color:LightSalmon\">**ChatGPT:**\n",
    "> You might have noticed that `int`, `float`, and `str` are not Python keywords. They are variables that represent **types**, and they can be used as **functions**. So it is legal to have a variable or function with one of those names, but it is strongly discouraged. Ask an assistant “Why is it bad to use int, float, and str as variable names?”"
   ]
  },
  {
   "cell_type": "markdown",
   "id": "969d3acf-de7a-4a51-85a6-c73039078a5c",
   "metadata": {},
   "source": [
    "### **3.4 Assignment Operators**"
   ]
  },
  {
   "cell_type": "markdown",
   "id": "82bfd596-139a-49c5-9765-47a0beca30a2",
   "metadata": {},
   "source": [
    "> We've seen that variables can be assigned with the `=` operator, and the values stored for later use. For example:"
   ]
  },
  {
   "cell_type": "code",
   "execution_count": 113,
   "id": "f545db22-378a-45e3-b0a5-5e9226f7b2f5",
   "metadata": {},
   "outputs": [
    {
     "data": {
      "text/plain": [
       "24"
      ]
     },
     "execution_count": 113,
     "metadata": {},
     "output_type": "execute_result"
    }
   ],
   "source": [
    "a = 24\n",
    "a"
   ]
  },
  {
   "cell_type": "markdown",
   "id": "7fc61325-99df-4449-9581-44140ea58c7b",
   "metadata": {},
   "source": [
    "- We can use these variables in expressions:"
   ]
  },
  {
   "cell_type": "code",
   "execution_count": 107,
   "id": "c1af2d12-7c45-454f-a3a5-4c13c2bcfe60",
   "metadata": {},
   "outputs": [
    {
     "data": {
      "text/plain": [
       "26"
      ]
     },
     "execution_count": 107,
     "metadata": {},
     "output_type": "execute_result"
    }
   ],
   "source": [
    "a + 2"
   ]
  },
  {
   "cell_type": "code",
   "execution_count": 115,
   "id": "b50b5d93-220b-4cdf-94f4-24654caa0bf0",
   "metadata": {},
   "outputs": [
    {
     "data": {
      "text/plain": [
       "26"
      ]
     },
     "execution_count": 115,
     "metadata": {},
     "output_type": "execute_result"
    }
   ],
   "source": [
    "a = a + 2\n",
    "a"
   ]
  },
  {
   "cell_type": "markdown",
   "id": "f783386c-6098-453a-a2c5-bf3af76ff4ab",
   "metadata": {},
   "source": [
    "We might want to update the variable **`a`** with this new value; in this case, we could <span style=\"background:LemonChiffon\">combine the addition and the assignment and write **`a = a + 2`.**</span> Because this type of combined operation and assignment is so common, Python includes built-in update operators for all of the arithmetic operations:"
   ]
  },
  {
   "cell_type": "code",
   "execution_count": 117,
   "id": "f3f2010b-6794-4b83-bdf7-7f16bd219a3e",
   "metadata": {},
   "outputs": [
    {
     "data": {
      "text/plain": [
       "28"
      ]
     },
     "execution_count": 117,
     "metadata": {},
     "output_type": "execute_result"
    }
   ],
   "source": [
    "a += 2 # shorthand for a = a + 2\n",
    "a"
   ]
  },
  {
   "cell_type": "markdown",
   "id": "ad570c25-c6d3-4b89-9165-d09d0b1166ab",
   "metadata": {},
   "source": [
    "**The other assignment operators:**<br/>\n",
    "> https://www.w3schools.com/python/gloss_python_assignment_operators.asp"
   ]
  },
  {
   "cell_type": "markdown",
   "id": "024f0aff-833a-41d4-9e97-061511b0b111",
   "metadata": {},
   "source": [
    "### **3.5 Multiple Assignment**"
   ]
  },
  {
   "cell_type": "markdown",
   "id": "84670475-c749-4bfc-bc61-cd40b4fec4c0",
   "metadata": {},
   "source": [
    "> You can assign values to more than one variable using just a <span style=\"background:LemonChiffon\">\n",
    "single line of code.</span> This can help shorten your programs and make them easier to read; you’ll use this technique most often when initializing a set of numbers."
   ]
  },
  {
   "cell_type": "code",
   "execution_count": 119,
   "id": "1fd8d5e7-a6b7-4f57-a6bc-31025e9936b1",
   "metadata": {},
   "outputs": [],
   "source": [
    "x, y, z = 0, 0, 0"
   ]
  },
  {
   "cell_type": "markdown",
   "id": "867a98d1-f6f7-43bb-b3c4-4966d4e8449e",
   "metadata": {},
   "source": [
    "> You need to separate the variable names with commas, and do the same with the values, and Python will assign each value to its respective variable. <span style=\"background:LemonChiffon\">As long as the number of values matches the number of variables, Python will match them up correctly.</span>"
   ]
  },
  {
   "cell_type": "markdown",
   "id": "6919827a-d733-409d-98cd-c94aa5f7e263",
   "metadata": {},
   "source": [
    "### **3.6  Constants**"
   ]
  },
  {
   "cell_type": "markdown",
   "id": "bcf4f07c-c652-440b-bdfe-3ee1214576aa",
   "metadata": {},
   "source": [
    "> A **constant** is a variable whose value stays the same throughout the life of a program. Python doesn’t have built-in constant types, but <span style=\"background:LemonChiffon\">Python programmers use all capital letters to indicate a variable should be treated as a constant and never be changed:</span>"
   ]
  },
  {
   "cell_type": "code",
   "execution_count": 121,
   "id": "9b81f78a-d5c0-4f85-91c3-416d268b65cd",
   "metadata": {},
   "outputs": [],
   "source": [
    "MAX_LIVES = 5  # Maximum lives a player can have"
   ]
  },
  {
   "cell_type": "code",
   "execution_count": 123,
   "id": "c1c95b95-df12-4170-bd26-a823120d0456",
   "metadata": {},
   "outputs": [],
   "source": [
    "MIN_PASSWORD_LENGTH = 8 # Minimum password length required"
   ]
  },
  {
   "cell_type": "markdown",
   "id": "740d007c-c7a9-4404-a1ce-9923da838fbb",
   "metadata": {},
   "source": [
    "# **4. Input/Output**"
   ]
  },
  {
   "cell_type": "markdown",
   "id": "15455583-f320-4e65-82ba-3c07cd4857be",
   "metadata": {},
   "source": [
    "### **4.1 The print function**"
   ]
  },
  {
   "cell_type": "markdown",
   "id": "9de9184e-0fbb-4aa4-a12d-de90f4c75146",
   "metadata": {},
   "source": [
    "When you evaluate an expression, the result is displayed."
   ]
  },
  {
   "cell_type": "code",
   "execution_count": 125,
   "id": "901a84a8-827e-462e-8667-ef382424f349",
   "metadata": {},
   "outputs": [
    {
     "data": {
      "text/plain": [
       "15"
      ]
     },
     "execution_count": 125,
     "metadata": {},
     "output_type": "execute_result"
    }
   ],
   "source": [
    "5 + 10"
   ]
  },
  {
   "cell_type": "markdown",
   "id": "f6fcafec-6ee8-40ca-9f56-587b0d2e2401",
   "metadata": {},
   "source": [
    "But if you evaluate more than one expression, only the value of the last one is displayed."
   ]
  },
  {
   "cell_type": "code",
   "execution_count": 127,
   "id": "e0a37a67-12ab-4b70-ad87-586d6ef4c19e",
   "metadata": {},
   "outputs": [
    {
     "data": {
      "text/plain": [
       "4"
      ]
     },
     "execution_count": 127,
     "metadata": {},
     "output_type": "execute_result"
    }
   ],
   "source": [
    "5 + 10\n",
    "2 + 2"
   ]
  },
  {
   "cell_type": "markdown",
   "id": "9f8cfe02-7a0e-4c99-a4f9-4842c92ab129",
   "metadata": {},
   "source": [
    "To display more than one value, you can use the **`print`** function."
   ]
  },
  {
   "cell_type": "code",
   "execution_count": 129,
   "id": "82f46be8-09bf-4ea9-9509-98e876fb66ce",
   "metadata": {},
   "outputs": [
    {
     "name": "stdout",
     "output_type": "stream",
     "text": [
      "15\n",
      "4\n"
     ]
    }
   ],
   "source": [
    "print(5 + 10)\n",
    "print(2 + 2)"
   ]
  },
  {
   "cell_type": "markdown",
   "id": "e8a94c16-2f97-4cad-8ebf-3368f88aef70",
   "metadata": {},
   "source": [
    "It also works with floating-point numbers and strings."
   ]
  },
  {
   "cell_type": "code",
   "execution_count": 131,
   "id": "31cdf57b-1d0e-4c03-9561-9bf259b23b6e",
   "metadata": {},
   "outputs": [
    {
     "name": "stdout",
     "output_type": "stream",
     "text": [
      "Hello, world!\n"
     ]
    }
   ],
   "source": [
    "greeting_message = \"Hello, world!\"\n",
    "print(greeting_message)"
   ]
  },
  {
   "cell_type": "markdown",
   "id": "97fd1383-157d-4f12-a0cd-47a45dcdc400",
   "metadata": {},
   "source": [
    "#### **4.1.1 Combining values when printing**"
   ]
  },
  {
   "cell_type": "markdown",
   "id": "ee766c24-8e5c-4980-b48e-b8883b329511",
   "metadata": {},
   "source": [
    "> 1) The simplest way is to add a **comma** between the values. All the values will be printed out regardless of their type:"
   ]
  },
  {
   "cell_type": "code",
   "execution_count": 133,
   "id": "90d92e54-be36-4e87-8672-eb30b727188e",
   "metadata": {},
   "outputs": [
    {
     "name": "stdout",
     "output_type": "stream",
     "text": [
      "The result is 250\n"
     ]
    }
   ],
   "source": [
    "result = 10 * 25\n",
    "print(\"The result is\", result)"
   ]
  },
  {
   "cell_type": "markdown",
   "id": "adfc12c8-306f-4e19-8b14-75ea92fee990",
   "metadata": {},
   "source": [
    "Notice that there is an automatically added **whitespace** character between the values separated by a comma here."
   ]
  },
  {
   "cell_type": "markdown",
   "id": "4a913619-1ec3-472d-81bd-4b5dc5ea604f",
   "metadata": {},
   "source": [
    "> 2. Use the (`+`) operator to concatenate values together:"
   ]
  },
  {
   "cell_type": "code",
   "execution_count": 151,
   "id": "affea943-cfcc-4667-b666-15fcf374e0f8",
   "metadata": {},
   "outputs": [
    {
     "ename": "TypeError",
     "evalue": "can only concatenate str (not \"int\") to str",
     "output_type": "error",
     "traceback": [
      "\u001b[1;31m---------------------------------------------------------------------------\u001b[0m",
      "\u001b[1;31mTypeError\u001b[0m                                 Traceback (most recent call last)",
      "Cell \u001b[1;32mIn[151], line 2\u001b[0m\n\u001b[0;32m      1\u001b[0m result \u001b[38;5;241m=\u001b[39m \u001b[38;5;241m10\u001b[39m \u001b[38;5;241m*\u001b[39m \u001b[38;5;241m25\u001b[39m\n\u001b[1;32m----> 2\u001b[0m \u001b[38;5;28mprint\u001b[39m(\u001b[38;5;124m\"\u001b[39m\u001b[38;5;124mThe result is\u001b[39m\u001b[38;5;124m\"\u001b[39m \u001b[38;5;241m+\u001b[39m result)\n",
      "\u001b[1;31mTypeError\u001b[0m: can only concatenate str (not \"int\") to str"
     ]
    }
   ],
   "source": [
    "result = 10 * 25\n",
    "print(\"The result is\" + result)"
   ]
  },
  {
   "cell_type": "markdown",
   "id": "c15a1bed-c471-4ead-be24-4b76e77973de",
   "metadata": {},
   "source": [
    "> If we do want to <span style=\"background:LemonChiffon\">print out a string and an integer in a single command, the integer can be cast as a string with the **`str`** function</span>, and the two strings can then be combined normally."
   ]
  },
  {
   "cell_type": "code",
   "execution_count": 137,
   "id": "856ee8e6-4302-469c-9c06-c126fbee2dbb",
   "metadata": {},
   "outputs": [
    {
     "name": "stdout",
     "output_type": "stream",
     "text": [
      "The result is 250\n"
     ]
    }
   ],
   "source": [
    "result = 10 * 25\n",
    "print(\"The result is \" + str(result))"
   ]
  },
  {
   "cell_type": "markdown",
   "id": "543e6dc9-1ce2-4bcc-953c-04b5e736228d",
   "metadata": {},
   "source": [
    "### **4.2 f-string**"
   ]
  },
  {
   "cell_type": "markdown",
   "id": "29f65202-fb63-4822-aa01-c804112a97d4",
   "metadata": {},
   "source": [
    "> <span style=\"background:LemonChiffon\">What if we want to have more flexibility and control over what we print out?</span> So called **f-strings** are another way of formatting printouts in Python. "
   ]
  },
  {
   "cell_type": "markdown",
   "id": "8bf4ad55-bd02-458b-9203-7628d4c2a8d5",
   "metadata": {},
   "source": [
    "3) With f-strings the previous example would look like this:"
   ]
  },
  {
   "cell_type": "code",
   "execution_count": 139,
   "id": "e64ab919-ebac-47d7-827a-cc769d685c96",
   "metadata": {},
   "outputs": [
    {
     "name": "stdout",
     "output_type": "stream",
     "text": [
      "The result is 250\n"
     ]
    }
   ],
   "source": [
    "result = 10 * 25\n",
    "print(f\"The result is {result}\")"
   ]
  },
  {
   "cell_type": "markdown",
   "id": "1bbffbcc-f3fa-4adf-9d02-620e7bf9afba",
   "metadata": {},
   "source": [
    "In the very beginning of this string is the character `f`. This tells Python that what follows is an **f-string**. Within the string, enclosed in curly brackets, is the variable name `result`. The value it contains becomes a part of the printed string."
   ]
  },
  {
   "cell_type": "markdown",
   "id": "fc34a445-abc6-43ad-adb3-ececf0369000",
   "metadata": {},
   "source": [
    "A single f-string can contain multiple variables. For example this code:"
   ]
  },
  {
   "cell_type": "code",
   "execution_count": 141,
   "id": "2b217af7-6c75-4f34-afe5-971d4a4b098a",
   "metadata": {},
   "outputs": [
    {
     "name": "stdout",
     "output_type": "stream",
     "text": [
      "Hi Mark, you are 37 years old. You live in Palo Alto.\n"
     ]
    }
   ],
   "source": [
    "name = \"Mark\"\n",
    "age = 37\n",
    "city = \"Palo Alto\"\n",
    "print(f\"Hi {name}, you are {age} years old. You live in {city}.\")"
   ]
  },
  {
   "cell_type": "markdown",
   "id": "117e4cff-cea5-478c-bd4e-fe8ddb40b645",
   "metadata": {},
   "source": [
    "It is difficult to create a printout exactly like this using the *comma*:"
   ]
  },
  {
   "cell_type": "code",
   "execution_count": 143,
   "id": "a8565eb9-8bb4-4fc6-a836-e78061cd4c36",
   "metadata": {},
   "outputs": [
    {
     "name": "stdout",
     "output_type": "stream",
     "text": [
      "Hi Mark , you are 37 years old. You live in Palo Alto .\n"
     ]
    }
   ],
   "source": [
    "name = \"Mark\"\n",
    "age = 37\n",
    "city = \"Palo Alto\"\n",
    "print(\"Hi\", name, \", you are\", age, \"years old. You live in\", city, \".\")"
   ]
  },
  {
   "cell_type": "markdown",
   "id": "32a8f1dc-4176-4504-a0d6-940aeb2d334d",
   "metadata": {},
   "source": [
    "Notice the automatically inserted whitespace. Preventing `print` from adding the spaces is possible, but not worth the trouble given that we can instead use f-strings."
   ]
  },
  {
   "cell_type": "markdown",
   "id": "f16e5fb9-c084-481f-82c9-8d05f800fb08",
   "metadata": {},
   "source": [
    "<span style=\"background:LemonChiffon\">The uses of f-strings are not restricted to `print`.</span> They can be assigned to variables and combined with other strings:"
   ]
  },
  {
   "cell_type": "code",
   "execution_count": 145,
   "id": "703cab05-a6e8-455b-bf8c-f1898c82d9c6",
   "metadata": {},
   "outputs": [
    {
     "name": "stdout",
     "output_type": "stream",
     "text": [
      "Hello ada lovelace\n"
     ]
    }
   ],
   "source": [
    "first_name = \"ada\"\n",
    "last_name = \"lovelace\"\n",
    "full_name = f\"{first_name} {last_name}\"\n",
    "print(\"Hello \"+ full_name)"
   ]
  },
  {
   "cell_type": "markdown",
   "id": "5a33f694-cfa8-4e46-b2cd-1ddefc2e5fa4",
   "metadata": {},
   "source": [
    "#### 🤖 <span style=\"color:LightSalmon\">**ChatGPT:**</span> How can I modify the code `print(\"Hello\")` and `print(\"My name is Ada\")` so that the output appears on the same line instead of separate lines?"
   ]
  },
  {
   "cell_type": "code",
   "execution_count": 147,
   "id": "f90d5c5b-136a-43b9-ab9f-2f92be3cd1bc",
   "metadata": {},
   "outputs": [
    {
     "name": "stdout",
     "output_type": "stream",
     "text": [
      "Hello\n",
      "My name is Ada\n"
     ]
    }
   ],
   "source": [
    "print(\"Hello\")\n",
    "print(\"My name is Ada\")"
   ]
  },
  {
   "cell_type": "markdown",
   "id": "5b1361a4-86f5-4592-a2c6-e525b58a1632",
   "metadata": {},
   "source": [
    "### **4.3 Adding Whitespace to Strings with Tabs or Newlines**"
   ]
  },
  {
   "cell_type": "markdown",
   "id": "ef583ac5-c979-433b-9fe0-19b2cc5294a9",
   "metadata": {},
   "source": [
    "> <span style=\"background:palegreen\">**Whitespaces**</span> refers to any nonprinting characters, such as spaces, tabs, and end-of-line. <span style=\"background:LemonChiffon\">\n",
    "You can use whitespace to organize your output so it’s easier for users to read.</span>"
   ]
  },
  {
   "cell_type": "markdown",
   "id": "f2da0595-b6e6-46e1-a838-aae8418bcfd3",
   "metadata": {},
   "source": [
    "To add a tab to your text, use the character combination **`\\t`:**"
   ]
  },
  {
   "cell_type": "code",
   "execution_count": 153,
   "id": "61fe5ab6-db29-4665-9e7b-47b66426f36b",
   "metadata": {},
   "outputs": [
    {
     "name": "stdout",
     "output_type": "stream",
     "text": [
      "Python\n",
      "\tPython\n"
     ]
    }
   ],
   "source": [
    "print(\"Python\")\n",
    "print(\"\\tPython\")"
   ]
  },
  {
   "cell_type": "markdown",
   "id": "55b6ccdf-d35d-47f2-906d-f3cfa1a8edb1",
   "metadata": {},
   "source": [
    "To add a newline in a string, use the character combination **`\\n`:**"
   ]
  },
  {
   "cell_type": "code",
   "execution_count": 155,
   "id": "6368fb19-614f-412b-a7aa-d5ae2fe67b0e",
   "metadata": {},
   "outputs": [
    {
     "name": "stdout",
     "output_type": "stream",
     "text": [
      "Languages:\n",
      "Python\n",
      "C\n",
      "JavaScript\n"
     ]
    }
   ],
   "source": [
    "print(\"Languages:\\nPython\\nC\\nJavaScript\")"
   ]
  },
  {
   "cell_type": "markdown",
   "id": "5444b09c-ff27-4d24-9a2c-ed46e8c5d382",
   "metadata": {},
   "source": [
    "### **Statements**"
   ]
  },
  {
   "cell_type": "markdown",
   "id": "fad7a8ad-47d6-4dc1-b337-50a939a18f29",
   "metadata": {},
   "source": [
    "> A <span style=\"background:palegreen\">statement</span> is a unit of code that has an effect, but no value.\n",
    "> **For example,** `print(\"Hi!\")` is a statement which prints out a line of text. Likewise, `num = 2` is a statement which assigns a value to a variable, but the statement itself has no value."
   ]
  },
  {
   "cell_type": "markdown",
   "id": "54724c94-6c71-45e8-b30c-5e2c12c865ca",
   "metadata": {},
   "source": [
    "- A statement can also be more complicated. It can, for instance, contain other statements."
   ]
  },
  {
   "cell_type": "code",
   "execution_count": null,
   "id": "d418cae2-1b3d-4193-83c3-283d7f032da6",
   "metadata": {},
   "outputs": [],
   "source": [
    "if name == \"Anna\":\n",
    "    print(\"Hi!\")\n",
    "    number = 2"
   ]
  },
  {
   "cell_type": "markdown",
   "id": "cdc0e403-6cb8-43b1-8226-25114d8b59b7",
   "metadata": {},
   "source": [
    "### **4.3 The input function**"
   ]
  },
  {
   "cell_type": "markdown",
   "id": "ecd9dd39-edcc-4ca4-900d-758b162d91b1",
   "metadata": {},
   "source": [
    "> <span style=\"background:LemonChiffon\">Most programs are written to solve an end user’s problem.</span> To do so, you usually need to get some information from the user. **For example,** say someone wants to find out whether they’re old enough to vote. If you write a program to answer this question, you need to know the user’s age. To do this, you’ll use the **`input()`** function."
   ]
  },
  {
   "cell_type": "markdown",
   "id": "b2f7efb3-7819-4944-b0e1-01b684ddaad5",
   "metadata": {},
   "source": [
    "#### **4.3.1 How the **`input()`** Function Works?**"
   ]
  },
  {
   "cell_type": "markdown",
   "id": "8efd0c1f-420d-4d3a-8ed6-c18df68ca6a7",
   "metadata": {},
   "source": [
    "> The `input()` function pauses your program and waits for the user to enter some text. Once Python receives the user’s input, it assigns that input to a variable to make it convenient for you to work with."
   ]
  },
  {
   "cell_type": "code",
   "execution_count": 157,
   "id": "7a65a028-1295-4cce-bf83-aade5bac52e9",
   "metadata": {},
   "outputs": [
    {
     "name": "stdin",
     "output_type": "stream",
     "text": [
      "Tell me something, and I will repeat it back to you:  Yomna\n"
     ]
    },
    {
     "name": "stdout",
     "output_type": "stream",
     "text": [
      "Yomna\n"
     ]
    }
   ],
   "source": [
    "message = input(\"Tell me something, and I will repeat it back to you: \")\n",
    "print(message)"
   ]
  },
  {
   "cell_type": "markdown",
   "id": "82858e67-265d-4917-8580-21dab6fc7b0b",
   "metadata": {},
   "source": [
    "> - <span style=\"background:LemonChiffon\">The `input()` function takes one argument: the **prompt** that we want to display to the user, so they know what kind of information to enter.</span>\n",
    "> - The program waits while the user enters their response and continues after the user presses *ENTER*. "
   ]
  },
  {
   "cell_type": "markdown",
   "id": "1e7408e7-ee51-42a3-ba24-c3e8961dc2d7",
   "metadata": {},
   "source": [
    "#### **4.3.2 Writing Clear Prompts**"
   ]
  },
  {
   "cell_type": "markdown",
   "id": "a21950d1-1653-48fb-98c5-85187d6344d1",
   "metadata": {},
   "source": [
    "> - Each time you use the `input()` function, you should include a <span style=\"background:LemonChiffon\">\n",
    "clear, easy-to follow prompt that tells the user exactly what kind of information you’re looking for.</span>\n",
    "> - Add a space at the end of your prompts to separate the prompt from the user’s response."
   ]
  },
  {
   "cell_type": "code",
   "execution_count": 159,
   "id": "73d1c07a-030a-41ce-914f-20c713a5f910",
   "metadata": {},
   "outputs": [
    {
     "name": "stdin",
     "output_type": "stream",
     "text": [
      "Please enter your name:  Yomna\n"
     ]
    },
    {
     "name": "stdout",
     "output_type": "stream",
     "text": [
      "\n",
      "Hello, Yomna!\n"
     ]
    }
   ],
   "source": [
    "name = input(\"Please enter your name: \")\n",
    "print(f\"\\nHello, {name}!\")"
   ]
  },
  {
   "cell_type": "markdown",
   "id": "9f7bddc5-322e-443c-bc7d-2be20786e14a",
   "metadata": {},
   "source": [
    "> Sometimes you’ll want to write a prompt that’s <span style=\"background:LemonChiffon\">longer than one line.</span> For example, you might want to tell the user why you’re asking for certain input. You can assign your prompt to a variable and pass that variable to the `input()` function."
   ]
  },
  {
   "cell_type": "code",
   "execution_count": 161,
   "id": "0945d64e-c22c-4506-ac9a-4d7c09e18632",
   "metadata": {},
   "outputs": [],
   "source": [
    "prompt = \"If you share your name, we can personalize the messages you see.\"\n",
    "prompt += \"\\nWhat is your first name? \""
   ]
  },
  {
   "cell_type": "code",
   "execution_count": 163,
   "id": "2850b353-e0f9-4680-87da-b69b6558be93",
   "metadata": {},
   "outputs": [
    {
     "name": "stdin",
     "output_type": "stream",
     "text": [
      "If you share your name, we can personalize the messages you see.\n",
      "What is your first name?  Yomna\n"
     ]
    },
    {
     "name": "stdout",
     "output_type": "stream",
     "text": [
      "\n",
      "Hello, Yomna\n"
     ]
    }
   ],
   "source": [
    "name = input(prompt)\n",
    "print(f\"\\nHello, {name}\")"
   ]
  },
  {
   "cell_type": "markdown",
   "id": "f2ab941f-fddc-4069-936f-d6ae863035be",
   "metadata": {},
   "source": [
    "- This example shows one way to build a multiline string."
   ]
  },
  {
   "cell_type": "markdown",
   "id": "1d5c83a7-1ecb-4361-8a32-38ee0d31874a",
   "metadata": {},
   "source": [
    "#### **4.3.3 Using **`int()`** to Accept Numerical Input**"
   ]
  },
  {
   "cell_type": "markdown",
   "id": "2897daa8-6765-401c-90c6-3ec16141a87c",
   "metadata": {},
   "source": [
    "> When you use the `input()` function, Python interprets everything the user enters as a string."
   ]
  },
  {
   "cell_type": "code",
   "execution_count": 165,
   "id": "7cf3a3ad-90c4-405f-a6d2-e6d30c4612a5",
   "metadata": {},
   "outputs": [
    {
     "name": "stdin",
     "output_type": "stream",
     "text": [
      "How old are you?  40\n"
     ]
    },
    {
     "data": {
      "text/plain": [
       "'40'"
      ]
     },
     "execution_count": 165,
     "metadata": {},
     "output_type": "execute_result"
    }
   ],
   "source": [
    "age = input(\"How old are you? \")\n",
    "age"
   ]
  },
  {
   "cell_type": "markdown",
   "id": "343c9736-760e-462f-a354-1bc34dc0f8ed",
   "metadata": {},
   "source": [
    "> If all you want to do is print the input, this works well. <span style=\"background:LemonChiffon\">\n",
    "But if you try to use the input as a number, you’ll get an error:</span>"
   ]
  },
  {
   "cell_type": "code",
   "execution_count": 167,
   "id": "4edf0128-2e57-42f9-aa42-1ceab3190afd",
   "metadata": {},
   "outputs": [
    {
     "ename": "TypeError",
     "evalue": "unsupported operand type(s) for -: 'str' and 'int'",
     "output_type": "error",
     "traceback": [
      "\u001b[1;31m---------------------------------------------------------------------------\u001b[0m",
      "\u001b[1;31mTypeError\u001b[0m                                 Traceback (most recent call last)",
      "Cell \u001b[1;32mIn[167], line 1\u001b[0m\n\u001b[1;32m----> 1\u001b[0m age \u001b[38;5;241m-\u001b[39m \u001b[38;5;241m10\u001b[39m\n",
      "\u001b[1;31mTypeError\u001b[0m: unsupported operand type(s) for -: 'str' and 'int'"
     ]
    }
   ],
   "source": [
    "age - 10"
   ]
  },
  {
   "cell_type": "markdown",
   "id": "423cf1d2-6dee-4e0b-b64a-9bb2b0daba6e",
   "metadata": {},
   "source": [
    "> We can resolve this issue by using the `int()` function:"
   ]
  },
  {
   "cell_type": "code",
   "execution_count": 169,
   "id": "b0814fec-6070-43fb-9902-22b22cdb00a5",
   "metadata": {},
   "outputs": [
    {
     "name": "stdin",
     "output_type": "stream",
     "text": [
      "How old are you?  45\n"
     ]
    }
   ],
   "source": [
    "age = input(\"How old are you? \")\n",
    "age = int(age)"
   ]
  },
  {
   "cell_type": "code",
   "execution_count": 171,
   "id": "c09053fa-11ff-4508-ac75-b29371e916e7",
   "metadata": {},
   "outputs": [
    {
     "data": {
      "text/plain": [
       "35"
      ]
     },
     "execution_count": 171,
     "metadata": {},
     "output_type": "execute_result"
    }
   ],
   "source": [
    "age - 10"
   ]
  },
  {
   "cell_type": "markdown",
   "id": "b6ec3132-c0f3-4940-afed-66f6e51f6da6",
   "metadata": {},
   "source": [
    "- When you use numerical input to do calculations and comparisons, be sure to convert the input value to a numerical representation first."
   ]
  },
  {
   "cell_type": "markdown",
   "id": "da4bdbf0-188a-487d-8ec8-79393644ae78",
   "metadata": {},
   "source": [
    "# **5. Comments**"
   ]
  },
  {
   "cell_type": "markdown",
   "id": "58e9e1c9-61d3-413b-9865-7fbfe4433280",
   "metadata": {},
   "source": [
    "> As your programs get bigger and more complicated, they get more difficult to read. <span style=\"background:LemonChiffon\">You should add notes within your programs that describe your overall approach to the problem you’re solving.</span> A <span style=\"background:palegreen\">**comment**</span> allows you to write notes in your spoken language, within your programs.<br><br>\n",
    "> The **hash mark (`#`)** indicates a comment. Anything following a hash mark in your code is ignored by the Python interpreter."
   ]
  },
  {
   "cell_type": "markdown",
   "id": "4db0f5a5-19ad-4e44-aa42-fa90ec4a2637",
   "metadata": {},
   "source": [
    "### **5.1 How Do You Write Comments?**"
   ]
  },
  {
   "cell_type": "code",
   "execution_count": 173,
   "id": "dcee5e72-951e-4121-a817-26a47be3b533",
   "metadata": {},
   "outputs": [],
   "source": [
    "# number of seconds in 42:42\n",
    "seconds = 42 * 60 + 42"
   ]
  },
  {
   "cell_type": "markdown",
   "id": "f965d835-f915-43df-80e8-3266f5500fbc",
   "metadata": {},
   "source": [
    "### **5.2 What Kinds of Comments Should You Write?**"
   ]
  },
  {
   "cell_type": "markdown",
   "id": "52f6b413-0905-4d61-a898-df77bb9341c1",
   "metadata": {},
   "source": [
    "> Comments are most useful when they document non-obvious features of the code. It is reasonable to assume that the reader can figure out *what* the code does; it is more useful to explain *why*/*how*."
   ]
  },
  {
   "cell_type": "markdown",
   "id": "203d1cf2-cd74-4ec3-9b31-d4e8e4b06380",
   "metadata": {},
   "source": [
    "This comment is redundant with the code and useless:"
   ]
  },
  {
   "cell_type": "code",
   "execution_count": null,
   "id": "3165583b-d13a-47c6-8ee1-85c00d09db9e",
   "metadata": {},
   "outputs": [],
   "source": [
    "v = 8     # assign 8 to v"
   ]
  },
  {
   "cell_type": "markdown",
   "id": "23e4ff0d-4c8e-4134-a018-1db66df1da02",
   "metadata": {},
   "source": [
    "This comment contains useful information that is not in the code:"
   ]
  },
  {
   "cell_type": "code",
   "execution_count": null,
   "id": "5dfab9a7-ea2a-4ffc-b313-f2221ea3b49c",
   "metadata": {},
   "outputs": [],
   "source": [
    "v = 8     # velocity in miles per hour "
   ]
  },
  {
   "cell_type": "markdown",
   "id": "1244036e-db7e-4227-9ff8-ea95dade1add",
   "metadata": {},
   "source": [
    "Good variable names can reduce the need for comments, but long names can make complex expressions hard to read, so there is a tradeoff."
   ]
  },
  {
   "cell_type": "markdown",
   "id": "2eed089d-0e90-46e8-9d78-efce5caff870",
   "metadata": {},
   "source": [
    "> #### 💡**Tips:** \n",
    "> - Writing good comments can save you time, when you return to a project after some time away.\n",
    "> - If you want to collaborate with other programmers, you should write meaningful comments.\n",
    "> - <span style=\"background:LemonChiffon\"> When you’re deciding whether to write a comment, ask yourself if you had to consider several approaches before coming up with a reasonable way to make something work; if so, write a comment about your solution</span>"
   ]
  }
 ],
 "metadata": {
  "kernelspec": {
   "display_name": "Python 3 (ipykernel)",
   "language": "python",
   "name": "python3"
  },
  "language_info": {
   "codemirror_mode": {
    "name": "ipython",
    "version": 3
   },
   "file_extension": ".py",
   "mimetype": "text/x-python",
   "name": "python",
   "nbconvert_exporter": "python",
   "pygments_lexer": "ipython3",
   "version": "3.12.7"
  },
  "rise": {
   "theme": "sky"
  }
 },
 "nbformat": 4,
 "nbformat_minor": 5
}
