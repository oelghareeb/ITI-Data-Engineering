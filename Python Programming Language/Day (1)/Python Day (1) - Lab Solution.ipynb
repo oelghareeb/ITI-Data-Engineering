{
 "cells": [
  {
   "cell_type": "markdown",
   "id": "63eb0b34",
   "metadata": {},
   "source": [
    "Question 2:"
   ]
  },
  {
   "cell_type": "code",
   "execution_count": null,
   "id": "c9ecb8a8",
   "metadata": {},
   "outputs": [],
   "source": [
    "greeting_message = 'Hello from python lab 1'"
   ]
  },
  {
   "cell_type": "markdown",
   "id": "4d1eaeb4",
   "metadata": {},
   "source": [
    "Question 3:"
   ]
  },
  {
   "cell_type": "code",
   "execution_count": 2,
   "id": "ca534444",
   "metadata": {},
   "outputs": [
    {
     "name": "stdout",
     "output_type": "stream",
     "text": [
      "My favorite number is 7\n"
     ]
    }
   ],
   "source": [
    "fav_num = 7\n",
    "fav_num_massage = f'My favorite number is {fav_num}'\n",
    "print(fav_num_massage)"
   ]
  },
  {
   "cell_type": "markdown",
   "id": "e3d503de",
   "metadata": {},
   "source": [
    "Question 4:"
   ]
  },
  {
   "cell_type": "code",
   "execution_count": 6,
   "id": "6683675c",
   "metadata": {},
   "outputs": [
    {
     "name": "stdout",
     "output_type": "stream",
     "text": [
      "The Sphere Volume is 523.60 centimeters cubic\n"
     ]
    }
   ],
   "source": [
    "import math\n",
    "\n",
    "radius = 5 # measured with centimeters\n",
    "sphere_volume = 4/3*math.pi*radius**3 # measured with centimeters cubic\n",
    "print(f'The Sphere Volume is {sphere_volume:.2f} centimeters cubic')\n"
   ]
  },
  {
   "cell_type": "markdown",
   "id": "518dd601",
   "metadata": {},
   "source": [
    "Question 5:"
   ]
  },
  {
   "cell_type": "code",
   "execution_count": 7,
   "id": "592ed49c",
   "metadata": {},
   "outputs": [
    {
     "name": "stdout",
     "output_type": "stream",
     "text": [
      "42\n",
      "12\n",
      "405\n",
      "1.8\n"
     ]
    }
   ],
   "source": [
    "x = 27\n",
    "y = 15\n",
    "\n",
    "print(x+y)\n",
    "print(x-y)\n",
    "print(x*y)\n",
    "print(x/y)"
   ]
  },
  {
   "cell_type": "markdown",
   "id": "48503e38",
   "metadata": {},
   "source": [
    "Question 6:"
   ]
  },
  {
   "cell_type": "code",
   "execution_count": 11,
   "id": "848154b6",
   "metadata": {},
   "outputs": [
    {
     "name": "stdout",
     "output_type": "stream",
     "text": [
      "172800\n"
     ]
    }
   ],
   "source": [
    "SECONDS_PER_DAY = 24 * 60 * 60 # Hours x mins x seconds\n",
    "num_days = int(input(\"Number of days: \"))\n",
    "days_total_secs= num_days * SECONDS_PER_DAY\n",
    "\n",
    "print(days_total_secs)\n"
   ]
  },
  {
   "cell_type": "markdown",
   "id": "b56bb200",
   "metadata": {},
   "source": [
    "Question 7:"
   ]
  },
  {
   "cell_type": "code",
   "execution_count": 16,
   "id": "89a92089",
   "metadata": {},
   "outputs": [
    {
     "name": "stdout",
     "output_type": "stream",
     "text": [
      "2\n"
     ]
    }
   ],
   "source": [
    "studnets_num = int(input(\"How many students on the course?\"))\n",
    "group_size = int(input(\"Desired group size?\"))\n",
    "number_of_groups = studnets_num / group_size\n",
    "print(round(number_of_groups)) \n"
   ]
  },
  {
   "cell_type": "code",
   "execution_count": null,
   "id": "484f6409",
   "metadata": {},
   "outputs": [
    {
     "name": "stdout",
     "output_type": "stream",
     "text": [
      "2\n"
     ]
    }
   ],
   "source": [
    "# another approcah to maintain all seats for students\n",
    "studnets_num = int(input(\"How many students on the course?\"))\n",
    "group_size = int(input(\"Desired group size?\"))\n",
    "number_of_groups = studnets_num // group_size\n",
    "if number_of_groups * group_size < studnets_num:\n",
    "    number_of_groups +=1\n",
    "print(round(number_of_groups)) \n"
   ]
  }
 ],
 "metadata": {
  "kernelspec": {
   "display_name": "Python 3",
   "language": "python",
   "name": "python3"
  },
  "language_info": {
   "codemirror_mode": {
    "name": "ipython",
    "version": 3
   },
   "file_extension": ".py",
   "mimetype": "text/x-python",
   "name": "python",
   "nbconvert_exporter": "python",
   "pygments_lexer": "ipython3",
   "version": "3.13.0"
  },
  "rise": {
   "theme": "sky"
  }
 },
 "nbformat": 4,
 "nbformat_minor": 5
}
