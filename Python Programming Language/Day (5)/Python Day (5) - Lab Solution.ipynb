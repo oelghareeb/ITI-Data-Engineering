{
 "cells": [
  {
   "cell_type": "markdown",
   "id": "c221896d",
   "metadata": {},
   "source": [
    "#### **Problem 1: File Reader with Exception Handling**"
   ]
  },
  {
   "cell_type": "code",
   "execution_count": null,
   "id": "810839e8",
   "metadata": {},
   "outputs": [],
   "source": [
    "from pathlib import Path\n",
    "\n",
    "def read_file_name():\n",
    "    \"\"\"Read file with a user input name\"\"\"\n",
    "    while True:\n",
    "        file_name = input('Enter file name: ').strip()\n",
    "        file_path = Path(file_name)\n",
    "\n",
    "        try:\n",
    "            contents = file_path.read_text()\n",
    "        except FileNotFoundError:\n",
    "            print(f\"File {file_name} not found.\\n\")\n",
    "        else:\n",
    "            print(contents)\n",
    "            return # Exit if the file successfully read\n",
    "        \n",
    "        again = input(\"Would you like to try again? (yes/no): \").strip().lower() # Normalize input \n",
    "        if again != \"yes\":\n",
    "            return # Exit if the user don't want another try"
   ]
  },
  {
   "cell_type": "code",
   "execution_count": 85,
   "id": "17957ffd",
   "metadata": {},
   "outputs": [
    {
     "name": "stdout",
     "output_type": "stream",
     "text": [
      "3.1415926535\n",
      "  8979323846\n",
      "  2643383279\n",
      "\n"
     ]
    }
   ],
   "source": [
    "read_file_name()"
   ]
  },
  {
   "cell_type": "markdown",
   "id": "62751ffb",
   "metadata": {},
   "source": [
    "#### **Problem 2: Write Data to a File**\n"
   ]
  },
  {
   "cell_type": "markdown",
   "id": "6872dfaf",
   "metadata": {},
   "source": [
    "I want to use the function I created before `read_file_name()` so I modified the code to take optional `file_name` which if `None` the user will be asked to input a name otherwise you can pass it as argument. "
   ]
  },
  {
   "cell_type": "code",
   "execution_count": null,
   "id": "df92e3f0",
   "metadata": {},
   "outputs": [],
   "source": [
    "from pathlib import Path\n",
    "\n",
    "def read_file_name(file_name=None):\n",
    "    \"\"\"Read file with a user input name\"\"\"\n",
    "    while True:\n",
    "        if file_name is None:\n",
    "            file_name = input('Enter file name: ').strip()\n",
    "        file_path = Path(file_name)\n",
    "\n",
    "        try:\n",
    "            contents = file_path.read_text()\n",
    "        except FileNotFoundError:\n",
    "            print(f\"File {file_name} not found.\")\n",
    "        else:\n",
    "            print(contents)\n",
    "            return # Exit if the file successfully read\n",
    "        \n",
    "        again = input(\"Would you like to try again? (yes/no): \").strip().lower() # Normalize input \n",
    "        if again != \"yes\":\n",
    "            return # Exit if the user don't want another try"
   ]
  },
  {
   "cell_type": "code",
   "execution_count": 38,
   "id": "03ba7647",
   "metadata": {},
   "outputs": [
    {
     "name": "stdout",
     "output_type": "stream",
     "text": [
      "3.1415926535\n",
      "  8979323846\n",
      "  2643383279\n",
      "\n"
     ]
    }
   ],
   "source": [
    "read_file_name()"
   ]
  },
  {
   "cell_type": "code",
   "execution_count": null,
   "id": "f753dea9",
   "metadata": {},
   "outputs": [],
   "source": [
    "from pathlib import Path\n",
    "\n",
    "def write_file_name():\n",
    "    \"\"\"write file with a user input name\"\"\"\n",
    "    file_name = input('Enter file name: ').strip()\n",
    "    file_path = Path(file_name)\n",
    "\n",
    "    contents = input(\"Enter text to save: \")\n",
    "    \n",
    "    try:\n",
    "        file_path.write_text(contents)\n",
    "        print(f\"Successfully wrote to '{file_name}'\\n\")\n",
    "        read_file_name(file_name)\n",
    "\n",
    "    except Exception as e: # general approach for catching to handle the error\n",
    "        print(f'Error happend as {e}')\n",
    "\n"
   ]
  },
  {
   "cell_type": "code",
   "execution_count": 43,
   "id": "4f4bcd1d",
   "metadata": {},
   "outputs": [
    {
     "name": "stdout",
     "output_type": "stream",
     "text": [
      "Error happend as [Errno 13] Permission denied: 'pi_digitss.txt'\n"
     ]
    }
   ],
   "source": [
    "write_file_name()"
   ]
  },
  {
   "cell_type": "markdown",
   "id": "eef1d137",
   "metadata": {},
   "source": [
    "The above code is a general way to see the error that encounter your program as I can see the error is `Permission denied` so I can edit my code to catch `Permission denied` rathar than general Exception."
   ]
  },
  {
   "cell_type": "code",
   "execution_count": null,
   "id": "497786ee",
   "metadata": {},
   "outputs": [],
   "source": [
    "from pathlib import Path\n",
    "\n",
    "def write_file_name():\n",
    "    \"\"\"Read file with a user input name\"\"\"\n",
    "    file_name = input('Enter file name: ').strip()\n",
    "    file_path = Path(file_name)\n",
    "\n",
    "    contents = input(\"Enter text to save: \")\n",
    "    \n",
    "    try:\n",
    "        file_path.write_text(contents)\n",
    "        print(f\"Data saved successfully to '{file_name}'\\n\")\n",
    "        print(f'Contents of {file_name}:')\n",
    "        read_file_name(file_name)\n",
    "\n",
    "    except PermissionError:\n",
    "        print(f'Error: Permission denied to write to {file_path.absolute()}')\n",
    "\n"
   ]
  },
  {
   "cell_type": "code",
   "execution_count": 49,
   "id": "21719a9f",
   "metadata": {},
   "outputs": [
    {
     "name": "stdout",
     "output_type": "stream",
     "text": [
      "Data saved successfully to 'notes.txt'\n",
      "\n",
      "Contents of notes.txt:\n",
      "This is a note.\n"
     ]
    }
   ],
   "source": [
    "write_file_name()"
   ]
  },
  {
   "cell_type": "markdown",
   "id": "c8da36dd",
   "metadata": {},
   "source": [
    "#### **Problem 3: Store Data in JSON Format**"
   ]
  },
  {
   "cell_type": "code",
   "execution_count": 50,
   "id": "9f7ebcda",
   "metadata": {},
   "outputs": [],
   "source": [
    "data = {\n",
    "    \"name\": \"Alice\",\n",
    "    \"age\": 25,\n",
    "    \"city\": \"New York\"\n",
    "}"
   ]
  },
  {
   "cell_type": "code",
   "execution_count": null,
   "id": "c6b9353f",
   "metadata": {},
   "outputs": [],
   "source": [
    "import json\n",
    "from pathlib import Path\n",
    "\n",
    "def json_save(data):\n",
    "    \"\"\"Save the data as a json file\"\"\"\n",
    "    file_name = input('Enter file name: ').strip()\n",
    "    file_path = Path(file_name)\n",
    "    contents = json.dumps(data)\n",
    "    file_path.write_text(contents)\n",
    "    print(f\"Data saved successfully to {file_name}\")\n",
    "\n",
    "    print(f\"Contents of {file_name}\")\n",
    "    contents = file_path.read_text()\n",
    "    print(contents)"
   ]
  },
  {
   "cell_type": "code",
   "execution_count": 93,
   "id": "1376747b",
   "metadata": {},
   "outputs": [
    {
     "ename": "PermissionError",
     "evalue": "[Errno 13] Permission denied: 'data.json'",
     "output_type": "error",
     "traceback": [
      "\u001b[31m---------------------------------------------------------------------------\u001b[39m",
      "\u001b[31mPermissionError\u001b[39m                           Traceback (most recent call last)",
      "\u001b[36mCell\u001b[39m\u001b[36m \u001b[39m\u001b[32mIn[93]\u001b[39m\u001b[32m, line 1\u001b[39m\n\u001b[32m----> \u001b[39m\u001b[32m1\u001b[39m \u001b[43mjson_save\u001b[49m\u001b[43m(\u001b[49m\u001b[43mdata\u001b[49m\u001b[43m)\u001b[49m\n",
      "\u001b[36mCell\u001b[39m\u001b[36m \u001b[39m\u001b[32mIn[92]\u001b[39m\u001b[32m, line 8\u001b[39m, in \u001b[36mjson_save\u001b[39m\u001b[34m(data)\u001b[39m\n\u001b[32m      6\u001b[39m file_path = Path(file_name)\n\u001b[32m      7\u001b[39m contents = json.dumps(data)\n\u001b[32m----> \u001b[39m\u001b[32m8\u001b[39m \u001b[43mfile_path\u001b[49m\u001b[43m.\u001b[49m\u001b[43mwrite_text\u001b[49m\u001b[43m(\u001b[49m\u001b[43mcontents\u001b[49m\u001b[43m)\u001b[49m\n\u001b[32m      9\u001b[39m \u001b[38;5;28mprint\u001b[39m(\u001b[33mf\u001b[39m\u001b[33m\"\u001b[39m\u001b[33mData saved successfully to \u001b[39m\u001b[38;5;132;01m{\u001b[39;00mfile_name\u001b[38;5;132;01m}\u001b[39;00m\u001b[33m\"\u001b[39m)\n\u001b[32m     11\u001b[39m \u001b[38;5;28mprint\u001b[39m(\u001b[33mf\u001b[39m\u001b[33m\"\u001b[39m\u001b[33mContents of \u001b[39m\u001b[38;5;132;01m{\u001b[39;00mfile_name\u001b[38;5;132;01m}\u001b[39;00m\u001b[33m\"\u001b[39m)\n",
      "\u001b[36mFile \u001b[39m\u001b[32mc:\\Users\\cw\\AppData\\Local\\Programs\\Python\\Python313\\Lib\\pathlib\\_local.py:555\u001b[39m, in \u001b[36mPath.write_text\u001b[39m\u001b[34m(self, data, encoding, errors, newline)\u001b[39m\n\u001b[32m    552\u001b[39m \u001b[38;5;66;03m# Call io.text_encoding() here to ensure any warning is raised at an\u001b[39;00m\n\u001b[32m    553\u001b[39m \u001b[38;5;66;03m# appropriate stack level.\u001b[39;00m\n\u001b[32m    554\u001b[39m encoding = io.text_encoding(encoding)\n\u001b[32m--> \u001b[39m\u001b[32m555\u001b[39m \u001b[38;5;28;01mreturn\u001b[39;00m \u001b[43mPathBase\u001b[49m\u001b[43m.\u001b[49m\u001b[43mwrite_text\u001b[49m\u001b[43m(\u001b[49m\u001b[38;5;28;43mself\u001b[39;49m\u001b[43m,\u001b[49m\u001b[43m \u001b[49m\u001b[43mdata\u001b[49m\u001b[43m,\u001b[49m\u001b[43m \u001b[49m\u001b[43mencoding\u001b[49m\u001b[43m,\u001b[49m\u001b[43m \u001b[49m\u001b[43merrors\u001b[49m\u001b[43m,\u001b[49m\u001b[43m \u001b[49m\u001b[43mnewline\u001b[49m\u001b[43m)\u001b[49m\n",
      "\u001b[36mFile \u001b[39m\u001b[32mc:\\Users\\cw\\AppData\\Local\\Programs\\Python\\Python313\\Lib\\pathlib\\_abc.py:651\u001b[39m, in \u001b[36mPathBase.write_text\u001b[39m\u001b[34m(self, data, encoding, errors, newline)\u001b[39m\n\u001b[32m    648\u001b[39m \u001b[38;5;28;01mif\u001b[39;00m \u001b[38;5;129;01mnot\u001b[39;00m \u001b[38;5;28misinstance\u001b[39m(data, \u001b[38;5;28mstr\u001b[39m):\n\u001b[32m    649\u001b[39m     \u001b[38;5;28;01mraise\u001b[39;00m \u001b[38;5;167;01mTypeError\u001b[39;00m(\u001b[33m'\u001b[39m\u001b[33mdata must be str, not \u001b[39m\u001b[38;5;132;01m%s\u001b[39;00m\u001b[33m'\u001b[39m %\n\u001b[32m    650\u001b[39m                     data.\u001b[34m__class__\u001b[39m.\u001b[34m__name__\u001b[39m)\n\u001b[32m--> \u001b[39m\u001b[32m651\u001b[39m \u001b[38;5;28;01mwith\u001b[39;00m \u001b[38;5;28;43mself\u001b[39;49m\u001b[43m.\u001b[49m\u001b[43mopen\u001b[49m\u001b[43m(\u001b[49m\u001b[43mmode\u001b[49m\u001b[43m=\u001b[49m\u001b[33;43m'\u001b[39;49m\u001b[33;43mw\u001b[39;49m\u001b[33;43m'\u001b[39;49m\u001b[43m,\u001b[49m\u001b[43m \u001b[49m\u001b[43mencoding\u001b[49m\u001b[43m=\u001b[49m\u001b[43mencoding\u001b[49m\u001b[43m,\u001b[49m\u001b[43m \u001b[49m\u001b[43merrors\u001b[49m\u001b[43m=\u001b[49m\u001b[43merrors\u001b[49m\u001b[43m,\u001b[49m\u001b[43m \u001b[49m\u001b[43mnewline\u001b[49m\u001b[43m=\u001b[49m\u001b[43mnewline\u001b[49m\u001b[43m)\u001b[49m \u001b[38;5;28;01mas\u001b[39;00m f:\n\u001b[32m    652\u001b[39m     \u001b[38;5;28;01mreturn\u001b[39;00m f.write(data)\n",
      "\u001b[36mFile \u001b[39m\u001b[32mc:\\Users\\cw\\AppData\\Local\\Programs\\Python\\Python313\\Lib\\pathlib\\_local.py:537\u001b[39m, in \u001b[36mPath.open\u001b[39m\u001b[34m(self, mode, buffering, encoding, errors, newline)\u001b[39m\n\u001b[32m    535\u001b[39m \u001b[38;5;28;01mif\u001b[39;00m \u001b[33m\"\u001b[39m\u001b[33mb\u001b[39m\u001b[33m\"\u001b[39m \u001b[38;5;129;01mnot\u001b[39;00m \u001b[38;5;129;01min\u001b[39;00m mode:\n\u001b[32m    536\u001b[39m     encoding = io.text_encoding(encoding)\n\u001b[32m--> \u001b[39m\u001b[32m537\u001b[39m \u001b[38;5;28;01mreturn\u001b[39;00m \u001b[43mio\u001b[49m\u001b[43m.\u001b[49m\u001b[43mopen\u001b[49m\u001b[43m(\u001b[49m\u001b[38;5;28;43mself\u001b[39;49m\u001b[43m,\u001b[49m\u001b[43m \u001b[49m\u001b[43mmode\u001b[49m\u001b[43m,\u001b[49m\u001b[43m \u001b[49m\u001b[43mbuffering\u001b[49m\u001b[43m,\u001b[49m\u001b[43m \u001b[49m\u001b[43mencoding\u001b[49m\u001b[43m,\u001b[49m\u001b[43m \u001b[49m\u001b[43merrors\u001b[49m\u001b[43m,\u001b[49m\u001b[43m \u001b[49m\u001b[43mnewline\u001b[49m\u001b[43m)\u001b[49m\n",
      "\u001b[31mPermissionError\u001b[39m: [Errno 13] Permission denied: 'data.json'"
     ]
    }
   ],
   "source": [
    "json_save(data)"
   ]
  },
  {
   "cell_type": "markdown",
   "id": "27313336",
   "metadata": {},
   "source": [
    "```plaintext\n",
    "BaseException\n",
    " ├── Exception\n",
    " │   ├── OSError  <-- Replaces IOError\n",
    " │   │   ├── FileNotFoundError\n",
    " │   │   ├── PermissionError  <-- (I/O-related)\n",
    " │   │   ├── IsADirectoryError\n",
    " │   │   ├── NotADirectoryError\n",
    " ```\n",
    "\n",
    "\n",
    "So here we enconter `IOError` which is moved to `PermissionError` which is a subclass of `OSError`, which replaced `IOError` in Python 3.3+."
   ]
  },
  {
   "cell_type": "markdown",
   "id": "bf077288",
   "metadata": {},
   "source": [
    "Handling it using exceptions in python\n"
   ]
  },
  {
   "cell_type": "code",
   "execution_count": null,
   "id": "d0634559",
   "metadata": {},
   "outputs": [],
   "source": [
    "import json\n",
    "from pathlib import Path\n",
    "\n",
    "def json_save(data):\n",
    "    \"\"\"Save the data as a json file\"\"\"\n",
    "    file_name = input('Enter file name: ').strip()\n",
    "    file_path = Path(file_name)\n",
    "    contents = json.dumps(data)\n",
    "    try:\n",
    "        file_path.write_text(contents)\n",
    "        print(f\"Data saved successfully to {file_name}\")\n",
    "\n",
    "        print(f\"Contents of {file_name}\")\n",
    "        contents = file_path.read_text()\n",
    "        print(contents)\n",
    "\n",
    "    except IOError:\n",
    "        print(f\"File {file_name} has an issue with I/O. Check permissions.\")\n",
    "\n"
   ]
  },
  {
   "cell_type": "code",
   "execution_count": 95,
   "id": "786beb90",
   "metadata": {},
   "outputs": [
    {
     "name": "stdout",
     "output_type": "stream",
     "text": [
      "File data.json has an issue with I/O. Check permissions.\n"
     ]
    }
   ],
   "source": [
    "json_save(data)"
   ]
  },
  {
   "cell_type": "markdown",
   "id": "ea873aec",
   "metadata": {},
   "source": [
    "#### **Problem 4: Complete Workflow**"
   ]
  },
  {
   "cell_type": "code",
   "execution_count": 97,
   "id": "08d3c00d",
   "metadata": {},
   "outputs": [
    {
     "name": "stdout",
     "output_type": "stream",
     "text": [
      "Main Menu:\n",
      "1. Read a file\n",
      "2. Write to a file\n",
      "3. Save data to JSON\n",
      "4. Exit\n",
      "\n",
      "Data saved successfully to data_1.json\n",
      "Contents of data_1.json\n",
      "{\"name\": \"Alice\", \"age\": 25, \"city\": \"New York\"}\n",
      "Main Menu:\n",
      "1. Read a file\n",
      "2. Write to a file\n",
      "3. Save data to JSON\n",
      "4. Exit\n",
      "\n",
      "Goodbye!\n"
     ]
    }
   ],
   "source": [
    "while True:\n",
    "    print('Main Menu:\\n1. Read a file\\n2. Write to a file\\n3. Save data to JSON\\n4. Exit\\n')\n",
    "    choice = input('Choose an option: ').strip()\n",
    "    \n",
    "    if choice == '1':\n",
    "        read_file_name()\n",
    "    elif choice == '2':\n",
    "        write_file_name()\n",
    "    elif choice == '3':\n",
    "        json_save(data)\n",
    "    elif choice == '4':\n",
    "        print('Goodbye!')\n",
    "        break\n",
    "    else:\n",
    "        print('Invalid choice please try agian')"
   ]
  },
  {
   "cell_type": "markdown",
   "id": "3bc15f32",
   "metadata": {},
   "source": [
    "#### **Problem 5: Validate User Inputs**"
   ]
  },
  {
   "cell_type": "markdown",
   "id": "8852f0b3",
   "metadata": {},
   "source": [
    "with the help or regular expression to validate emails\n",
    "\n",
    "`/^([a-zA-Z0-9._%-]+@[a-zA-Z0-9.-]+\\.[a-zA-Z]{2,})$/`\n",
    "\n",
    "which\n",
    "\n",
    "- `^` - The beginning of the string.\n",
    "- `(` - Start of a capturing group.\n",
    "- `[a-zA-Z0-9._%-]+` - Matches one or more of the following characters: letters (both uppercase and lowercase), numbers, periods, underscores, percent signs, and hyphens.\n",
    "- `@` - Matches the “@” symbol.\n",
    "- `[a-zA-Z0-9.-]+` - Matches one or more of the following characters: letters (both uppercase and lowercase), numbers, periods, and hyphens.\n",
    "- `\\.` - Matches a literal period character.\n",
    "- `[a-zA-Z]{2,}` - Matches two or more letters (both uppercase and lowercase).\n",
    "- `)` - End of the capturing group.\n",
    "- `$` - The end of the string.\n",
    "\n",
    "This regular expression matches email addresses that are properly formatted according to the rules we discussed earlier. Specifically, it matches email addresses that have a valid local part and a valid domain part, separated by an `\"@\"` symbol.\n",
    "\n",
    "Source for this help: https://saturncloud.io/blog/how-can-i-validate-an-email-address-using-a-regular-expression/\n",
    "\n",
    "validate through: https://regexr.com/3e48o\n",
    "\n"
   ]
  },
  {
   "cell_type": "code",
   "execution_count": null,
   "id": "fbbba3fd",
   "metadata": {},
   "outputs": [],
   "source": [
    "import re\n",
    "\n",
    "def validate_name(name):\n",
    "    \"\"\"Validate the name which is alphanumeric and spaces\"\"\"\n",
    "    return name.replace(\" \", \"\").isalpha()\n",
    "\n",
    "def validate_age(age):\n",
    "    \"\"\"Validate the age to be integer and positive\"\"\"\n",
    "    try:\n",
    "        age = int(age)  # First check, ensure it can be converted to an integer\n",
    "    except ValueError:\n",
    "        print(\"Error: Age must be a valid integer.\")\n",
    "        return False  # Return early if conversion fails\n",
    "\n",
    "    if age <= 0:  # Second check if it's positive\n",
    "        print(\"Error: Age must be a positive integer.\")\n",
    "        return False\n",
    "\n",
    "    return True  # If both checks pass, return True\n",
    "\n",
    "\n",
    "def validate_email(email):\n",
    "    \"\"\"Validate the email to be with universal naming contrains\"\"\"\n",
    "    pattern = r\"^([a-zA-Z0-9._%-]+@[a-zA-Z0-9.-]+\\.[a-zA-Z]{2,})$\"\n",
    "    return re.match(pattern, email) is not None\n"
   ]
  },
  {
   "cell_type": "code",
   "execution_count": 116,
   "id": "59fa8768",
   "metadata": {},
   "outputs": [
    {
     "ename": "ValueError",
     "evalue": "invalid literal for int() with base 10: 'Omar'",
     "output_type": "error",
     "traceback": [
      "\u001b[31m---------------------------------------------------------------------------\u001b[39m",
      "\u001b[31mValueError\u001b[39m                                Traceback (most recent call last)",
      "\u001b[36mCell\u001b[39m\u001b[36m \u001b[39m\u001b[32mIn[116]\u001b[39m\u001b[32m, line 1\u001b[39m\n\u001b[32m----> \u001b[39m\u001b[32m1\u001b[39m \u001b[38;5;28;43mint\u001b[39;49m\u001b[43m(\u001b[49m\u001b[33;43m\"\u001b[39;49m\u001b[33;43mOmar\u001b[39;49m\u001b[33;43m\"\u001b[39;49m\u001b[43m)\u001b[49m\n",
      "\u001b[31mValueError\u001b[39m: invalid literal for int() with base 10: 'Omar'"
     ]
    }
   ],
   "source": [
    "int(\"Omar\")"
   ]
  },
  {
   "cell_type": "code",
   "execution_count": null,
   "id": "b9cf755e",
   "metadata": {},
   "outputs": [],
   "source": [
    "def get_user_input():\n",
    "    \"\"\"Validate the user input\"\"\"\n",
    "    while True:\n",
    "        name = input(\"Enter your name: \").strip()\n",
    "        if validate_name(name):\n",
    "            break\n",
    "        print(\"Invalid name! Please enter alphabetic characters and spaces only.\")\n",
    "\n",
    "    while True:\n",
    "        age = input(\"Enter your age: \").strip()\n",
    "        if validate_age(age):\n",
    "            age = int(age) # conversion for later to print the valid data type\n",
    "            break\n",
    "\n",
    "    while True:\n",
    "        email = input(\"Enter your email: \").strip()\n",
    "        if validate_email(email):\n",
    "            break\n",
    "        print(\"Error: Email must follow certain naming conventions.\")\n",
    "    \n",
    "    print(\"Validated Data:\")\n",
    "    print(f\"Name: {name}\\nAge: {age}\\nEmail: {email}\")\n",
    "\n"
   ]
  },
  {
   "cell_type": "code",
   "execution_count": 114,
   "id": "f3ae4853",
   "metadata": {},
   "outputs": [
    {
     "name": "stdout",
     "output_type": "stream",
     "text": [
      "Error: Age must be a valid integer.\n",
      "Error: Age must be a valid integer.\n",
      "Error: Age must be a positive integer.\n",
      "Validated Data:\n",
      "Name: Omar\n",
      "Age: 26\n",
      "Email: Oelghareeb@gmail.com\n"
     ]
    }
   ],
   "source": [
    "get_user_input()"
   ]
  },
  {
   "cell_type": "markdown",
   "id": "00fde7df",
   "metadata": {},
   "source": [
    "#### **Bonus Task**\n"
   ]
  },
  {
   "cell_type": "markdown",
   "id": "91f9717e",
   "metadata": {},
   "source": [
    "We can use some of the previous func for validation and create new funcs for the new ones. And we can use the same `json_save()` as we are already create it before. "
   ]
  },
  {
   "cell_type": "code",
   "execution_count": null,
   "id": "d3f73b79",
   "metadata": {},
   "outputs": [],
   "source": [
    "def validate_city(city):\n",
    "    \"\"\"Validate the city to be non-empty or just spaces\"\"\"\n",
    "    return len(city) > 0 # checking if city is not empty string stripping in the input"
   ]
  },
  {
   "cell_type": "code",
   "execution_count": null,
   "id": "20882c65",
   "metadata": {},
   "outputs": [],
   "source": [
    "def get_user_data_json():\n",
    "    \"\"\"Save the input data from the user as json file\"\"\"\n",
    "\n",
    "    while True:\n",
    "        name = input(\"Enter your name: \").strip()\n",
    "        if validate_name(name):\n",
    "            break\n",
    "        print(\"Invalid name! Please enter alphabetic characters and spaces only.\")\n",
    "\n",
    "    while True:\n",
    "        age = input(\"Enter your age: \").strip()\n",
    "        if validate_age(age):\n",
    "            age = int(age) # conversion for later to print the valid data type\n",
    "            break\n",
    "\n",
    "    while True:\n",
    "        city = input(\"Enter your city: \").strip()\n",
    "        if validate_city(city):\n",
    "            break\n",
    "        print(\"Error: City can not be empty string.\")\n",
    "    \n",
    "    return {\"name\": name, \"age\": age, \"city\": city}"
   ]
  },
  {
   "cell_type": "code",
   "execution_count": 125,
   "id": "45478f22",
   "metadata": {},
   "outputs": [
    {
     "name": "stdout",
     "output_type": "stream",
     "text": [
      "Error: City can not be empty string.\n",
      "Error: City can not be empty string.\n",
      "Error: City can not be empty string.\n",
      "Error: City can not be empty string.\n",
      "Error: City can not be empty string.\n",
      "Error: City can not be empty string.\n",
      "{'name': 'Omar', 'age': 26, 'city': 'Zagazig'}\n"
     ]
    }
   ],
   "source": [
    "print(get_user_data_json())"
   ]
  },
  {
   "cell_type": "code",
   "execution_count": 127,
   "id": "16e2cd65",
   "metadata": {},
   "outputs": [
    {
     "name": "stdout",
     "output_type": "stream",
     "text": [
      "Data saved successfully to My_information.json\n",
      "Contents of My_information.json\n",
      "{\"name\": \"Omar\", \"age\": 26, \"city\": \"Zagazig\"}\n"
     ]
    }
   ],
   "source": [
    "user_data = get_user_data_json()\n",
    "json_save(user_data)"
   ]
  },
  {
   "cell_type": "code",
   "execution_count": null,
   "id": "ed428676",
   "metadata": {},
   "outputs": [],
   "source": []
  }
 ],
 "metadata": {
  "kernelspec": {
   "display_name": "Python 3",
   "language": "python",
   "name": "python3"
  },
  "language_info": {
   "codemirror_mode": {
    "name": "ipython",
    "version": 3
   },
   "file_extension": ".py",
   "mimetype": "text/x-python",
   "name": "python",
   "nbconvert_exporter": "python",
   "pygments_lexer": "ipython3",
   "version": "3.13.0"
  },
  "rise": {
   "theme": "sky"
  }
 },
 "nbformat": 4,
 "nbformat_minor": 5
}
