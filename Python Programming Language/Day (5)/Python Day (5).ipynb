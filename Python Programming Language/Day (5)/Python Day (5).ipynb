{
 "cells": [
  {
   "cell_type": "markdown",
   "id": "d49dbc1b-e612-40a2-8513-bbe3466bfd4b",
   "metadata": {},
   "source": [
    "## **1. Introduction to Files**"
   ]
  },
  {
   "cell_type": "markdown",
   "id": "e154b712-ae61-44dc-9984-9be4a15cae48",
   "metadata": {},
   "source": [
    "> - Learning to work with files and save data will make your programs easier for people to use.\n",
    ">\n",
    "> - <span style=\"background:LemonChiffon\">People will be able to run your program, do some work, and then close the program and pick up where they left off.\n",
    "> - An incredible amount of data is available in text files. Text files can contain weather data, literary works, and more.\n",
    "> - Reading from a file is particularly useful in data analysis, but it’s also applicable to any situation in which you want to analyze or modify information stored in a file."
   ]
  },
  {
   "cell_type": "markdown",
   "id": "2d196a18-0587-4909-9ec9-a26c5ecf0143",
   "metadata": {},
   "source": [
    "### **Reading from a File**"
   ]
  },
  {
   "cell_type": "markdown",
   "id": "1c8d4148-ca6d-4798-8314-74dec497ffc4",
   "metadata": {},
   "source": [
    "> When you want to work with the information in a text file, <span style=\"background:LemonChiffon\">the first step is to read the file into memory"
   ]
  },
  {
   "cell_type": "markdown",
   "id": "c91ea86a-41fb-4892-8980-124b84dfffd3",
   "metadata": {},
   "source": [
    "#### **Reading the Contents of a File**"
   ]
  },
  {
   "cell_type": "markdown",
   "id": "58b080b0-7d5e-44dc-b709-f309fb36e993",
   "metadata": {},
   "source": [
    "> - Let’s start with a file that contains pi to 30 decimal places, with 10 decimal places per line.\n",
    "> - Here’s a program that **opens** this file, **reads** it, and **prints** the contents of the file to the screen:"
   ]
  },
  {
   "cell_type": "code",
   "execution_count": null,
   "id": "5933fef4-13af-441b-9ea7-6936142fc403",
   "metadata": {},
   "outputs": [],
   "source": [
    "from pathlib import Path"
   ]
  },
  {
   "cell_type": "markdown",
   "id": "98f08173-6a01-4d0e-b1c3-f795e554d2ed",
   "metadata": {},
   "source": [
    "> - we need to tell Python the **path to the file**. A **path** is <span style=\"background:LemonChiffon\">the exact location of a file or folder on a system.\n",
    ">   \n",
    "> - Python provides a module called **`pathlib`** that makes it easier to work with files, no matter which operating system you or your program’s users are working with.\n",
    "     - Importing the **`Path`** class from **`pathlib`**\n",
    "     - There’s a lot you can do with a **`Path`** object that points to a file. <span style=\"background:LemonChiffon\">For example, you can check that the file exists before working with it, read the file’s contents, or write new data to the file.<br><br>\n",
    "> - we build a `Path` object representing the file `pi_digits.txt`, which we assign to the variable `path`.\n",
    "> - <span style=\"background:LemonChiffon\">Since this file is saved in the same directory as this file we’re writing, the filename is all that `Path` needs to access the file."
   ]
  },
  {
   "cell_type": "code",
   "execution_count": null,
   "id": "0170ddbe-d415-48ae-b896-7fbb30f0650b",
   "metadata": {},
   "outputs": [],
   "source": [
    "path = Path('pi_digits.txt')\n",
    "contents = path.read_text()                                                                                                                                                                                                                                                                                                                                                                                                                                                                                                                                                                                                                                                                                                                                                                                      \n",
    "print(contents)"
   ]
  },
  {
   "cell_type": "markdown",
   "id": "b465a14a-db4b-4837-b685-a05c4a08f9da",
   "metadata": {},
   "source": [
    "> - we use the **`read_text()`** method to read the entire contents of the file. <span style=\"background:LemonChiffon\">\n",
    "The contents of the file are returned as a single string, which we assign to the variable `contents`.\n",
    "> - The only difference between this output and the original file is the extra blank line at the end of the output.\n",
    "> - We can remove the extra blank line by using **`rstrip()`** on the contents string:"
   ]
  },
  {
   "cell_type": "code",
   "execution_count": null,
   "id": "e2d0dd6e-d941-43a5-9838-4271747115eb",
   "metadata": {},
   "outputs": [],
   "source": [
    "path = Path('pi_digits.txt')\n",
    "contents = path.read_text()\n",
    "contents = contents.rstrip()\n",
    "print(contents)"
   ]
  },
  {
   "cell_type": "markdown",
   "id": "8b8a7004-8d43-443d-ba98-aab8445a5ee7",
   "metadata": {},
   "source": [
    "> - We can strip the newline character when we read the contents of the file, by applying the **`rstrip()`** method after calling **`read_text()`**:"
   ]
  },
  {
   "cell_type": "code",
   "execution_count": null,
   "id": "08bfa83f-a300-4961-b00a-8f3cb5d78a51",
   "metadata": {},
   "outputs": [],
   "source": [
    "contents = path.read_text().rstrip() # This approach is called method chaining"
   ]
  },
  {
   "cell_type": "markdown",
   "id": "269aab37-c463-4564-b619-8aed21ae0307",
   "metadata": {},
   "source": [
    "#### **Relative and Absolute File Paths**"
   ]
  },
  {
   "cell_type": "markdown",
   "id": "85a999f2-dced-4685-9ec4-2b94a2883397",
   "metadata": {},
   "source": [
    "> - When you pass a simple filename like `pi_digits.txt` to `Path`, Python looks in the directory where the file that’s currently being executed.\n",
    "> - Sometimes, the file you want to open won’t be in the same directory as your program file.\n",
    "> - Python will only look in \"**Day (5)**\" and stop there.\n",
    "> - There are two main ways to specify paths:\n",
    "    - <span style=\"background:palegreen\">relative</span> file path tells Python to look for a given location relative to the directory where this running program file is stored."
   ]
  },
  {
   "cell_type": "code",
   "execution_count": null,
   "id": "85d0a54f-5639-48fe-b44d-c3d6d57d1566",
   "metadata": {},
   "outputs": [],
   "source": [
    "path = Path('Lecture5_files/pi_digits_relative.txt')\n",
    "contents = path.read_text().rstrip()\n",
    "print(contents)"
   ]
  },
  {
   "cell_type": "markdown",
   "id": "ccbe7ebd-7e20-41c5-baf1-438aefa742c2",
   "metadata": {},
   "source": [
    "> - To Python exactly where the file is on your computer, regardless of where the program that’s being executed is stored, this is the <span style=\"background:palegreen\">absolute file path"
   ]
  },
  {
   "cell_type": "code",
   "execution_count": null,
   "id": "18fc247f-c894-4e10-aac8-18dce99245c2",
   "metadata": {},
   "outputs": [],
   "source": [
    "path = Path('C:/Users/Mostafag/Desktop/Python_Content/pi_digits_abs.txt')\n",
    "contents = path.read_text().rstrip()\n",
    "print(contents)"
   ]
  },
  {
   "cell_type": "markdown",
   "id": "0bf596a6-3f81-470e-b6e8-8054f49a7c85",
   "metadata": {},
   "source": [
    "> - For now it’s easiest to store files in the same directory as your program files, or in a folder such as Lecture5_files within the directory that stores your program files."
   ]
  },
  {
   "cell_type": "markdown",
   "id": "42c63830-a708-4688-bb11-99e1fcfc94df",
   "metadata": {},
   "source": [
    "#### 📝 **Note**\n",
    "> - <span style=\"background:LavenderBlush\">Windows systems use a **backslash (\\\\)** instead of a **forward slash (/)** when displaying file paths, but you should use forward slashes in your code, even on Windows. The `pathlib` library will automatically use the correct representation of the path when it interacts with your system, or any user’s system.</span>"
   ]
  },
  {
   "cell_type": "markdown",
   "id": "6a0fe093-bcf8-40f3-a184-29d2cf73eea5",
   "metadata": {},
   "source": [
    "#### **Accessing a File’s Lines**"
   ]
  },
  {
   "cell_type": "markdown",
   "id": "302de695-d573-4668-8ae9-c7d01345d6e4",
   "metadata": {},
   "source": [
    "> - You might want to read through a file of weather data and work with any line that includes the word *sunny* in the description of that day’s weather.\n",
    "> - You can use the **`splitlines()`** method to <span style=\"background:LemonChiffon\">return a long string into a set of lines, and then use a for loop to examine each line from a file, one at a time:</span>"
   ]
  },
  {
   "cell_type": "code",
   "execution_count": null,
   "id": "25b01298-5a84-45d1-82f3-d94d42d6c16a",
   "metadata": {},
   "outputs": [],
   "source": [
    "path = Path('pi_digits.txt')\n",
    "contents = path.read_text()\n",
    "lines = contents.splitlines()"
   ]
  },
  {
   "cell_type": "markdown",
   "id": "9533ada1-9e29-457f-b04e-30526e5dc57c",
   "metadata": {},
   "source": [
    "> - If you’re planning to work with the individual lines in a file, you don’t need to strip any whitespace when reading the file.\n",
    "> - The **`splitlines()`** method returns a list of all lines in the file, and we assign this list to the variable lines."
   ]
  },
  {
   "cell_type": "code",
   "execution_count": null,
   "id": "ecf9b78f-235b-46dc-b870-7294f908534b",
   "metadata": {},
   "outputs": [],
   "source": [
    "print(lines)"
   ]
  },
  {
   "cell_type": "code",
   "execution_count": null,
   "id": "d037b683-cb72-4dcb-8cf1-28d754de1889",
   "metadata": {},
   "outputs": [],
   "source": [
    "for line in lines:\n",
    "    print(line)"
   ]
  },
  {
   "cell_type": "markdown",
   "id": "68d92a40-8c64-46ac-aafe-ce8c93026cfc",
   "metadata": {},
   "source": [
    "#### **Working with a File’s Contents**"
   ]
  },
  {
   "cell_type": "markdown",
   "id": "ac5e5750-6ac1-4343-897d-4a080779b9eb",
   "metadata": {},
   "source": [
    "> After you’ve read the contents of a file into memory, you can do whatever you want with that data."
   ]
  },
  {
   "cell_type": "code",
   "execution_count": null,
   "id": "e1305d4d-9a5b-48a3-8ad2-3b8fd64be699",
   "metadata": {},
   "outputs": [],
   "source": [
    "pi_string = ''\n",
    "\n",
    "for line in lines:\n",
    "    pi_string += line\n",
    "    \n",
    "print(pi_string)\n",
    "print(len(pi_string))"
   ]
  },
  {
   "cell_type": "markdown",
   "id": "eba5b359-c7f1-4b21-8e75-eec18229da06",
   "metadata": {},
   "source": [
    "> The variable `pi_string` contains the whitespace that was on the left side of the digits in each line, but we can get rid of that by using `lstrip()` on each line:"
   ]
  },
  {
   "cell_type": "code",
   "execution_count": null,
   "id": "c8a0176a-75cb-4d56-9c09-9499e7de1148",
   "metadata": {},
   "outputs": [],
   "source": [
    "pi_string = ''\n",
    "\n",
    "for line in lines:\n",
    "    pi_string += line.lstrip()\n",
    "    \n",
    "print(pi_string)\n",
    "print(len(pi_string))"
   ]
  },
  {
   "cell_type": "markdown",
   "id": "c21127c0-caa8-43de-bfc6-528a30b79173",
   "metadata": {},
   "source": [
    "#### 📝 **Note**\n",
    "> - <span style=\"background:LavenderBlush\">When Python reads from a text file, it interprets all text in the file as a string. If you read in a number and want to work with that value in a numerical context, you’ll have to convert it to an integer using the `int()` function or a float using the `float()` function."
   ]
  },
  {
   "cell_type": "markdown",
   "id": "0fcb39a5-6097-4a43-a820-9fb5ac6453ab",
   "metadata": {},
   "source": [
    "#### **Large Files: One Million Digits**"
   ]
  },
  {
   "cell_type": "markdown",
   "id": "41028278-eaa4-46ab-9f52-9f286e025bd9",
   "metadata": {},
   "source": [
    "> - So far, we’ve focused on analyzing a text file that contains only three lines, but the code in these examples would work just as well on much larger files.\n",
    "> - Python has no inherent limit to how much data you can work with; you can work with as much data as your system’s memory can handle."
   ]
  },
  {
   "cell_type": "code",
   "execution_count": null,
   "id": "fec8a0a3-c925-4a17-82a9-831b22a80b91",
   "metadata": {},
   "outputs": [],
   "source": [
    "path = Path('pi_million_digits.txt')\n",
    "\n",
    "contents = path.read_text()\n",
    "lines = contents.splitlines()\n",
    "\n",
    "pi_string = ''\n",
    "\n",
    "for line in lines:\n",
    "    pi_string += line.lstrip()\n",
    "    \n",
    "print(f\"{pi_string[:50]}...\")\n",
    "print(len(pi_string))"
   ]
  },
  {
   "cell_type": "markdown",
   "id": "bb220cd6-2444-49a8-bf4d-2d3d38e269fd",
   "metadata": {},
   "source": [
    "#### **Is Your Birthday Contained in Pi?**"
   ]
  },
  {
   "cell_type": "markdown",
   "id": "d8a56af5-f2b7-40fd-9093-b952378c1682",
   "metadata": {},
   "source": [
    "> Let’s use the program we just wrote to find out if someone’s birthday appears anywhere in the first million digits of pi. "
   ]
  },
  {
   "cell_type": "code",
   "execution_count": null,
   "id": "a0b5e401-cf33-494e-9316-29e8074b6989",
   "metadata": {},
   "outputs": [],
   "source": [
    "birthday = input(\"Enter your birthday, in the form mmddyy: \")\n",
    "\n",
    "if birthday in pi_string:\n",
    "    print(\"Your birthday appears in the first million digits of pi!\")\n",
    "else:\n",
    "    print(\"Your birthday does not appear in the first million digits of pi.\")"
   ]
  },
  {
   "cell_type": "markdown",
   "id": "f21b9cef-00be-4bf2-8e61-ed2cc3f2bb6b",
   "metadata": {},
   "source": [
    "### **Writing to a File**"
   ]
  },
  {
   "cell_type": "markdown",
   "id": "daba0688-24b0-4d0a-a744-3bf1921259bf",
   "metadata": {},
   "source": [
    "> - One of the simplest ways to save data is to write it to a file. When you write text to a file, the output will still be available after you close the program.\n",
    "> - You can also write programs that read the text back into memory and work with it again later."
   ]
  },
  {
   "cell_type": "markdown",
   "id": "c98f6bd9-5a12-4556-a3f0-28f1dd85bcf4",
   "metadata": {},
   "source": [
    "#### **Writing a Single Line**"
   ]
  },
  {
   "cell_type": "markdown",
   "id": "7c27c5b3-ea56-45e2-b423-3c33cf5b6d94",
   "metadata": {},
   "source": [
    "> - Once you have a path defined, you can write to a file using the **`write_text()`** method.\n",
    "> - The `write_text()` method takes a single argument: the string that you want to write to the file."
   ]
  },
  {
   "cell_type": "code",
   "execution_count": null,
   "id": "d84104ed-4cc4-4c99-a058-c4739d7c2d8f",
   "metadata": {},
   "outputs": [],
   "source": [
    "path = Path('programming.txt')\n",
    "path.write_text(\"I love programming.\")"
   ]
  },
  {
   "cell_type": "markdown",
   "id": "81fdbca5-8481-40fc-a035-e6115bb66370",
   "metadata": {},
   "source": [
    "#### 📝 **Note**\n",
    "> - <span style=\"background:LavenderBlush\">Python can only write strings to a text file. If you want to store numerical data \n",
    "in a text file, you’ll have to convert the data to string format first using the **`str()`** function."
   ]
  },
  {
   "cell_type": "markdown",
   "id": "cfa4dc07-f83f-4b4c-9b9a-878a14853cdb",
   "metadata": {},
   "source": [
    "#### **Writing Multiple Lines**"
   ]
  },
  {
   "cell_type": "markdown",
   "id": "b666b86a-3c79-4057-b034-073447a85636",
   "metadata": {},
   "source": [
    "> - The **`write_text()`** method does a few things behind the scenes:\n",
    ">   \n",
    ">    - If the file that path points to doesn’t exist, it creates that file.\n",
    ">    - Also, after writing the string to the file, it makes sure the file is closed properly. Files that aren’t closed properly can lead to missing or corrupted data.<br><br>\n",
    "> - To write more than one line to a file, you need to build a string containing the entire contents of the file.\n",
    "> - In this case we include newline characters at the end of each line, to make sure each statement appears on its own line."
   ]
  },
  {
   "cell_type": "code",
   "execution_count": null,
   "id": "25d74649-5d1d-4902-bdd3-1837644a218b",
   "metadata": {},
   "outputs": [],
   "source": [
    "contents = \"I love Python.\\n\"\n",
    "contents += \"I love creating new games.\\n\"\n",
    "contents += \"I also love working with data.\\n\"\n",
    "\n",
    "path = Path('programming.txt')\n",
    "path.write_text(contents)"
   ]
  },
  {
   "cell_type": "markdown",
   "id": "767c7caa-d0ca-4e5e-aa77-1d731f876677",
   "metadata": {},
   "source": [
    "#### 📝 **Note**\n",
    "> <span style=\"background:LavenderBlush\">Be careful when calling **`write_text()`** on a path object. If the file already exists, **`write_text()`** will erase the current contents of the file and write new contents to the file."
   ]
  },
  {
   "cell_type": "markdown",
   "id": "7402264c-0e12-4963-9ca6-8240630c2d37",
   "metadata": {},
   "source": [
    "#### ✍🏻 **TRY IT YOURSELF**\n",
    "> **Guest:** Write a program that prompts the user for their name. When they respond, write their name to a file called guest.txt."
   ]
  },
  {
   "cell_type": "markdown",
   "id": "fcf75838-1176-4a3e-81d3-80a7dd0d7b8a",
   "metadata": {},
   "source": [
    "### **Exceptions**"
   ]
  },
  {
   "cell_type": "markdown",
   "id": "885b321f-9374-48d7-bef7-a030f53681b4",
   "metadata": {},
   "source": [
    "> - Python uses special objects called **exceptions** to manage errors that arise during a program’s execution. Whenever an error occurs that makes Python unsure of what to do next, it creates an exception object.\n",
    "> - If you write code that handles the exception, the program will continue running.\n",
    "> -  If you don’t handle the exception, the program will halt and show a *traceback*, which includes a report of the exception that was raised."
   ]
  },
  {
   "cell_type": "markdown",
   "id": "f7583bdb-cf2d-48a9-b24a-eeee6c218168",
   "metadata": {},
   "source": [
    "### **Exceptions Handling**"
   ]
  },
  {
   "cell_type": "markdown",
   "id": "8fc024e7-e2c0-4c80-be32-76a6595ad79c",
   "metadata": {},
   "source": [
    "> - Exceptions are handled with **try-except** blocks.\n",
    "> - <span style=\"background:LemonChiffon\">A **try-except** block asks Python to do something, but it also tells Python what to do if an exception is raised.\n",
    "> - <span style=\"background:LemonChiffon\">When you use **try-except** blocks, your programs will continue running even if things start to go wrong.\n",
    "> - <span style=\"background:LemonChiffon\">Instead of **tracebacks**, which can be confusing for users to read, users will see friendly error messages that you’ve written."
   ]
  },
  {
   "cell_type": "markdown",
   "id": "155bb6bd-a308-4052-8e37-29f1d9072207",
   "metadata": {},
   "source": [
    "#### **Handling the ZeroDivisionError Exception**"
   ]
  },
  {
   "cell_type": "markdown",
   "id": "e5e8de8c-fad2-4876-86e2-a10e80a52ced",
   "metadata": {},
   "source": [
    "> Let’s look at a simple error that causes Python to raise an exception. "
   ]
  },
  {
   "cell_type": "code",
   "execution_count": null,
   "id": "6c5dc024-0ad6-469f-adc0-f24cb808fb06",
   "metadata": {},
   "outputs": [],
   "source": [
    "print(5/0)"
   ]
  },
  {
   "cell_type": "markdown",
   "id": "3b9f2aaa-7570-4b04-905e-c1028bae356e",
   "metadata": {},
   "source": [
    "> - Python stops the program and tells us the kind of exception that was raised.\n",
    "> - We’ll tell Python what to do when this kind of exception occurs; that way, if it happens again, we’ll be prepared."
   ]
  },
  {
   "cell_type": "markdown",
   "id": "fb3fc38a-c003-4c49-bae2-707f9cc21529",
   "metadata": {},
   "source": [
    "#### **Using try-except Blocks**"
   ]
  },
  {
   "cell_type": "markdown",
   "id": "b84b92da-3dc6-4ec0-b346-bb240d21f388",
   "metadata": {},
   "source": [
    "> <span style=\"background:LemonChiffon\">When you think an error may occur, you can write a try-except block to handle the exception that might be raised."
   ]
  },
  {
   "cell_type": "code",
   "execution_count": null,
   "id": "d8cc68a5-8848-4638-9448-7fdbeb9d8d81",
   "metadata": {},
   "outputs": [],
   "source": [
    "try:\n",
    "    x = 5\n",
    "    print(5/0)\n",
    "except ZeroDivisionError:\n",
    "    print(\"You can't divide by zero!\")\n",
    "    \n",
    "print(x)    "
   ]
  },
  {
   "cell_type": "markdown",
   "id": "b7606f09-359b-4579-81ab-b24ae304181f",
   "metadata": {},
   "source": [
    "> - We put `print(5/0)`, the line that caused the error, inside a `try` block.\n",
    "> - If the code in a `try` block works, Python skips over the `except` block.\n",
    "> - If the code in the `try` block causes an error, Python looks for an `except` block whose error matches the one that was raised, and runs the code in that block."
   ]
  },
  {
   "cell_type": "markdown",
   "id": "d5fc4047-fcf2-48bf-a378-5c138c17dd50",
   "metadata": {},
   "source": [
    "> - Python then runs the code in that block, and <span style=\"background:LemonChiffon\">the user sees a friendly error message instead of a traceback.\n",
    "> - If more code followed the try-except block, the program would continue running because we told Python how to handle the error. "
   ]
  },
  {
   "cell_type": "markdown",
   "id": "f8615158-718a-48d7-92c7-6c7aa9a40645",
   "metadata": {},
   "source": [
    "#### **Using Exceptions to Prevent Crashes**"
   ]
  },
  {
   "cell_type": "markdown",
   "id": "a66e39af-fe45-4de2-ac2a-107bb961b67e",
   "metadata": {},
   "source": [
    "> - Handling errors correctly is especially important when the program has more work to do after the error occurs. <span style=\"background:LemonChiffon\">This happens often in programs that prompt users for input.\n",
    "> - If the program responds to invalid input appropriately, it can prompt for more valid input instead of crashing.\n",
    "> - This program does nothing to handle errors, so asking it to divide by zero causes it to crash."
   ]
  },
  {
   "cell_type": "code",
   "execution_count": null,
   "id": "e6bea4f8-96cc-4fec-a205-97ff9ea40187",
   "metadata": {},
   "outputs": [],
   "source": [
    "print(\"Give me two numbers, and I'll divide them.\")\n",
    "print(\"Enter 'q' to quit.\")\n",
    "\n",
    "while True:\n",
    "    first_number = input(\"\\nFirst number: \")\n",
    "    if first_number == 'q':\n",
    "        break\n",
    "        \n",
    "    second_number = input(\"Second number: \")\n",
    "    if second_number == 'q':\n",
    "        break\n",
    "        \n",
    "    answer = int(first_number) / int(second_number)\n",
    "    print(answer)"
   ]
  },
  {
   "cell_type": "markdown",
   "id": "ecd5082e-5855-4f5c-ad4a-1c0bee90df2e",
   "metadata": {},
   "source": [
    "> - Nontechnical users will be confused by them, and in a malicious setting, attackers will learn more than you want them to.\n",
    "> - For example, they’ll know the name of your program file, and they’ll see a part of your code that isn’t working properly.\n",
    "> - A skilled attacker can sometimes use this information to determine which kind of attacks to use against your code."
   ]
  },
  {
   "cell_type": "markdown",
   "id": "fa1a2060-5c8b-4b0b-91cb-32a1a47e7fd3",
   "metadata": {},
   "source": [
    "#### **The else Block**"
   ]
  },
  {
   "cell_type": "markdown",
   "id": "a198cfcc-a7cf-413c-886e-e804ccfc115a",
   "metadata": {},
   "source": [
    "> The error occurs on the line that performs the division, so that’s where we’ll put the **try-except** block."
   ]
  },
  {
   "cell_type": "code",
   "execution_count": null,
   "id": "2b191f9a-f842-4285-8efc-91c06019317d",
   "metadata": {},
   "outputs": [],
   "source": [
    "print(\"Give me two numbers, and I'll divide them.\")\n",
    "print(\"Enter 'q' to quit.\")\n",
    "\n",
    "while True:\n",
    "    first_number = input(\"\\nFirst number: \")\n",
    "    if first_number == 'q':\n",
    "        break\n",
    "        \n",
    "    second_number = input(\"Second number: \")\n",
    "    if second_number == 'q':\n",
    "        break\n",
    "    try:    \n",
    "        answer = int(first_number) / int(second_number)\n",
    "        print(answer)\n",
    "    except ZeroDivisionError:\n",
    "        print(\"You can't divide by 0!\")"
   ]
  },
  {
   "cell_type": "markdown",
   "id": "25a8bed6-da47-43ff-b32e-1159f1f39ec8",
   "metadata": {},
   "source": [
    "> This example also includes an `else` block. Any code that depends on the `try` block executing successfully goes in the `else` block:"
   ]
  },
  {
   "cell_type": "code",
   "execution_count": null,
   "id": "412adb8f-4b7c-4044-bb1a-cbc0782b66fe",
   "metadata": {},
   "outputs": [],
   "source": [
    "print(\"Give me two numbers, and I'll divide them.\")\n",
    "print(\"Enter 'q' to quit.\")\n",
    "\n",
    "while True:\n",
    "    first_number = input(\"\\nFirst number: \")\n",
    "    if first_number == 'q':\n",
    "        break\n",
    "        \n",
    "    second_number = input(\"Second number: \")\n",
    "    if second_number == 'q':\n",
    "        break\n",
    "    try:    \n",
    "        answer = int(first_number) / int(second_number)\n",
    "    except ZeroDivisionError:\n",
    "        print(\"You can't divide by 0!\")\n",
    "    else:    \n",
    "        print(answer)"
   ]
  },
  {
   "cell_type": "markdown",
   "id": "eb32e2b6-78ba-495f-a8bc-6865c9dd95d1",
   "metadata": {},
   "source": [
    "> - The only code that should go in a `try` block is code that might cause an exception to be raised.\n",
    "> - Sometimes you’ll have additional code that should run only if the `try` block was successful; this code goes in the `else` block. \n",
    "> - The `except` block tells Python what to do in case a certain exception arises when it tries to run the code in the `try` block."
   ]
  },
  {
   "cell_type": "markdown",
   "id": "60fd86be-7f41-4651-8019-4453c35e8c2b",
   "metadata": {},
   "source": [
    "#### **Handling the FileNotFoundError Exception**"
   ]
  },
  {
   "cell_type": "markdown",
   "id": "0e25cd3f-f360-4e87-ba49-5eba6feb34af",
   "metadata": {},
   "source": [
    "> - One common issue when working with files is handling missing files.\n",
    "> - The file you’re looking for might be in a different location, the filename might be misspelled, or the file might not exist at all. You can handle all of these situations with a **try-except** block."
   ]
  },
  {
   "cell_type": "code",
   "execution_count": null,
   "id": "dd6925ff-8a2e-40b8-8489-76193f6d50aa",
   "metadata": {},
   "outputs": [],
   "source": [
    "path = Path('alice.txt')\n",
    "contents = path.read_text()"
   ]
  },
  {
   "cell_type": "markdown",
   "id": "1d5ca3fa-0a9e-4261-87aa-d1b91404b28e",
   "metadata": {},
   "source": [
    "> - It’s often best to start at the very end of the **traceback**. On the last line, we can see that a `FileNotFoundError` exception was raised.\n",
    "> - This is important because it tells us what kind of exception to use in the `except` block that we’ll write.\n",
    "> - The `try` block will begin with the line that was identified as problematic in the traceback. In our example, \n",
    "this is the line that contains **`read_text()`**:"
   ]
  },
  {
   "cell_type": "code",
   "execution_count": null,
   "id": "100c73e3-5b89-45ba-8585-976534dc011e",
   "metadata": {},
   "outputs": [],
   "source": [
    "path = Path('alice.txt')\n",
    "try:\n",
    "     contents = path.read_text()\n",
    "except FileNotFoundError:\n",
    "     print(f\"Sorry, the file {path} does not exist.\")"
   ]
  },
  {
   "cell_type": "markdown",
   "id": "73cfff46-aea1-44a0-a98b-e9cb551c917c",
   "metadata": {},
   "source": [
    "> The program has nothing more to do if the file doesn’t exist, so this is all the output we see. Let’s build on this example and see how exception handling can help when you’re working with more than one file."
   ]
  },
  {
   "cell_type": "markdown",
   "id": "60e957d7-c478-4fdd-b91e-a875bb662c90",
   "metadata": {},
   "source": [
    "#### **Analyzing Text**"
   ]
  },
  {
   "cell_type": "markdown",
   "id": "4779e33a-cebc-4300-b880-f0982330d8a6",
   "metadata": {},
   "source": [
    "> Let’s pull in the text of *Alice in Wonderland* and try to count the number of words in the text. To do this, we’ll use the string method **`split()`**, <span style=\"background:LemonChiffon\">which by default splits a string wherever it finds any whitespace:"
   ]
  },
  {
   "cell_type": "code",
   "execution_count": null,
   "id": "21d913aa-e33d-463d-bf22-de09c6e2f9d7",
   "metadata": {},
   "outputs": [],
   "source": [
    "path = Path('alice.txt')\n",
    "\n",
    "try:\n",
    "    contents = path.read_text(encoding='utf-8')\n",
    "except FileNotFoundError:\n",
    "    print(f\"Sorry, the file {path} does not exist.\")\n",
    "else:\n",
    "     # Count the approximate number of words in the file:\n",
    "     words = contents.split()\n",
    "     num_words = len(words)\n",
    "     print(f\"The file {path} has about {num_words} words.\")"
   ]
  },
  {
   "cell_type": "markdown",
   "id": "0a79bd83-232b-4532-95ff-eb6ff8ed6eeb",
   "metadata": {},
   "source": [
    "> - I moved the file alice.txt to the correct directory, so the try block will \n",
    "work this time.\n",
    "> - Use **`split()`** to produce a list of all the words in the book.\n",
    "> - Using **`len()`** on this list to gives us a good approximation of the number of words in the original text.\n",
    "> - This code is placed in the `else` block because it only works if the code in the `try` block was executed successfully."
   ]
  },
  {
   "cell_type": "markdown",
   "id": "df6ebfa5-0829-4a0a-8bb5-29231d2b7349",
   "metadata": {},
   "source": [
    "#### **Working with Multiple Files**"
   ]
  },
  {
   "cell_type": "markdown",
   "id": "aca5ed6d-5d55-4c7b-98e3-6b959229fe6b",
   "metadata": {},
   "source": [
    "> Let’s add more books to analyze, but before we do, let’s move the bulk of this program to a function called `count_words()`. This will make it easier to run the analysis for multiple books:"
   ]
  },
  {
   "cell_type": "code",
   "execution_count": null,
   "id": "df7dc3f0-54dd-4291-8c9d-5561d92dfbc5",
   "metadata": {},
   "outputs": [],
   "source": [
    "def count_words(path):\n",
    "    \"\"\"Count the approximate number of words in a file.\"\"\"\n",
    "    try:\n",
    "        contents = path.read_text(encoding='utf-8')\n",
    "    except FileNotFoundError:\n",
    "        print(f\"Sorry, the file {path} does not exist.\")\n",
    "    else:\n",
    "        # Count the approximate number of words in the file:\n",
    "        words = contents.split()\n",
    "        num_words = len(words)\n",
    "        print(f\"The file {path} has about {num_words} words.\")\n",
    "\n",
    "path = Path('alice.txt')\n",
    "count_words(path)"
   ]
  },
  {
   "cell_type": "markdown",
   "id": "02807ac9-a4f3-4460-a426-21b54ced705f",
   "metadata": {},
   "source": [
    "> The `encoding` argument is needed when your system’s default encoding doesn’t match the encoding of the file that’s being read. \n",
    "This is most likely to happen when reading from a file that wasn’t created on your system."
   ]
  },
  {
   "cell_type": "markdown",
   "id": "26295944-4ef9-4de2-b790-cb71cdf73545",
   "metadata": {},
   "source": [
    "> Most of this code is unchanged. It’s only been indented, and moved into the body of `count_words()`. It’s a good habit to keep comments up to date when you’re modifying a program, so the comment has also been changed to a **docstring** and reworded slightly"
   ]
  },
  {
   "cell_type": "code",
   "execution_count": null,
   "id": "c41f6329-d3e9-4dd3-898e-647cea5fdbac",
   "metadata": {},
   "outputs": [],
   "source": [
    "filenames = ['alice.txt', 'little_women.txt', 'scarlet_letter.txt', 'the_prince.txt']\n",
    "\n",
    "for filename in filenames:\n",
    "     path = Path(filename)\n",
    "     count_words(path)"
   ]
  },
  {
   "cell_type": "markdown",
   "id": "fbe54734-d177-4a6b-8d37-6d342c455f03",
   "metadata": {},
   "source": [
    "> Each string is then converted to a `Path` object, before the call to `count_words()`. The missing \n",
    "*little_women.txt* file has no effect on the rest of the program’s execution:"
   ]
  },
  {
   "cell_type": "markdown",
   "id": "6102120b-9722-495a-a51b-37e31b0bdadf",
   "metadata": {},
   "source": [
    "> - Using the **try-except** block in this example provides two significant advantages:\n",
    ">    - We prevent our users from seeing a traceback.\n",
    ">    - We let the program continue analyzing the texts it’s able to find.<br><br>\n",
    "> - If we don’t catch the `FileNotFoundError` that little_women.txt raises, the user would see a full traceback, and the program would stop running after trying to analyze *little_women*. It would never analyze *scarlet_letter* or *the_prince*."
   ]
  },
  {
   "cell_type": "markdown",
   "id": "9ba953f6-0be9-4f1a-8010-8be444d98bb0",
   "metadata": {},
   "source": [
    "#### **Failing Silently**"
   ]
  },
  {
   "cell_type": "markdown",
   "id": "ba3497c5-99fa-4573-8b0d-a24a657f09a6",
   "metadata": {},
   "source": [
    "> - In the previous example, we informed our users that one of the files was unavailable.\n",
    "> - But you don’t need to report every exception you catch. \n",
    "> - Sometimes, you’ll want the program to fail silently when an exception occurs and continue on as if nothing happened.\n",
    "> - you write a `try` block as usual, <span style=\"background:LemonChiffon\">but you explicitly tell Python to do nothing in the `except` block. Python has a **`pass`** statement that tells it to do nothing in a block:\n"
   ]
  },
  {
   "cell_type": "code",
   "execution_count": null,
   "id": "b3349be5-9e3c-4113-a833-bcf48ff21808",
   "metadata": {},
   "outputs": [],
   "source": [
    "def count_words(path):\n",
    "    \"\"\"Count the approximate number of words in a file.\"\"\"\n",
    "    try:\n",
    "        contents = path.read_text(encoding='utf-8')\n",
    "    except FileNotFoundError:\n",
    "        pass\n",
    "    else:\n",
    "        # Count the approximate number of words in the file:\n",
    "        words = contents.split()\n",
    "        num_words = len(words)\n",
    "        print(f\"The file {path} has about {num_words} words.\")"
   ]
  },
  {
   "cell_type": "code",
   "execution_count": null,
   "id": "c9664063-bab3-4667-ac7f-3f36b30afcb6",
   "metadata": {},
   "outputs": [],
   "source": [
    "filenames = ['alice.txt', 'little_women.txt', 'scarlet_letter.txt', 'the_prince.txt']\n",
    "\n",
    "for filename in filenames:\n",
    "     path = Path(filename)\n",
    "     count_words(path)"
   ]
  },
  {
   "cell_type": "markdown",
   "id": "d1c22cdf-8eee-4585-8617-4e87f4f16b21",
   "metadata": {},
   "source": [
    "> - <span style=\"background:LemonChiffon\">No traceback is produced,</span> and there’s <span style=\"background:LemonChiffon\">no output in response to the error</span> that was raised.\n",
    "> - Users see the word counts for each file that exists, but they don’t see any indication that a file wasn’t found.\n",
    "> - The **`pass`** statement also acts as a **placeholder**. <span style=\"background:LemonChiffon\">\n",
    "It’s a reminder that you’re choosing to do nothing at a specific point in your program’s execution and that you might want to do something there later. For example, in this program we might decide to write any missing filenames to a file called *missing_files.txt.*"
   ]
  },
  {
   "cell_type": "markdown",
   "id": "9087f795-f750-4b0b-8c23-99048481e571",
   "metadata": {},
   "source": [
    "#### **Deciding Which Errors to Report**"
   ]
  },
  {
   "cell_type": "markdown",
   "id": "198da40a-22c3-4ed4-b631-475a91cdd7d3",
   "metadata": {},
   "source": [
    "> - <span style=\"background:LavenderBlush\">How do you know when to report an error to your users and when to let your program fail silently?\n",
    ">     - If users know which texts are supposed to be analyzed, they might appreciate a message informing them why some texts \n",
    "were not analyzed.\n",
    ">     - If users expect to see some results but don’t know which books are supposed to be analyzed, they might not need to know that some texts were unavailable.<br><br>\n",
    ">\n",
    "> - Python’s error-handling structures give you fine-grained control over how much to share with users when things go wrong; it’s up to you to decide how much information to share.\n",
    "> - Well-written, properly tested code is not very prone to internal errors, such as **syntax** or **logical errors**.\n",
    "> - <span style=\"background:LemonChiffon\">But every time your program depends on something external such as user input, the existence of a file, or the availability of a network connection, there is a possibility of an exception being raised. "
   ]
  },
  {
   "cell_type": "markdown",
   "id": "66f953bd-a160-4186-b53d-2e73eab41671",
   "metadata": {},
   "source": [
    "#### **Storing Data**"
   ]
  },
  {
   "cell_type": "markdown",
   "id": "f4da1394-a850-42e4-a732-9e4ccf9cfbc5",
   "metadata": {},
   "source": [
    "> - Many of your programs will ask users to input certain kinds of information. You might allow users to store preferences in a game or provide data for a visualization.\n",
    "> - Whatever the focus of your program is, you’ll store the information users provide in data structures such as **lists** and **dictionaries**. When users close a program, you’ll almost always want to save the information they entered\n",
    "> - <span style=\"background:LemonChiffon\">A simple way to do this involves storing your data using the **json** module.\n",
    ">      -  The json module allows you to <span style=\"background:LemonChiffon\">convert simple Python data structures into JSON-formatted strings, and then load the data             from that file the next time the program runs.</span>\n",
    ">      - You can also use json to share data between different Python programs, and different programming language. "
   ]
  },
  {
   "cell_type": "markdown",
   "id": "37f73088-94ae-4f98-a7b6-65d4bfe76cc0",
   "metadata": {},
   "source": [
    "#### **Using **`json.dumps()`** and **`json.loads()`****"
   ]
  },
  {
   "cell_type": "markdown",
   "id": "f0338218-e386-484b-b104-cb07e71a67f5",
   "metadata": {},
   "source": [
    "> - Let’s write a short program that stores a set of numbers and another program that reads these numbers back into memory.\n",
    "> - The first program will use **`json.dumps()`** to store the set of numbers, the second program will use **`json.loads()`**.\n",
    "> - The **`json.dumps()`** function takes one argument: <span style=\"background:LemonChiffon\">a piece of data that should be converted to the JSON format.\n",
    "> - The function returns a string, which we can then write to a data file:"
   ]
  },
  {
   "cell_type": "markdown",
   "id": "432a525e-6166-4cdc-afa1-e9c418dd93ea",
   "metadata": {},
   "source": [
    "#### The First Program"
   ]
  },
  {
   "cell_type": "code",
   "execution_count": null,
   "id": "e2536adc-7bc8-4121-a2e1-146098698d6c",
   "metadata": {},
   "outputs": [],
   "source": [
    "import json\n",
    "\n",
    "numbers = [2, 3, 5, 7, 11, 13]\n",
    "\n",
    "path = Path('numbers.json')\n",
    "\n",
    "contents = json.dumps(numbers)\n",
    "path.write_text(contents)"
   ]
  },
  {
   "cell_type": "markdown",
   "id": "cc5e68e2-1e82-44a7-81fe-251d9f38c9d1",
   "metadata": {},
   "source": [
    "> 1. import the json module\n",
    "> 2. Create a list of numbers to work with.\n",
    "> 3. We choose a filename in which to store the list of numbers, use the file extension **.json** to indicate that the data in the file is stored in the JSON format.\n",
    "> 4. We use the **`json.dumps()`** function to generate a string containing the JSON representation of the data we’re working with.\n",
    "> 5. Once we have this string, we write it to the file using the same **`write_text()`**"
   ]
  },
  {
   "cell_type": "markdown",
   "id": "cc391d13-9203-4d1d-b43d-9b141604917b",
   "metadata": {},
   "source": [
    "#### The Second Program"
   ]
  },
  {
   "cell_type": "code",
   "execution_count": null,
   "id": "4512f4b2-9944-4e11-b1d0-a0bb1723f53a",
   "metadata": {},
   "outputs": [],
   "source": [
    "path = Path('numbers.json')\n",
    "contents = path.read_text()\n",
    "\n",
    "numbers = json.loads(contents)\n",
    "\n",
    "print(numbers)"
   ]
  },
  {
   "cell_type": "markdown",
   "id": "9a13cd64-b8c0-439d-99e0-42805fffa68d",
   "metadata": {},
   "source": [
    "> 1. Make sure to read from the same file we wrote to\n",
    "> 2. We can read it with the **`read_text()`** method\n",
    "> 3. Then pass the contents of the file to **`json.loads()`**\n",
    "> 4. <span style=\"background:LemonChiffon\">This function takes in a JSON-formatted string and returns a Python object (in this case, a list), which we assign to numbers.\n",
    "> 5. Finally, we print the recovered list of numbers and see that it’s the same list created in the first program"
   ]
  },
  {
   "cell_type": "markdown",
   "id": "11e1b085-8574-4bb5-8374-5f36131dd080",
   "metadata": {},
   "source": [
    "#### **Saving and Reading User-Generated Data**"
   ]
  },
  {
   "cell_type": "markdown",
   "id": "1a10215e-5b3a-4383-8205-b7e3c530b793",
   "metadata": {},
   "source": [
    "> - Saving data with json is useful when you’re working with user-generated data, because if you don’t store your user’s information somehow, you’ll lose it when the program stops running.\n",
    "> - Let’s look at an example where we prompt the user for their **name** the first time they run a program and then remember their name when they run the program again:"
   ]
  },
  {
   "cell_type": "markdown",
   "id": "50c19ead-bd47-4468-a2c9-16ed1ba78a55",
   "metadata": {},
   "source": [
    "#### The First Program"
   ]
  },
  {
   "cell_type": "code",
   "execution_count": null,
   "id": "4c102fb6-6f3d-488b-aac7-286c8aeb3d96",
   "metadata": {},
   "outputs": [],
   "source": [
    "username = input(\"What is your name? \")\n",
    "\n",
    "path = Path('username.json')\n",
    "contents = json.dumps(username)\n",
    "path.write_text(contents)\n",
    "\n",
    "print(f\"We'll remember you when you come back, {username}!\")"
   ]
  },
  {
   "cell_type": "markdown",
   "id": "2facd237-6b9d-45dc-a0bc-eb7003df6a4a",
   "metadata": {},
   "source": [
    "> Now let’s write a new program that greets a user whose name has already been stored:"
   ]
  },
  {
   "cell_type": "markdown",
   "id": "0e5813b5-96de-4c09-a82a-8587615c1605",
   "metadata": {},
   "source": [
    "#### The Second Program"
   ]
  },
  {
   "cell_type": "code",
   "execution_count": null,
   "id": "2bf9f243-8b54-4797-9804-afb5d14c75c1",
   "metadata": {},
   "outputs": [],
   "source": [
    "path = Path('username.json')\n",
    "contents = path.read_text()\n",
    "username = json.loads(contents)\n",
    "\n",
    "print(f\"Welcome back, {username}!\")"
   ]
  },
  {
   "cell_type": "markdown",
   "id": "eea09296-cf02-4cc3-8cc8-3d80cc8b2959",
   "metadata": {},
   "source": [
    "> 1. We read the contents of the data file.\n",
    "> 2. Then use **`json.loads()`** to assign the recovered data to the variable username.\n",
    "> 3. Since we’ve recovered the **username**, we can welcome the user back with a personalized greeting"
   ]
  },
  {
   "cell_type": "markdown",
   "id": "4ede42d5-f227-48ef-b969-24b94ab6607d",
   "metadata": {},
   "source": [
    "> - <span style=\"background:LemonChiffon\">We need to combine these two programs into one file.\n",
    "> - When someone runs the first, we want to retrieve their username from memory if possible; if not, we’ll prompt for a username and store it in **username.json** for next time.\n",
    "> - We could write a **try-except** block here to respond appropriately if **username.json** doesn’t exist, but instead we’ll use a handy method from the **`pathlib`** module:"
   ]
  },
  {
   "cell_type": "code",
   "execution_count": null,
   "id": "185e99cd-2ea9-4fa7-a4b6-02008d4a2f24",
   "metadata": {},
   "outputs": [],
   "source": [
    "path = Path('username.json')\n",
    "\n",
    "if path.exists():\n",
    "    contents = path.read_text()\n",
    "    username = json.loads(contents)\n",
    "    \n",
    "    print(f\"Welcome back, {username}!\")\n",
    "else:\n",
    "    username = input(\"What is your name? \")\n",
    "    contents = json.dumps(username)\n",
    "    path.write_text(contents)\n",
    "    \n",
    "    print(f\"We'll remember you when you come back, {username}!\")"
   ]
  },
  {
   "cell_type": "markdown",
   "id": "c2abcc0b-0dcc-4120-a870-b8739c7aa191",
   "metadata": {},
   "source": [
    "> - The **`exists()`** method returns True if a file or folder exists and False if it doesn’t. "
   ]
  },
  {
   "cell_type": "code",
   "execution_count": null,
   "id": "97b0a47c-7eec-4ec6-ba20-3287f0cbb243",
   "metadata": {},
   "outputs": [],
   "source": []
  }
 ],
 "metadata": {
  "kernelspec": {
   "display_name": "Python 3 (ipykernel)",
   "language": "python",
   "name": "python3"
  },
  "language_info": {
   "codemirror_mode": {
    "name": "ipython",
    "version": 3
   },
   "file_extension": ".py",
   "mimetype": "text/x-python",
   "name": "python",
   "nbconvert_exporter": "python",
   "pygments_lexer": "ipython3",
   "version": "3.12.7"
  }
 },
 "nbformat": 4,
 "nbformat_minor": 5
}
