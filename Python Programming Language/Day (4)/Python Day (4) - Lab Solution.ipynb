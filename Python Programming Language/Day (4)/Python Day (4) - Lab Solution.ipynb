{
 "cells": [
  {
   "cell_type": "markdown",
   "id": "752d3258",
   "metadata": {},
   "source": [
    "#### **Python Fundamentals Lab: Data Structures (Lists & Dictionaries)**"
   ]
  },
  {
   "cell_type": "markdown",
   "id": "6e575d4d",
   "metadata": {},
   "source": [
    "1. **Lists:**"
   ]
  },
  {
   "cell_type": "code",
   "execution_count": 2,
   "id": "7d022c12",
   "metadata": {},
   "outputs": [
    {
     "name": "stdout",
     "output_type": "stream",
     "text": [
      "The first element is: 1\n",
      "The last element is: 10\n",
      "reversed integers numbers: [10, 9, 8, 7, 6, 5, 4, 3, 2, 1]\n",
      "The sum of all elements in the list: 55\n"
     ]
    }
   ],
   "source": [
    "# list of integers from 1 to 10\n",
    "int_nums = list(range(1, 11))\n",
    "\n",
    "# Print the first and the last elements\n",
    "print(f'The first element is: {int_nums[0]}')\n",
    "print(f'The last element is: {int_nums[-1]}')\n",
    "\n",
    "# Reverse the list\n",
    "reversed_int_nums = int_nums[::-1]\n",
    "print(f'reversed integers numbers: {reversed_int_nums}')\n",
    "\n",
    "# Find the sum of all elements\n",
    "total = 0 \n",
    "for num in int_nums:\n",
    "    total += num\n",
    "print(f'The sum of all elements in the list: {total}')"
   ]
  },
  {
   "cell_type": "markdown",
   "id": "f9ac49a6",
   "metadata": {},
   "source": [
    "2. **Dictionaries:**"
   ]
  },
  {
   "cell_type": "code",
   "execution_count": 3,
   "id": "3b43c3fc",
   "metadata": {},
   "outputs": [
    {
     "name": "stdout",
     "output_type": "stream",
     "text": [
      "{1: 1, 2: 4, 3: 9, 4: 16, 5: 25} \n",
      "\n",
      "key: 1, value: 1\n",
      "key: 2, value: 4\n",
      "key: 3, value: 9\n",
      "key: 4, value: 16\n",
      "key: 5, value: 25\n",
      "\n",
      "The new dict after adding the key 6:\n",
      "{1: 1, 2: 4, 3: 9, 4: 16, 5: 25, 6: 36}\n",
      "\n",
      "Yes, the key 4 exists on the dict\n"
     ]
    }
   ],
   "source": [
    "# Craeate a dict --> keys are the first 5 natural nums, values are their squares\n",
    "natural_first_five = {num: num**2 for num in range(1, 6)} # using dict comprehension\n",
    "print(natural_first_five, '\\n')\n",
    "\n",
    "# Print all keys wih corresponding values\n",
    "for k, v in natural_first_five.items():\n",
    "    print(f'key: {k}, value: {v}')\n",
    "\n",
    "# Add a new key-value pair: 6: 36\n",
    "natural_first_five[6] = 36\n",
    "print(f'\\nThe new dict after adding the key 6:\\n{natural_first_five}')\n",
    "\n",
    "# Check for the key 4 in the dict:\n",
    "n = 4 # desired numebr\n",
    "if n in natural_first_five.keys():\n",
    "    print(f\"\\nYes, the key {n} exists on the dict\")"
   ]
  },
  {
   "cell_type": "markdown",
   "id": "0cdbcee6",
   "metadata": {},
   "source": [
    "##### **Problem-Solving: Real-World Scenarios**\n"
   ]
  },
  {
   "cell_type": "markdown",
   "id": "23080ab2",
   "metadata": {},
   "source": [
    "1. **Student Grades:**"
   ]
  },
  {
   "cell_type": "code",
   "execution_count": 10,
   "id": "3406c42e",
   "metadata": {},
   "outputs": [
    {
     "name": "stdout",
     "output_type": "stream",
     "text": [
      "{'Omar': [95, 78, 75, 98], 'Mohamed': [83, 82, 82, 79], 'Ahmed': [98, 78, 96, 98], 'Hazem': [92, 77, 93, 88], 'Abdulrahman': [76, 75, 77, 81]}\n"
     ]
    }
   ],
   "source": [
    "import random\n",
    "\n",
    "random.seed(42)\n",
    "\n",
    "students_grades = {\n",
    "    'Omar': [random.randint(75, 100) for _ in range(4)],\n",
    "    'Mohamed': [random.randint(75, 100) for _ in range(4)],\n",
    "    'Ahmed' : [random.randint(75, 100) for _ in range(4)],\n",
    "    'Hazem': [random.randint(75, 100) for _ in range(4)],\n",
    "    'Abdulrahman': [random.randint(75, 100) for _ in range(4)]\n",
    "}\n",
    "\n",
    "print(students_grades)"
   ]
  },
  {
   "cell_type": "code",
   "execution_count": 11,
   "id": "cb5c9238",
   "metadata": {},
   "outputs": [
    {
     "name": "stdout",
     "output_type": "stream",
     "text": [
      "{'Omar': 86.5, 'Mohamed': 81.5, 'Ahmed': 92.5, 'Hazem': 87.5, 'Abdulrahman': 77.25}\n"
     ]
    }
   ],
   "source": [
    "# using dict comprehension with sum func\n",
    "avg_grades = {name: sum(grades) / len(grades) for name, grades in students_grades.items()}\n",
    "print(avg_grades)"
   ]
  },
  {
   "cell_type": "code",
   "execution_count": 34,
   "id": "2f7cc76d",
   "metadata": {},
   "outputs": [
    {
     "name": "stdout",
     "output_type": "stream",
     "text": [
      "Student Grades:\n",
      " {'Omar': [95, 78, 75, 98], 'Mohamed': [83, 82, 82, 79], 'Ahmed': [98, 78, 96, 98], 'Hazem': [92, 77, 93, 88], 'Abdulrahman': [76, 75, 77, 81]}\n",
      "\n",
      "Average Grades: {'Omar': 86.5, 'Mohamed': 81.5, 'Ahmed': 92.5, 'Hazem': 87.5, 'Abdulrahman': 77.25}\n"
     ]
    }
   ],
   "source": [
    "# using loop without sum func\n",
    "avg_grades = {}\n",
    "\n",
    "for name, grades in students_grades.items():\n",
    "    total = 0\n",
    "    for grade in grades:\n",
    "        total += grade\n",
    "        avg_grades[name] = total / len(grades)\n",
    "\n",
    "print(\"Student Grades:\\n\", students_grades)\n",
    "print(\"\\nAverage Grades:\", avg_grades)"
   ]
  },
  {
   "cell_type": "markdown",
   "id": "cca3c71d",
   "metadata": {},
   "source": [
    "this way is like finding max value in the list where I took the first element as the largest and make condition to update it if found larger number."
   ]
  },
  {
   "cell_type": "code",
   "execution_count": 35,
   "id": "33769368",
   "metadata": {},
   "outputs": [
    {
     "name": "stdout",
     "output_type": "stream",
     "text": [
      "The highest studnt average is Ahmed and its avg grade is 92.50\n"
     ]
    }
   ],
   "source": [
    "# find the highest average student using pivot method\n",
    "highest_student, highest_avg = list(avg_grades.items())[0] # extact the first name and grade in the dict\n",
    "\n",
    "for student, avg in avg_grades.items():\n",
    "    if avg > highest_avg:\n",
    "        highest_student, highest_avg = student, avg\n",
    "\n",
    "print(f'The highest studnt average is {highest_student} and its avg grade is {highest_avg:.2f}')"
   ]
  },
  {
   "cell_type": "markdown",
   "id": "ffd1c341",
   "metadata": {},
   "source": [
    "2. **Shopping Cart:**"
   ]
  },
  {
   "cell_type": "code",
   "execution_count": 47,
   "id": "a5a1015c",
   "metadata": {},
   "outputs": [],
   "source": [
    "cart = {\n",
    "    'Banana': 125,\n",
    "    'Apple': 200,\n",
    "    'Rice' : 300,\n",
    "    'Ice-cream': 12.5,\n",
    "    'Pasta': 290.5,\n",
    "    'Milk': 50,\n",
    "}"
   ]
  },
  {
   "cell_type": "code",
   "execution_count": null,
   "id": "6e0eccb8",
   "metadata": {},
   "outputs": [],
   "source": [
    "# Add items to the cart\n",
    "def add_item(cart: dict):\n",
    "    \"\"\" Adding item to the cart.\n",
    "\n",
    "    Args:\n",
    "        cart (dict): The cart.\n",
    "\n",
    "    \"\"\"\n",
    "    item_name = input('Enter the item you want to add: ').strip().capitalize()\n",
    "    price = float(input('Enter the price for the item: '))\n",
    "    \n",
    "    if item_name in cart:\n",
    "        print(f\"{item_name} already exists in the cart. Updating its price.\")\n",
    "    cart[item_name] = price  # Add or update the item\n",
    "    \n",
    "    print(f\"{item_name} added successfully with price {price:.2f}.\")\n"
   ]
  },
  {
   "cell_type": "code",
   "execution_count": 49,
   "id": "98dda72c",
   "metadata": {},
   "outputs": [
    {
     "name": "stdout",
     "output_type": "stream",
     "text": [
      "Fish added successfully with price 500.00.\n",
      "\n",
      " {'Banana': 125, 'Apple': 200, 'Rice': 300, 'Ice-cream': 12.5, 'Pasta': 290.5, 'Milk': 50, 'Fish': 500.0}\n"
     ]
    }
   ],
   "source": [
    "add_item(cart)\n",
    "print('\\n', cart)"
   ]
  },
  {
   "cell_type": "code",
   "execution_count": null,
   "id": "a33742aa",
   "metadata": {},
   "outputs": [],
   "source": [
    "# calculate total price\n",
    "def caclulate_total(cart: dict) -> float:\n",
    "    \"\"\"Get the total cost of the items in the cart.\n",
    "\n",
    "    Args:\n",
    "        cart (dict): The cart.\n",
    "\n",
    "    Returns:\n",
    "        float: The total cost for all items in the cart.\n",
    "    \"\"\"\n",
    "    total_price = 0\n",
    "    for price in cart.values():\n",
    "        total_price += price\n",
    "    return total_price"
   ]
  },
  {
   "cell_type": "code",
   "execution_count": 52,
   "id": "86bf4ea9",
   "metadata": {},
   "outputs": [
    {
     "data": {
      "text/plain": [
       "1478.0"
      ]
     },
     "execution_count": 52,
     "metadata": {},
     "output_type": "execute_result"
    }
   ],
   "source": [
    "caclulate_total(cart)"
   ]
  },
  {
   "cell_type": "code",
   "execution_count": 53,
   "id": "4c0457b5",
   "metadata": {},
   "outputs": [
    {
     "name": "stdout",
     "output_type": "stream",
     "text": [
      "\n",
      "1. Add item\n",
      "2. Show cart\n",
      "3. Calculate total\n",
      "4. Exit\n",
      "Shopping cart: {'Banana': 125, 'Apple': 200, 'Rice': 300, 'Ice-cream': 12.5, 'Pasta': 290.5, 'Milk': 50, 'Fish': 500.0}\n",
      "\n",
      "1. Add item\n",
      "2. Show cart\n",
      "3. Calculate total\n",
      "4. Exit\n",
      "Exit, Thank you for choosing us goodbye!\n"
     ]
    }
   ],
   "source": [
    "# program for the two funcs togather\n",
    "while True:\n",
    "    print('\\n1. Add item\\n2. Show cart\\n3. Calculate total\\n4. Exit')\n",
    "    choice = input('Enter your choice: ')\n",
    "    \n",
    "    if choice == '1':\n",
    "        add_item(cart)\n",
    "    elif choice == '2':\n",
    "        print('Shopping cart:', cart)\n",
    "    elif choice == '3':\n",
    "        print(f'The total price of the items in the cart: {caclulate_total(cart):.2f}')\n",
    "    elif choice == '4':\n",
    "        print('Exit, Thank you for choosing us goodbye!')\n",
    "        break\n",
    "    else:\n",
    "        print('Invalid choice please try agian')"
   ]
  },
  {
   "cell_type": "markdown",
   "id": "0998ac6c",
   "metadata": {},
   "source": [
    "3. **Employee Database:**"
   ]
  },
  {
   "cell_type": "code",
   "execution_count": null,
   "id": "675c3bbd",
   "metadata": {},
   "outputs": [],
   "source": [
    "# database mimic\n",
    "employees_information = [\n",
    "    {\"name\": \"Omar\", \"age\": 26, \"department\": \"Data Engineering\"},\n",
    "    {\"name\": \"Ahmed\", \"age\": 23, \"department\": \"Marketing\"},\n",
    "    {\"name\": \"Hazem\", \"age\": 26, \"department\": \"Testing\"},\n",
    "    {\"name\": \"Abdulrahman\", \"age\": 27, \"department\": \"Testing\"},\n",
    "]"
   ]
  },
  {
   "cell_type": "code",
   "execution_count": 89,
   "id": "f0670cf5",
   "metadata": {},
   "outputs": [
    {
     "name": "stdout",
     "output_type": "stream",
     "text": [
      "Hazem\n",
      "Abdulrahman\n"
     ]
    }
   ],
   "source": [
    "# list comperhension filtiring\n",
    "dept = 'Testing'\n",
    "dept_filter = [emp['name'] for emp in employees_information if emp['department'].lower() == dept.lower()]\n",
    "\n",
    "for name in dept_filter:\n",
    "    print(name)"
   ]
  },
  {
   "cell_type": "code",
   "execution_count": 90,
   "id": "17977f78",
   "metadata": {},
   "outputs": [],
   "source": [
    "# create a function for filtiring\n",
    "def filter_by_departement(employees: list, department: str) -> list:\n",
    "    return [emp['name'] for emp in employees_information if emp['department'].lower() == dept.lower()]"
   ]
  },
  {
   "cell_type": "code",
   "execution_count": 103,
   "id": "3fbb49bd",
   "metadata": {},
   "outputs": [
    {
     "name": "stdout",
     "output_type": "stream",
     "text": [
      "Hazem\n",
      "Abdulrahman\n"
     ]
    }
   ],
   "source": [
    "for emp in filter_by_departement(employees_information, 'Testing'):\n",
    "    print(emp)"
   ]
  },
  {
   "cell_type": "code",
   "execution_count": null,
   "id": "04b4cc2d",
   "metadata": {},
   "outputs": [],
   "source": [
    "# implemented diffrently before in student grades problem so I will wrap it up in func\n",
    "# using loop without sum func\n",
    "def caclulate_avg_age(employees: list) -> float:\n",
    "    total = 0\n",
    "    for emp in employees:\n",
    "        total += emp['age']\n",
    "        avg_age = total / len(employees) \n",
    "    return avg_age"
   ]
  },
  {
   "cell_type": "code",
   "execution_count": 101,
   "id": "46f23827",
   "metadata": {},
   "outputs": [
    {
     "data": {
      "text/plain": [
       "25.5"
      ]
     },
     "execution_count": 101,
     "metadata": {},
     "output_type": "execute_result"
    }
   ],
   "source": [
    "caclulate_avg_age(employees_information)"
   ]
  },
  {
   "cell_type": "markdown",
   "id": "0a15dc6f",
   "metadata": {},
   "source": [
    "##### **Challenge Section**\n"
   ]
  },
  {
   "cell_type": "markdown",
   "id": "8c8ec178",
   "metadata": {},
   "source": [
    "1. **Word Frequency Counter:**"
   ]
  },
  {
   "cell_type": "markdown",
   "id": "813cf7f6",
   "metadata": {},
   "source": [
    "we can use traditional hash map for this problem or we can use some pythonic methods such as `.get(char, 0) + 1`"
   ]
  },
  {
   "cell_type": "code",
   "execution_count": 205,
   "id": "b026dd99",
   "metadata": {},
   "outputs": [
    {
     "name": "stdout",
     "output_type": "stream",
     "text": [
      "{'i': 2, 't': 1}\n"
     ]
    }
   ],
   "source": [
    "S = 'ITI'\n",
    "hash_map = {}\n",
    "\n",
    "for char in S.lower():\n",
    "    if char not in hash_map:\n",
    "        hash_map[char] = 1\n",
    "    else:\n",
    "        hash_map[char] += 1 \n",
    "\n",
    "print(hash_map)"
   ]
  },
  {
   "cell_type": "markdown",
   "id": "2cc87485",
   "metadata": {},
   "source": [
    "2. **Inventory Management:**"
   ]
  },
  {
   "cell_type": "code",
   "execution_count": 135,
   "id": "94cc0d60",
   "metadata": {},
   "outputs": [],
   "source": [
    "inventory  = {\n",
    "    \"MacBook Pro\": {\"price\": 80000, \"quantity\": 10},\n",
    "    \"MacBook Air\": {\"price\": 60000, \"quantity\": 20},\n",
    "    \"Iphone Pro\": {\"price\": 75000, \"quantity\": 35},\n",
    "    \"S25 Ultra\": {\"price\": 73000, \"quantity\": 7},\n",
    "}"
   ]
  },
  {
   "cell_type": "code",
   "execution_count": 160,
   "id": "4aee81e5",
   "metadata": {},
   "outputs": [],
   "source": [
    "def sell_product(product_name: str, quantity_need: int):\n",
    "    if product_name in inventory:\n",
    "        if inventory[product_name]['quantity'] >= quantity_need:\n",
    "            inventory[product_name]['quantity'] -= quantity_need\n",
    "            print(f'Sold succefully {quantity_need} {product_name}.\\\n",
    "                    stock now {inventory[product_name]['quantity']}')\n",
    "        else:\n",
    "            print(f'Not enough stock for {product_name}.\\\n",
    "                    stock availablitiy {inventory[product_name]['quantity']}')\n",
    "    else:\n",
    "        print(f'Invalid prodcut no {product_name} available in inventory')"
   ]
  },
  {
   "cell_type": "code",
   "execution_count": 137,
   "id": "42c51352",
   "metadata": {},
   "outputs": [],
   "source": [
    "def restock(product_name: str, quantity_added: int):\n",
    "    if product_name in inventory:\n",
    "        inventory[product_name]['quantity'] += quantity_added\n",
    "        print(f'restocked succefully {quantity_added} {product_name}.\\\n",
    "                stock now {inventory[product_name]['quantity']}')\n",
    "    else:\n",
    "        print(f'Invalid prodcut no {product_name} available in inventory')"
   ]
  },
  {
   "cell_type": "code",
   "execution_count": 156,
   "id": "906acfda",
   "metadata": {},
   "outputs": [],
   "source": [
    "def show_inventory():\n",
    "    print('\\nInventory:')\n",
    "    print('-' * 50)\n",
    "    print(f\"{'Item':<15} {'Price (EGP)':>15} {'Quantity':>15}\")\n",
    "    print(\"-\" * 50)\n",
    "\n",
    "    for product, inform in inventory.items():\n",
    "        print(f\"{product:<15} {inform['price']:>15,} {inform['quantity']:>15}\")\n",
    "    \n",
    "    print(\"-\" * 50)\n",
    "\n"
   ]
  },
  {
   "cell_type": "code",
   "execution_count": 157,
   "id": "9c75f286",
   "metadata": {},
   "outputs": [
    {
     "name": "stdout",
     "output_type": "stream",
     "text": [
      "\n",
      "Inventory:\n",
      "--------------------------------------------------\n",
      "Item                Price (EGP)        Quantity\n",
      "--------------------------------------------------\n",
      "MacBook Pro              80,000              10\n",
      "MacBook Air              60,000              20\n",
      "Iphone Pro               75,000              35\n",
      "S25 Ultra                73,000               7\n",
      "--------------------------------------------------\n"
     ]
    }
   ],
   "source": [
    "show_inventory()"
   ]
  },
  {
   "cell_type": "code",
   "execution_count": 163,
   "id": "c4b7f2a1",
   "metadata": {},
   "outputs": [
    {
     "name": "stdout",
     "output_type": "stream",
     "text": [
      "Sold succefully 4 MacBook Pro.                    stock now 4\n"
     ]
    }
   ],
   "source": [
    "product_name = input('Ente the product name: ')\n",
    "quantity = int(input('Enter the qunaitity needed: '))\n",
    "sell_product(product_name, quantity)"
   ]
  },
  {
   "cell_type": "code",
   "execution_count": 164,
   "id": "1f2286d9",
   "metadata": {},
   "outputs": [
    {
     "name": "stdout",
     "output_type": "stream",
     "text": [
      "\n",
      "Inventory:\n",
      "--------------------------------------------------\n",
      "Item                Price (EGP)        Quantity\n",
      "--------------------------------------------------\n",
      "MacBook Pro              80,000               4\n",
      "MacBook Air              60,000              20\n",
      "Iphone Pro               75,000              35\n",
      "S25 Ultra                73,000               7\n",
      "--------------------------------------------------\n"
     ]
    }
   ],
   "source": [
    "show_inventory()"
   ]
  },
  {
   "cell_type": "code",
   "execution_count": 165,
   "id": "fd8ee7ca",
   "metadata": {},
   "outputs": [
    {
     "name": "stdout",
     "output_type": "stream",
     "text": [
      "restocked succefully 5 MacBook Pro.                stock now 9\n"
     ]
    }
   ],
   "source": [
    "product_name = input('Ente the product name: ')\n",
    "quantity = int(input('Enter the qunaitity needed: '))\n",
    "restock(product_name, quantity)"
   ]
  },
  {
   "cell_type": "code",
   "execution_count": 166,
   "id": "990d7890",
   "metadata": {},
   "outputs": [
    {
     "name": "stdout",
     "output_type": "stream",
     "text": [
      "\n",
      "Inventory:\n",
      "--------------------------------------------------\n",
      "Item                Price (EGP)        Quantity\n",
      "--------------------------------------------------\n",
      "MacBook Pro              80,000               9\n",
      "MacBook Air              60,000              20\n",
      "Iphone Pro               75,000              35\n",
      "S25 Ultra                73,000               7\n",
      "--------------------------------------------------\n"
     ]
    }
   ],
   "source": [
    "show_inventory()"
   ]
  },
  {
   "cell_type": "markdown",
   "id": "1ca8c6f3",
   "metadata": {},
   "source": [
    "3. **Nested Data Manipulation:**"
   ]
  },
  {
   "cell_type": "code",
   "execution_count": 193,
   "id": "2ffa05d6",
   "metadata": {},
   "outputs": [],
   "source": [
    "library = {\n",
    "    \"Mystery\": [\"And Then There Were None\", \"Gone Girl\", \"The da Vinci Code\"],\n",
    "    \"Fantasy\": [\"Heartless Hunter\", \"The Ballad of Never After\"],\n",
    "    \"History\": [\"Guns, Germs, and Steel\", \"The Rise and Fall of the Third Reich\"]\n",
    "}\n"
   ]
  },
  {
   "cell_type": "code",
   "execution_count": 194,
   "id": "bf00122c",
   "metadata": {},
   "outputs": [],
   "source": [
    "def add_book(genre: str, book: str):\n",
    "    genre = genre.title()\n",
    "    book = book.title()\n",
    "\n",
    "    if genre in library:\n",
    "        library[genre].append(book)\n",
    "    else:\n",
    "        library[genre] = [book] # create a new list of genre if not found\n",
    "\n",
    "    print(f'\"{book}\" has been added to {genre} genre list.')"
   ]
  },
  {
   "cell_type": "code",
   "execution_count": 195,
   "id": "b92b33a6",
   "metadata": {},
   "outputs": [],
   "source": [
    "def list_genre_books(genre: str):\n",
    "    genre = genre.title()\n",
    "\n",
    "    if genre in library:\n",
    "        print(f'\\nBooks in {genre} genre:')\n",
    "        for book in library[genre]:\n",
    "            print(f'- {book}')\n",
    "    else:\n",
    "        print(f'no book found in the {genre} genre')"
   ]
  },
  {
   "cell_type": "code",
   "execution_count": 196,
   "id": "cfcc7db8",
   "metadata": {},
   "outputs": [
    {
     "name": "stdout",
     "output_type": "stream",
     "text": [
      "\"Merit\" has been added to Sport genre list.\n",
      "\"One Dark Window\" has been added to Horror genre list.\n"
     ]
    }
   ],
   "source": [
    "add_book('sport', 'merit')\n",
    "add_book('horror', 'One Dark Window')\n"
   ]
  },
  {
   "cell_type": "code",
   "execution_count": 198,
   "id": "e90a4c60",
   "metadata": {},
   "outputs": [
    {
     "name": "stdout",
     "output_type": "stream",
     "text": [
      "\n",
      "Books in Horror genre:\n",
      "- One Dark Window\n"
     ]
    }
   ],
   "source": [
    "list_genre_books('horror')"
   ]
  },
  {
   "cell_type": "code",
   "execution_count": 199,
   "id": "1023d84f",
   "metadata": {},
   "outputs": [
    {
     "name": "stdout",
     "output_type": "stream",
     "text": [
      "\n",
      "Books in Mystery genre:\n",
      "- And Then There Were None\n",
      "- Gone Girl\n",
      "- The da Vinci Code\n"
     ]
    }
   ],
   "source": [
    "list_genre_books('Mystery')"
   ]
  },
  {
   "cell_type": "markdown",
   "id": "cbd96717",
   "metadata": {},
   "source": [
    "4. **Anagram Checker:**"
   ]
  },
  {
   "cell_type": "markdown",
   "id": "bdeaebf0",
   "metadata": {},
   "source": [
    "the same logic as word frequency counter but with a little tweak on the solution"
   ]
  },
  {
   "cell_type": "code",
   "execution_count": 206,
   "id": "c7f0e811",
   "metadata": {},
   "outputs": [],
   "source": [
    "def is_anagram(string1: str, string2: str) -> bool:\n",
    "\n",
    "    if len(string1) != len(string2):\n",
    "        return False\n",
    "    \n",
    "    string1_hashmap= {}\n",
    "    string2_hashmap= {}\n",
    "\n",
    "    for char in string1.lower():\n",
    "        if char not in string1_hashmap:\n",
    "            string1_hashmap[char] = 1\n",
    "        else:\n",
    "            string1_hashmap[char] += 1\n",
    "    \n",
    "    for char in string2.lower():\n",
    "        if char not in string2_hashmap:\n",
    "            string2_hashmap[char] = 1\n",
    "        else:\n",
    "            string2_hashmap[char] += 1\n",
    "\n",
    "    return string1_hashmap == string2_hashmap\n"
   ]
  },
  {
   "cell_type": "code",
   "execution_count": 208,
   "id": "e00c97a9",
   "metadata": {},
   "outputs": [
    {
     "name": "stdout",
     "output_type": "stream",
     "text": [
      "True\n",
      "False\n"
     ]
    }
   ],
   "source": [
    "print(is_anagram(\"listen\", \"silent\")) \n",
    "print(is_anagram(\"hello\", \"world\")) "
   ]
  },
  {
   "cell_type": "markdown",
   "id": "e0d14ee5",
   "metadata": {},
   "source": [
    "5. **Two-Sum Problem:**"
   ]
  },
  {
   "cell_type": "markdown",
   "id": "c7a9b1ff",
   "metadata": {},
   "source": [
    "In this problem, I approached the solution in three steps:\n",
    "\n",
    "Step 1: Create an empty hash map.\n",
    "\n",
    "Step 2: Iterate through nums, checking if target - num exists in the hash map.\n",
    "\n",
    "Step 3: If found, return the indices."
   ]
  },
  {
   "cell_type": "code",
   "execution_count": 256,
   "id": "88cae74a",
   "metadata": {},
   "outputs": [],
   "source": [
    "def twoSum(nums: list[int], target: int) -> list[int]:\n",
    "    hash_map = {}\n",
    "    for index in range(len(nums)):\n",
    "        reminder = target - nums[index]\n",
    "\n",
    "        if reminder in hash_map:\n",
    "            return[hash_map[reminder], index]\n",
    "        hash_map[nums[index]] = index "
   ]
  },
  {
   "cell_type": "code",
   "execution_count": 257,
   "id": "0e5448fc",
   "metadata": {},
   "outputs": [
    {
     "name": "stdout",
     "output_type": "stream",
     "text": [
      "[0, 1]\n"
     ]
    }
   ],
   "source": [
    "nums = [2, 7, 11, 15]\n",
    "target = 9\n",
    "print(twoSum(nums, target))"
   ]
  },
  {
   "cell_type": "code",
   "execution_count": 258,
   "id": "3117ac47",
   "metadata": {},
   "outputs": [
    {
     "name": "stdout",
     "output_type": "stream",
     "text": [
      "[1, 2]\n"
     ]
    }
   ],
   "source": [
    "nums = [3,2,4]\n",
    "target = 6\n",
    "print(twoSum(nums, target))"
   ]
  },
  {
   "cell_type": "code",
   "execution_count": 259,
   "id": "12fe9f68",
   "metadata": {},
   "outputs": [
    {
     "name": "stdout",
     "output_type": "stream",
     "text": [
      "[0, 1]\n"
     ]
    }
   ],
   "source": [
    "nums = [3,3]\n",
    "target = 6\n",
    "print(twoSum(nums, target))"
   ]
  }
 ],
 "metadata": {
  "kernelspec": {
   "display_name": "Python 3",
   "language": "python",
   "name": "python3"
  },
  "language_info": {
   "codemirror_mode": {
    "name": "ipython",
    "version": 3
   },
   "file_extension": ".py",
   "mimetype": "text/x-python",
   "name": "python",
   "nbconvert_exporter": "python",
   "pygments_lexer": "ipython3",
   "version": "3.13.0"
  },
  "rise": {
   "theme": "sky"
  }
 },
 "nbformat": 4,
 "nbformat_minor": 5
}
