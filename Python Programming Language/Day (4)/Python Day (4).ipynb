{
 "cells": [
  {
   "cell_type": "markdown",
   "id": "9355d22b-1037-47e1-b5cc-f89900fc6b0c",
   "metadata": {},
   "source": [
    "## **1. INTRODUCING LISTS**"
   ]
  },
  {
   "cell_type": "markdown",
   "id": "05eea8d5-172e-4a8b-9177-a1ca70c5cf8a",
   "metadata": {},
   "source": [
    "### **1.1 What is a List?**"
   ]
  },
  {
   "cell_type": "markdown",
   "id": "5def1a0e-2207-4397-847d-5cb527af01b1",
   "metadata": {},
   "source": [
    "> - <span style=\"background:LemonChiffon\">A list is a collection of items in a particular order.\n",
    "> - You can make a list that includes the letters of the alphabet, the digits from 0 to 9, or names, ...\n",
    "> - It’s a good idea to make the name of your list **plural,** such as letters, digits, or names.\n",
    "> - In Python, **square brackets `[]`** indicate a list, and individual elements in the list are separated by **commas.**"
   ]
  },
  {
   "cell_type": "code",
   "execution_count": null,
   "id": "893d0574-3f7b-44c2-b665-aeee8a0785f6",
   "metadata": {},
   "outputs": [],
   "source": [
    "names = [\"Salma\", \"Ali\", \"Mona\", \"Sarah\", \"Ahmed\"]\n",
    "print(names)"
   ]
  },
  {
   "cell_type": "markdown",
   "id": "2cdfd144-78f1-455c-95c0-6d0544f06f65",
   "metadata": {},
   "source": [
    "### **1.2 Accessing Elements in a List**"
   ]
  },
  {
   "attachments": {
    "087020f1-0019-49ff-8b47-19dfd4aee915.png": {
     "image/png": "[encoded data removed]"
    }
   },
   "cell_type": "markdown",
   "id": "80efbea4-e281-4125-9462-1d84024f83cd",
   "metadata": {},
   "source": [
    "> Lists are ordered collections, so you can access any element in a list by **position**, or **index**, of the item.<br>\n",
    "> ![image.png](attachment:087020f1-0019-49ff-8b47-19dfd4aee915.png)"
   ]
  },
  {
   "cell_type": "code",
   "execution_count": null,
   "id": "21319a35-f154-46ec-9e00-71d9c1b0dd6f",
   "metadata": {},
   "outputs": [],
   "source": [
    "names = [\"Salma\", \"Ali\", \"Mona\", \"Sarah\", \"Ahmed\"]\n",
    "print(names[0])"
   ]
  },
  {
   "cell_type": "markdown",
   "id": "34a47bef-a695-4dc3-a770-2b743288eb9a",
   "metadata": {},
   "source": [
    "> You can also use the string methods on any element in this list. For example, you can format the element \"salma\" to look more presentable by using the **`title()`** method:"
   ]
  },
  {
   "cell_type": "code",
   "execution_count": null,
   "id": "7000c672-09e4-4bb8-afde-87c748aeeb08",
   "metadata": {},
   "outputs": [],
   "source": [
    "names = [\"salma\", \"ali\", \"mona\", \"sarah\", \"ahmed\"]\n",
    "print(names[0].title())"
   ]
  },
  {
   "cell_type": "markdown",
   "id": "f8d91850-3a7f-4a0e-95ee-5c2b14016583",
   "metadata": {},
   "source": [
    "> Python considers the first item in a list to be at position 0, you can get any element you want from a list by <span style=\"background:LemonChiffon\">subtracting one from its position in the list.</span> For instance, to access the fourth item in a list, you request the item at index 3"
   ]
  },
  {
   "cell_type": "code",
   "execution_count": null,
   "id": "8aa54d80-84bb-460d-9311-0e8e32afaaba",
   "metadata": {},
   "outputs": [],
   "source": [
    "names = [\"salma\", \"ali\", \"mona\", \"sarah\", \"ahmed\"]\n",
    "print(names[1])\n",
    "print(names[3])\n",
    "print(names[4])"
   ]
  },
  {
   "cell_type": "markdown",
   "id": "d4f37dd0-59aa-42d6-86aa-bcbbc2e4fc9d",
   "metadata": {},
   "source": [
    "> To access the last element in a list, request the index at position **`-1`**"
   ]
  },
  {
   "cell_type": "code",
   "execution_count": null,
   "id": "7d60cd4f-302f-4d2d-aa34-10023aa40aa2",
   "metadata": {},
   "outputs": [],
   "source": [
    "names = [\"Salma\", \"Ali\", \"Mona\", \"Sarah\", \"Ahmed\"]\n",
    "print(names[-1])"
   ]
  },
  {
   "cell_type": "markdown",
   "id": "40cc179f-2979-4faa-8dbd-12d1444f7d15",
   "metadata": {},
   "source": [
    "> - This syntax is quite useful, because you’ll often want to <span style=\"background:LemonChiffon\">access the last items in a list without knowing \n",
    "exactly how long the list is.\n",
    "> - The index `-2` returns the second item from the end of the list, the index `-3` returns the third item from the end, and so on. "
   ]
  },
  {
   "cell_type": "code",
   "execution_count": null,
   "id": "7a40e46c-5322-4d9b-9cf1-df52f0c78751",
   "metadata": {},
   "outputs": [],
   "source": [
    "names = [\"Salma\", \"Ali\", \"Mona\", \"Sarah\", \"Ahmed\"]\n",
    "print(names[-2])\n",
    "print(names[-3])"
   ]
  },
  {
   "cell_type": "markdown",
   "id": "c20440f8-bec1-4f48-b829-6293f7b70653",
   "metadata": {},
   "source": [
    "### **1.3 Using Individual Values from a List**"
   ]
  },
  {
   "cell_type": "markdown",
   "id": "ff9c0d09-053a-4e51-898a-34ce5d876513",
   "metadata": {},
   "source": [
    "> You can use individual values from a list just as you would any other variable. For example, you can use f-strings to create a message based on a value from a list."
   ]
  },
  {
   "cell_type": "code",
   "execution_count": null,
   "id": "078b539e-2a8e-444e-a22d-826ec82c293f",
   "metadata": {},
   "outputs": [],
   "source": [
    "names = [\"Salma\", \"Ali\", \"Mona\", \"Sarah\", \"Ahmed\"]\n",
    "greeting_message = f\"Hello, {names[0]}!\"\n",
    "\n",
    "print(greeting_message)"
   ]
  },
  {
   "cell_type": "markdown",
   "id": "2c440961-16a4-49fc-ad2d-bb46fce6376c",
   "metadata": {},
   "source": [
    "### **1.4 Modifying, Adding, and Removing Elements**"
   ]
  },
  {
   "cell_type": "markdown",
   "id": "d51090ff-6848-44a9-8c54-9ddd99a6f6e7",
   "metadata": {},
   "source": [
    "> - Most lists you create will be dynamic, meaning <span style=\"background:LemonChiffon\">you’ll build a list and then add and remove elements from it as your program runs.\n",
    "> - For example, you might create a game in which a player has to shoot aliens. You could store the initial set of aliens in a list and then remove an alien from the list each time one is shot down. Each time a new alien appears on the screen, you add it to the list. "
   ]
  },
  {
   "cell_type": "markdown",
   "id": "99b1d476-b45a-4f33-a34d-b89402a3975f",
   "metadata": {},
   "source": [
    "#### **1.4.1 Modifying Elements in a List**"
   ]
  },
  {
   "cell_type": "markdown",
   "id": "04a92e05-96c4-4e9f-941a-20409a456ff5",
   "metadata": {},
   "source": [
    "> To change an element, use the name of the list followed by the index of the element you want to change, and then provide the new \n",
    "value you want that item to have."
   ]
  },
  {
   "cell_type": "code",
   "execution_count": null,
   "id": "f57d2264-cc98-4e2e-86e7-8d0a3325b5a5",
   "metadata": {},
   "outputs": [],
   "source": [
    "names = [\"Salma\", \"Ali\", \"Mona\", \"Sarah\", \"Ahmed\"]\n",
    "print(names)\n",
    "\n",
    "names[0] = \"Ola\"\n",
    "print(names)"
   ]
  },
  {
   "cell_type": "markdown",
   "id": "d1fb0b36-831d-4723-a520-0af0c9c9a1f0",
   "metadata": {},
   "source": [
    "#### **1.4.2 Adding Elements to a List**"
   ]
  },
  {
   "cell_type": "markdown",
   "id": "04b47594-352f-465f-8e4c-83414de6c044",
   "metadata": {},
   "source": [
    "> You might want to add a new element to a list for many reasons. For example, you might want to make new aliens appear in a game or <span style=\"background:LemonChiffon\">add new registered users to a website.</span> Python provides several ways to add new data to existing lists."
   ]
  },
  {
   "cell_type": "markdown",
   "id": "49d9e339-fb31-4ce0-b5ad-644a2292a4eb",
   "metadata": {},
   "source": [
    "##### **1.4.2.1 Appending Elements to the End of a List**"
   ]
  },
  {
   "cell_type": "markdown",
   "id": "8dd69d59-fd97-40c2-af8d-a3de7063423b",
   "metadata": {},
   "source": [
    "> <span style=\"background:LemonChiffon\">When you append an item to a list, the new element is added to the **end** of the list."
   ]
  },
  {
   "cell_type": "code",
   "execution_count": null,
   "id": "9b4c8977-33fd-43c9-b118-8c7521e1bf87",
   "metadata": {},
   "outputs": [],
   "source": [
    "names = [\"Salma\", \"Ali\", \"Mona\", \"Sarah\", \"Ahmed\"]\n",
    "print(names)\n",
    "\n",
    "names.append(\"Khaled\")\n",
    "print(names)"
   ]
  },
  {
   "cell_type": "code",
   "execution_count": null,
   "id": "409dbada-93d5-4949-abfa-3d879bd820f1",
   "metadata": {},
   "outputs": [],
   "source": [
    "names = []\n",
    "\n",
    "names.append(\"Salma\")\n",
    "names.append(\"Ali\")\n",
    "names.append(\"Mona\")\n",
    "\n",
    "print(names)"
   ]
  },
  {
   "cell_type": "markdown",
   "id": "07969ab7-a82b-44a6-9b5f-ce3091275001",
   "metadata": {},
   "source": [
    "> - <span style=\"background:LavenderBlush\">Building lists this way is very common, because you often won’t know the data your users want to store in a program until after the program is running.\n",
    "> - To put your users in control, start by defining an empty list that will hold the users’ values. Then append each new value provided to the list you just created."
   ]
  },
  {
   "cell_type": "markdown",
   "id": "d009a101-5e92-474c-a760-8e8f6f4c2861",
   "metadata": {},
   "source": [
    "##### **1.4.2.2 Inserting Elements into a List**"
   ]
  },
  {
   "cell_type": "markdown",
   "id": "d94b782d-21d2-4ae5-b369-62c28983de5c",
   "metadata": {},
   "source": [
    "> You can add a new element at any position in your list by using the **`insert()`** method. You do this by specifying the <span style=\"background:LemonChiffon\">index of the new element</span> and the <span style=\"background:LemonChiffon\">value of the new element:"
   ]
  },
  {
   "cell_type": "code",
   "execution_count": null,
   "id": "13e03a82-21da-48cb-a60f-f72cf6b73a3e",
   "metadata": {},
   "outputs": [],
   "source": [
    "names = [\"Salma\", \"Ali\", \"Mona\"]\n",
    "print(names)\n",
    "\n",
    "names.insert(1, \"Rami\")\n",
    "print(names)"
   ]
  },
  {
   "cell_type": "markdown",
   "id": "83430b38-620e-41b4-9dd1-272df29681e5",
   "metadata": {},
   "source": [
    "> <span style=\"background:LemonChiffon\">This operation shifts every other value in the list one position to the right."
   ]
  },
  {
   "cell_type": "markdown",
   "id": "2e445a55-7560-4c9b-bdce-7095de93918f",
   "metadata": {},
   "source": [
    "#### **1.4.3 Removing Elements from a List**"
   ]
  },
  {
   "cell_type": "markdown",
   "id": "8851c1aa-33ae-4271-97b9-b07bf74e3fe2",
   "metadata": {},
   "source": [
    "> For example, <span style=\"background:LemonChiffon\">when a user decides to cancel their account on a web application you created, you’ll want to remove that user from the list of active users.</span> You can remove an item according to **its position** in the list or according to **its value.**"
   ]
  },
  {
   "cell_type": "markdown",
   "id": "d8d0159e-4035-4738-8fb6-99bdca7c4a2c",
   "metadata": {},
   "source": [
    "#### **1.4.3.1 Removing an Item Using the **`del`** Statement**"
   ]
  },
  {
   "cell_type": "markdown",
   "id": "293a4328-a163-4bf9-a3cd-103a1039d4f0",
   "metadata": {},
   "source": [
    "> <span style=\"background:LemonChiffon\">If you know the position of the item you want to remove</span> from a list, you can use the `del` statement:"
   ]
  },
  {
   "cell_type": "code",
   "execution_count": null,
   "id": "251ddeb1-1261-4600-8309-5419c184fc07",
   "metadata": {},
   "outputs": [],
   "source": [
    "names = [\"Salma\", \"Ali\", \"Mona\"]\n",
    "print(names)\n",
    "\n",
    "del names[1]\n",
    "print(names)"
   ]
  },
  {
   "cell_type": "markdown",
   "id": "5d34e4dc-9e71-409d-9e54-ff53ea98c315",
   "metadata": {},
   "source": [
    "> <span style=\"background:LemonChiffon\">You can no longer access the value that was removed from the list after the del statement is used. "
   ]
  },
  {
   "cell_type": "markdown",
   "id": "36c41583-cc24-4131-a763-fc8e24f617b3",
   "metadata": {},
   "source": [
    "#### **1.4.3.2 Removing an Item Using the **`pop()`** Method**"
   ]
  },
  {
   "cell_type": "markdown",
   "id": "d70d08ee-c167-4332-8c4a-f0c9e8385881",
   "metadata": {},
   "source": [
    "> - <span style=\"background:LemonChiffon\">Sometimes you’ll want to use the value of an item after you remove it from a list.\n",
    "> - For example, in a web application, you might want to remove a user from a list of active members and then add that user to a list of inactive members.\n",
    "> - The **`pop()`** method <span style=\"background:LemonChiffon\">removes the last item in a list, but it lets you work with that item after removing it.</span>"
   ]
  },
  {
   "cell_type": "code",
   "execution_count": null,
   "id": "92e72b06-96dc-4fa7-9824-fb7b239d1855",
   "metadata": {},
   "outputs": [],
   "source": [
    "names = [\"Salma\", \"Ali\", \"Mona\"]\n",
    "print(names)"
   ]
  },
  {
   "cell_type": "code",
   "execution_count": null,
   "id": "631d6cfe-36ae-433f-bbf0-b4ad3a22b508",
   "metadata": {},
   "outputs": [],
   "source": [
    "popped_name = names.pop()"
   ]
  },
  {
   "cell_type": "code",
   "execution_count": null,
   "id": "784fc5ef-9db0-4ae7-b9b4-2a09cd1e71b3",
   "metadata": {},
   "outputs": [],
   "source": [
    "print(names)"
   ]
  },
  {
   "cell_type": "code",
   "execution_count": null,
   "id": "38617657-f431-4f2d-9b3f-188f4a0fe579",
   "metadata": {},
   "outputs": [],
   "source": [
    "print(popped_name)"
   ]
  },
  {
   "cell_type": "code",
   "execution_count": null,
   "id": "dac354f6-f53c-42f5-8f65-ad647495369b",
   "metadata": {},
   "outputs": [],
   "source": [
    "print(f\"The last user registered in the application was {popped_name}.\")"
   ]
  },
  {
   "cell_type": "markdown",
   "id": "efd3bf68-a863-46bf-b273-9e820e59d512",
   "metadata": {},
   "source": [
    "#### **1.4.3.3 Popping Items from Any Position in a List**"
   ]
  },
  {
   "cell_type": "markdown",
   "id": "3ddf38b6-3cf5-4e69-8e6c-bd650a9ab729",
   "metadata": {},
   "source": [
    "> You can use **`pop()`** to <span style=\"background:LemonChiffon\">remove an item from any position in a list</span> by including the index of the item"
   ]
  },
  {
   "cell_type": "code",
   "execution_count": null,
   "id": "22b1a6e8-c3da-4185-823d-3a6b8bb45635",
   "metadata": {},
   "outputs": [],
   "source": [
    "names = [\"Salma\", \"Ali\", \"Mona\"]\n",
    "print(names)"
   ]
  },
  {
   "cell_type": "code",
   "execution_count": null,
   "id": "ce3f1076-40d9-4185-932c-f4a3f5e4ea73",
   "metadata": {},
   "outputs": [],
   "source": [
    "popped_name = names.pop(0)"
   ]
  },
  {
   "cell_type": "code",
   "execution_count": null,
   "id": "957c8309-84dc-437d-a52c-cfc69b984d94",
   "metadata": {},
   "outputs": [],
   "source": [
    "print(names)"
   ]
  },
  {
   "cell_type": "code",
   "execution_count": null,
   "id": "1fb6d48d-6755-4e7e-b7fa-bdb4789a337b",
   "metadata": {},
   "outputs": [],
   "source": [
    "print(popped_name)"
   ]
  },
  {
   "cell_type": "code",
   "execution_count": null,
   "id": "65dd73c9-c043-4ca3-b3fc-77975cddb713",
   "metadata": {},
   "outputs": [],
   "source": [
    "print(f\"The first user registered in the application was {popped_name}.\")"
   ]
  },
  {
   "cell_type": "markdown",
   "id": "f97b8d35-5a47-4f0b-8fa1-70a221ae8691",
   "metadata": {},
   "source": [
    "> If you’re unsure whether to use the **`del`** statement or the **`pop()`** method:\n",
    "> - If you want to delete an item from a list and not use that item in any way, use the `del` statement.\n",
    "> - If you want to use an item as you remove it, use the `pop()` method."
   ]
  },
  {
   "cell_type": "markdown",
   "id": "515373f8-26b0-4bdb-9a88-828b27e8be53",
   "metadata": {},
   "source": [
    "#### **1.4.3.4 Removing an Item by Value**"
   ]
  },
  {
   "cell_type": "markdown",
   "id": "8d7b1598-34bf-47af-b5c0-f0b0eacd3740",
   "metadata": {},
   "source": [
    "> - <span style=\"background:LemonChiffon\">Sometimes you won’t know the position of the value you want to remove from a list.\n",
    "> - Use the **`remove()`** method."
   ]
  },
  {
   "cell_type": "code",
   "execution_count": null,
   "id": "87a843a7-eb61-4e49-a5fa-6fc8a2238a19",
   "metadata": {},
   "outputs": [],
   "source": [
    "pets = [\"cat\", \"dog\", \"bird\", \"hamster\"]\n",
    "print(pets)"
   ]
  },
  {
   "cell_type": "code",
   "execution_count": null,
   "id": "ef10ec02-c34b-4b4a-8a7e-57ab80565994",
   "metadata": {},
   "outputs": [],
   "source": [
    "pets.remove(\"dog\")"
   ]
  },
  {
   "cell_type": "code",
   "execution_count": null,
   "id": "da3e2abb-521c-442c-9c3e-3d0777c21f49",
   "metadata": {},
   "outputs": [],
   "source": [
    "print(pets)"
   ]
  },
  {
   "cell_type": "markdown",
   "id": "78b1a682-b534-4a60-9244-256cf0c12cba",
   "metadata": {},
   "source": [
    "> You can also use the `remove()` method to work with a value that’s being removed from a list. Let’s remove the value \"dog\" and print a reason for removing it from the list:"
   ]
  },
  {
   "cell_type": "code",
   "execution_count": null,
   "id": "f62f4d03-c455-4f1e-87f4-52960515815a",
   "metadata": {},
   "outputs": [],
   "source": [
    "pets = [\"cat\", \"dog\", \"bird\", \"hamster\"]\n",
    "print(pets)"
   ]
  },
  {
   "cell_type": "code",
   "execution_count": null,
   "id": "ff10c678-29a5-48e6-8716-d6b9996fe344",
   "metadata": {},
   "outputs": [],
   "source": [
    "removed_pet_type = \"dog\"\n",
    "pets.remove(removed_pet_type)"
   ]
  },
  {
   "cell_type": "code",
   "execution_count": null,
   "id": "2a798c3f-27bd-4e9f-9482-2cec5c29ce8b",
   "metadata": {},
   "outputs": [],
   "source": [
    "print(pets)"
   ]
  },
  {
   "cell_type": "code",
   "execution_count": null,
   "id": "38a81f77-c9ca-4880-8cde-3cf5d9600b45",
   "metadata": {},
   "outputs": [],
   "source": [
    "print(f\"Services for {removed_pet_type}s are no longer available\")"
   ]
  },
  {
   "cell_type": "markdown",
   "id": "83551fa9-5596-4014-ad3d-d05a381cb5e2",
   "metadata": {},
   "source": [
    "#### 📝 **Note**\n",
    "> - <span style=\"background:LavenderBlush\">The **`remove()`** method deletes only the first occurrence of the value you specify.</span> If there’s a possibility the value appears more than once in the list, you’ll need to use a loop to make sure all occurrences of the value are removed.\n",
    "> - If the specified item is not in the list, the **`remove()`** causes an error. <span style=\"background:LavenderBlush\">You can check for the presence of an item with the **`in`** operator"
   ]
  },
  {
   "cell_type": "code",
   "execution_count": null,
   "id": "33d27fdf-4f8a-4859-91c9-09cc8809e216",
   "metadata": {},
   "outputs": [],
   "source": [
    "pets = [\"cat\", \"dog\", \"bird\", \"hamster\", \"dog\"]\n",
    "print(pets)"
   ]
  },
  {
   "cell_type": "code",
   "execution_count": null,
   "id": "8dd23843-a0cd-49a4-86f6-0e2b6099303a",
   "metadata": {},
   "outputs": [],
   "source": [
    "removed_pet_type = \"dog\"\n",
    "pets.remove(removed_pet_type)"
   ]
  },
  {
   "cell_type": "code",
   "execution_count": null,
   "id": "9a2a6829-878f-4e9f-94ed-49492696e20a",
   "metadata": {},
   "outputs": [],
   "source": [
    "print(pets)"
   ]
  },
  {
   "cell_type": "code",
   "execution_count": null,
   "id": "8b6e722a-6ac6-4810-b012-66414b478ed1",
   "metadata": {},
   "outputs": [],
   "source": [
    "pets = [\"cat\", \"dog\", \"bird\", \"hamster\"]\n",
    "pets.remove(\"goldfish\")"
   ]
  },
  {
   "cell_type": "code",
   "execution_count": null,
   "id": "939cba62-10c2-4c55-852b-6c0d322b9c22",
   "metadata": {},
   "outputs": [],
   "source": [
    "pets = [\"cat\", \"dog\", \"bird\", \"hamster\"]\n",
    "if \"goldfish\" in pets:\n",
    "    pets.remove(\"goldfish\")"
   ]
  },
  {
   "cell_type": "markdown",
   "id": "1db74274-7123-4ba1-a1d5-6b867aadb23e",
   "metadata": {},
   "source": [
    "### **1.5 Organizing a List**"
   ]
  },
  {
   "cell_type": "markdown",
   "id": "3456da29-1795-420a-8ed4-136512f7edfc",
   "metadata": {},
   "source": [
    "> - You can’t always control the order in which your users provide their data.\n",
    "> - You’ll frequently want to present your information in a particular order.\n",
    "> - Python provides a number of different ways to organize your lists, depending on the situation."
   ]
  },
  {
   "cell_type": "markdown",
   "id": "2c8493cb-83f2-41cf-a0d2-334498cea6b5",
   "metadata": {},
   "source": [
    "#### **1.5.1 Sorting a List Permanently with the **`sort()`** Method**"
   ]
  },
  {
   "cell_type": "markdown",
   "id": "9e1e6f9c-3eac-4ac4-b872-45af648ffd24",
   "metadata": {},
   "source": [
    "> Imagine we have a list of pets and want to change the order of the list to store them **alphabetically.**"
   ]
  },
  {
   "cell_type": "code",
   "execution_count": null,
   "id": "e496e1ac-f22c-47ed-8a02-c4382e2ca95e",
   "metadata": {},
   "outputs": [],
   "source": [
    "pets = [\"cat\", \"dog\", \"bird\", \"hamster\"]\n",
    "pets.sort()"
   ]
  },
  {
   "cell_type": "markdown",
   "id": "63ff322e-92ea-470a-9c55-5d88570a3753",
   "metadata": {},
   "source": [
    "> <span style=\"background:LemonChiffon\">The **`sort()`** method changes the order of the list permanently.</span> The pets are now in alphabetical order, and we can never revert to the original order:"
   ]
  },
  {
   "cell_type": "code",
   "execution_count": null,
   "id": "31fbdfb4-17ad-47c1-b53d-35c25175c2a9",
   "metadata": {},
   "outputs": [],
   "source": [
    "print(pets)"
   ]
  },
  {
   "cell_type": "markdown",
   "id": "de6391cc-ce92-4899-bee8-5addb4f1071d",
   "metadata": {},
   "source": [
    "> You can also sort this list in **reverse-alphabetical** order by passing the argument `reverse=True` to the `sort()` method. "
   ]
  },
  {
   "cell_type": "code",
   "execution_count": null,
   "id": "3bc7a8d9-ddcd-46c5-94f6-83cd9c863e84",
   "metadata": {},
   "outputs": [],
   "source": [
    "pets = [\"cat\", \"dog\", \"bird\", \"hamster\"]\n",
    "pets.sort(reverse=True)"
   ]
  },
  {
   "cell_type": "code",
   "execution_count": null,
   "id": "7ca709f4-bca3-4f8c-ae43-2b6c1ef7c0b0",
   "metadata": {},
   "outputs": [],
   "source": [
    "print(pets)"
   ]
  },
  {
   "cell_type": "markdown",
   "id": "6aa9c649-386b-4659-a7ac-ca0288f8c34c",
   "metadata": {},
   "source": [
    "#### **1.5.2 Sorting a List Temporarily with the **`sorted()`** Function**"
   ]
  },
  {
   "cell_type": "markdown",
   "id": "aa4f3b4c-927a-4b9c-849e-1b7693535746",
   "metadata": {},
   "source": [
    "> The **`sorted()`** function lets you display your list in a particular order, but doesn’t affect the actual order of the list."
   ]
  },
  {
   "cell_type": "code",
   "execution_count": null,
   "id": "cbaf6126-f13a-4563-a2f4-e1f591fbe845",
   "metadata": {},
   "outputs": [],
   "source": [
    "pets = [\"cat\", \"dog\", \"bird\", \"hamster\"]\n",
    "\n",
    "print(\"Here is the original list:\")\n",
    "print(pets)\n",
    "\n",
    "print(\"\\nHere is the sorted list:\")\n",
    "print(sorted(pets))\n",
    "\n",
    "print(\"\\nHere is the original list again:\")\n",
    "print(pets)"
   ]
  },
  {
   "cell_type": "markdown",
   "id": "6fe992bb-2106-4509-8fc8-44762e4767e5",
   "metadata": {},
   "source": [
    "> The `sorted()` function can also accept a `reverse=True` argument if you want to display a list in reverse-alphabetical order."
   ]
  },
  {
   "cell_type": "markdown",
   "id": "096447dd-f0ca-4e15-829d-5e5c29a20647",
   "metadata": {},
   "source": [
    "#### **1.5.3 Printing a List in Reverse Order**"
   ]
  },
  {
   "cell_type": "markdown",
   "id": "07042dec-d462-4b74-96c5-27271547ba41",
   "metadata": {},
   "source": [
    "> To reverse the original order of a list, you can use the **`reverse()`** method."
   ]
  },
  {
   "cell_type": "code",
   "execution_count": null,
   "id": "269f8154-c53b-4612-b4cc-a2e65f7e8f7a",
   "metadata": {},
   "outputs": [],
   "source": [
    "pets = [\"cat\", \"dog\", \"bird\", \"hamster\"]\n",
    "print(pets)"
   ]
  },
  {
   "cell_type": "markdown",
   "id": "79cc56c2-ee4f-4aa6-b917-69a999034daf",
   "metadata": {},
   "source": [
    "> - Notice that **`reverse()`** doesn’t sort backward alphabetically; it simply reverses the order of the list"
   ]
  },
  {
   "cell_type": "code",
   "execution_count": null,
   "id": "944c7456-c960-4f44-b009-3c579755e46a",
   "metadata": {},
   "outputs": [],
   "source": [
    "pets.reverse()\n",
    "print(pets)"
   ]
  },
  {
   "cell_type": "markdown",
   "id": "371ba734-620f-461e-a443-4aa0bfe52221",
   "metadata": {},
   "source": [
    "> The `reverse()` method changes the order of a list permanently, but you can revert to the original order anytime by applying `reverse()` to the same list a second time."
   ]
  },
  {
   "cell_type": "markdown",
   "id": "01d0e27e-cc32-46f2-b50a-5bf9d3316fb1",
   "metadata": {},
   "source": [
    "### **1.6 Finding the Length of a List**"
   ]
  },
  {
   "cell_type": "markdown",
   "id": "08c8c957-3752-4454-acdf-440810b94d1e",
   "metadata": {},
   "source": [
    "> You can quickly find the length of a list by using the **`len()`** function. "
   ]
  },
  {
   "cell_type": "code",
   "execution_count": null,
   "id": "72105c72-5728-4f41-9bb3-991981e8ed6c",
   "metadata": {},
   "outputs": [],
   "source": [
    "pets = [\"cat\", \"dog\", \"bird\", \"hamster\"]\n",
    "print(len(pets))"
   ]
  },
  {
   "cell_type": "markdown",
   "id": "64113144-c2ff-4dbc-850d-62508043d887",
   "metadata": {},
   "source": [
    "> - You’ll find `len()` useful when you need to identify the number of aliens that still need to be shot down in a game.\n",
    "> - Figure out the number of registered users on a website."
   ]
  },
  {
   "cell_type": "code",
   "execution_count": null,
   "id": "6762c636-eba9-4c01-ba5a-d91ca76f9bd3",
   "metadata": {},
   "outputs": [],
   "source": [
    "pets = []\n",
    "print(len(pets))"
   ]
  },
  {
   "cell_type": "markdown",
   "id": "a0c8ce31-1b75-4198-bb74-527857a890d8",
   "metadata": {},
   "source": [
    "### **1.7 Avoiding Index Errors When Working with Lists**"
   ]
  },
  {
   "cell_type": "code",
   "execution_count": null,
   "id": "06b953d9-4936-4895-b2c3-fb15cfe72cdb",
   "metadata": {},
   "outputs": [],
   "source": [
    "pets = [\"cat\", \"dog\", \"bird\", \"hamster\"]\n",
    "print(pets[4])"
   ]
  },
  {
   "cell_type": "markdown",
   "id": "c2679326-b6a6-4b48-81b5-37f8f480602f",
   "metadata": {},
   "source": [
    "> If an **index error** occurs in your program, try adjusting the index you’re asking for by one. Then run the program again to see if the results are correct."
   ]
  },
  {
   "cell_type": "code",
   "execution_count": null,
   "id": "3caa6c40-cfd6-4dc0-8f93-0c5153aca0f2",
   "metadata": {},
   "outputs": [],
   "source": [
    "pets = [\"cat\", \"dog\", \"bird\", \"hamster\"]\n",
    "print(pets[3])"
   ]
  },
  {
   "cell_type": "markdown",
   "id": "00a4845f-eea1-454f-8537-74fa589588da",
   "metadata": {},
   "source": [
    "> To access the last item in a list, you should use the index **`-1`**. This will always work, even if your list has changed size since the last time you accessed it:"
   ]
  },
  {
   "cell_type": "code",
   "execution_count": null,
   "id": "d924f423-ef17-4399-8948-ce36bc084532",
   "metadata": {},
   "outputs": [],
   "source": [
    "pets = [\"cat\", \"dog\", \"bird\", \"hamster\"]\n",
    "print(pets[-1])"
   ]
  },
  {
   "cell_type": "markdown",
   "id": "aaf7e987-2e7b-4d47-8f2c-19a19cbb6cb9",
   "metadata": {},
   "source": [
    "> The only time this approach will cause an error is when you request the last item from an empty list:"
   ]
  },
  {
   "cell_type": "code",
   "execution_count": null,
   "id": "982cfc09-ca14-41a7-8701-4ccfe9b0f582",
   "metadata": {},
   "outputs": [],
   "source": [
    "pets = []\n",
    "print(pets[-1])"
   ]
  },
  {
   "cell_type": "markdown",
   "id": "d864cf60-4f4e-4db7-983a-6f730ab5b6bb",
   "metadata": {},
   "source": [
    "> If an index error occurs and you can’t figure out how to resolve it:\n",
    "> - Try <span style=\"background:LavenderBlush\">printing your list or just printing the length of your list.\n",
    "> - Your list might look much different than you thought it did, especially if it has been managed dynamically by your program. Seeing the actual list, or the exact number of \n",
    "items in your list, can help you"
   ]
  },
  {
   "cell_type": "markdown",
   "id": "1a2f283f-f816-4c5c-885f-5e82229cc84c",
   "metadata": {},
   "source": [
    "## **2. WORKING WITH LISTS**"
   ]
  },
  {
   "cell_type": "markdown",
   "id": "c19352c4-cbdb-45d2-876d-22af6bc39153",
   "metadata": {},
   "source": [
    "### **2.1 Looping Through an Entire List**"
   ]
  },
  {
   "cell_type": "markdown",
   "id": "0d7ad848-97f8-45dc-9519-9e6644cc2ce5",
   "metadata": {},
   "source": [
    "> - <span style=\"background:LemonChiffon\">You’ll often want to run through all entries in a list, performing the same task with each item.\n",
    "> - For example, in a game you might want to move every element on the screen by the same amount.\n",
    "> - In a list of numbers, you might want to perform the same statistical operation on every element.\n",
    "> - You’ll want to display each headline from a list of articles on a website. \n"
   ]
  },
  {
   "cell_type": "code",
   "execution_count": null,
   "id": "27c3f904-697a-49bf-9d37-ab7605c2b96e",
   "metadata": {},
   "outputs": [],
   "source": [
    "names = [\"salma\", \"ali\", \"mona\", \"sarah\", \"ahmed\"]\n",
    "for name in names:\n",
    "    print(name)"
   ]
  },
  {
   "cell_type": "markdown",
   "id": "4e27399b-e757-42cd-8014-3c37475d7929",
   "metadata": {},
   "source": [
    "> <span style=\"background:LemonChiffon\">This line tells Python to pull a name from the list names, and associate it with the variable name.</span> Then, print the value that’s just been assigned to name. Python then repeats these last two lines, once for each name in the list."
   ]
  },
  {
   "cell_type": "markdown",
   "id": "fa66cfba-6189-4ba5-a349-cf4836fadb7b",
   "metadata": {},
   "source": [
    "> - Also keep in mind when writing your own for loops that you can choose any name you want for the temporary variable that will be associated with each value in the list.\n",
    "> - <span style=\"background:LavenderBlush\">\n",
    "However, it’s helpful to choose a meaningful name that represents a single item from the list."
   ]
  },
  {
   "cell_type": "code",
   "execution_count": null,
   "id": "e10ed4fc-f7d5-4dbe-a137-69753b3461ce",
   "metadata": {},
   "outputs": [],
   "source": [
    "for cat in cats:\n",
    "for dog in dogs:\n",
    "for item in list_of_items:"
   ]
  },
  {
   "cell_type": "markdown",
   "id": "b61f9b38-3290-44bc-9b03-6b529280572b",
   "metadata": {},
   "source": [
    "> - These naming conventions can help you follow the action being done on each item within a for loop.\n",
    "> - <span style=\"background:LavenderBlush\">Using **singular** and **plural** names can help you identify whether a section of code is working with a single element from the list or the entire list."
   ]
  },
  {
   "cell_type": "markdown",
   "id": "129d6f70-2a3b-4008-be22-88dde2215cce",
   "metadata": {},
   "source": [
    "> You can do just about anything with each item in a for loop. "
   ]
  },
  {
   "cell_type": "code",
   "execution_count": null,
   "id": "c46e2454-096c-4a9b-90fa-12d6ec5a52af",
   "metadata": {},
   "outputs": [],
   "source": [
    "for name in names:\n",
    "    print(f\"{name.title()}, you did a great job!\")"
   ]
  },
  {
   "cell_type": "markdown",
   "id": "7aaed279-1955-44ef-bf52-9d4db7e69545",
   "metadata": {},
   "source": [
    "> Any lines of code after the for loop that are not indented are <span style=\"background:LemonChiffon\">executed once without repetition. "
   ]
  },
  {
   "cell_type": "code",
   "execution_count": null,
   "id": "07e735c8-e330-4af7-8743-bb32131f3026",
   "metadata": {},
   "outputs": [],
   "source": [
    "for name in names:\n",
    "    print(f\"{name.title()}, you did a great job!\")\n",
    "\n",
    "print(\"\\nThank you, everyone.\")"
   ]
  },
  {
   "cell_type": "markdown",
   "id": "5f616bdf-7b1f-4e84-925e-5fc6bd92b80e",
   "metadata": {},
   "source": [
    "#### **2.1.1 Avoiding Indentation Errors**"
   ]
  },
  {
   "cell_type": "code",
   "execution_count": null,
   "id": "71eb9d5e-3a23-48be-8fb0-6083e2d56f91",
   "metadata": {},
   "outputs": [],
   "source": [
    "for name in names:\n",
    "print(f\"{name.title()}, you did a great job!\")"
   ]
  },
  {
   "cell_type": "code",
   "execution_count": null,
   "id": "89857b47-94a4-438d-a303-29852892c5b1",
   "metadata": {},
   "outputs": [],
   "source": [
    "names = [\"salma\", \"ali\", \"mona\", \"sarah\", \"ahmed\"]\n",
    "for name in names:\n",
    "        print(f\"{name.title()}, you did a great job!\")"
   ]
  },
  {
   "cell_type": "code",
   "execution_count": null,
   "id": "f3220d01-9b73-4a07-bb73-3e8c26bf227b",
   "metadata": {},
   "outputs": [],
   "source": [
    "for name in names:\n",
    "        print(f\"{name.title()}, you did a great job!\")\n",
    "\n",
    "print(\"\\nThank you, everyone.\")"
   ]
  },
  {
   "cell_type": "markdown",
   "id": "0d915b46-2a0a-40aa-8075-4419d7b1a701",
   "metadata": {},
   "source": [
    "### **2.2 Making Numerical Lists**"
   ]
  },
  {
   "cell_type": "markdown",
   "id": "123cf8be-99cd-47cd-b21c-b95eb9e53f05",
   "metadata": {},
   "source": [
    "> Many reasons exist to store a set of numbers. <span style=\"background:LemonChiffon\">For example, you’ll need to keep track of a player’s high score. you’ll need to work with temperatures, distances, or population sizes .."
   ]
  },
  {
   "cell_type": "markdown",
   "id": "1f0a37ce-eba4-4945-a33b-4e22fd04b3ca",
   "metadata": {},
   "source": [
    "### **2.2.1 Using the **`range()`** Function**"
   ]
  },
  {
   "cell_type": "code",
   "execution_count": null,
   "id": "7a88a081-613d-4c54-8970-051c412ea3dd",
   "metadata": {},
   "outputs": [],
   "source": [
    "for value in range(1, 5):\n",
    "    print(value)"
   ]
  },
  {
   "cell_type": "markdown",
   "id": "8a039c90-b388-441d-b95f-c72a9a30f8c1",
   "metadata": {},
   "source": [
    "### **2.2.2 Using **`range()`** to Make a List of Numbers**"
   ]
  },
  {
   "cell_type": "markdown",
   "id": "cc0e88cf-2213-4fd1-979c-402116564b52",
   "metadata": {},
   "source": [
    "> If you want to make a list of numbers, you can convert the results of **`range()`** directly into a list using the **`list()`** function."
   ]
  },
  {
   "cell_type": "code",
   "execution_count": null,
   "id": "b71f63eb-e227-4441-9b0e-1280b05b0dd0",
   "metadata": {},
   "outputs": [],
   "source": [
    "numbers = list(range(1, 6))\n",
    "print(numbers)"
   ]
  },
  {
   "cell_type": "code",
   "execution_count": null,
   "id": "52c0b1d7-cd69-4983-ab15-abee30a5186a",
   "metadata": {},
   "outputs": [],
   "source": [
    "my_numbers = list(range(2, 11, 2))\n",
    "print(my_numbers)"
   ]
  },
  {
   "cell_type": "markdown",
   "id": "99d6fe71-c819-492e-81a0-f4272bb97453",
   "metadata": {},
   "source": [
    "> - You can create almost any set of numbers you want to using the `range()` function.\n",
    "> - To build a list the stores the square of each integer from 1 through 10:"
   ]
  },
  {
   "cell_type": "code",
   "execution_count": null,
   "id": "a843c56a-b527-4c22-bbdb-a889bf50041f",
   "metadata": {},
   "outputs": [],
   "source": [
    "squares = []\n",
    "for value in range(1, 11):\n",
    " square = value ** 2\n",
    " squares.append(square)"
   ]
  },
  {
   "cell_type": "code",
   "execution_count": null,
   "id": "72a75894-a0ad-42df-b1b3-065625e4b2f6",
   "metadata": {},
   "outputs": [],
   "source": [
    "print(squares)"
   ]
  },
  {
   "cell_type": "markdown",
   "id": "4f8c2c24-3e0c-486c-9c22-285cd6ec61c6",
   "metadata": {},
   "source": [
    "> To write this code more concisely, omit the temporary variable `square` and append each new value directly to the list:"
   ]
  },
  {
   "cell_type": "code",
   "execution_count": null,
   "id": "5f510014-47c9-474d-9ff9-09762f9a48fe",
   "metadata": {},
   "outputs": [],
   "source": [
    "squares = []\n",
    "for value in range(1,11):\n",
    "    squares.append(value**2)"
   ]
  },
  {
   "cell_type": "code",
   "execution_count": null,
   "id": "5fe08154-8a56-4358-8e8d-e8a39fbe1465",
   "metadata": {},
   "outputs": [],
   "source": [
    "print(squares)"
   ]
  },
  {
   "cell_type": "markdown",
   "id": "1df157c7-a95b-4a59-b1b8-8b82f7fc2485",
   "metadata": {},
   "source": [
    "> - Sometimes using a temporary variable makes your code easier to read; other times it makes the code unnecessarily long.\n",
    "> -  Focus first on writing code that you understand clearly, and does what you want it to do. Then look for more efficient approaches as you review your code."
   ]
  },
  {
   "cell_type": "markdown",
   "id": "f49961e8-6e36-4153-a6c4-25014bf7f9d0",
   "metadata": {},
   "source": [
    "### **2.2.3 Simple Statistics with a List of Numbers**"
   ]
  },
  {
   "cell_type": "code",
   "execution_count": null,
   "id": "9350e3b9-32b9-4add-b0a3-8b743a71db78",
   "metadata": {},
   "outputs": [],
   "source": [
    "digits = [1, 2, 3, 4, 5, 6, 7, 8, 9, 0]"
   ]
  },
  {
   "cell_type": "code",
   "execution_count": null,
   "id": "4b2fc485-4ab8-4253-92ff-4170a57a7406",
   "metadata": {},
   "outputs": [],
   "source": [
    "print(min(digits))"
   ]
  },
  {
   "cell_type": "code",
   "execution_count": null,
   "id": "ae47eb75-80d7-49ee-b51b-a9e9c9c5176e",
   "metadata": {},
   "outputs": [],
   "source": [
    "print(max(digits))"
   ]
  },
  {
   "cell_type": "code",
   "execution_count": null,
   "id": "6a0da371-d4fe-477f-b630-0b1d61800dea",
   "metadata": {},
   "outputs": [],
   "source": [
    "print(sum(digits))"
   ]
  },
  {
   "cell_type": "markdown",
   "id": "3392d3f9-ce6f-423b-80f7-85919d7c8f32",
   "metadata": {},
   "source": [
    "### **List Comprehensions**"
   ]
  },
  {
   "cell_type": "markdown",
   "id": "a1f0b26f-e7bf-49ad-b46a-d8390db1de83",
   "metadata": {},
   "source": [
    "> - <span style=\"background:LemonChiffon\">A list comprehension allows you to generate this same list in just one line of code.\n",
    "> - A list comprehension combines the `for` loop and the creation of new elements into one line, and automatically appends each new element."
   ]
  },
  {
   "cell_type": "code",
   "execution_count": null,
   "id": "ade6f190-3722-486c-9524-7de7546f0bdd",
   "metadata": {},
   "outputs": [],
   "source": [
    "squares = [value**2 for value in range(1, 11)]\n",
    "print(squares)"
   ]
  },
  {
   "cell_type": "markdown",
   "id": "b0289985-2ba6-4422-a154-63369d7b888a",
   "metadata": {},
   "source": [
    "> - Open a set of square brackets.\n",
    "> - Define the expression for the values you want to store in the new list. In this example the expression is `value**2`.\n",
    "> - Write a `for` loop to generate the numbers you want to feed into the expression."
   ]
  },
  {
   "cell_type": "markdown",
   "id": "c2d95bac-ee56-45da-b875-18a4c944de20",
   "metadata": {},
   "source": [
    "#### ✍🏻 **TRY IT YOURSELF**\n",
    "> - **Cube Comprehension:** Use a list comprehension to generate a list of the first 10 cubes.\n",
    "> - **Odd Numbers:** Use a list comprehension to generate a list of the odd numbers from 1 to 20.\n",
    "> - **Generating Multiplication Table:** Generate a list of multiples of 3 up to 30 using list comprehension.\n",
    "> - **Filtering Strings with Specific Length:** Given a list of strings `['cat', 'elephant', 'dog', 'giraffe', 'fox']`, create a new list with only those strings that have a length greater than 4."
   ]
  },
  {
   "cell_type": "markdown",
   "id": "e035da72-0730-4bb6-a6c7-1472b25707f7",
   "metadata": {},
   "source": [
    "#### ✍🏻 **Solution**"
   ]
  },
  {
   "cell_type": "code",
   "execution_count": null,
   "id": "f7ac1aa6-5c9e-4b2f-84fb-55fde6aa53c8",
   "metadata": {},
   "outputs": [],
   "source": [
    "cubes = [cube**3 for cube in range(1, 11)]\n",
    "print(cubes)"
   ]
  },
  {
   "cell_type": "code",
   "execution_count": null,
   "id": "02ac5451-a6df-4fa1-a771-873978a23a5f",
   "metadata": {},
   "outputs": [],
   "source": [
    "odds = [odd for odd in range(1, 20, 2)]\n",
    "print(odds)"
   ]
  },
  {
   "cell_type": "code",
   "execution_count": null,
   "id": "348f909e-0def-4393-b506-b700610d2d72",
   "metadata": {},
   "outputs": [],
   "source": [
    "odds = [odd for odd in range(1, 20) if odd % 2 != 0]\n",
    "print(odds)"
   ]
  },
  {
   "cell_type": "code",
   "execution_count": null,
   "id": "0e16caa9-fa73-42d8-8f9d-d2cfd940e510",
   "metadata": {},
   "outputs": [],
   "source": [
    "multiples_of_three = [3 * i for i in range(1, 11)]\n",
    "print(multiples_of_three)"
   ]
  },
  {
   "cell_type": "code",
   "execution_count": null,
   "id": "b648b438-b822-433e-926c-86207a5ef488",
   "metadata": {},
   "outputs": [],
   "source": [
    "animals = ['cat', 'elephant', 'dog', 'giraffe', 'fox']\n",
    "long_animals = [animal for animal in animals if len(animal) > 4]\n",
    "print(long_animals)"
   ]
  },
  {
   "cell_type": "markdown",
   "id": "4629ecde-8222-48a5-a59f-440a311d9083",
   "metadata": {},
   "source": [
    "### **Working with Part of a List**"
   ]
  },
  {
   "cell_type": "markdown",
   "id": "e45ba109-466d-4dbd-8034-f8125511001a",
   "metadata": {},
   "source": [
    "> - To make a slice, you specify the index of the first and last elements you want to work with.\n",
    "> - To output the first three elements in a list, you would request indices 0 through 3, which would return elements 0, 1, and 2."
   ]
  },
  {
   "cell_type": "code",
   "execution_count": 1,
   "id": "3cc8bac2-a1d0-453e-aede-889a93b94b60",
   "metadata": {},
   "outputs": [],
   "source": [
    "players = ['sarah', 'martina', 'michael', 'florence', 'eli']"
   ]
  },
  {
   "cell_type": "code",
   "execution_count": 7,
   "id": "44520b9b-481b-431a-b07b-dc684a6b9bc0",
   "metadata": {},
   "outputs": [
    {
     "name": "stdout",
     "output_type": "stream",
     "text": [
      "['sarah', 'martina', 'michael']\n"
     ]
    }
   ],
   "source": [
    "print(players[:3])"
   ]
  },
  {
   "cell_type": "code",
   "execution_count": 5,
   "id": "f5905e39-9a88-4f0d-a82b-9680899ab905",
   "metadata": {},
   "outputs": [
    {
     "name": "stdout",
     "output_type": "stream",
     "text": [
      "['martina', 'michael', 'florence']\n"
     ]
    }
   ],
   "source": [
    "print(players[1:4])"
   ]
  },
  {
   "cell_type": "markdown",
   "id": "b2b5cfe4-f73a-4288-94c6-bd01db6af121",
   "metadata": {},
   "source": [
    "> <span style=\"background:LemonChiffon\">If you omit the **first index** in a slice, Python automatically starts your slice at the **beginning** of the list:"
   ]
  },
  {
   "cell_type": "code",
   "execution_count": 9,
   "id": "2e6f0c8a-3855-40a8-9141-32a480601701",
   "metadata": {},
   "outputs": [
    {
     "name": "stdout",
     "output_type": "stream",
     "text": [
      "['sarah', 'martina', 'michael', 'florence']\n"
     ]
    }
   ],
   "source": [
    "print(players[:4])"
   ]
  },
  {
   "cell_type": "markdown",
   "id": "6850dcb0-d3c5-473d-ae87-b03043c2e049",
   "metadata": {},
   "source": [
    "> When you omit the **second index**, Python automatically interprets it as the **end** of string:"
   ]
  },
  {
   "cell_type": "code",
   "execution_count": 11,
   "id": "196d16b4-4902-42cc-a489-8df8103052dd",
   "metadata": {},
   "outputs": [
    {
     "name": "stdout",
     "output_type": "stream",
     "text": [
      "['michael', 'florence', 'eli']\n"
     ]
    }
   ],
   "source": [
    "print(players[2:])"
   ]
  },
  {
   "cell_type": "code",
   "execution_count": null,
   "id": "d7835e49-3266-46c2-9b4b-43c2e0cd88a0",
   "metadata": {},
   "outputs": [],
   "source": [
    "players = ['sarah', 'martina', 'michael', 'florence', 'eli']"
   ]
  },
  {
   "cell_type": "code",
   "execution_count": 13,
   "id": "196e0397-95bd-4c98-9751-665f1d569b50",
   "metadata": {},
   "outputs": [
    {
     "name": "stdout",
     "output_type": "stream",
     "text": [
      "['sarah', 'michael']\n"
     ]
    }
   ],
   "source": [
    "print(players[:4:2])"
   ]
  },
  {
   "cell_type": "code",
   "execution_count": 15,
   "id": "20343009-5107-4112-90f8-6b959463ae56",
   "metadata": {},
   "outputs": [
    {
     "name": "stdout",
     "output_type": "stream",
     "text": [
      "[]\n"
     ]
    }
   ],
   "source": [
    "print(players[3:1])"
   ]
  },
  {
   "cell_type": "markdown",
   "id": "5a627e8c-d588-4c25-9ab3-286dd53fa7a0",
   "metadata": {},
   "source": [
    "> Negative index returns an element a certain distance from the end of a list:"
   ]
  },
  {
   "cell_type": "code",
   "execution_count": 17,
   "id": "b4bb2e76-50ee-4204-9071-3efa36eb6669",
   "metadata": {},
   "outputs": [
    {
     "name": "stdout",
     "output_type": "stream",
     "text": [
      "['michael', 'florence']\n"
     ]
    }
   ],
   "source": [
    "players = ['sarah', 'martina', 'michael', 'florence', 'eli']\n",
    "print(players[-3:-1])"
   ]
  },
  {
   "cell_type": "code",
   "execution_count": 19,
   "id": "8dc6b3be-4161-4e03-83dc-e386649d0e60",
   "metadata": {},
   "outputs": [
    {
     "name": "stdout",
     "output_type": "stream",
     "text": [
      "['michael', 'florence', 'eli']\n"
     ]
    }
   ],
   "source": [
    "print(players[-3:])"
   ]
  },
  {
   "cell_type": "markdown",
   "id": "44263f52-2ff3-4ee5-8525-5571799e2dd1",
   "metadata": {},
   "source": [
    "### **Looping Through a Slice**"
   ]
  },
  {
   "cell_type": "code",
   "execution_count": 21,
   "id": "dbadaedd-b79e-46dd-bd79-e76772b7661a",
   "metadata": {},
   "outputs": [
    {
     "name": "stdout",
     "output_type": "stream",
     "text": [
      "Here are the first three players on my team:\n",
      "Sarah\n",
      "Martina\n",
      "Michael\n"
     ]
    }
   ],
   "source": [
    "players = ['sarah', 'martina', 'michael', 'florence', 'eli']\n",
    "\n",
    "print(\"Here are the first three players on my team:\")\n",
    "for player in players[:3]:\n",
    "    print(player.title())"
   ]
  },
  {
   "cell_type": "markdown",
   "id": "c0b7f139-d481-4dfe-8953-d407f74590c3",
   "metadata": {},
   "source": [
    "> - Slices are very useful in a number of situations.\n",
    "> - When you’re working with data, you can use slices to process your data in chunks of a specific size.\n",
    "> - Get a player’s top three scores."
   ]
  },
  {
   "cell_type": "markdown",
   "id": "15486676-ce02-4dc8-b793-840905df71a9",
   "metadata": {},
   "source": [
    "### **Copying a List**"
   ]
  },
  {
   "cell_type": "markdown",
   "id": "0734c89c-8c28-454a-a29a-b29a62da6816",
   "metadata": {},
   "source": [
    "> - Often, you’ll want to start with an existing list and make an entirely new list based on the first one.\n",
    "> - For example, imagine we have a list of our **favorite foods** and want to make a separate list of foods that a **friend likes**."
   ]
  },
  {
   "cell_type": "markdown",
   "id": "a599a8c6-fcc7-4920-a781-3cc16e838aa5",
   "metadata": {},
   "source": [
    "### Be Careful!"
   ]
  },
  {
   "cell_type": "code",
   "execution_count": 23,
   "id": "b5068043-827c-49dc-8156-1ca4c2f192c5",
   "metadata": {},
   "outputs": [],
   "source": [
    "my_foods = ['pizza', 'pasta', 'carrot cake']"
   ]
  },
  {
   "cell_type": "code",
   "execution_count": 25,
   "id": "09c99ff3-f003-4654-a826-41bcf4cff7a2",
   "metadata": {},
   "outputs": [],
   "source": [
    "friend_foods = my_foods"
   ]
  },
  {
   "cell_type": "markdown",
   "id": "b061c5b0-3266-42e4-8c14-62bc338e0003",
   "metadata": {},
   "source": [
    "> This syntax actually tells Python to associate the new variable `friend_foods` with the list that is already associated with `my_foods`,<span style=\"background:LemonChiffon\"> so now both variables point to the same list"
   ]
  },
  {
   "cell_type": "code",
   "execution_count": 27,
   "id": "35aee062-39a2-4bda-9efe-f4968bdff4ca",
   "metadata": {},
   "outputs": [],
   "source": [
    "friend_foods.append('ice cream')"
   ]
  },
  {
   "cell_type": "code",
   "execution_count": 29,
   "id": "4129af02-04ce-4640-a883-cd4dac71988c",
   "metadata": {},
   "outputs": [
    {
     "name": "stdout",
     "output_type": "stream",
     "text": [
      "['pizza', 'pasta', 'carrot cake', 'ice cream']\n"
     ]
    }
   ],
   "source": [
    "print(friend_foods)"
   ]
  },
  {
   "cell_type": "code",
   "execution_count": 31,
   "id": "d55798b8-0f62-49f1-af40-0b3bb76df661",
   "metadata": {},
   "outputs": [
    {
     "name": "stdout",
     "output_type": "stream",
     "text": [
      "['pizza', 'pasta', 'carrot cake', 'ice cream']\n"
     ]
    }
   ],
   "source": [
    "print(my_foods)"
   ]
  },
  {
   "cell_type": "markdown",
   "id": "cf2211d3-2ad1-43e3-a04e-185e0a6a88cf",
   "metadata": {},
   "source": [
    "### **Copying a List without Affect the Original List**"
   ]
  },
  {
   "cell_type": "code",
   "execution_count": 33,
   "id": "19895b68-a530-4998-b08f-06f2c4a86f40",
   "metadata": {},
   "outputs": [],
   "source": [
    "my_foods = ['pizza', 'pasta', 'carrot cake']"
   ]
  },
  {
   "cell_type": "code",
   "execution_count": 35,
   "id": "77a561b2-512c-4140-8095-9f5deac0a210",
   "metadata": {},
   "outputs": [],
   "source": [
    "friend_foods = my_foods[:]"
   ]
  },
  {
   "cell_type": "code",
   "execution_count": 37,
   "id": "3bbbee25-420e-4d23-845f-12051ec5ec90",
   "metadata": {},
   "outputs": [
    {
     "name": "stdout",
     "output_type": "stream",
     "text": [
      "My favorite foods are:\n",
      "['pizza', 'pasta', 'carrot cake']\n",
      "\n",
      "My friend's favorite foods are:\n",
      "['pizza', 'pasta', 'carrot cake']\n"
     ]
    }
   ],
   "source": [
    "print(\"My favorite foods are:\")\n",
    "print(my_foods)\n",
    "\n",
    "print(\"\\nMy friend's favorite foods are:\")\n",
    "print(friend_foods)"
   ]
  },
  {
   "cell_type": "code",
   "execution_count": 41,
   "id": "9f32e7c5-522a-4e1c-b283-def8bc962181",
   "metadata": {},
   "outputs": [
    {
     "data": {
      "text/plain": [
       "False"
      ]
     },
     "execution_count": 41,
     "metadata": {},
     "output_type": "execute_result"
    }
   ],
   "source": [
    "friend_foods is my_foods"
   ]
  },
  {
   "cell_type": "markdown",
   "id": "21ac0ae7-6e23-4f52-87d8-40661be37056",
   "metadata": {},
   "source": [
    "> To prove that we actually have two separate lists, we’ll add a new food to each list and show that each list keeps track of the appropriate person’s favorite foods:"
   ]
  },
  {
   "cell_type": "code",
   "execution_count": 39,
   "id": "3d191af4-0ce6-44ef-a8bc-009138145cfd",
   "metadata": {},
   "outputs": [
    {
     "name": "stdout",
     "output_type": "stream",
     "text": [
      "My favorite foods are:\n",
      "['pizza', 'pasta', 'carrot cake', 'burger']\n",
      "\n",
      "My friend's favorite foods are:\n",
      "['pizza', 'pasta', 'carrot cake', 'ice cream']\n"
     ]
    }
   ],
   "source": [
    "my_foods = ['pizza', 'pasta', 'carrot cake']\n",
    "\n",
    "my_foods.append('burger')\n",
    "friend_foods.append('ice cream')\n",
    "\n",
    "print(\"My favorite foods are:\")\n",
    "print(my_foods)\n",
    "\n",
    "print(\"\\nMy friend's favorite foods are:\")\n",
    "print(friend_foods)"
   ]
  },
  {
   "cell_type": "markdown",
   "id": "a5cb9090-67ff-45fb-935a-c0b2b09cc529",
   "metadata": {},
   "source": [
    "#### 📝 **Note**\n",
    "> <span style=\"background:LavenderBlush\"> If you’re trying to work with a copy of a list and you see unexpected behavior, make sure you are copying the list using a slice, as we did in the first example"
   ]
  },
  {
   "cell_type": "markdown",
   "id": "2a7a2535-b812-4fe0-b7a6-3daae6547152",
   "metadata": {},
   "source": [
    "## **3. DICTIONARIES**"
   ]
  },
  {
   "cell_type": "markdown",
   "id": "4a7a8488-bdb8-44cf-a4a2-a0e3dc34b022",
   "metadata": {},
   "source": [
    "> - Understanding dictionaries allows you to model a variety of real-world objects more accurately.<span style=\"background:LemonChiffon\"> You’ll be able to create a dictionary representing a person and then store as much information as you want about that person.\n",
    "> - You can store their name, age, location, profession, and any other aspect of a person you can describe."
   ]
  },
  {
   "cell_type": "markdown",
   "id": "c34ebbc7-a3f2-4dac-9b21-552f4c1ad20a",
   "metadata": {},
   "source": [
    "### **A Simple Dictionary**"
   ]
  },
  {
   "cell_type": "markdown",
   "id": "4471bd0f-6206-4c2b-9769-bf9880505e0d",
   "metadata": {},
   "source": [
    "Consider a game featuring aliens that can have different **colors** and **point values**. "
   ]
  },
  {
   "cell_type": "code",
   "execution_count": 43,
   "id": "4626dbd5-3ad8-4dcc-b3a5-d2ec798afc96",
   "metadata": {},
   "outputs": [
    {
     "name": "stdout",
     "output_type": "stream",
     "text": [
      "green\n",
      "5\n"
     ]
    }
   ],
   "source": [
    "alien_0 = {'color': 'green', 'points': 5}\n",
    "\n",
    "print(alien_0['color'])\n",
    "print(alien_0['points'])"
   ]
  },
  {
   "cell_type": "markdown",
   "id": "8a1fa24e-ee88-4570-a1c3-a77e1c8644d7",
   "metadata": {},
   "source": [
    "### **Working with Dictionaries**"
   ]
  },
  {
   "cell_type": "markdown",
   "id": "c2120401-c2be-45c0-bc67-ffc04166b395",
   "metadata": {},
   "source": [
    "> - <span style=\"background:LemonChiffon\">A dictionary is a collection of **key-value** pairs.</span>\n",
    "> - Each **key** is connected to a **value**, and you can use a key to access the value associated with that key.\n",
    "> - A key’s value can be a number, a string, a list, or even another dictionary.\n",
    "> - It's wrapped in braces `{}` with a series of key-value pairs inside the braces.\n",
    "> - <span style=\"background:LemonChiffon\">A key-value pair is a set of values associated with each other. When you provide a key, Python returns the value associated with that key. Every key is connected to its value by a **colon**, and individual key-value pairs are separated by **commas**."
   ]
  },
  {
   "cell_type": "markdown",
   "id": "f813bc0c-59fd-4de9-905b-6945abc173d5",
   "metadata": {},
   "source": [
    "### **Accessing Values in a Dictionary**"
   ]
  },
  {
   "cell_type": "markdown",
   "id": "3f9dc8f0-b10f-44f8-b1a0-dab672718293",
   "metadata": {},
   "source": [
    "> To get the value associated with a key, give the name of the dictionary and then place the key inside a set of square brackets:"
   ]
  },
  {
   "cell_type": "code",
   "execution_count": 45,
   "id": "5e575d8f-65fa-4756-ba49-54a2843ad701",
   "metadata": {},
   "outputs": [
    {
     "name": "stdout",
     "output_type": "stream",
     "text": [
      "You just earned 5 points!\n"
     ]
    }
   ],
   "source": [
    "alien_0 = {'color': 'green', 'points': 5}\n",
    "\n",
    "new_points = alien_0['points']\n",
    "print(f\"You just earned {new_points} points!\")"
   ]
  },
  {
   "cell_type": "markdown",
   "id": "8f32fe4e-b92c-47e8-b3f3-968df7faca87",
   "metadata": {},
   "source": [
    "### **Adding New Key-Value Pairs**"
   ]
  },
  {
   "cell_type": "markdown",
   "id": "ab252909-63bd-4fff-9f73-f4e5011f558d",
   "metadata": {},
   "source": [
    "> - To add a new key-value pair, <span style=\"background:LemonChiffon\">you would give the name of the dictionary followed by the new key in square brackets, along with the new value.\n",
    "> - Let’s add two new pieces of information to the `alien_0` dictionary: the alien’s **x- and y-coordinates**"
   ]
  },
  {
   "cell_type": "code",
   "execution_count": 47,
   "id": "25bc5a58-d9db-46f2-9b58-54537559ea0e",
   "metadata": {},
   "outputs": [
    {
     "name": "stdout",
     "output_type": "stream",
     "text": [
      "{'color': 'green', 'points': 5}\n",
      "{'color': 'green', 'points': 5, 'x_position': 0, 'y_position': 25}\n"
     ]
    }
   ],
   "source": [
    "alien_0 = {'color': 'green', 'points': 5}\n",
    "print(alien_0)\n",
    "\n",
    "alien_0['x_position'] = 0\n",
    "alien_0['y_position'] = 25\n",
    "\n",
    "print(alien_0)"
   ]
  },
  {
   "cell_type": "markdown",
   "id": "664584cc-1cb8-428b-9d44-6dfff8a99efd",
   "metadata": {},
   "source": [
    "> Dictionaries <span style=\"background:LemonChiffon\">retain the order in which they were defined.</span> When you print a dictionary or loop through its elements, you will see the elements in the same order they were added to the dictionary."
   ]
  },
  {
   "cell_type": "markdown",
   "id": "e83c69c7-b161-43b3-bb01-6d22ef20ff09",
   "metadata": {},
   "source": [
    "### **Starting with an Empty Dictionary**"
   ]
  },
  {
   "cell_type": "code",
   "execution_count": 49,
   "id": "5df64c5b-ca3b-4de7-aba7-35ea8241cfc0",
   "metadata": {},
   "outputs": [
    {
     "name": "stdout",
     "output_type": "stream",
     "text": [
      "{'color': 'green', 'points': 5}\n"
     ]
    }
   ],
   "source": [
    "alien_0 = {}\n",
    "\n",
    "alien_0['color'] = 'green'\n",
    "alien_0['points'] = 5\n",
    "\n",
    "print(alien_0)"
   ]
  },
  {
   "cell_type": "markdown",
   "id": "b1bab97f-c006-471e-bd25-5416e7675b08",
   "metadata": {},
   "source": [
    "> Typically, you’ll use empty dictionaries when storing **user-supplied data** in a dictionary or when writing code that generates a large number of key-value pairs **automatically.**"
   ]
  },
  {
   "cell_type": "markdown",
   "id": "74ca922f-a5e7-4122-8a49-b99c4db4588c",
   "metadata": {},
   "source": [
    "### **Modifying Values in a Dictionary**"
   ]
  },
  {
   "cell_type": "markdown",
   "id": "cdea58d6-aa83-4606-a1d3-f8d6a86fc82c",
   "metadata": {},
   "source": [
    "> To modify a value in a dictionary, <span style=\"background:LemonChiffon\">give the name of the dictionary</span> with the <span style=\"background:LemonChiffon\">key in square brackets</span> and then the <span style=\"background:LemonChiffon\">new value</span> you want associated with that key."
   ]
  },
  {
   "cell_type": "code",
   "execution_count": 51,
   "id": "80a40bef-b711-465d-bac0-4741957e3dca",
   "metadata": {},
   "outputs": [
    {
     "name": "stdout",
     "output_type": "stream",
     "text": [
      "The alien is green.\n",
      "The alien is now yellow.\n"
     ]
    }
   ],
   "source": [
    "alien_0 = {'color': 'green'}\n",
    "print(f\"The alien is {alien_0['color']}.\")\n",
    "\n",
    "alien_0['color'] = 'yellow'\n",
    "print(f\"The alien is now {alien_0['color']}.\")"
   ]
  },
  {
   "cell_type": "markdown",
   "id": "846412b6-414d-4cd0-a7b9-aba360615cbb",
   "metadata": {},
   "source": [
    "> Let’s track the position of an alien that can move at different speeds."
   ]
  },
  {
   "cell_type": "code",
   "execution_count": 53,
   "id": "d078a71e-c397-478f-b40b-714f7a3abefe",
   "metadata": {},
   "outputs": [
    {
     "name": "stdout",
     "output_type": "stream",
     "text": [
      "Original position: 0\n",
      "New position: 2\n"
     ]
    }
   ],
   "source": [
    "alien_0 = {'x_position': 0, 'y_position': 25, 'speed': 'medium', 'color': 'green', 'points': 5}\n",
    "print(f\"Original position: {alien_0['x_position']}\")\n",
    "\n",
    "# Move the alien to the right.\n",
    "# Determine how far to move the alien based on its current speed.\n",
    "if alien_0['speed'] == 'slow':\n",
    "    x_increment = 1\n",
    "elif alien_0['speed'] == 'medium':\n",
    "    x_increment = 2\n",
    "else:\n",
    "    # This must be a fast alien.\n",
    "    x_increment = 3\n",
    "    \n",
    "# The new position is the old position plus the increment.\n",
    "alien_0['x_position'] = alien_0['x_position'] + x_increment\n",
    "print(f\"New position: {alien_0['x_position']}\")"
   ]
  },
  {
   "cell_type": "markdown",
   "id": "91e3e6cf-c329-40a0-9d33-3804563a978d",
   "metadata": {},
   "source": [
    "### **Removing Key-Value Pairs**"
   ]
  },
  {
   "cell_type": "markdown",
   "id": "4e169afd-6ede-4b72-aa5b-4f82ef907092",
   "metadata": {},
   "source": [
    "> You can use the **`del`** statement to completely remove a key-value pair. All `del` needs is <span style=\"background:LemonChiffon\">the name of the dictionary</span> and the <span style=\"background:LemonChiffon\">key</span> that you want to remove."
   ]
  },
  {
   "cell_type": "code",
   "execution_count": 55,
   "id": "337a50a1-035a-4a19-88ed-077fdeb61d93",
   "metadata": {},
   "outputs": [
    {
     "name": "stdout",
     "output_type": "stream",
     "text": [
      "{'color': 'green', 'points': 5}\n",
      "{'color': 'green'}\n"
     ]
    }
   ],
   "source": [
    "alien_0 = {'color': 'green', 'points': 5}\n",
    "print(alien_0)\n",
    "\n",
    "del alien_0['points']\n",
    "print(alien_0)"
   ]
  },
  {
   "cell_type": "markdown",
   "id": "ad3155eb-89e1-4b52-a656-88274bac74ff",
   "metadata": {},
   "source": [
    "> You also can use **`pop()`** method:"
   ]
  },
  {
   "cell_type": "code",
   "execution_count": 57,
   "id": "bebcd15a-de95-4c94-b762-9d438ed66559",
   "metadata": {},
   "outputs": [],
   "source": [
    "popped_value = alien_0.pop(\"color\")"
   ]
  },
  {
   "cell_type": "code",
   "execution_count": 59,
   "id": "51f09c67-2324-4c0d-8d6a-15348d5ca1e8",
   "metadata": {},
   "outputs": [
    {
     "data": {
      "text/plain": [
       "'green'"
      ]
     },
     "execution_count": 59,
     "metadata": {},
     "output_type": "execute_result"
    }
   ],
   "source": [
    "popped_value"
   ]
  },
  {
   "cell_type": "markdown",
   "id": "517591a7-1a37-4772-a3b9-b161b9908c4a",
   "metadata": {},
   "source": [
    "### **A Dictionary of Similar Objects**"
   ]
  },
  {
   "cell_type": "markdown",
   "id": "9b950177-dc38-4cb1-a537-b02c04f8805c",
   "metadata": {},
   "source": [
    "> For example, say you want to poll a number of people and ask them what their favorite programming language is. A dictionary is useful for storing the results of a simple poll, like this: "
   ]
  },
  {
   "cell_type": "code",
   "execution_count": 61,
   "id": "2d23edc2-5705-4984-87a8-036a850bef13",
   "metadata": {},
   "outputs": [],
   "source": [
    "favorite_languages = {\n",
    "    'jen': 'python',\n",
    "    'sarah': 'c',\n",
    "    'edward': 'rust',\n",
    "    'phil': 'python',\n",
    "    }"
   ]
  },
  {
   "cell_type": "code",
   "execution_count": 63,
   "id": "6d7fe548-491e-4886-a530-ee4499bcdb3b",
   "metadata": {},
   "outputs": [
    {
     "name": "stdout",
     "output_type": "stream",
     "text": [
      "Sarah's favorite language is C.\n"
     ]
    }
   ],
   "source": [
    "language = favorite_languages['sarah'].title()\n",
    "print(f\"Sarah's favorite language is {language}.\")"
   ]
  },
  {
   "cell_type": "markdown",
   "id": "fb772ec3-8a17-456a-804e-6cfb2d83f55b",
   "metadata": {},
   "source": [
    "### **Using **`get()`** to Access Values**"
   ]
  },
  {
   "cell_type": "markdown",
   "id": "9150f203-03a9-4407-9e5e-e893956a7594",
   "metadata": {},
   "source": [
    "> - Using keys in square brackets to retrieve the value, might cause one potential **problem**: <span style=\"background:LemonChiffon\">\n",
    "if the key you ask for doesn’t exist, you’ll get an error.\n",
    "> - Let’s see what happens when you ask for the `point` value of an alien that doesn’t have a point value set:"
   ]
  },
  {
   "cell_type": "code",
   "execution_count": 65,
   "id": "6ea2234d-4f85-44ea-9ad0-927d0966a71c",
   "metadata": {},
   "outputs": [
    {
     "ename": "KeyError",
     "evalue": "'points'",
     "output_type": "error",
     "traceback": [
      "\u001b[1;31m---------------------------------------------------------------------------\u001b[0m",
      "\u001b[1;31mKeyError\u001b[0m                                  Traceback (most recent call last)",
      "Cell \u001b[1;32mIn[65], line 2\u001b[0m\n\u001b[0;32m      1\u001b[0m alien_0 \u001b[38;5;241m=\u001b[39m {\u001b[38;5;124m'\u001b[39m\u001b[38;5;124mcolor\u001b[39m\u001b[38;5;124m'\u001b[39m: \u001b[38;5;124m'\u001b[39m\u001b[38;5;124mgreen\u001b[39m\u001b[38;5;124m'\u001b[39m, \u001b[38;5;124m'\u001b[39m\u001b[38;5;124mspeed\u001b[39m\u001b[38;5;124m'\u001b[39m: \u001b[38;5;124m'\u001b[39m\u001b[38;5;124mslow\u001b[39m\u001b[38;5;124m'\u001b[39m}\n\u001b[1;32m----> 2\u001b[0m \u001b[38;5;28mprint\u001b[39m(alien_0[\u001b[38;5;124m'\u001b[39m\u001b[38;5;124mpoints\u001b[39m\u001b[38;5;124m'\u001b[39m])\n",
      "\u001b[1;31mKeyError\u001b[0m: 'points'"
     ]
    }
   ],
   "source": [
    "alien_0 = {'color': 'green', 'speed': 'slow'}\n",
    "print(alien_0['points'])"
   ]
  },
  {
   "cell_type": "markdown",
   "id": "44dc24f8-8a73-4054-81bf-ebcd531cb20e",
   "metadata": {},
   "source": [
    "> - You can use the **`get()`** method to set a default value that will be returned if the requested key doesn’t exist.\n",
    "> - The `get()` method requires a <span style=\"background:LemonChiffon\">key as a first argument.</span> As a <span style=\"background:LemonChiffon\">second optional \n",
    "argument, you can pass the value to be returned if the key doesn’t exist:</span>"
   ]
  },
  {
   "cell_type": "code",
   "execution_count": 69,
   "id": "3a499cee-a74e-4fd2-9fa7-2ec8bfaebbfd",
   "metadata": {},
   "outputs": [
    {
     "name": "stdout",
     "output_type": "stream",
     "text": [
      "None\n"
     ]
    }
   ],
   "source": [
    "alien_0 = {'color': 'green', 'speed': 'slow'}\n",
    "\n",
    "point_value = alien_0.get('points')\n",
    "\n",
    "print(point_value)"
   ]
  },
  {
   "cell_type": "markdown",
   "id": "1add1f60-9cef-486b-9324-b07b1a9b3779",
   "metadata": {},
   "source": [
    "> - If the key `'points'` exists in the dictionary, you’ll get the corresponding value. If it doesn’t, you get the default value. > > - In this case, `points` doesn’t exist, and we get a clean message instead of an error."
   ]
  },
  {
   "cell_type": "markdown",
   "id": "1034de6f-a5da-473c-80e5-1e864e69d0d6",
   "metadata": {},
   "source": [
    "#### 📝 **Note**\n",
    "> <span style=\"background:LavenderBlush\"> If you leave out the second argument in the call to `get()` and the key doesn’t exist, \n",
    "Python will return the value `None`. The special value `None` means “no value exists.” This is not an error: it’s a special value meant to indicate the absence of a value. "
   ]
  },
  {
   "cell_type": "markdown",
   "id": "323f68e0-0749-4aeb-9b1f-9f6e4bb3880a",
   "metadata": {},
   "source": [
    "#### ✍🏻 **TRY IT YOURSELF**\n",
    "> **Favorite Numbers:** Use a dictionary to store people’s favorite numbers. Think of five names, and use them as keys in your dictionary. Think of a favorite number for each person, and store each as a value in your dictionary."
   ]
  },
  {
   "cell_type": "markdown",
   "id": "72c69d5d-8bbf-4be0-9ccc-bd05e2262ccf",
   "metadata": {},
   "source": [
    "### **Looping Through a Dictionary**"
   ]
  },
  {
   "cell_type": "markdown",
   "id": "ae38bda4-a7f0-400c-a9ec-a10c28245216",
   "metadata": {},
   "source": [
    "> - Because a dictionary can contain large amounts of data, Python lets you loop through a dictionary.\n",
    "> - You can loop through all of a dictionary’s **key-value pairs**, through **its keys**, or through **its values**."
   ]
  },
  {
   "cell_type": "markdown",
   "id": "c6f22024-ef10-47bf-a4c3-de2f13d05629",
   "metadata": {},
   "source": [
    "### **Looping Through All Key-Value Pairs**"
   ]
  },
  {
   "cell_type": "markdown",
   "id": "13933929-3247-4e06-9fe2-2bfb9b71c349",
   "metadata": {},
   "source": [
    "> The following dictionary would store one person’s **username**, **first name**, and **last name**:"
   ]
  },
  {
   "cell_type": "code",
   "execution_count": null,
   "id": "419ec42a-d57b-40e6-9219-759ba91a1c89",
   "metadata": {},
   "outputs": [],
   "source": [
    "user_0 = {\n",
    "    'username': 'efermi',\n",
    "    'first': 'enrico',\n",
    "    'last': 'fermi',\n",
    "}"
   ]
  },
  {
   "cell_type": "markdown",
   "id": "836fa705-036e-4a4e-9a67-5941c6ac0ee6",
   "metadata": {},
   "source": [
    "> - To write a `for` loop for a dictionary, you create names for the two variables that will hold the `key` and `value` in each key-value pair.\n",
    "> - `for k, v in user_0.items()`"
   ]
  },
  {
   "cell_type": "code",
   "execution_count": null,
   "id": "279681d0-07cc-418b-8bc6-2cd589071c0f",
   "metadata": {},
   "outputs": [],
   "source": [
    "for key, value in user_0.items():\n",
    "    print(f\"\\nKey: {key}\")\n",
    "    print(f\"Value: {value}\")"
   ]
  },
  {
   "cell_type": "markdown",
   "id": "67f03b0b-4835-417a-a6eb-a69236bb8f6f",
   "metadata": {},
   "source": [
    "> The second half of the for statement includes the name of the dictionary followed by the method **`items()`**, which returns a **sequence of key-value pairs.** The for loop then assigns each of these pairs to the two variables provided."
   ]
  },
  {
   "cell_type": "code",
   "execution_count": null,
   "id": "aa95eeb1-c7f8-47b0-9e14-7d1b343d89a5",
   "metadata": {},
   "outputs": [],
   "source": [
    "favorite_languages = {\n",
    "    'jen': 'python',\n",
    "    'sarah': 'c',\n",
    "    'edward': 'rust',\n",
    "    'phil': 'python',\n",
    "    }"
   ]
  },
  {
   "cell_type": "code",
   "execution_count": null,
   "id": "e272cba8-65fc-4bb4-8b0a-ee8ca7f6989a",
   "metadata": {},
   "outputs": [],
   "source": [
    "for name, language in favorite_languages.items():\n",
    "    print(f\"{name.title()}'s favorite language is {language.title()}.\")"
   ]
  },
  {
   "cell_type": "markdown",
   "id": "a0399cad-8892-4398-85bf-032068b14db8",
   "metadata": {},
   "source": [
    "### **Looping Through All the Keys in a Dictionary**"
   ]
  },
  {
   "cell_type": "markdown",
   "id": "7a73c742-be91-4b13-861a-f185ae26b632",
   "metadata": {},
   "source": [
    "> - The **`keys()`** method is useful when you don’t need to work with all of the values in a dictionary.\n",
    "> - Let’s loop through the `favorite_languages` dictionary and print the names of everyone who took the poll:"
   ]
  },
  {
   "cell_type": "code",
   "execution_count": null,
   "id": "a4b97744-8110-462c-9cb0-7679e721d764",
   "metadata": {},
   "outputs": [],
   "source": [
    "favorite_languages = {\n",
    "    'jen': 'python',\n",
    "    'sarah': 'c',\n",
    "    'edward': 'rust',\n",
    "    'phil': 'python',\n",
    "    }"
   ]
  },
  {
   "cell_type": "code",
   "execution_count": null,
   "id": "2dd9a4ec-9a4c-43b3-a3e2-96d2fb47454f",
   "metadata": {},
   "outputs": [],
   "source": [
    "for name in favorite_languages.keys():\n",
    "    print(name.title())"
   ]
  },
  {
   "cell_type": "markdown",
   "id": "1894f3c7-8f11-4f2c-94b1-f89ca1959054",
   "metadata": {},
   "source": [
    "> - <span style=\"background:LemonChiffon\">Looping through the **keys** is actually the **default behavior** when looping through a dictionary, so this code would have exactly the same output if you wrote:\n",
    "> - You can choose to use the **`keys()`** method explicitly if it makes your code easier to read, or you can omit it if you wish."
   ]
  },
  {
   "cell_type": "code",
   "execution_count": null,
   "id": "9f90d476-4737-4de2-af7e-26e07b79cc6d",
   "metadata": {},
   "outputs": [],
   "source": [
    "for name in favorite_languages:\n",
    "     print(name.title())"
   ]
  },
  {
   "cell_type": "markdown",
   "id": "3d22f35d-5078-47c9-aa67-f04f25a955bf",
   "metadata": {},
   "source": [
    "> - You can access the <span style=\"background:LemonChiffon\">value associated with any key</span> inside the loop, by using the current key.\n",
    "> - Let’s print a message to a couple of friends about the languages they chose."
   ]
  },
  {
   "cell_type": "code",
   "execution_count": null,
   "id": "77ec38b4-1c79-474b-a9e0-6c3b5b73109b",
   "metadata": {},
   "outputs": [],
   "source": [
    "favorite_languages = {\n",
    "    'jen': 'python',\n",
    "    'sarah': 'c',\n",
    "    'edward': 'rust',\n",
    "    'phil': 'python',\n",
    "    }"
   ]
  },
  {
   "cell_type": "code",
   "execution_count": null,
   "id": "1a1afdde-269b-4f0c-a7cb-061358823849",
   "metadata": {},
   "outputs": [],
   "source": [
    "friends = ['phil', 'sarah']\n",
    "\n",
    "for name in favorite_languages.keys():\n",
    "     print(f\"Hi {name.title()}.\")\n",
    "\n",
    "     if name in friends:\n",
    "         language = favorite_languages[name].title()\n",
    "         print(f\"\\t{name.title()}, I see you love {language}!\")"
   ]
  },
  {
   "cell_type": "markdown",
   "id": "b542d105-09fa-45c5-b904-fc22b47f02b4",
   "metadata": {},
   "source": [
    "> You can also use the **`keys()`** method to find out if a particular person was polled."
   ]
  },
  {
   "cell_type": "code",
   "execution_count": null,
   "id": "5dcc733d-5981-43f1-9c8f-f3f1be788f16",
   "metadata": {},
   "outputs": [],
   "source": [
    "if 'erin' not in favorite_languages.keys():\n",
    "    print(\"Erin, please take our poll!\")"
   ]
  },
  {
   "cell_type": "markdown",
   "id": "05b22ce9-af69-40a1-9f33-366649267e69",
   "metadata": {},
   "source": [
    "> <span style=\"background:LemonChiffon\">The **`keys()`** method isn’t just for looping: it actually returns a sequence of all the keys, and the if statement simply checks if 'erin' is in this sequence. "
   ]
  },
  {
   "cell_type": "markdown",
   "id": "7d35839e-14e4-44c0-bddd-ac5524f1eb6a",
   "metadata": {},
   "source": [
    "### **Looping Through a Dictionary’s Keys in a Particular Order**"
   ]
  },
  {
   "cell_type": "markdown",
   "id": "3b593f52-0919-492a-a5d8-2b03be8cd5aa",
   "metadata": {},
   "source": [
    "> - Looping through a dictionary returns the items in the <span style=\"background:LemonChiffon\">same order they were inserted.\n",
    "> - Sometimes, though, you’ll want to loop through a dictionary in a different order.\n",
    "> - You can use the **`sorted()`** function to get a copy of the keys in order:"
   ]
  },
  {
   "cell_type": "code",
   "execution_count": null,
   "id": "0093adb1-34a6-4102-9f8f-983600715319",
   "metadata": {},
   "outputs": [],
   "source": [
    "favorite_languages = {\n",
    "    'jen': 'python',\n",
    "    'sarah': 'c',\n",
    "    'edward': 'rust',\n",
    "    'phil': 'python',\n",
    "    }"
   ]
  },
  {
   "cell_type": "code",
   "execution_count": null,
   "id": "1b0ebb19-e7d6-4522-ba95-4ec9ca503d5d",
   "metadata": {},
   "outputs": [],
   "source": [
    "for name in sorted(favorite_languages.keys()):\n",
    "    print(f\"{name.title()}, thank you for taking the poll.\")"
   ]
  },
  {
   "cell_type": "markdown",
   "id": "129c53e7-046e-4a86-a318-a109901f60fd",
   "metadata": {},
   "source": [
    "> This tells Python to get all the keys in the dictionary and sort them before starting the loop. "
   ]
  },
  {
   "cell_type": "markdown",
   "id": "5133e4a7-02a1-4643-96e3-f376fe9f88a4",
   "metadata": {},
   "source": [
    "### **Looping Through All Values in a Dictionary**"
   ]
  },
  {
   "cell_type": "markdown",
   "id": "56fa2d51-8aa6-461f-a1dd-4621994d8319",
   "metadata": {},
   "source": [
    "> - If you are primarily interested in the values that a dictionary contains, you can use the **`values()`** method to return a sequence of values without any keys.\n",
    "> - For example, say we simply want a list of all languages chosen in our programming language poll, without the name of the person"
   ]
  },
  {
   "cell_type": "code",
   "execution_count": null,
   "id": "3adf6d3d-0bd3-4b76-a15b-9c821aef2022",
   "metadata": {},
   "outputs": [],
   "source": [
    "favorite_languages = {\n",
    "    'jen': 'python',\n",
    "    'sarah': 'c',\n",
    "    'edward': 'rust',\n",
    "    'phil': 'python',\n",
    "    }"
   ]
  },
  {
   "cell_type": "code",
   "execution_count": null,
   "id": "630e78b0-73d8-43d0-a86a-342ef6c97cfb",
   "metadata": {},
   "outputs": [],
   "source": [
    "print(\"The following languages have been mentioned:\")\n",
    "for language in favorite_languages.values():\n",
    "    print(language.title())"
   ]
  },
  {
   "cell_type": "markdown",
   "id": "547cb24e-7e80-426b-b25f-66c089729510",
   "metadata": {},
   "source": [
    "> - <span style=\"background:LemonChiffon\">This might work fine with a small number of values, but in a poll with a large number of respondents, it would result in a very repetitive list. To see each language chosen without repetition, we can use a **`set`.**\n",
    "> - A **`set`** is a collection in which each item must be unique:"
   ]
  },
  {
   "cell_type": "code",
   "execution_count": null,
   "id": "e03d5729-ad0e-48ff-82ba-97fe1b60107e",
   "metadata": {},
   "outputs": [],
   "source": [
    "for language in set(favorite_languages.values()):\n",
    "    print(language.title())"
   ]
  },
  {
   "cell_type": "markdown",
   "id": "8ec474ea-2e7f-4daf-8063-a239d185a8f5",
   "metadata": {},
   "source": [
    "> When you wrap **`set()`** around a collection of values that contains duplicate items, Python identifies the unique items in the collection and builds a set from those items. <span style=\"background:LemonChiffon\">The result is a nonrepetitive list of languages"
   ]
  },
  {
   "cell_type": "markdown",
   "id": "72608aa5-9272-4603-8684-753558043057",
   "metadata": {},
   "source": [
    "### **Nesting**"
   ]
  },
  {
   "cell_type": "markdown",
   "id": "56613ab2-fad8-481f-97f6-30885565a883",
   "metadata": {},
   "source": [
    "> - Sometimes you’ll want to store multiple dictionaries in a list, or a list of items as a value in a dictionary. This is called **nesting**.\n",
    "> - <span style=\"background:LemonChiffon\">You can nest dictionaries inside a list or a list of items inside a dictionary."
   ]
  },
  {
   "cell_type": "markdown",
   "id": "04148d26-fd08-4f3b-990a-a521866e8fe5",
   "metadata": {},
   "source": [
    "### **A List of Dictionaries**"
   ]
  },
  {
   "cell_type": "markdown",
   "id": "b5aed735-0664-47d5-9790-6c5889ebbf80",
   "metadata": {},
   "source": [
    "> - The `alien_0` dictionary contains a variety of information about one alien\n",
    "> - How can you manage a fleet of aliens? <span style=\"background:LemonChiffon\">One way is to make a list of aliens in which each alien is a dictionary of information about that alien."
   ]
  },
  {
   "cell_type": "code",
   "execution_count": null,
   "id": "5d51e76f-d4e2-44ab-a946-6613e2e80ab4",
   "metadata": {},
   "outputs": [],
   "source": [
    "alien_0 = {'color': 'green', 'points': 5}\n",
    "alien_1 = {'color': 'yellow', 'points': 10}\n",
    "alien_2 = {'color': 'red', 'points': 15}\n",
    "\n",
    "aliens = [alien_0, alien_1, alien_2]"
   ]
  },
  {
   "cell_type": "markdown",
   "id": "3a920181-3537-4079-8541-74618af17dd5",
   "metadata": {},
   "source": [
    "> We first create three dictionaries, each representing a different alien. We store each of these dictionaries in a list called aliens. Finally, we loop through the list and print out each alien:"
   ]
  },
  {
   "cell_type": "code",
   "execution_count": null,
   "id": "ffec58f5-37ab-46eb-8118-a6afde32b8ee",
   "metadata": {},
   "outputs": [],
   "source": [
    "for alien in aliens:\n",
    "    print(alien)"
   ]
  },
  {
   "cell_type": "markdown",
   "id": "caac5cce-0ca6-4205-9971-69d1b8f88f09",
   "metadata": {},
   "source": [
    "> A more realistic example would involve more than three aliens with code that **automatically** generates each alien. In the following example, we use **`range()`** to create a fleet of 30 aliens:"
   ]
  },
  {
   "cell_type": "code",
   "execution_count": null,
   "id": "4adf8ca4-f89c-4278-8b8d-fd3195e160ef",
   "metadata": {},
   "outputs": [],
   "source": [
    "# Make an empty list for storing aliens.\n",
    "aliens = []\n",
    "\n",
    " # Make 30 green aliens.\n",
    "for alien_number in range(30):\n",
    "     new_alien = {'color': 'green', 'points': 5, 'speed': 'slow'}\n",
    "     aliens.append(new_alien)"
   ]
  },
  {
   "cell_type": "code",
   "execution_count": null,
   "id": "25b6cf99-5359-4921-bab7-c98f07f60b4a",
   "metadata": {},
   "outputs": [],
   "source": [
    "# Show the first 5 aliens.\n",
    "for alien in aliens[:5]:\n",
    "    print(alien)\n",
    "print(\"...\")\n",
    "\n",
    "# Show how many aliens have been created.\n",
    "print(f\"Total number of aliens: {len(aliens)}\")"
   ]
  },
  {
   "cell_type": "markdown",
   "id": "0007744a-e178-45df-9760-7af362e572f6",
   "metadata": {},
   "source": [
    "> <span style=\"background:LemonChiffon\">How might you work with a group of aliens like this?</span> Imagine that one aspect of a game has some aliens changing color and moving faster as the game progresses."
   ]
  },
  {
   "cell_type": "code",
   "execution_count": null,
   "id": "5b7fd5b1-44bf-4922-aa16-dc5e2b16d5a7",
   "metadata": {},
   "outputs": [],
   "source": [
    "# Make an empty list for storing aliens.\n",
    "aliens = []\n",
    "\n",
    "# Make 30 green aliens.\n",
    "for alien_number in range (30):\n",
    "    new_alien = {'color': 'green', 'points': 5, 'speed': 'slow'}\n",
    "    aliens.append(new_alien)"
   ]
  },
  {
   "cell_type": "code",
   "execution_count": null,
   "id": "380c9561-5751-448f-a194-bc1b4c0c7168",
   "metadata": {},
   "outputs": [],
   "source": [
    "for alien in aliens[:3]:\n",
    "    if alien['color'] == 'green':\n",
    "        alien['color'] = 'yellow'\n",
    "        alien['speed'] = 'medium'\n",
    "        alien['points'] = 10"
   ]
  },
  {
   "cell_type": "code",
   "execution_count": null,
   "id": "839e6012-4cae-4e26-8047-aa653f6417e2",
   "metadata": {},
   "outputs": [],
   "source": [
    "# Show the first 5 aliens.\n",
    "for alien in aliens[:5]:\n",
    "    print(alien)\n",
    "print(\"...\")"
   ]
  },
  {
   "cell_type": "markdown",
   "id": "cab99d35-5ba7-412b-ab55-6ab8e9944139",
   "metadata": {},
   "source": [
    "### **A List in a Dictionary**"
   ]
  },
  {
   "cell_type": "markdown",
   "id": "1df79fa7-a0c7-4342-9f4c-a91fc9714546",
   "metadata": {},
   "source": [
    "> - For example, consider how you might describe a pizza that someone is ordering.\n",
    "> - If you were to use only a list, all you could really store is a list of the pizza’s toppings.\n",
    "> -  With a dictionary, a list of toppings can be just one aspect of the pizza you’re describing."
   ]
  },
  {
   "cell_type": "code",
   "execution_count": null,
   "id": "b3126871-cd31-45d9-9a11-58a12675a933",
   "metadata": {},
   "outputs": [],
   "source": [
    "# Store information about a pizza being ordered.\n",
    "pizza = {\n",
    "    'crust': 'thick',\n",
    "    'toppings': ['mushrooms', 'extra cheese'],\n",
    "    }"
   ]
  },
  {
   "cell_type": "code",
   "execution_count": null,
   "id": "93a1f88c-32d5-4fdd-8b24-13df9474d3a4",
   "metadata": {},
   "outputs": [],
   "source": [
    "# Summarize the order.\n",
    "print(f\"You ordered a {pizza['crust']}-crust pizza \"\n",
    "    \"with the following toppings:\")\n",
    "\n",
    "for topping in pizza['toppings']:\n",
    "    print(f\"\\t{topping}\")"
   ]
  },
  {
   "cell_type": "code",
   "execution_count": null,
   "id": "14db03ea-2b0a-4cfc-abac-bd7080e39529",
   "metadata": {},
   "outputs": [],
   "source": [
    "favorite_languages = {\n",
    " 'jen': ['python', 'rust'],\n",
    " 'sarah': ['c'],\n",
    "    'edward': ['rust', 'go'],\n",
    "    'phil': ['python', 'haskell'],\n",
    "    }"
   ]
  },
  {
   "cell_type": "code",
   "execution_count": null,
   "id": "230d7d15-544b-49bf-9b11-a8cf6916a521",
   "metadata": {},
   "outputs": [],
   "source": [
    "for name, languages in favorite_languages.items():\n",
    "    print(f\"\\n{name.title()}'s favorite languages are:\")\n",
    "    \n",
    "    for language in languages:\n",
    "        print(f\"\\t{language.title()}\")"
   ]
  },
  {
   "cell_type": "markdown",
   "id": "49fd7c88-588d-4d5d-a8bd-51447607f3a6",
   "metadata": {},
   "source": [
    "### **Removing All Occurrences from a List**"
   ]
  },
  {
   "cell_type": "markdown",
   "id": "7cb59ef3-bc53-41f0-868b-a9af0ed98d43",
   "metadata": {},
   "source": [
    "- #### **Using for loop**"
   ]
  },
  {
   "cell_type": "code",
   "execution_count": null,
   "id": "426a992e-b35e-47b4-b4d2-8cc4eafbe5c4",
   "metadata": {},
   "outputs": [],
   "source": [
    "nums = [1, 2, 3, 2, 4, 2, 2, 5, 2]\n",
    "for num in nums:\n",
    "    if num == 2:\n",
    "        nums.remove(num)\n",
    "print(nums)"
   ]
  },
  {
   "cell_type": "markdown",
   "id": "c967456c-d521-497d-8798-666b05d952ab",
   "metadata": {},
   "source": [
    "- #### **Using while loop**"
   ]
  },
  {
   "cell_type": "code",
   "execution_count": null,
   "id": "9f7c997f-3e2b-4ed5-85be-a4ce21fcc8b2",
   "metadata": {},
   "outputs": [],
   "source": [
    "nums = [1, 2, 3, 2, 4, 2, 2]\n",
    "while 2 in nums:\n",
    "    nums.remove(2)\n",
    "print(nums)"
   ]
  },
  {
   "cell_type": "markdown",
   "id": "e46a4ab8-e186-42e2-867f-5359178d4323",
   "metadata": {},
   "source": [
    "- #### **Using for loop [Solved the Problem]**"
   ]
  },
  {
   "cell_type": "code",
   "execution_count": null,
   "id": "5dd50fde-a2c8-467e-9c4c-cef3f201c52c",
   "metadata": {},
   "outputs": [],
   "source": [
    "nums = [1, 2, 3, 2, 4, 2, 2]\n",
    "nums_copy = nums[:] # take a copy from the list and iterate over it, instead of using the original list itself\n",
    "\n",
    "for num in nums_copy:  \n",
    "    if num == 2:\n",
    "        nums.remove(num)\n",
    "print(nums)"
   ]
  }
 ],
 "metadata": {
  "kernelspec": {
   "display_name": "Python 3 (ipykernel)",
   "language": "python",
   "name": "python3"
  },
  "language_info": {
   "codemirror_mode": {
    "name": "ipython",
    "version": 3
   },
   "file_extension": ".py",
   "mimetype": "text/x-python",
   "name": "python",
   "nbconvert_exporter": "python",
   "pygments_lexer": "ipython3",
   "version": "3.12.7"
  }
 },
 "nbformat": 4,
 "nbformat_minor": 5
}
