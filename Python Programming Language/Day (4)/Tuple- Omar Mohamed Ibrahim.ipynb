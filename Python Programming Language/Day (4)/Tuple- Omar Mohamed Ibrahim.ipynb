{
 "cells": [
  {
   "cell_type": "markdown",
   "id": "33c89d4c",
   "metadata": {},
   "source": [
    "## Python: Tuple"
   ]
  },
  {
   "cell_type": "markdown",
   "id": "19fee054",
   "metadata": {},
   "source": [
    "- A tuple is an **ordered collection** of elements, similar to a list, but **immutable**.\n",
    "- Syntax: Tuples use parentheses `()` instead of square brackets `[]`.\n",
    "\n",
    "The key here is **its elements cannot be changed**.\n"
   ]
  },
  {
   "cell_type": "code",
   "execution_count": 1,
   "id": "e4823e3b",
   "metadata": {},
   "outputs": [
    {
     "name": "stdout",
     "output_type": "stream",
     "text": [
      "(1, 2, 3, 4, 5)\n"
     ]
    }
   ],
   "source": [
    "random_tuple = (1, 2, 3, 4, 5)\n",
    "print(random_tuple)"
   ]
  },
  {
   "cell_type": "code",
   "execution_count": 61,
   "id": "eb5c5c11",
   "metadata": {},
   "outputs": [
    {
     "name": "stdout",
     "output_type": "stream",
     "text": [
      "<class 'tuple'>\n"
     ]
    }
   ],
   "source": [
    "print(type(random_tuple)) # tuple data type"
   ]
  },
  {
   "cell_type": "markdown",
   "id": "beaa21fa",
   "metadata": {},
   "source": [
    "We also can declare tuple using or without using parentheses known as `Tuple Packing`:"
   ]
  },
  {
   "cell_type": "code",
   "execution_count": 62,
   "id": "592f7452",
   "metadata": {},
   "outputs": [
    {
     "name": "stdout",
     "output_type": "stream",
     "text": [
      "<class 'tuple'>\n"
     ]
    }
   ],
   "source": [
    "session = 'Omar', 'ITI', 'Python', 5 \n",
    "print(type(session))"
   ]
  },
  {
   "cell_type": "markdown",
   "id": "28c2e9b7",
   "metadata": {},
   "source": [
    "We can use slicing like list to get element or specific range of elements"
   ]
  },
  {
   "cell_type": "code",
   "execution_count": 10,
   "id": "8558f5e9",
   "metadata": {},
   "outputs": [
    {
     "name": "stdout",
     "output_type": "stream",
     "text": [
      "1\n",
      "5\n",
      "(1, 2, 3)\n"
     ]
    }
   ],
   "source": [
    "# Accessing tuple elemnts\n",
    "numbers = (1, 2, 3, 4, 5)\n",
    "\n",
    "print(numbers[0])\n",
    "print(numbers[-1])\n",
    "print(numbers[:3])"
   ]
  },
  {
   "cell_type": "markdown",
   "id": "41b42acc",
   "metadata": {},
   "source": [
    "there is a terminology called `Unpacking Tuples` or `Tuples Unpacking`, and it’s a powerful feature in Python that simplifies handling multiple values at once. It's useful in various scenarios, such as **function returns**, **loops**, and **swapping variables**."
   ]
  },
  {
   "cell_type": "code",
   "execution_count": null,
   "id": "af90c3c3",
   "metadata": {},
   "outputs": [
    {
     "name": "stdout",
     "output_type": "stream",
     "text": [
      "Omar\n",
      "26\n",
      "Data Engineer\n"
     ]
    }
   ],
   "source": [
    "person = (\"Omar\", 26, \"Data Engineer\")\n",
    "\n",
    "name, age, track = person # Note: the number of variables are equal to the number of elements in the tuple\n",
    "\n",
    "print(name)\n",
    "print(age)\n",
    "print(track)"
   ]
  },
  {
   "cell_type": "code",
   "execution_count": 15,
   "id": "e1a0bcbd",
   "metadata": {},
   "outputs": [
    {
     "name": "stdout",
     "output_type": "stream",
     "text": [
      "Omar\n",
      "26\n",
      "Data Engineer\n"
     ]
    }
   ],
   "source": [
    "person = (\"Omar\", 26, \"Data Engineer\")\n",
    "\n",
    "name = person[0]\n",
    "age = person[1]\n",
    "track = person[2]\n",
    "\n",
    "print(name)\n",
    "print(age)\n",
    "print(track)"
   ]
  },
  {
   "cell_type": "code",
   "execution_count": 13,
   "id": "c89d40e5",
   "metadata": {},
   "outputs": [
    {
     "ename": "ValueError",
     "evalue": "too many values to unpack (expected 2)",
     "output_type": "error",
     "traceback": [
      "\u001b[31m---------------------------------------------------------------------------\u001b[39m",
      "\u001b[31mValueError\u001b[39m                                Traceback (most recent call last)",
      "\u001b[36mCell\u001b[39m\u001b[36m \u001b[39m\u001b[32mIn[13]\u001b[39m\u001b[32m, line 3\u001b[39m\n\u001b[32m      1\u001b[39m person = (\u001b[33m\"\u001b[39m\u001b[33mOmar\u001b[39m\u001b[33m\"\u001b[39m, \u001b[32m26\u001b[39m, \u001b[33m\"\u001b[39m\u001b[33mData Engineer\u001b[39m\u001b[33m\"\u001b[39m)\n\u001b[32m----> \u001b[39m\u001b[32m3\u001b[39m name, track = person \u001b[38;5;66;03m# ValueError mismatch in number of values\u001b[39;00m\n\u001b[32m      5\u001b[39m \u001b[38;5;28mprint\u001b[39m(name)\n\u001b[32m      6\u001b[39m \u001b[38;5;28mprint\u001b[39m(age)\n",
      "\u001b[31mValueError\u001b[39m: too many values to unpack (expected 2)"
     ]
    }
   ],
   "source": [
    "person = (\"Omar\", 26, \"Data Engineer\")\n",
    "\n",
    "name, track = person # ValueError mismatch in number of values\n",
    "\n",
    "print(name)\n",
    "print(age)\n",
    "print(track)"
   ]
  },
  {
   "cell_type": "code",
   "execution_count": 63,
   "id": "3127ac47",
   "metadata": {},
   "outputs": [
    {
     "name": "stdout",
     "output_type": "stream",
     "text": [
      "('python', 'Tuple', 'ITI')\n",
      "<class 'tuple'>\n"
     ]
    }
   ],
   "source": [
    "# function that return a tuple \n",
    "def get_session_info():\n",
    "    return 'python', 'Tuple', 'ITI'\n",
    "\n",
    "print(get_session_info())\n",
    "\n",
    "print(type(get_session_info()))"
   ]
  },
  {
   "cell_type": "code",
   "execution_count": 20,
   "id": "574bd93f",
   "metadata": {},
   "outputs": [
    {
     "name": "stdout",
     "output_type": "stream",
     "text": [
      "Omar is in the Data Engineering Track.\n",
      "Ahmed is in the Power BI Track.\n",
      "Hazrm is in the .Net Track.\n"
     ]
    }
   ],
   "source": [
    "studnets = [(\"Omar\", 'Data Engineering'), (\"Ahmed\", 'Power BI'), (\"Hazrm\", '.Net')]\n",
    "\n",
    "for name, track in studnets:\n",
    "    print(f\"{name} is in the {track} Track.\")\n"
   ]
  },
  {
   "cell_type": "code",
   "execution_count": null,
   "id": "7506dd74",
   "metadata": {},
   "outputs": [
    {
     "name": "stdout",
     "output_type": "stream",
     "text": [
      "10\n",
      "5\n"
     ]
    }
   ],
   "source": [
    "a, b = 5, 10\n",
    "\n",
    "a, b = b, a  # Swap values without temp (Pythonic Way)\n",
    "\n",
    "print(a)\n",
    "print(b) "
   ]
  },
  {
   "cell_type": "markdown",
   "id": "2a00a627",
   "metadata": {},
   "source": [
    "All arguments are packed into a tuple:"
   ]
  },
  {
   "cell_type": "code",
   "execution_count": null,
   "id": "1c5bf1b9",
   "metadata": {},
   "outputs": [
    {
     "name": "stdout",
     "output_type": "stream",
     "text": [
      "(1, 2, 3, 4)\n",
      "10\n"
     ]
    }
   ],
   "source": [
    "def add_numbers(*args):\n",
    "    # print(args)\n",
    "    total = 0 \n",
    "    for num in args:\n",
    "        total += num \n",
    "    return total # or use the sum func to sum \n",
    "\n",
    "print(add_numbers(1, 2, 3, 4)) \n",
    "\n"
   ]
  },
  {
   "cell_type": "markdown",
   "id": "093f47a2",
   "metadata": {},
   "source": [
    "So, Python **assigns normal values first**, then **packs the rest into a list**"
   ]
  },
  {
   "cell_type": "code",
   "execution_count": null,
   "id": "468c0977",
   "metadata": {},
   "outputs": [
    {
     "name": "stdout",
     "output_type": "stream",
     "text": [
      "1\n",
      "[2, 3, 4]\n",
      "5\n"
     ]
    }
   ],
   "source": [
    "numbers = (1, 2, 3, 4, 5)\n",
    "\n",
    "first, *middle, last = numbers\n",
    "\n",
    "print(first)  # 1\n",
    "print(middle) # [2, 3, 4]\n",
    "print(last)   # 5"
   ]
  },
  {
   "cell_type": "markdown",
   "id": "2dca73ae",
   "metadata": {},
   "source": [
    "Tuples are used when data should not be changed, such as database records or configuration settings.\n",
    "\n",
    "lighter and faster due to fixed size (immutability)"
   ]
  },
  {
   "cell_type": "code",
   "execution_count": 29,
   "id": "8239b8c9",
   "metadata": {},
   "outputs": [
    {
     "ename": "TypeError",
     "evalue": "'tuple' object does not support item assignment",
     "output_type": "error",
     "traceback": [
      "\u001b[31m---------------------------------------------------------------------------\u001b[39m",
      "\u001b[31mTypeError\u001b[39m                                 Traceback (most recent call last)",
      "\u001b[36mCell\u001b[39m\u001b[36m \u001b[39m\u001b[32mIn[29]\u001b[39m\u001b[32m, line 2\u001b[39m\n\u001b[32m      1\u001b[39m t = (\u001b[32m1\u001b[39m, \u001b[32m2\u001b[39m, \u001b[32m3\u001b[39m)\n\u001b[32m----> \u001b[39m\u001b[32m2\u001b[39m \u001b[43mt\u001b[49m\u001b[43m[\u001b[49m\u001b[32;43m0\u001b[39;49m\u001b[43m]\u001b[49m = \u001b[32m10\u001b[39m  \n",
      "\u001b[31mTypeError\u001b[39m: 'tuple' object does not support item assignment"
     ]
    }
   ],
   "source": [
    "t = (1, 2, 3)\n",
    "t[0] = 10  "
   ]
  },
  {
   "cell_type": "code",
   "execution_count": 37,
   "id": "75cd6020",
   "metadata": {},
   "outputs": [
    {
     "name": "stdout",
     "output_type": "stream",
     "text": [
      "[10, 2, 3]\n"
     ]
    }
   ],
   "source": [
    "l = [1, 2, 3]\n",
    "l[0] = 10  \n",
    "print(l)  "
   ]
  },
  {
   "cell_type": "code",
   "execution_count": null,
   "id": "3edde85f",
   "metadata": {},
   "outputs": [
    {
     "name": "stdout",
     "output_type": "stream",
     "text": [
      "2362998940096\n",
      "[1, 2, 3, 4]\n",
      "2362998940096\n"
     ]
    }
   ],
   "source": [
    "l = [1, 2, 3]\n",
    "print(id(l))\n",
    "l += [4] \n",
    "print(l) \n",
    "\n",
    "print(id(l))"
   ]
  },
  {
   "cell_type": "code",
   "execution_count": null,
   "id": "331ba034",
   "metadata": {},
   "outputs": [
    {
     "name": "stdout",
     "output_type": "stream",
     "text": [
      "2362998552768\n",
      "(1, 2, 3, 4)\n",
      "2362999152112\n"
     ]
    }
   ],
   "source": [
    "t = (1, 2, 3)\n",
    "print(id(t))\n",
    "t += (4, ) \n",
    "print(t)\n",
    "\n",
    "print(id(t))"
   ]
  },
  {
   "cell_type": "code",
   "execution_count": null,
   "id": "e6f3a083",
   "metadata": {},
   "outputs": [],
   "source": []
  }
 ],
 "metadata": {
  "kernelspec": {
   "display_name": "Python 3",
   "language": "python",
   "name": "python3"
  },
  "language_info": {
   "codemirror_mode": {
    "name": "ipython",
    "version": 3
   },
   "file_extension": ".py",
   "mimetype": "text/x-python",
   "name": "python",
   "nbconvert_exporter": "python",
   "pygments_lexer": "ipython3",
   "version": "3.13.0"
  },
  "rise": {
   "theme": "sky"
  }
 },
 "nbformat": 4,
 "nbformat_minor": 5
}
