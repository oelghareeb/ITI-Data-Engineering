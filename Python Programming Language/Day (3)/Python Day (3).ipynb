{
 "cells": [
  {
   "cell_type": "markdown",
   "id": "e4b76b6f-ee9b-4c1e-8d02-fc686313733d",
   "metadata": {},
   "source": [
    "# Revision"
   ]
  },
  {
   "cell_type": "markdown",
   "id": "6c1dc4bd-d439-4e7c-ac75-c0448c353ec7",
   "metadata": {},
   "source": [
    "> ### What do these print?"
   ]
  },
  {
   "cell_type": "code",
   "execution_count": null,
   "id": "b1f7dea7-5b82-436f-9aee-a1e08bd4aebc",
   "metadata": {},
   "outputs": [],
   "source": [
    "for i in range(1,4,1):\n",
    "    print(i)"
   ]
  },
  {
   "cell_type": "code",
   "execution_count": null,
   "id": "fc9a3438-3ddc-4c7b-baa3-518801a7a8d5",
   "metadata": {},
   "outputs": [],
   "source": [
    "for j in range(1,4,2):\n",
    "    print(j*2)"
   ]
  },
  {
   "cell_type": "code",
   "execution_count": null,
   "id": "f079c279-8416-4787-8447-9ae08a76834e",
   "metadata": {},
   "outputs": [],
   "source": [
    "for p in range(4,0,-1):\n",
    "    print(p*\"#\")"
   ]
  },
  {
   "cell_type": "markdown",
   "id": "724b7b8d-909f-4383-8bbc-76d04ca46d3b",
   "metadata": {},
   "source": [
    "> ### Covert the while loop to for loop"
   ]
  },
  {
   "cell_type": "code",
   "execution_count": null,
   "id": "0b13bd9f-e1d3-4963-bd75-93c41427998f",
   "metadata": {},
   "outputs": [],
   "source": [
    "n = 0\n",
    "while n < 5:\n",
    "    print(n)\n",
    "    n = n + 1"
   ]
  },
  {
   "cell_type": "code",
   "execution_count": null,
   "id": "7dd3e88e-5562-4e2d-8447-beff634e7e7e",
   "metadata": {},
   "outputs": [],
   "source": [
    "for i in range(5):\n",
    "    print(i)"
   ]
  },
  {
   "cell_type": "markdown",
   "id": "e8f7726c-e051-408e-bb8d-7d7c71ec3b09",
   "metadata": {},
   "source": [
    "# **1. Defining a Function**"
   ]
  },
  {
   "cell_type": "code",
   "execution_count": null,
   "id": "07a7b1dc-39b9-4b0b-a7d2-e48ce558b59a",
   "metadata": {},
   "outputs": [],
   "source": [
    "def greet_user():\n",
    "    \"\"\"Display a simple greeting.\"\"\"\n",
    "    print(\"Hello!\")"
   ]
  },
  {
   "cell_type": "markdown",
   "id": "7c87779e-8121-4332-b4a8-88cb2004b032",
   "metadata": {},
   "source": [
    "- The keyword **`def`** to inform Python that this the<span style=\"background:palegreen\"> **function definition**.\n",
    "- **Function definition** tells Python: <span style=\"background:LemonChiffon\">\n",
    "the name of the function</span> and, if applicable, what <span style=\"background:LemonChiffon\">\n",
    "kind of information the function needs</span> to do its job. This is called the **header** of the function.\n",
    "- In this case, the name of the function is `greet_user()`, and it needs **no information** to do its job, so its parentheses are empty. Finally, the definition ends in a colon.\n",
    "  \n",
    "- Any indented lines that follow `def greet_user():` make up the **body** of the function.\n",
    "- The text on the second line is a comment called a <span style=\"background:palegreen\">**docstring,**</span> which describes what the function does. These strings are usually enclosed in <span style=\"background:LemonChiffon\">triple quotes, which lets you write multiple lines. Python looks for a string immediately after the function's definition and recognizes it as docstring. "
   ]
  },
  {
   "cell_type": "code",
   "execution_count": null,
   "id": "5ab47be4-6a4e-4f69-be6d-9f47810dcd41",
   "metadata": {},
   "outputs": [],
   "source": [
    "help(greet_user)"
   ]
  },
  {
   "cell_type": "code",
   "execution_count": null,
   "id": "cff3a11c-7ce4-4bd0-9487-f8c287fca5de",
   "metadata": {},
   "outputs": [],
   "source": [
    "help(abs)"
   ]
  },
  {
   "cell_type": "markdown",
   "id": "4b7c06d9-d140-4c9e-a4b2-c6c31670011a",
   "metadata": {},
   "source": [
    "> - When you want to use this function, you have to call it. A <span style=\"background:palegreen\">\n",
    "**function call**</span> tells Python to execute the code in the function.<br>\n",
    "> - To call a function, you write the name of the function, followed by any necessary information in parentheses."
   ]
  },
  {
   "cell_type": "code",
   "execution_count": null,
   "id": "bd41437c-4f1d-4620-9f7c-6ffd5ec04b60",
   "metadata": {},
   "outputs": [],
   "source": [
    "greet_user()"
   ]
  },
  {
   "cell_type": "markdown",
   "id": "027c2548-174a-4b52-8f30-3a4960dcb4d5",
   "metadata": {},
   "source": [
    "### **1.1  Passing Information to a Function**"
   ]
  },
  {
   "cell_type": "markdown",
   "id": "af5c6543-f7b5-4f82-a673-b08e87fe079a",
   "metadata": {},
   "source": [
    "> By adding `username` here, you allow the function to accept any value of username you specify. The function now expects you to provide a value for username each time you call it."
   ]
  },
  {
   "cell_type": "code",
   "execution_count": null,
   "id": "cc5e6f92-a349-434a-a386-8c17f6b4eee4",
   "metadata": {},
   "outputs": [],
   "source": [
    "def greet_user(username):\n",
    "    \"\"\"Display a simple greeting.\"\"\"\n",
    "    print(f\"Hello!, {username.title()}\")"
   ]
  },
  {
   "cell_type": "code",
   "execution_count": null,
   "id": "7ab2bc0e-c107-4564-a160-f6804d08dff8",
   "metadata": {},
   "outputs": [],
   "source": [
    "greet_user(\"sarah\")"
   ]
  },
  {
   "cell_type": "code",
   "execution_count": null,
   "id": "3dd78cca-c7c4-465a-b758-e95f6be2a9e5",
   "metadata": {},
   "outputs": [],
   "source": [
    "greet_user(\"Ahmed\")"
   ]
  },
  {
   "cell_type": "code",
   "execution_count": null,
   "id": "5adf4ad0-6a93-4337-9831-69c0212e309a",
   "metadata": {},
   "outputs": [],
   "source": [
    "greet_user()"
   ]
  },
  {
   "cell_type": "markdown",
   "id": "c3927005-d763-4110-8a10-7b7323991bd4",
   "metadata": {},
   "source": [
    "### **1.2 Arguments and Parameters**"
   ]
  },
  {
   "cell_type": "markdown",
   "id": "9f245857-ec32-4cc1-9842-e2a295fc5910",
   "metadata": {},
   "source": [
    "> - The variable `username` in the definition of `greet_user()` is an example of a <span style=\"background:palegreen\">\n",
    "**parameter**</span>, a piece of information the function needs to do its job.\n",
    "> - The value \"Sarah\" in `greet_user(\"Sarah\")` is an example of an <span style=\"background:palegreen\">**argument**</span>. An argument is a piece of information that’s passed from a function call to a function."
   ]
  },
  {
   "cell_type": "code",
   "execution_count": null,
   "id": "26c550a3-fd2e-4381-af2e-14ca09f39a72",
   "metadata": {},
   "outputs": [],
   "source": [
    "def greet_user(username):\n",
    "    \"\"\"Display a simple greeting.\"\"\"\n",
    "    print(f\"Hello!, {username.title()}\")"
   ]
  },
  {
   "cell_type": "code",
   "execution_count": null,
   "id": "f1a64af6-8cb1-466b-8f40-2ef66357a9d1",
   "metadata": {},
   "outputs": [],
   "source": [
    "greet_user(\"Sarah\")"
   ]
  },
  {
   "cell_type": "markdown",
   "id": "c6275cf3-b39b-40ec-be06-6db7f2538467",
   "metadata": {},
   "source": [
    "#### 📝 **Note**\n",
    "> <span style=\"background:LavenderBlush\">People sometimes speak of arguments and parameters interchangeably.</span> Don’t be surprised if you see the variables in a function definition referred to as arguments or the variables in a function call referred to as parameters."
   ]
  },
  {
   "cell_type": "markdown",
   "id": "263bc80f-7a5b-48a5-8de1-b56acb08ba61",
   "metadata": {},
   "source": [
    "#### ✍🏻 **TRY IT YOURSELF**\n",
    "> **Favorite Book:** Write a function called `favorite_book()` that accepts one parameter, `title`. The function should print a message, such as \"*One of my favorite books is Alice in Wonderland.*\""
   ]
  },
  {
   "cell_type": "markdown",
   "id": "de6f3ac8-d8fe-4676-95ee-c7901991a892",
   "metadata": {},
   "source": [
    "# **2. Passing Arguments**"
   ]
  },
  {
   "cell_type": "markdown",
   "id": "396b167e-6183-4617-929d-a1152d72b1e9",
   "metadata": {},
   "source": [
    "> <span style=\"background:LemonChiffon\">Because a function definition can have multiple parameters, a function call may need multiple arguments.</span> You can pass arguments to your functions in a number of ways:\n",
    "> - <span style=\"background:palegreen\">**positional arguments**.\n",
    "> - <span style=\"background:palegreen\">**keyword arguments**"
   ]
  },
  {
   "cell_type": "markdown",
   "id": "ccd76237-db9b-49e8-89b7-97f559a9ddd8",
   "metadata": {},
   "source": [
    "### **2.1 Positional Arguments**"
   ]
  },
  {
   "cell_type": "markdown",
   "id": "5e404f7c-4b3b-4459-b148-a0e6cb1b353a",
   "metadata": {},
   "source": [
    "> When you call a function, <span style=\"background:LemonChiffon\">Python must match each argument in the function call with a parameter in the function definition.</span> <span style=\"background:LemonChiffon\">\n",
    "The simplest way to do this is based on the order of the arguments provided.</span> Values matched up this way are called **positional arguments.**"
   ]
  },
  {
   "cell_type": "code",
   "execution_count": null,
   "id": "d70b4235-18df-469c-9442-66d3fe307a4a",
   "metadata": {},
   "outputs": [],
   "source": [
    "def describe_pet(animal_type, pet_name):\n",
    "    \"\"\"Display information about a pet.\"\"\"\n",
    "    print(f\"\\nI have a {animal_type}.\")\n",
    "    print(f\"My {animal_type}'s name is {pet_name.title()}.\")"
   ]
  },
  {
   "cell_type": "markdown",
   "id": "dfdffb53-57fe-4faf-b2ac-99df83c9476e",
   "metadata": {},
   "source": [
    "> When we call `describe_pet()`, we need to provide an `animal type` and a `name`, **in that order**. For example, in the function call, the argument *'hamster'* is assigned to the parameter `animal_type` and the argument *'harry'* is assigned to the parameter `pet_name`"
   ]
  },
  {
   "cell_type": "code",
   "execution_count": null,
   "id": "d30109a0-d850-4b1a-bce2-7b4120d1de3c",
   "metadata": {},
   "outputs": [],
   "source": [
    "describe_pet('hamster', 'harry')"
   ]
  },
  {
   "cell_type": "markdown",
   "id": "3b54c3a6-d4e6-4ff3-9596-59fbd10063eb",
   "metadata": {},
   "source": [
    "#### **2.1.1 Multiple Function Calls**"
   ]
  },
  {
   "cell_type": "code",
   "execution_count": null,
   "id": "8e0df20a-052b-4603-af23-38212c88c2a4",
   "metadata": {},
   "outputs": [],
   "source": [
    "describe_pet('hamster', 'harry')\n",
    "describe_pet('dog', 'willie')"
   ]
  },
  {
   "cell_type": "markdown",
   "id": "ec93eb31-3a83-4e93-a15e-70e83ba46e9f",
   "metadata": {},
   "source": [
    "> <span style=\"background:LemonChiffon\">The code describing a pet is written once in the function.</span> Then, anytime you want to describe a new pet, you call the function with the new pet’s information."
   ]
  },
  {
   "cell_type": "markdown",
   "id": "162d49ea-4a4d-4287-b08e-dd179d26790f",
   "metadata": {},
   "source": [
    "#### **2.1.2 Order Matters in Positional Arguments**"
   ]
  },
  {
   "cell_type": "markdown",
   "id": "fe80754f-882d-45c0-a234-d494b3a218b4",
   "metadata": {},
   "source": [
    "> You can get **unexpected results** if you mix up the order of the arguments in a function call when using positional arguments:"
   ]
  },
  {
   "cell_type": "code",
   "execution_count": null,
   "id": "f3284695-becd-4135-85cb-21b17b1da680",
   "metadata": {},
   "outputs": [],
   "source": [
    "def describe_pet(animal_type, pet_name):\n",
    "    \"\"\"Display information about a pet.\"\"\"\n",
    "    print(f\"\\nI have a {animal_type}.\")\n",
    "    print(f\"My {animal_type}'s name is {pet_name.title()}.\")"
   ]
  },
  {
   "cell_type": "code",
   "execution_count": null,
   "id": "24ca23f4-5d82-4a43-9c4b-78e7a168517c",
   "metadata": {},
   "outputs": [],
   "source": [
    "describe_pet(\"harry\", \"hamster\")"
   ]
  },
  {
   "cell_type": "markdown",
   "id": "4d71a7a2-edd8-420e-852a-7cc8ddbe7336",
   "metadata": {},
   "source": [
    "### **2.2 Keyword Arguments**"
   ]
  },
  {
   "cell_type": "markdown",
   "id": "20a51d8b-90a1-43ea-ab3e-de47af124f30",
   "metadata": {},
   "source": [
    "> - A **keyword argument** is a <span style=\"background:LemonChiffon\">name-value pair that you pass to a function.</span> You directly associate the name and the value within the argument, they free you from having to worry about correctly ordering your arguments in the function call, and they clarify the role of each value in the function call."
   ]
  },
  {
   "cell_type": "code",
   "execution_count": null,
   "id": "70227fe7-3e07-405c-9c45-44409fa905e1",
   "metadata": {},
   "outputs": [],
   "source": [
    "def describe_pet(animal_type, pet_name):\n",
    "    \"\"\"Display information about a pet.\"\"\"\n",
    "    print(f\"\\nI have a {animal_type}.\")\n",
    "    print(f\"My {animal_type}'s name is {pet_name.title()}.\")"
   ]
  },
  {
   "cell_type": "markdown",
   "id": "bcf0da41-6d4a-4c64-abd6-3de076942b78",
   "metadata": {},
   "source": [
    "> The function `describe_pet()` hasn’t changed. When we call the function, we **explicitly** tell Python which parameter each argument should be matched with."
   ]
  },
  {
   "cell_type": "code",
   "execution_count": null,
   "id": "161cb66b-9ddb-48f9-93d9-d07fc3d3112d",
   "metadata": {},
   "outputs": [],
   "source": [
    "describe_pet(animal_type=\"hamster\", pet_name=\"harry\")"
   ]
  },
  {
   "cell_type": "markdown",
   "id": "ebbcb043-6c8a-4fbd-8fb2-190e92b540c3",
   "metadata": {},
   "source": [
    "> The order of keyword arguments doesn’t matter because Python knows where each value should go. The following two function calls are equivalent:"
   ]
  },
  {
   "cell_type": "code",
   "execution_count": null,
   "id": "7c1c56a0-d3f4-4abc-a76a-43775f0ca515",
   "metadata": {},
   "outputs": [],
   "source": [
    "describe_pet(animal_type=\"hamster\", pet_name=\"harry\")\n",
    "describe_pet(pet_name=\"harry\", animal_type=\"hamster\")"
   ]
  },
  {
   "cell_type": "markdown",
   "id": "a9a55de0-aa23-437b-a22d-c97b133f27e5",
   "metadata": {},
   "source": [
    "#### 📝 **Note**\n",
    "> <span style=\"background:LavenderBlush\">When you use keyword arguments, be sure to use the exact names of the parameters in \n",
    "the function’s definition."
   ]
  },
  {
   "cell_type": "code",
   "execution_count": null,
   "id": "8e60f241-07fa-4554-8f5a-3d0cd203e3e2",
   "metadata": {},
   "outputs": [],
   "source": [
    "describe_pet(animal_typ=\"hamster\", animal_name=\"harry\")"
   ]
  },
  {
   "cell_type": "markdown",
   "id": "47206ac4-44c5-4595-ac1a-1076eaeb9e8f",
   "metadata": {},
   "source": [
    "### **2.3 Default Values**"
   ]
  },
  {
   "cell_type": "markdown",
   "id": "4072ce68-52d7-4e9c-a1a0-ad2daa19d704",
   "metadata": {},
   "source": [
    "> - When writing a function, you can define a default value for each parameter. <span style=\"background:LemonChiffon\">If an argument for a parameter is provided in the function call, Python uses the argument value. If not, it uses the parameter’s default value.\n",
    "> - So when you define a default value for a parameter, <span style=\"background:LemonChiffon\">\n",
    "you can exclude the coresponding argument you’d usually write in the function call."
   ]
  },
  {
   "cell_type": "code",
   "execution_count": null,
   "id": "6a5b5690-1d25-4704-b778-1e6bd2f6d5c6",
   "metadata": {},
   "outputs": [],
   "source": [
    "def describe_pet(animal_type, pet_name):\n",
    "def describe_pet(pet_name, animal_type=\"dog\"):\n",
    "     \"\"\"Display information about a pet.\"\"\"\n",
    "     print(f\"\\nI have a {animal_type}.\")\n",
    "     print(f\"My {animal_type}'s name is {pet_name.title()}.\")"
   ]
  },
  {
   "cell_type": "markdown",
   "id": "1ca3ae13-b00c-4eec-9548-bb2c5d045493",
   "metadata": {},
   "source": [
    "> We changed the definition of `describe_pet()` to include a default value, \"dog\", for `animal_type`. Now when the function is called with no `animal_type` specified, Python knows to use the value \"dog\" for this parameter:"
   ]
  },
  {
   "cell_type": "code",
   "execution_count": null,
   "id": "4570edc8-4732-406b-b426-02c3ff54c69a",
   "metadata": {},
   "outputs": [],
   "source": [
    "describe_pet(pet_name='willie')"
   ]
  },
  {
   "cell_type": "markdown",
   "id": "0cb7c638-57c5-4afc-af78-c4f537adb2c2",
   "metadata": {},
   "source": [
    "> - <span style=\"background:LemonChiffon\">Note that the order of the parameters in the function definition had to be changed.<br>\n",
    "> - If the function is called with just a pet’s name, that argument will match up with the first parameter listed in the function’s definition."
   ]
  },
  {
   "cell_type": "code",
   "execution_count": null,
   "id": "bddb75b8-dc87-4df5-b2e0-56eea6806763",
   "metadata": {},
   "outputs": [],
   "source": [
    "describe_pet('willie')"
   ]
  },
  {
   "cell_type": "markdown",
   "id": "f489cc9f-aa07-4d0b-a26a-b28ce4222fe8",
   "metadata": {},
   "source": [
    "> Because an explicit argument for animal_type is provided, Python will ignore the parameter’s default value."
   ]
  },
  {
   "cell_type": "code",
   "execution_count": null,
   "id": "a9d3ca6a-01ec-45ab-aaab-731615eeb73b",
   "metadata": {},
   "outputs": [],
   "source": [
    "describe_pet(pet_name='harry', animal_type='hamster')"
   ]
  },
  {
   "cell_type": "code",
   "execution_count": null,
   "id": "6be0f009-7b0d-4efd-8d31-bcce7ee12dc1",
   "metadata": {},
   "outputs": [],
   "source": [
    "describe_pet('harry', 'hamster')"
   ]
  },
  {
   "cell_type": "markdown",
   "id": "d7501053-802e-4563-b103-c3e4bc487b92",
   "metadata": {},
   "source": [
    "#### 📝 **Note**\n",
    "> <span style=\"background:LavenderBlush\">When you use default values, any parameter with a default value needs to be listed \n",
    "after all the parameters that don’t have default values."
   ]
  },
  {
   "cell_type": "markdown",
   "id": "dbbdc783-fa91-4bcf-9966-99a3175e7fb8",
   "metadata": {},
   "source": [
    "### **2.4 Equivalent Function Calls**"
   ]
  },
  {
   "cell_type": "markdown",
   "id": "34f4eba0-79f1-475a-8a58-906f13f107b1",
   "metadata": {},
   "source": [
    "> Because **positional arguments**, **keyword arguments**, and **default values** can all be used together, <span style=\"background:LemonChiffon\">you’ll often have several equivalent ways to call a function. "
   ]
  },
  {
   "cell_type": "code",
   "execution_count": null,
   "id": "b7ff9e21-35ac-4e7d-b5b2-a9e9674fa18b",
   "metadata": {},
   "outputs": [],
   "source": [
    "def describe_pet(pet_name, animal_type=\"dog\"):\n",
    "     \"\"\"Display information about a pet.\"\"\"\n",
    "     print(f\"\\nI have a {animal_type}.\")\n",
    "     print(f\"My {animal_type}'s name is {pet_name.title()}.\")"
   ]
  },
  {
   "cell_type": "markdown",
   "id": "9dc94148-010b-4067-affe-55329874a72b",
   "metadata": {},
   "source": [
    "> It doesn’t really matter which calling style you use. As long as your function calls produce the output you want, <span style=\"background:LemonChiffon\">just use the style you find easiest to understand."
   ]
  },
  {
   "cell_type": "code",
   "execution_count": null,
   "id": "36589246-5762-4861-bfca-405f774298de",
   "metadata": {},
   "outputs": [],
   "source": [
    "# A dog named Willie.\n",
    "describe_pet('willie')\n",
    "describe_pet(pet_name='willie')"
   ]
  },
  {
   "cell_type": "code",
   "execution_count": null,
   "id": "ac1fa76c-34fa-42bc-804a-08ef0c4e5332",
   "metadata": {},
   "outputs": [],
   "source": [
    "# A hamster named Harry.\n",
    "describe_pet('harry', 'hamster')\n",
    "describe_pet(pet_name='harry', animal_type='hamster')\n",
    "describe_pet(animal_type='hamster', pet_name='harry')"
   ]
  },
  {
   "cell_type": "markdown",
   "id": "91eeb68d-ad8c-49cd-8f3e-11594caaf2d8",
   "metadata": {},
   "source": [
    "### **2.5 Avoiding Argument Errors**"
   ]
  },
  {
   "cell_type": "markdown",
   "id": "ccbcbb85-3076-4cc7-b74f-1e6672b2dc9f",
   "metadata": {},
   "source": [
    "> - <span style=\"background:LemonChiffon\">Unmatched arguments occur when you provide *fewer* or *more* arguments than a function needs to do its work.\n",
    "> - What happens if we try to call `describe_pet()` with no arguments?"
   ]
  },
  {
   "cell_type": "code",
   "execution_count": null,
   "id": "56c16037-2257-4197-b2be-03ddb27373b1",
   "metadata": {},
   "outputs": [],
   "source": [
    "def describe_pet(animal_type, pet_name):\n",
    "    \"\"\"Display information about a pet.\"\"\"\n",
    "    print(f\"\\nI have a {animal_type}.\")\n",
    "    print(f\"My {animal_type}'s name is {pet_name.title()}.\")"
   ]
  },
  {
   "cell_type": "code",
   "execution_count": null,
   "id": "b98658e5-6b53-41fa-87cb-c4ae653e6f9d",
   "metadata": {},
   "outputs": [],
   "source": [
    "describe_pet()"
   ]
  },
  {
   "cell_type": "markdown",
   "id": "8e08472f-5789-468b-b001-8af6dab76710",
   "metadata": {},
   "source": [
    "- If this function were in a separate file, we could probably rewrite the call correctly without having to open that file and read \n",
    "the function code.\n",
    "- Python is helpful in that it reads the function’s code for us and tells us the names of the arguments we need to provide. This is another motivation for giving your <span style=\"background:LemonChiffon\">variables and functions descriptive names.\n",
    "- <span style=\"background:LemonChiffon\">If you do, Python’s error messages will be more useful to you and anyone else who might use your code."
   ]
  },
  {
   "cell_type": "markdown",
   "id": "34cb7884-eab1-4e69-86e9-e56287c77e8c",
   "metadata": {},
   "source": [
    "> If you provide too many arguments, you should get a similar traceback:"
   ]
  },
  {
   "cell_type": "code",
   "execution_count": null,
   "id": "f7982434-8750-4216-b87d-e635e69a362f",
   "metadata": {},
   "outputs": [],
   "source": [
    "describe_pet(\"harry\", \"hamster\", \"Brown\")"
   ]
  },
  {
   "cell_type": "markdown",
   "id": "00edd7f8-7e33-4e0b-b900-ad6ebf932161",
   "metadata": {},
   "source": [
    "# **3. Return Values**"
   ]
  },
  {
   "cell_type": "markdown",
   "id": "fbac5476-cab6-4c07-af68-a49e99ba2b0f",
   "metadata": {},
   "source": [
    "> A function doesn’t always have to display its output directly. Instead, it can process some data and then return a value. The value the function returns is called a <span style=\"background:palegreen\">**return value**."
   ]
  },
  {
   "cell_type": "code",
   "execution_count": null,
   "id": "bc10379d-9a3b-417b-a915-0fe91b8be97a",
   "metadata": {},
   "outputs": [],
   "source": [
    "def get_formatted_name(first_name, last_name):\n",
    "    \"\"\"Return a full name, neatly formatted.\"\"\"\n",
    "    full_name = f\"{first_name} {last_name}\"\n",
    "    return full_name.title()"
   ]
  },
  {
   "cell_type": "markdown",
   "id": "79d7b5c1-2c72-4bc4-9870-f2f95b54951d",
   "metadata": {},
   "source": [
    "> When you call a function that returns a value, you need to provide a variable that the return value can be assigned to."
   ]
  },
  {
   "cell_type": "code",
   "execution_count": null,
   "id": "122dc337-74dd-4852-acf6-fd38373a30a1",
   "metadata": {},
   "outputs": [],
   "source": [
    "student_name = get_formatted_name(\"Sarah\", \"Khaled\")\n",
    "print(student_name)"
   ]
  },
  {
   "cell_type": "code",
   "execution_count": null,
   "id": "27500bea-d026-4aa6-8960-2dc03f1d669d",
   "metadata": {},
   "outputs": [],
   "source": [
    "print(get_formatted_name(\"Sarah\", \"Khaled\"))"
   ]
  },
  {
   "cell_type": "markdown",
   "id": "f6dd62e8-c5ee-4ac6-8a52-0da4599d6563",
   "metadata": {},
   "source": [
    "> Another example:"
   ]
  },
  {
   "cell_type": "code",
   "execution_count": null,
   "id": "80c56dac-6ed1-4080-b727-0ec0fd842d56",
   "metadata": {},
   "outputs": [],
   "source": [
    "def my_sum(a, b):\n",
    "    result = a + b\n",
    "    return result"
   ]
  },
  {
   "cell_type": "code",
   "execution_count": null,
   "id": "3ca5ee52-7bc6-4de3-a3b7-32f7a966548b",
   "metadata": {},
   "outputs": [],
   "source": [
    "res = my_sum(2, 3)\n",
    "print(\"Sum:\", res)"
   ]
  },
  {
   "cell_type": "markdown",
   "id": "cbcb1599-e4f4-412d-8a19-126fbb7153d5",
   "metadata": {},
   "source": [
    "### **3.1 Return values and Conditionals**"
   ]
  },
  {
   "cell_type": "markdown",
   "id": "a53b4567-147b-4e44-b8f2-6b890e857644",
   "metadata": {},
   "source": [
    "> If Python did not provide `abs`, we could write it like this:"
   ]
  },
  {
   "cell_type": "code",
   "execution_count": null,
   "id": "65f8deed-6a1c-4d94-b51c-62c73fc095e1",
   "metadata": {},
   "outputs": [],
   "source": [
    "def absolute_value(x):\n",
    "    if x < 0:\n",
    "        return -1*x\n",
    "    else:\n",
    "        return x"
   ]
  },
  {
   "cell_type": "markdown",
   "id": "ecef23b8-344a-44c8-9c88-25207287535f",
   "metadata": {},
   "source": [
    "- If `x` is negative, the first return statement returns `-1*x` and the function ends immediately.\n",
    "- Otherwise, the second return statement returns `x` and the function ends. So this function is correct."
   ]
  },
  {
   "cell_type": "code",
   "execution_count": null,
   "id": "18e3ba8b-b01a-4b27-a6b1-e41fc7138010",
   "metadata": {},
   "outputs": [],
   "source": [
    "absolute_value(10)"
   ]
  },
  {
   "cell_type": "code",
   "execution_count": null,
   "id": "fe26b1c6-8bdf-4f6b-afc7-70707df324d2",
   "metadata": {},
   "outputs": [],
   "source": [
    "absolute_value(-10)"
   ]
  },
  {
   "cell_type": "code",
   "execution_count": null,
   "id": "d5bd6aec-48f7-4f3b-aa6f-962f2b841c61",
   "metadata": {},
   "outputs": [],
   "source": [
    "def absolute_value_wrong(x):\n",
    "    if x < 0:\n",
    "        return -1*x\n",
    "    if x > 0:\n",
    "        return x"
   ]
  },
  {
   "cell_type": "code",
   "execution_count": null,
   "id": "a8b9d447-88c7-400e-8fa0-989d78cd909a",
   "metadata": {},
   "outputs": [],
   "source": [
    "absolute_value_wrong(10)"
   ]
  },
  {
   "cell_type": "code",
   "execution_count": null,
   "id": "b501b021-a00e-4531-85d2-926b675311c1",
   "metadata": {},
   "outputs": [],
   "source": [
    "absolute_value_wrong(-10)"
   ]
  },
  {
   "cell_type": "code",
   "execution_count": null,
   "id": "a45c701f-484b-45c7-a319-00c9a4d053b3",
   "metadata": {},
   "outputs": [],
   "source": [
    "absolute_value_wrong(0)"
   ]
  },
  {
   "cell_type": "code",
   "execution_count": null,
   "id": "0a7c9f45-db09-45ac-9304-a20d54ccfba7",
   "metadata": {},
   "outputs": [],
   "source": [
    "print(absolute_value_wrong(0))"
   ]
  },
  {
   "cell_type": "markdown",
   "id": "dad9aa49-0f11-45d4-b423-4ebdc0d4722e",
   "metadata": {},
   "source": [
    "- We get nothing! Here’s the problem: when `x` is 0, neither condition is true, and the function ends without hitting a `return` statement, which means that the return value is **`None`**, so Jupyter displays nothing.\n",
    "- <span style=\"background:LemonChiffon\">If a function doesn’t have a return statement, it returns **`None`**,"
   ]
  },
  {
   "cell_type": "markdown",
   "id": "29dd83a5-8a2c-410d-babc-1c2b307a7f6a",
   "metadata": {},
   "source": [
    "> As another example, here’s a version of `absolute_value` with an extra `return` statement at the end."
   ]
  },
  {
   "cell_type": "code",
   "execution_count": null,
   "id": "f1c0906b-7075-4b9f-ac6d-7d1144ba531f",
   "metadata": {},
   "outputs": [],
   "source": [
    "def absolute_value_extra_return(x):\n",
    "    if x < 0:\n",
    "        return -1*x\n",
    "    else:\n",
    "        return x\n",
    "    \n",
    "    print ('This is dead code')"
   ]
  },
  {
   "cell_type": "markdown",
   "id": "d31ded46-5539-4d03-8693-975094d34a61",
   "metadata": {},
   "source": [
    "- If `x` is negative, the first `return` statement runs and the function ends.\n",
    "- Otherwise the second `return` statement runs and the function ends.\n",
    "- Either way, we never get to the third `return` statement – so it can never run.\n",
    "- Code that can never run is called **dead code**. "
   ]
  },
  {
   "cell_type": "markdown",
   "id": "35b1e100-b6e8-4773-8b25-68dab2143c30",
   "metadata": {},
   "source": [
    "#### ✍🏻 **TRY IT YOURSELF**\n",
    "> Please write a function named `mean_calc`, which takes three integer arguments. The function should return the arithmetic mean of the three arguments.\n",
    "> `mean_calc(5, 3, 1)` ==> 3.0<br>\n",
    "> `mean_calc(10, 1, 1)` ==> 4.0"
   ]
  },
  {
   "cell_type": "markdown",
   "id": "c074b4b7-de28-4430-afbd-bbf6d3b909d2",
   "metadata": {},
   "source": [
    "### **3.2 The difference between return and print**"
   ]
  },
  {
   "cell_type": "code",
   "execution_count": null,
   "id": "3a1a3c7c-fe37-4fc1-a892-406d10588d7e",
   "metadata": {},
   "outputs": [],
   "source": [
    "def max1(a, b):\n",
    "    if a > b:\n",
    "        return a\n",
    "    else:\n",
    "        return b"
   ]
  },
  {
   "cell_type": "code",
   "execution_count": null,
   "id": "db904ef4-9b36-4805-bcbe-506e7f257563",
   "metadata": {},
   "outputs": [],
   "source": [
    "def max2(a, b):\n",
    "    if a > b:\n",
    "        print(a)\n",
    "    else:\n",
    "        print(b)"
   ]
  },
  {
   "cell_type": "code",
   "execution_count": null,
   "id": "41c0f1b2-2638-4852-831e-fc42393c81cf",
   "metadata": {},
   "outputs": [],
   "source": [
    "result = max1(3, 5)\n",
    "print(result)"
   ]
  },
  {
   "cell_type": "markdown",
   "id": "da53b421-0b50-4ec8-b7cb-7844df80ba80",
   "metadata": {},
   "source": [
    "> The second version, `max2`, uses the `print` command within the function to print out the greater value. If we want to see the value, it is enough to call the function"
   ]
  },
  {
   "cell_type": "code",
   "execution_count": null,
   "id": "f219beb0-a60c-4892-8231-bdfd22d3799a",
   "metadata": {},
   "outputs": [],
   "source": [
    "max2(7, 2)"
   ]
  },
  {
   "cell_type": "code",
   "execution_count": null,
   "id": "fc4d7154-afbe-4de7-8bf9-77b99358a6b9",
   "metadata": {},
   "outputs": [],
   "source": [
    "print(max2(7, 2))"
   ]
  },
  {
   "cell_type": "markdown",
   "id": "f96c48c4-7aac-41c4-a4cf-29e162493219",
   "metadata": {},
   "source": [
    "and the greater value is printed out. <span style=\"background:LemonChiffon\">The downside of this handy function is that the value worked out by the function is not available for use in the program which called it. That is why functions which return values are often the better option."
   ]
  },
  {
   "cell_type": "markdown",
   "id": "0c55a643-5919-4ee2-845f-bc5c72b70fb9",
   "metadata": {},
   "source": [
    "### **Making an Argument Optional**"
   ]
  },
  {
   "cell_type": "markdown",
   "id": "d835c160-1f24-4ea7-9948-0dd47ec06be9",
   "metadata": {},
   "source": [
    "> - Sometimes it makes sense to make an argument optional, so that people using the function can choose to provide extra information only if they want to. You can use default values to make an argument optional.\n",
    "> - For example, say we want to expand `get_formatted_name()` to handle middle names as well."
   ]
  },
  {
   "cell_type": "code",
   "execution_count": 1,
   "id": "bc28569e-51b1-4b2e-b0a4-95c50e5155c9",
   "metadata": {},
   "outputs": [],
   "source": [
    "def get_formatted_name(first_name, middle_name, last_name):\n",
    "    \"\"\"Return a full name, neatly formatted.\"\"\"\n",
    "    full_name = f\"{first_name} {middle_name} {last_name}\"\n",
    "    return full_name.title()"
   ]
  },
  {
   "cell_type": "code",
   "execution_count": 3,
   "id": "a8bfbbba-ea57-4dd6-86ad-a5d840d04eef",
   "metadata": {},
   "outputs": [
    {
     "name": "stdout",
     "output_type": "stream",
     "text": [
      "Sarah Ali Khaled\n"
     ]
    }
   ],
   "source": [
    "student = get_formatted_name(\"Sarah\", \"Ali\", \"Khaled\")\n",
    "print(student)"
   ]
  },
  {
   "cell_type": "markdown",
   "id": "25bbaed5-3ff3-4ac6-a7c0-f8f6ad4acf1f",
   "metadata": {},
   "source": [
    "> But middle names aren’t always needed, <span style=\"background:LemonChiffon\">To make the `middle name` optional, we can give the `middle_name` argument an **empty default value** and move it to the end of the list of parameters and ignore the argument unless the user provides a value. "
   ]
  },
  {
   "cell_type": "code",
   "execution_count": 5,
   "id": "2ac408cc-b6b6-4cf0-8253-edc288612103",
   "metadata": {},
   "outputs": [],
   "source": [
    "def get_formatted_name(first_name, last_name, middle_name = \"\"):\n",
    "     \"\"\"Return a full name, neatly formatted.\"\"\"\n",
    "     if middle_name:\n",
    "        full_name = f\"{first_name} {middle_name} {last_name}\"\n",
    "     else:\n",
    "        full_name = f\"{first_name} {last_name}\"\n",
    "     return full_name.title()"
   ]
  },
  {
   "cell_type": "markdown",
   "id": "f8430b40-794c-4d06-ac03-9648ee263c8b",
   "metadata": {},
   "source": [
    "> - <span style=\"background:LemonChiffon\">Python interprets non-empty strings/non-zero values as `True`,</span> so the conditional test if `middle_name` evaluates to `True` if a middle name argument is in the function call.\n",
    "> - If no middle name is provided, <span style=\"background:LemonChiffon\">the empty string fails the if test</span> and the else block runs.\n",
    "> - If we’re using a middle name, however, <span style=\"background:LemonChiffon\">we have to make sure the middle name is the last argument passed</span> so Python will match up the positional arguments correctly."
   ]
  },
  {
   "cell_type": "code",
   "execution_count": 7,
   "id": "c74a58c6-0e68-4d3f-9b44-5e4433e272a1",
   "metadata": {},
   "outputs": [
    {
     "name": "stdout",
     "output_type": "stream",
     "text": [
      "Sarah Khaled\n"
     ]
    }
   ],
   "source": [
    "student = get_formatted_name(\"Sarah\", \"Khaled\")\n",
    "print(student)"
   ]
  },
  {
   "cell_type": "code",
   "execution_count": 9,
   "id": "ce70b48d-74a6-4a07-a878-03178c5f2a7e",
   "metadata": {},
   "outputs": [
    {
     "name": "stdout",
     "output_type": "stream",
     "text": [
      "Sarah Khaled Ali\n"
     ]
    }
   ],
   "source": [
    "student = get_formatted_name(\"Sarah\", \"Ali\", \"Khaled\")\n",
    "print(student)"
   ]
  },
  {
   "cell_type": "markdown",
   "id": "043a7077-886f-4eda-a5c7-4415c5719bdc",
   "metadata": {},
   "source": [
    "> Optional values allow functions to handle a wide range of use cases while letting function calls remain as simple as possible."
   ]
  },
  {
   "cell_type": "markdown",
   "id": "3fc840d9-b504-4dac-8df6-752a5299566d",
   "metadata": {},
   "source": [
    "### **Using a Function with a while Loop**"
   ]
  },
  {
   "cell_type": "markdown",
   "id": "6b6ef995-b8bd-4c0b-a4fb-103e4fc41698",
   "metadata": {},
   "source": [
    "> You can use functions with all the Python structures you’ve learned about so far. For example, let’s use the `get_formatted_name()` function with a `while` loop to greet users:"
   ]
  },
  {
   "cell_type": "code",
   "execution_count": 11,
   "id": "540a42ea-4ff8-4af0-9f76-da6a7f2b3123",
   "metadata": {},
   "outputs": [],
   "source": [
    "def get_formatted_name(first_name, last_name):\n",
    "    \"\"\"Return a full name, neatly formatted.\"\"\"\n",
    "    full_name = f\"{first_name} {last_name}\"\n",
    "    return full_name.title()"
   ]
  },
  {
   "cell_type": "code",
   "execution_count": null,
   "id": "a51723de-f5ed-4e1b-9842-b255b84d9a83",
   "metadata": {},
   "outputs": [],
   "source": [
    "while True:\n",
    "    print(\"\\nPlease tell me your name:\")\n",
    "    f_name = input(\"First name: \")\n",
    "    l_name = input(\"Last name: \")\n",
    "    formatted_name = get_formatted_name(f_name, l_name)\n",
    "    print(f\"\\nHello, {formatted_name}!\")"
   ]
  },
  {
   "cell_type": "markdown",
   "id": "59fb14f0-4bc7-4df6-a8ce-bdaa51e05ed3",
   "metadata": {},
   "source": [
    "> But there’s one problem with this while loop: We haven’t defined a quit condition. Where do you put a quit condition when you ask for a series of inputs? <span style=\"background:LemonChiffon\">We want the user to be able to quit as easily as possible, so each prompt should offer a way to quit."
   ]
  },
  {
   "cell_type": "code",
   "execution_count": 13,
   "id": "bcd5d9f0-f995-4abd-b359-d4a9349709d9",
   "metadata": {},
   "outputs": [
    {
     "name": "stdout",
     "output_type": "stream",
     "text": [
      "\n",
      "Please tell me your name:\n",
      "(enter 'q' at any time to quit)\n"
     ]
    },
    {
     "name": "stdin",
     "output_type": "stream",
     "text": [
      "First name:  yomna\n",
      "Last name:  ehab\n"
     ]
    },
    {
     "name": "stdout",
     "output_type": "stream",
     "text": [
      "\n",
      "Hello, Yomna Ehab!\n",
      "\n",
      "Please tell me your name:\n",
      "(enter 'q' at any time to quit)\n"
     ]
    },
    {
     "name": "stdin",
     "output_type": "stream",
     "text": [
      "First name:  q\n"
     ]
    }
   ],
   "source": [
    "while True:\n",
    "    print(\"\\nPlease tell me your name:\")\n",
    "    print(\"(enter 'q' at any time to quit)\")\n",
    "    \n",
    "    f_name = input(\"First name: \")\n",
    "    if f_name == 'q':\n",
    "        break\n",
    "        \n",
    "    l_name = input(\"Last name: \")\n",
    "    if l_name == 'q':\n",
    "        break\n",
    "        \n",
    "    formatted_name = get_formatted_name(f_name, l_name)\n",
    "    print(f\"\\nHello, {formatted_name}!\")"
   ]
  },
  {
   "cell_type": "markdown",
   "id": "bb9cde26-c3c6-46bd-93cb-f6ca4c5bcda0",
   "metadata": {},
   "source": [
    "# **4. Passing an Arbitrary Number of Arguments**"
   ]
  },
  {
   "cell_type": "markdown",
   "id": "71f63059-1030-4dcf-bd32-4f0f8d78aff8",
   "metadata": {},
   "source": [
    "> - Sometimes you won’t know ahead of time <span style=\"background:LemonChiffon\">**how many arguments**</span> a function needs to accept.\n",
    "> - <span style=\"background:LemonChiffon\">Python allows a function to collect an arbitrary number of arguments from the calling statement.\n",
    "> - For example, consider a function that builds a *pizza*. It needs to accept a number of *toppings*, but you can’t know ahead of time how many toppings a person will want.\n",
    "> - The function in the following example has one parameter, **`*toppings`**, but <span style=\"background:LemonChiffon\">\n",
    "this parameter collects as many arguments as the calling line provides:"
   ]
  },
  {
   "cell_type": "code",
   "execution_count": 15,
   "id": "24bc7242-350a-44cd-8957-4294bb45ace9",
   "metadata": {},
   "outputs": [],
   "source": [
    "def make_pizza(*toppings):\n",
    "    \"\"\"Print the list of toppings that have been requested.\"\"\"\n",
    "    print(toppings)"
   ]
  },
  {
   "cell_type": "markdown",
   "id": "12a712be-442e-4bc7-976e-6accba6dfd13",
   "metadata": {},
   "source": [
    "> The **asterisk** in the parameter name `*toppings` tells Python to make a **tuple** called toppings, containing all the values this function receives.<br>\n",
    "> Note that Python packs the arguments into a tuple, even if the function receives only one value:"
   ]
  },
  {
   "cell_type": "code",
   "execution_count": 17,
   "id": "e7e9d964-3aa3-416b-bd24-ebfa05f6f008",
   "metadata": {},
   "outputs": [
    {
     "name": "stdout",
     "output_type": "stream",
     "text": [
      "('pepperoni',)\n"
     ]
    }
   ],
   "source": [
    "make_pizza('pepperoni')"
   ]
  },
  {
   "cell_type": "code",
   "execution_count": 19,
   "id": "ccc95a78-c597-4c9b-9c1c-4489a05322c4",
   "metadata": {},
   "outputs": [
    {
     "name": "stdout",
     "output_type": "stream",
     "text": [
      "('mushrooms', 'green peppers', 'extra cheese')\n"
     ]
    }
   ],
   "source": [
    "make_pizza('mushrooms', 'green peppers', 'extra cheese')"
   ]
  },
  {
   "cell_type": "code",
   "execution_count": 21,
   "id": "f29acc25-d8b2-4700-a4f0-d9a23a308865",
   "metadata": {},
   "outputs": [],
   "source": [
    " def make_pizza(*toppings):\n",
    "    \"\"\"Summarize the pizza we are about to make.\"\"\"\n",
    "\n",
    "    print(\"\\nMaking a pizza with the following toppings:\")\n",
    "    for topping in toppings:\n",
    "        print(f\"- {topping}\")"
   ]
  },
  {
   "cell_type": "code",
   "execution_count": 23,
   "id": "07d5be4b-aa5d-46df-8452-ef71e995c31a",
   "metadata": {},
   "outputs": [
    {
     "name": "stdout",
     "output_type": "stream",
     "text": [
      "\n",
      "Making a pizza with the following toppings:\n",
      "- pepperoni\n"
     ]
    }
   ],
   "source": [
    "make_pizza('pepperoni')"
   ]
  },
  {
   "cell_type": "code",
   "execution_count": 25,
   "id": "0d19e764-6428-42f0-bbf2-183ce635e805",
   "metadata": {},
   "outputs": [
    {
     "name": "stdout",
     "output_type": "stream",
     "text": [
      "\n",
      "Making a pizza with the following toppings:\n",
      "- mushrooms\n",
      "- green peppers\n",
      "- extra cheese\n"
     ]
    }
   ],
   "source": [
    "make_pizza('mushrooms', 'green peppers', 'extra cheese')"
   ]
  },
  {
   "cell_type": "markdown",
   "id": "dd55297d-1b18-4a04-8ad1-d97225aae58b",
   "metadata": {},
   "source": [
    "### **4.1 Mixing Positional and Arbitrary Arguments**"
   ]
  },
  {
   "cell_type": "markdown",
   "id": "4f9b856e-50a6-45ef-bdcc-f5fab2352d89",
   "metadata": {},
   "source": [
    "> - If you want a function to accept several different kinds of arguments, <span style=\"background:LemonChiffon\">the parameter that accepts an arbitrary number of arguments must be placed last in the function definition.\n",
    "> - <span style=\"background:LemonChiffon\">Python matches **positional** and **keyword** arguments first and then collects any remaining arguments in the final parameter."
   ]
  },
  {
   "cell_type": "code",
   "execution_count": 27,
   "id": "cd7d39b2-eab4-42d5-a5a4-e0f4fa476490",
   "metadata": {},
   "outputs": [],
   "source": [
    "def make_pizza(size, name=\"\", *toppings):\n",
    "    \"\"\"Summarize the pizza we are about to make.\"\"\"\n",
    "    print(f\"\\nMaking a {size}-inch pizza with the following toppings:\")\n",
    "    for topping in toppings:\n",
    "        print(f\"- {topping}\")"
   ]
  },
  {
   "cell_type": "markdown",
   "id": "cabbd3af-4806-44ef-8b70-3e3bf30beec4",
   "metadata": {},
   "source": [
    "> Python assigns the first value it receives to the parameter size. All other values that come after are stored in the tuple \n",
    "toppings."
   ]
  },
  {
   "cell_type": "code",
   "execution_count": 29,
   "id": "7da793fc-fa02-4b3d-a200-b8debae8eb72",
   "metadata": {},
   "outputs": [
    {
     "name": "stdout",
     "output_type": "stream",
     "text": [
      "\n",
      "Making a 16-inch pizza with the following toppings:\n",
      "- pepperoni\n"
     ]
    }
   ],
   "source": [
    "make_pizza(16, 'pepperoni')"
   ]
  },
  {
   "cell_type": "code",
   "execution_count": 31,
   "id": "a7f27a77-c3d3-457e-8c25-cc47c180637a",
   "metadata": {},
   "outputs": [
    {
     "name": "stdout",
     "output_type": "stream",
     "text": [
      "\n",
      "Making a 12-inch pizza with the following toppings:\n",
      "- mushrooms\n",
      "- green peppers\n",
      "- extra cheese\n"
     ]
    }
   ],
   "source": [
    "make_pizza(12, 'mushrooms', 'green peppers', 'extra cheese')"
   ]
  },
  {
   "cell_type": "markdown",
   "id": "dac590a1-2d4e-4625-9e01-f1ba1885dbe2",
   "metadata": {},
   "source": [
    "#### 📝 **Note**\n",
    "> <span style=\"background:LavenderBlush\"> You’ll often see the generic parameter name `*args`, which collects arbitrary positional \n",
    "arguments like this."
   ]
  },
  {
   "cell_type": "markdown",
   "id": "8e0a61e2-a675-4789-84f6-c8cb31a70f7b",
   "metadata": {},
   "source": [
    "### **4.2 Using Arbitrary Keyword Arguments**"
   ]
  },
  {
   "cell_type": "markdown",
   "id": "073faa78-acba-4579-808f-dfcdf1b876f5",
   "metadata": {},
   "source": [
    "> - Sometimes you’ll want to accept an arbitrary number of arguments, but you won’t know ahead of time <span style=\"background:LemonChiffon\">**what kind of information**</span> will be passed to the function.\n",
    "> - <span style=\"background:LemonChiffon\">You can write functions that accept as many key-value pairs as the calling statement provides.\n",
    "> - One example involves building user profiles: you know you’ll get information about a user, but you’re not sure what kind of information you’ll receive.\n",
    "> - The function **`build_profile()`** in the following example always takes in a first and last name, but it accepts an \n",
    "arbitrary number of keyword arguments as well:"
   ]
  },
  {
   "cell_type": "code",
   "execution_count": 33,
   "id": "d8dff555-28a6-4192-87cb-5c7e0bb42903",
   "metadata": {},
   "outputs": [],
   "source": [
    "def build_profile(first, last, **user_info):\n",
    "     \"\"\"Build a dictionary containing everything we know about a user.\"\"\"\n",
    "     \n",
    "     user_info['first_name'] = first\n",
    "     user_info['last_name'] = last\n",
    "\n",
    "     return user_info"
   ]
  },
  {
   "cell_type": "markdown",
   "id": "1f8ab7ef-7574-4d70-873a-159e9378b882",
   "metadata": {},
   "source": [
    "> The **double asterisks** before the parameter `**user_info` cause Python to create a dictionary called `user_info` containing all the extra name-value pairs the function receives."
   ]
  },
  {
   "cell_type": "code",
   "execution_count": 35,
   "id": "db18273d-7399-46d1-a747-d7d4c4b694ab",
   "metadata": {},
   "outputs": [
    {
     "name": "stdout",
     "output_type": "stream",
     "text": [
      "{'location': 'princeton', 'field': 'physics', 'first_name': 'albert', 'last_name': 'einstein'}\n"
     ]
    }
   ],
   "source": [
    "user_profile = build_profile(\"albert\", \"einstein\", location=\"princeton\", field=\"physics\")\n",
    "print(user_profile)"
   ]
  },
  {
   "cell_type": "markdown",
   "id": "8289b3d7-06d3-48ce-b7fd-ec803372dc05",
   "metadata": {},
   "source": [
    "#### 📝 **Note**\n",
    "> <span style=\"background:LavenderBlush\"> You’ll often see the parameter name `**kwargs` used to collect nonspecific keyword \n",
    "arguments."
   ]
  },
  {
   "cell_type": "markdown",
   "id": "9be54d97-019f-456e-ab79-09a739058364",
   "metadata": {},
   "source": [
    "## **Styling Functions**"
   ]
  },
  {
   "cell_type": "markdown",
   "id": "74009c12-c30d-41d0-9946-036304e24852",
   "metadata": {},
   "source": [
    "> - Functions should have **descriptive names**, and these names should use <span style=\"background:LemonChiffon\">\n",
    "lowercase letters and underscores.</span> Descriptive names help you and others understand what your code is trying to do.\n",
    "\n",
    "> - Every function should have a comment that explains what the function does. It should appear immediately after the function definition and use the **docstring format**.\n",
    "\n",
    "> - If you specify a **default value** for a parameter, <span style=\"background:LemonChiffon\">no spaces should be used on either side of the equal sign:</span><br>\n",
    ">  **def function_name(parameter_0, parameter_1=\"default value\")**\n",
    "\n",
    "> - The same convention should be used for **keyword arguments** in function calls:<br>\n",
    ">  **function_name(value_0, parameter_1=\"value\")**\n",
    "\n",
    "> - PEP8 recommends that you limit lines of code to 79 characters:<br>"
   ]
  },
  {
   "cell_type": "code",
   "execution_count": null,
   "id": "e1a73007-dadb-4d54-a146-8fb5b6573baa",
   "metadata": {},
   "outputs": [],
   "source": [
    "def function_name(\n",
    "                  parameter_0, parameter_1, parameter_2, \n",
    "                  parameter_3, parameter_4, parameter_5):\n",
    "     function body..."
   ]
  },
  {
   "cell_type": "code",
   "execution_count": null,
   "id": "5e071382-64ae-4c2b-911c-381e45613ab6",
   "metadata": {},
   "outputs": [],
   "source": [
    "def function_name(parameter_0, parameter_1, parameter_2, parameter_3, parameter_4, parameter_5):\n",
    "     function body..."
   ]
  }
 ],
 "metadata": {
  "kernelspec": {
   "display_name": "Python 3 (ipykernel)",
   "language": "python",
   "name": "python3"
  },
  "language_info": {
   "codemirror_mode": {
    "name": "ipython",
    "version": 3
   },
   "file_extension": ".py",
   "mimetype": "text/x-python",
   "name": "python",
   "nbconvert_exporter": "python",
   "pygments_lexer": "ipython3",
   "version": "3.12.7"
  }
 },
 "nbformat": 4,
 "nbformat_minor": 5
}
