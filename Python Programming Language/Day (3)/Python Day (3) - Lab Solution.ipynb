{
 "cells": [
  {
   "cell_type": "markdown",
   "id": "744a8c07",
   "metadata": {},
   "source": [
    "Question 1:"
   ]
  },
  {
   "cell_type": "code",
   "execution_count": 13,
   "id": "482e60e2",
   "metadata": {},
   "outputs": [],
   "source": [
    "def triangle(n):\n",
    "    for i in range(1, n+1):\n",
    "        print(i*'#')"
   ]
  },
  {
   "cell_type": "code",
   "execution_count": 14,
   "id": "8f5adf68",
   "metadata": {},
   "outputs": [
    {
     "name": "stdout",
     "output_type": "stream",
     "text": [
      "#\n",
      "##\n",
      "###\n",
      "####\n",
      "#####\n",
      "######\n"
     ]
    }
   ],
   "source": [
    "triangle(6)"
   ]
  },
  {
   "cell_type": "code",
   "execution_count": 15,
   "id": "c7cdb94e",
   "metadata": {},
   "outputs": [
    {
     "name": "stdout",
     "output_type": "stream",
     "text": [
      "#\n",
      "##\n",
      "###\n"
     ]
    }
   ],
   "source": [
    "triangle(3)"
   ]
  },
  {
   "cell_type": "markdown",
   "id": "c83519aa",
   "metadata": {},
   "source": [
    "Question 2:"
   ]
  },
  {
   "cell_type": "code",
   "execution_count": 63,
   "id": "a5ac10c2",
   "metadata": {},
   "outputs": [],
   "source": [
    "# first method using if conditions\n",
    "def greatest_number(num1: int, num2: int, num3: int) -> int:\n",
    "    \"\"\"Get the greatest number between three numbers using if-condition.\n",
    "\n",
    "    Args:\n",
    "        num1 (int): The first number.\n",
    "        num2 (int): The second number.\n",
    "        num3 (int): The third number.\n",
    "\n",
    "    Returns:\n",
    "        int: The greatest of the three numbers.\n",
    "    \"\"\"\n",
    "    if num1 >= num2 and num1 >= num3:\n",
    "        return num1\n",
    "    elif num2 >= num1 and num2 >= num3:\n",
    "        return num2\n",
    "    else:\n",
    "        return num3\n"
   ]
  },
  {
   "cell_type": "code",
   "execution_count": 64,
   "id": "8830430f",
   "metadata": {},
   "outputs": [
    {
     "name": "stdout",
     "output_type": "stream",
     "text": [
      "0\n"
     ]
    }
   ],
   "source": [
    "print(greatest_number(0,0,0))"
   ]
  },
  {
   "cell_type": "code",
   "execution_count": 65,
   "id": "da9073b4",
   "metadata": {},
   "outputs": [],
   "source": [
    "# second method using for and pivot number\n",
    "def greatest_number(num1: int, num2: int, num3: int) -> int:\n",
    "    \"\"\"Get the greatest number between three numbers using pivot.\n",
    "\n",
    "    Args:\n",
    "        num1 (int): The first number.\n",
    "        num2 (int): The second number.\n",
    "        num3 (int): The third number.\n",
    "\n",
    "    Returns:\n",
    "        int: The greatest of the three numbers.\n",
    "    \"\"\"\n",
    "    numbers = [num1, num2, num3]\n",
    "    greatest = numbers[0]\n",
    "\n",
    "    for num in numbers[1:]: # loop through the list from the second number\n",
    "        if num > greatest:\n",
    "            greatest = num\n",
    "    return greatest"
   ]
  },
  {
   "cell_type": "code",
   "execution_count": 36,
   "id": "c01565ab",
   "metadata": {},
   "outputs": [
    {
     "name": "stdout",
     "output_type": "stream",
     "text": [
      "99\n"
     ]
    }
   ],
   "source": [
    "print(greatest_number(99, 0, 1))"
   ]
  },
  {
   "cell_type": "markdown",
   "id": "33ad691b",
   "metadata": {},
   "source": [
    "Question 3:"
   ]
  },
  {
   "cell_type": "code",
   "execution_count": 51,
   "id": "31411f37",
   "metadata": {},
   "outputs": [],
   "source": [
    "def sum_series(n: int) -> int:\n",
    "    \"\"\"Calculates the sum of the series which\n",
    "       1 - 2 + 3 - 4 + 5 - ... up to n.\n",
    "\n",
    "    Args:\n",
    "        n (int): The last number in the series.\n",
    "\n",
    "    Returns:\n",
    "        int: The sum of the series.\n",
    "    \"\"\"\n",
    "    if n % 2 == 0:\n",
    "        return - (n // 2)  # Even case: -n/2\n",
    "    else:\n",
    "        return (n + 1) // 2  # Odd case: (n+1)/2\n",
    "    "
   ]
  },
  {
   "cell_type": "code",
   "execution_count": 53,
   "id": "f4c2609f",
   "metadata": {},
   "outputs": [
    {
     "name": "stdout",
     "output_type": "stream",
     "text": [
      "-1\n",
      "2\n",
      "3\n",
      "4\n",
      "-4\n"
     ]
    }
   ],
   "source": [
    "print(sum_series(2))\n",
    "print(sum_series(3))\n",
    "print(sum_series(5))\n",
    "print(sum_series(7))\n",
    "print(sum_series(8))"
   ]
  },
  {
   "cell_type": "code",
   "execution_count": 41,
   "id": "34200ffa",
   "metadata": {},
   "outputs": [
    {
     "data": {
      "text/plain": [
       "-2"
      ]
     },
     "execution_count": 41,
     "metadata": {},
     "output_type": "execute_result"
    }
   ],
   "source": [
    "1-2+3-4"
   ]
  },
  {
   "cell_type": "code",
   "execution_count": 42,
   "id": "bea76b3a",
   "metadata": {},
   "outputs": [
    {
     "data": {
      "text/plain": [
       "-2.0"
      ]
     },
     "execution_count": 42,
     "metadata": {},
     "output_type": "execute_result"
    }
   ],
   "source": [
    "4/-2"
   ]
  },
  {
   "cell_type": "code",
   "execution_count": 43,
   "id": "341d936c",
   "metadata": {},
   "outputs": [
    {
     "data": {
      "text/plain": [
       "-1"
      ]
     },
     "execution_count": 43,
     "metadata": {},
     "output_type": "execute_result"
    }
   ],
   "source": [
    "1-2"
   ]
  },
  {
   "cell_type": "code",
   "execution_count": 44,
   "id": "0164b1d3",
   "metadata": {},
   "outputs": [
    {
     "data": {
      "text/plain": [
       "-1.0"
      ]
     },
     "execution_count": 44,
     "metadata": {},
     "output_type": "execute_result"
    }
   ],
   "source": [
    "2/-2"
   ]
  },
  {
   "cell_type": "code",
   "execution_count": 54,
   "id": "972a2ac3",
   "metadata": {},
   "outputs": [
    {
     "data": {
      "text/plain": [
       "4"
      ]
     },
     "execution_count": 54,
     "metadata": {},
     "output_type": "execute_result"
    }
   ],
   "source": [
    "1-2+3-4+5-6+7"
   ]
  },
  {
   "cell_type": "markdown",
   "id": "d649ffc0",
   "metadata": {},
   "source": [
    "Question 4:"
   ]
  },
  {
   "cell_type": "code",
   "execution_count": 61,
   "id": "1b391e4c",
   "metadata": {},
   "outputs": [],
   "source": [
    "def factorial(n: int)-> float:\n",
    "    \"\"\"Calculates the factorial up to n.\n",
    "\n",
    "    Args:\n",
    "        n (int): The last number in the series.\n",
    "\n",
    "    Returns:\n",
    "        int: The factorial of the given range.\n",
    "    \"\"\"\n",
    "    if n < 0:\n",
    "        print('Factorial is not defined due to negative value')\n",
    "        return None\n",
    "    \n",
    "    result = 1\n",
    "    while n > 1:\n",
    "        result *= n\n",
    "        n -= 1 # important to avoid infinite\n",
    "\n",
    "    return result"
   ]
  },
  {
   "cell_type": "code",
   "execution_count": 62,
   "id": "f546069a",
   "metadata": {},
   "outputs": [
    {
     "name": "stdout",
     "output_type": "stream",
     "text": [
      "120\n",
      "1\n",
      "1\n",
      "Factorial is not defined due to negative value\n",
      "None\n"
     ]
    }
   ],
   "source": [
    "print(factorial(5))\n",
    "print(factorial(0))\n",
    "print(factorial(1))\n",
    "print(factorial(-1))"
   ]
  },
  {
   "cell_type": "markdown",
   "id": "efc062bc",
   "metadata": {},
   "source": [
    "Question 4:"
   ]
  },
  {
   "cell_type": "code",
   "execution_count": null,
   "id": "bb505b7c",
   "metadata": {},
   "outputs": [],
   "source": [
    "def palindrome_check(word: str) -> bool:\n",
    "    \"\"\"Checks if a given word is a palindrome using two pointers method.\n",
    "\n",
    "    Args:\n",
    "        word (str): The word we need to check.\n",
    "\n",
    "    Returns:\n",
    "        bool: The boolean experssion if the word is palindrome or not.\n",
    "    \"\"\"\n",
    "    word = word.lower() # to avoid upper and lower cases\n",
    "    \n",
    "    left = 0 # the beginning of the word\n",
    "    right = len(word) - 1  # The ending of the word\n",
    "\n",
    "    while left < right:\n",
    "        if word[left] != word[right]: #letter wise checking \n",
    "            return False\n",
    "        left += 1\n",
    "        right -= 1\n",
    "\n",
    "    return True"
   ]
  },
  {
   "cell_type": "code",
   "execution_count": null,
   "id": "ad1cf668",
   "metadata": {},
   "outputs": [
    {
     "name": "stdout",
     "output_type": "stream",
     "text": [
      "False\n",
      "True\n",
      "True\n"
     ]
    }
   ],
   "source": [
    "print(palindrome_check(\"Python\"))\n",
    "print(palindrome_check('rotor')) \n",
    "print(palindrome_check('radar')) "
   ]
  },
  {
   "cell_type": "code",
   "execution_count": null,
   "id": "6a186571",
   "metadata": {},
   "outputs": [
    {
     "name": "stdout",
     "output_type": "stream",
     "text": [
      "False, ('r', 'r')\n",
      "False, ('a', 'a')\n",
      "False, ('d', 'd')\n"
     ]
    }
   ],
   "source": [
    "print(f'{'radar'[0] != 'radar'[4]}, {'radar'[0], 'radar'[4]}')\n",
    "print(f'{'radar'[1] != 'radar'[3]}, {'radar'[1], 'radar'[3]}')\n",
    "print(f'{'radar'[2] != 'radar'[2]}, {'radar'[2], 'radar'[2]}')"
   ]
  },
  {
   "cell_type": "code",
   "execution_count": null,
   "id": "f4dec43c",
   "metadata": {},
   "outputs": [],
   "source": []
  }
 ],
 "metadata": {
  "kernelspec": {
   "display_name": "Python 3",
   "language": "python",
   "name": "python3"
  },
  "language_info": {
   "codemirror_mode": {
    "name": "ipython",
    "version": 3
   },
   "file_extension": ".py",
   "mimetype": "text/x-python",
   "name": "python",
   "nbconvert_exporter": "python",
   "pygments_lexer": "ipython3",
   "version": "3.13.0"
  }
 },
 "nbformat": 4,
 "nbformat_minor": 5
}
